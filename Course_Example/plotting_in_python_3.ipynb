{
 "cells": [
  {
   "cell_type": "markdown",
   "metadata": {},
   "source": [
    "# **Plotly**\n",
    "Different from Matplotlib and Seaborn, Plotly is unique in that it is a JavaScript library that is rendered in the browser. This allows for interactive plots that can be zoomed, panned, and hovered over to display more information. Plotly is also capable of creating 3D plots, which is not possible with Matplotlib and Seaborn."
   ]
  },
  {
   "cell_type": "markdown",
   "metadata": {},
   "source": [
    "## Different types of plots\n",
    "Plotly has many different types of plots that can be created. Some of the most common types of plots include:\n",
    "- Line plots\n",
    "- Scatter plots\n",
    "- Bar plots\n",
    "- Histograms\n",
    "- Box plots\n",
    "- Heatmaps\n",
    "- 3D plots"
   ]
  },
  {
   "cell_type": "markdown",
   "metadata": {},
   "source": [
    "### Line plot"
   ]
  },
  {
   "cell_type": "code",
   "execution_count": 1,
   "metadata": {},
   "outputs": [
    {
     "data": {
      "text/plain": [
       "[<matplotlib.lines.Line2D at 0x22b8e75f2b0>]"
      ]
     },
     "execution_count": 1,
     "metadata": {},
     "output_type": "execute_result"
    },
    {
     "data": {
      "image/png": "[encoded data removed]",
      "text/plain": [
       "<Figure size 300x300 with 1 Axes>"
      ]
     },
     "metadata": {},
     "output_type": "display_data"
    }
   ],
   "source": [
    "from matplotlib import pyplot as plt\n",
    "import numpy as np\n",
    "import pandas as pd\n",
    "import seaborn as sns\n",
    "x = np.linspace(0, 10, 100)\n",
    "y = np.sin(x)\n",
    "fig, ax = plt.subplots(figsize=(3,3), dpi=100)\n",
    "ax.plot(x, y)"
   ]
  },
  {
   "cell_type": "code",
   "execution_count": 2,
   "metadata": {},
   "outputs": [
    {
     "data": {
      "application/vnd.plotly.v1+json": {
       "config": {
        "plotlyServerURL": "https://plot.ly"
       },
       "data": [
        {
         "hovertemplate": "x=%{x}<br>y=%{y}<extra></extra>",
         "legendgroup": "",
         "line": {
          "color": "#636efa",
          "dash": "solid"
         },
         "marker": {
          "symbol": "circle"
         },
         "mode": "lines",
         "name": "",
         "orientation": "v",
         "showlegend": false,
         "type": "scatter",
         "x": [
          0,
          0.10101010101010101,
          0.20202020202020202,
          0.30303030303030304,
          0.40404040404040403,
          0.5050505050505051,
          0.6060606060606061,
          0.7070707070707071,
          0.8080808080808081,
          0.9090909090909091,
          1.0101010101010102,
          1.1111111111111112,
          1.2121212121212122,
          1.3131313131313131,
          1.4141414141414141,
          1.5151515151515151,
          1.6161616161616161,
          1.7171717171717171,
          1.8181818181818181,
          1.9191919191919191,
          2.0202020202020203,
          2.121212121212121,
          2.2222222222222223,
          2.323232323232323,
          2.4242424242424243,
          2.525252525252525,
          2.6262626262626263,
          2.727272727272727,
          2.8282828282828283,
          2.929292929292929,
          3.0303030303030303,
          3.131313131313131,
          3.2323232323232323,
          3.3333333333333335,
          3.4343434343434343,
          3.5353535353535355,
          3.6363636363636362,
          3.7373737373737375,
          3.8383838383838382,
          3.9393939393939394,
          4.040404040404041,
          4.141414141414141,
          4.242424242424242,
          4.343434343434343,
          4.444444444444445,
          4.545454545454545,
          4.646464646464646,
          4.747474747474747,
          4.848484848484849,
          4.94949494949495,
          5.05050505050505,
          5.151515151515151,
          5.252525252525253,
          5.353535353535354,
          5.454545454545454,
          5.555555555555555,
          5.656565656565657,
          5.757575757575758,
          5.858585858585858,
          5.959595959595959,
          6.0606060606060606,
          6.161616161616162,
          6.262626262626262,
          6.363636363636363,
          6.4646464646464645,
          6.565656565656566,
          6.666666666666667,
          6.767676767676767,
          6.8686868686868685,
          6.96969696969697,
          7.070707070707071,
          7.171717171717171,
          7.2727272727272725,
          7.373737373737374,
          7.474747474747475,
          7.575757575757575,
          7.6767676767676765,
          7.777777777777778,
          7.878787878787879,
          7.979797979797979,
          8.080808080808081,
          8.181818181818182,
          8.282828282828282,
          8.383838383838384,
          8.484848484848484,
          8.585858585858587,
          8.686868686868687,
          8.787878787878787,
          8.88888888888889,
          8.98989898989899,
          9.09090909090909,
          9.191919191919192,
          9.292929292929292,
          9.393939393939394,
          9.494949494949495,
          9.595959595959595,
          9.696969696969697,
          9.797979797979798,
          9.8989898989899,
          10
         ],
         "xaxis": "x",
         "y": [
          0,
          0.1008384202581046,
          0.2006488565226854,
          0.2984138044476411,
          0.3931366121483298,
          0.48385164043793466,
          0.5696341069089657,
          0.6496095135057065,
          0.7229625614794605,
          0.7889454628442574,
          0.8468855636029834,
          0.8961922010299563,
          0.9363627251042848,
          0.9669876227092996,
          0.9877546923600838,
          0.9984522269003895,
          0.9989711717233568,
          0.9893062365143401,
          0.9695559491823237,
          0.9399216514301312,
          0.9007054462029555,
          0.8523071179396752,
          0.7952200570230491,
          0.7300262299764464,
          0.6573902466827755,
          0.5780525851065732,
          0.4928220425889235,
          0.40256749066949654,
          0.30820901749007684,
          0.2107085480771929,
          0.11106003812412972,
          0.010279341240534697,
          -0.09060614703340773,
          -0.19056796287548539,
          -0.28858705872043244,
          -0.38366419180611233,
          -0.47483011082223947,
          -0.5611554368152017,
          -0.6417601376193878,
          -0.7158224992291902,
          -0.7825875026542022,
          -0.8413745208608701,
          -0.8915842573351402,
          -0.9327048555318336,
          -0.9643171169287782,
          -0.9860987744909296,
          -0.9978277779792126,
          -0.9993845576124357,
          -0.9907532430056771,
          -0.9720218249588334,
          -0.9433812584459996,
          -0.9051235159501367,
          -0.8576386109880517,
          -0.8014106221689696,
          -0.7370127583189133,
          -0.6651015149788224,
          -0.586409981847235,
          -0.5017403693939113,
          -0.4119558308308628,
          -0.31797166281061867,
          -0.22074597455506334,
          -0.12126992053716677,
          -0.020557596287260064,
          0.08036429967028173,
          0.18046693235991093,
          0.27872981867755725,
          0.37415123057121996,
          0.4657584070256517,
          0.5526174707464059,
          0.6338429484489058,
          0.7086067976992182,
          0.7761468482835805,
          0.8357745720522589,
          0.8868821020290788,
          0.9289484292312513,
          0.9615447140268235,
          0.9843386578838236,
          0.9970978909438748,
          0.9996923408861117,
          0.9920955589323228,
          0.9743849894755358,
          0.9467411805833543,
          0.9094459434244625,
          0.8628794793817836,
          0.8075165041395626,
          0.7439214082568444,
          0.6727425035622647,
          0.5947054140244975,
          0.510605678474283,
          0.4213006405886069,
          0.32770070881349983,
          0.23076007532505177,
          0.13146698864295842,
          0.03083367906114098,
          -0.07011396040064677,
          -0.1703468323280965,
          -0.26884312591038406,
          -0.3645987336558887,
          -0.45663748763377376,
          -0.5440211108893698
         ],
         "yaxis": "y"
        }
       ],
       "layout": {
        "legend": {
         "tracegroupgap": 0
        },
        "margin": {
         "t": 60
        },
        "template": {
         "data": {
          "bar": [
           {
            "error_x": {
             "color": "#2a3f5f"
            },
            "error_y": {
             "color": "#2a3f5f"
            },
            "marker": {
             "line": {
              "color": "#E5ECF6",
              "width": 0.5
             },
             "pattern": {
              "fillmode": "overlay",
              "size": 10,
              "solidity": 0.2
             }
            },
            "type": "bar"
           }
          ],
          "barpolar": [
           {
            "marker": {
             "line": {
              "color": "#E5ECF6",
              "width": 0.5
             },
             "pattern": {
              "fillmode": "overlay",
              "size": 10,
              "solidity": 0.2
             }
            },
            "type": "barpolar"
           }
          ],
          "carpet": [
           {
            "aaxis": {
             "endlinecolor": "#2a3f5f",
             "gridcolor": "white",
             "linecolor": "white",
             "minorgridcolor": "white",
             "startlinecolor": "#2a3f5f"
            },
            "baxis": {
             "endlinecolor": "#2a3f5f",
             "gridcolor": "white",
             "linecolor": "white",
             "minorgridcolor": "white",
             "startlinecolor": "#2a3f5f"
            },
            "type": "carpet"
           }
          ],
          "choropleth": [
           {
            "colorbar": {
             "outlinewidth": 0,
             "ticks": ""
            },
            "type": "choropleth"
           }
          ],
          "contour": [
           {
            "colorbar": {
             "outlinewidth": 0,
             "ticks": ""
            },
            "colorscale": [
             [
              0,
              "#0d0887"
             ],
             [
              0.1111111111111111,
              "#46039f"
             ],
             [
              0.2222222222222222,
              "#7201a8"
             ],
             [
              0.3333333333333333,
              "#9c179e"
             ],
             [
              0.4444444444444444,
              "#bd3786"
             ],
             [
              0.5555555555555556,
              "#d8576b"
             ],
             [
              0.6666666666666666,
              "#ed7953"
             ],
             [
              0.7777777777777778,
              "#fb9f3a"
             ],
             [
              0.8888888888888888,
              "#fdca26"
             ],
             [
              1,
              "#f0f921"
             ]
            ],
            "type": "contour"
           }
          ],
          "contourcarpet": [
           {
            "colorbar": {
             "outlinewidth": 0,
             "ticks": ""
            },
            "type": "contourcarpet"
           }
          ],
          "heatmap": [
           {
            "colorbar": {
             "outlinewidth": 0,
             "ticks": ""
            },
            "colorscale": [
             [
              0,
              "#0d0887"
             ],
             [
              0.1111111111111111,
              "#46039f"
             ],
             [
              0.2222222222222222,
              "#7201a8"
             ],
             [
              0.3333333333333333,
              "#9c179e"
             ],
             [
              0.4444444444444444,
              "#bd3786"
             ],
             [
              0.5555555555555556,
              "#d8576b"
             ],
             [
              0.6666666666666666,
              "#ed7953"
             ],
             [
              0.7777777777777778,
              "#fb9f3a"
             ],
             [
              0.8888888888888888,
              "#fdca26"
             ],
             [
              1,
              "#f0f921"
             ]
            ],
            "type": "heatmap"
           }
          ],
          "heatmapgl": [
           {
            "colorbar": {
             "outlinewidth": 0,
             "ticks": ""
            },
            "colorscale": [
             [
              0,
              "#0d0887"
             ],
             [
              0.1111111111111111,
              "#46039f"
             ],
             [
              0.2222222222222222,
              "#7201a8"
             ],
             [
              0.3333333333333333,
              "#9c179e"
             ],
             [
              0.4444444444444444,
              "#bd3786"
             ],
             [
              0.5555555555555556,
              "#d8576b"
             ],
             [
              0.6666666666666666,
              "#ed7953"
             ],
             [
              0.7777777777777778,
              "#fb9f3a"
             ],
             [
              0.8888888888888888,
              "#fdca26"
             ],
             [
              1,
              "#f0f921"
             ]
            ],
            "type": "heatmapgl"
           }
          ],
          "histogram": [
           {
            "marker": {
             "pattern": {
              "fillmode": "overlay",
              "size": 10,
              "solidity": 0.2
             }
            },
            "type": "histogram"
           }
          ],
          "histogram2d": [
           {
            "colorbar": {
             "outlinewidth": 0,
             "ticks": ""
            },
            "colorscale": [
             [
              0,
              "#0d0887"
             ],
             [
              0.1111111111111111,
              "#46039f"
             ],
             [
              0.2222222222222222,
              "#7201a8"
             ],
             [
              0.3333333333333333,
              "#9c179e"
             ],
             [
              0.4444444444444444,
              "#bd3786"
             ],
             [
              0.5555555555555556,
              "#d8576b"
             ],
             [
              0.6666666666666666,
              "#ed7953"
             ],
             [
              0.7777777777777778,
              "#fb9f3a"
             ],
             [
              0.8888888888888888,
              "#fdca26"
             ],
             [
              1,
              "#f0f921"
             ]
            ],
            "type": "histogram2d"
           }
          ],
          "histogram2dcontour": [
           {
            "colorbar": {
             "outlinewidth": 0,
             "ticks": ""
            },
            "colorscale": [
             [
              0,
              "#0d0887"
             ],
             [
              0.1111111111111111,
              "#46039f"
             ],
             [
              0.2222222222222222,
              "#7201a8"
             ],
             [
              0.3333333333333333,
              "#9c179e"
             ],
             [
              0.4444444444444444,
              "#bd3786"
             ],
             [
              0.5555555555555556,
              "#d8576b"
             ],
             [
              0.6666666666666666,
              "#ed7953"
             ],
             [
              0.7777777777777778,
              "#fb9f3a"
             ],
             [
              0.8888888888888888,
              "#fdca26"
             ],
             [
              1,
              "#f0f921"
             ]
            ],
            "type": "histogram2dcontour"
           }
          ],
          "mesh3d": [
           {
            "colorbar": {
             "outlinewidth": 0,
             "ticks": ""
            },
            "type": "mesh3d"
           }
          ],
          "parcoords": [
           {
            "line": {
             "colorbar": {
              "outlinewidth": 0,
              "ticks": ""
             }
            },
            "type": "parcoords"
           }
          ],
          "pie": [
           {
            "automargin": true,
            "type": "pie"
           }
          ],
          "scatter": [
           {
            "fillpattern": {
             "fillmode": "overlay",
             "size": 10,
             "solidity": 0.2
            },
            "type": "scatter"
           }
          ],
          "scatter3d": [
           {
            "line": {
             "colorbar": {
              "outlinewidth": 0,
              "ticks": ""
             }
            },
            "marker": {
             "colorbar": {
              "outlinewidth": 0,
              "ticks": ""
             }
            },
            "type": "scatter3d"
           }
          ],
          "scattercarpet": [
           {
            "marker": {
             "colorbar": {
              "outlinewidth": 0,
              "ticks": ""
             }
            },
            "type": "scattercarpet"
           }
          ],
          "scattergeo": [
           {
            "marker": {
             "colorbar": {
              "outlinewidth": 0,
              "ticks": ""
             }
            },
            "type": "scattergeo"
           }
          ],
          "scattergl": [
           {
            "marker": {
             "colorbar": {
              "outlinewidth": 0,
              "ticks": ""
             }
            },
            "type": "scattergl"
           }
          ],
          "scattermapbox": [
           {
            "marker": {
             "colorbar": {
              "outlinewidth": 0,
              "ticks": ""
             }
            },
            "type": "scattermapbox"
           }
          ],
          "scatterpolar": [
           {
            "marker": {
             "colorbar": {
              "outlinewidth": 0,
              "ticks": ""
             }
            },
            "type": "scatterpolar"
           }
          ],
          "scatterpolargl": [
           {
            "marker": {
             "colorbar": {
              "outlinewidth": 0,
              "ticks": ""
             }
            },
            "type": "scatterpolargl"
           }
          ],
          "scatterternary": [
           {
            "marker": {
             "colorbar": {
              "outlinewidth": 0,
              "ticks": ""
             }
            },
            "type": "scatterternary"
           }
          ],
          "surface": [
           {
            "colorbar": {
             "outlinewidth": 0,
             "ticks": ""
            },
            "colorscale": [
             [
              0,
              "#0d0887"
             ],
             [
              0.1111111111111111,
              "#46039f"
             ],
             [
              0.2222222222222222,
              "#7201a8"
             ],
             [
              0.3333333333333333,
              "#9c179e"
             ],
             [
              0.4444444444444444,
              "#bd3786"
             ],
             [
              0.5555555555555556,
              "#d8576b"
             ],
             [
              0.6666666666666666,
              "#ed7953"
             ],
             [
              0.7777777777777778,
              "#fb9f3a"
             ],
             [
              0.8888888888888888,
              "#fdca26"
             ],
             [
              1,
              "#f0f921"
             ]
            ],
            "type": "surface"
           }
          ],
          "table": [
           {
            "cells": {
             "fill": {
              "color": "#EBF0F8"
             },
             "line": {
              "color": "white"
             }
            },
            "header": {
             "fill": {
              "color": "#C8D4E3"
             },
             "line": {
              "color": "white"
             }
            },
            "type": "table"
           }
          ]
         },
         "layout": {
          "annotationdefaults": {
           "arrowcolor": "#2a3f5f",
           "arrowhead": 0,
           "arrowwidth": 1
          },
          "autotypenumbers": "strict",
          "coloraxis": {
           "colorbar": {
            "outlinewidth": 0,
            "ticks": ""
           }
          },
          "colorscale": {
           "diverging": [
            [
             0,
             "#8e0152"
            ],
            [
             0.1,
             "#c51b7d"
            ],
            [
             0.2,
             "#de77ae"
            ],
            [
             0.3,
             "#f1b6da"
            ],
            [
             0.4,
             "#fde0ef"
            ],
            [
             0.5,
             "#f7f7f7"
            ],
            [
             0.6,
             "#e6f5d0"
            ],
            [
             0.7,
             "#b8e186"
            ],
            [
             0.8,
             "#7fbc41"
            ],
            [
             0.9,
             "#4d9221"
            ],
            [
             1,
             "#276419"
            ]
           ],
           "sequential": [
            [
             0,
             "#0d0887"
            ],
            [
             0.1111111111111111,
             "#46039f"
            ],
            [
             0.2222222222222222,
             "#7201a8"
            ],
            [
             0.3333333333333333,
             "#9c179e"
            ],
            [
             0.4444444444444444,
             "#bd3786"
            ],
            [
             0.5555555555555556,
             "#d8576b"
            ],
            [
             0.6666666666666666,
             "#ed7953"
            ],
            [
             0.7777777777777778,
             "#fb9f3a"
            ],
            [
             0.8888888888888888,
             "#fdca26"
            ],
            [
             1,
             "#f0f921"
            ]
           ],
           "sequentialminus": [
            [
             0,
             "#0d0887"
            ],
            [
             0.1111111111111111,
             "#46039f"
            ],
            [
             0.2222222222222222,
             "#7201a8"
            ],
            [
             0.3333333333333333,
             "#9c179e"
            ],
            [
             0.4444444444444444,
             "#bd3786"
            ],
            [
             0.5555555555555556,
             "#d8576b"
            ],
            [
             0.6666666666666666,
             "#ed7953"
            ],
            [
             0.7777777777777778,
             "#fb9f3a"
            ],
            [
             0.8888888888888888,
             "#fdca26"
            ],
            [
             1,
             "#f0f921"
            ]
           ]
          },
          "colorway": [
           "#636efa",
           "#EF553B",
           "#00cc96",
           "#ab63fa",
           "#FFA15A",
           "#19d3f3",
           "#FF6692",
           "#B6E880",
           "#FF97FF",
           "#FECB52"
          ],
          "font": {
           "color": "#2a3f5f"
          },
          "geo": {
           "bgcolor": "white",
           "lakecolor": "white",
           "landcolor": "#E5ECF6",
           "showlakes": true,
           "showland": true,
           "subunitcolor": "white"
          },
          "hoverlabel": {
           "align": "left"
          },
          "hovermode": "closest",
          "mapbox": {
           "style": "light"
          },
          "paper_bgcolor": "white",
          "plot_bgcolor": "#E5ECF6",
          "polar": {
           "angularaxis": {
            "gridcolor": "white",
            "linecolor": "white",
            "ticks": ""
           },
           "bgcolor": "#E5ECF6",
           "radialaxis": {
            "gridcolor": "white",
            "linecolor": "white",
            "ticks": ""
           }
          },
          "scene": {
           "xaxis": {
            "backgroundcolor": "#E5ECF6",
            "gridcolor": "white",
            "gridwidth": 2,
            "linecolor": "white",
            "showbackground": true,
            "ticks": "",
            "zerolinecolor": "white"
           },
           "yaxis": {
            "backgroundcolor": "#E5ECF6",
            "gridcolor": "white",
            "gridwidth": 2,
            "linecolor": "white",
            "showbackground": true,
            "ticks": "",
            "zerolinecolor": "white"
           },
           "zaxis": {
            "backgroundcolor": "#E5ECF6",
            "gridcolor": "white",
            "gridwidth": 2,
            "linecolor": "white",
            "showbackground": true,
            "ticks": "",
            "zerolinecolor": "white"
           }
          },
          "shapedefaults": {
           "line": {
            "color": "#2a3f5f"
           }
          },
          "ternary": {
           "aaxis": {
            "gridcolor": "white",
            "linecolor": "white",
            "ticks": ""
           },
           "baxis": {
            "gridcolor": "white",
            "linecolor": "white",
            "ticks": ""
           },
           "bgcolor": "#E5ECF6",
           "caxis": {
            "gridcolor": "white",
            "linecolor": "white",
            "ticks": ""
           }
          },
          "title": {
           "x": 0.05
          },
          "xaxis": {
           "automargin": true,
           "gridcolor": "white",
           "linecolor": "white",
           "ticks": "",
           "title": {
            "standoff": 15
           },
           "zerolinecolor": "white",
           "zerolinewidth": 2
          },
          "yaxis": {
           "automargin": true,
           "gridcolor": "white",
           "linecolor": "white",
           "ticks": "",
           "title": {
            "standoff": 15
           },
           "zerolinecolor": "white",
           "zerolinewidth": 2
          }
         }
        },
        "xaxis": {
         "anchor": "y",
         "domain": [
          0,
          1
         ],
         "title": {
          "text": "x"
         }
        },
        "yaxis": {
         "anchor": "x",
         "domain": [
          0,
          1
         ],
         "title": {
          "text": "y"
         }
        }
       }
      }
     },
     "metadata": {},
     "output_type": "display_data"
    }
   ],
   "source": [
    "# plotly line plot\n",
    "import plotly.express as px\n",
    "fig = px.line(x=x, y=y)\n",
    "fig.show()"
   ]
  },
  {
   "cell_type": "markdown",
   "metadata": {},
   "source": [
    "### scatter plot"
   ]
  },
  {
   "cell_type": "code",
   "execution_count": 3,
   "metadata": {},
   "outputs": [
    {
     "data": {
      "text/plain": [
       "<matplotlib.collections.PathCollection at 0x22b8911c760>"
      ]
     },
     "execution_count": 3,
     "metadata": {},
     "output_type": "execute_result"
    },
    {
     "data": {
      "image/png": "[encoded data removed]",
      "text/plain": [
       "<Figure size 300x300 with 1 Axes>"
      ]
     },
     "metadata": {},
     "output_type": "display_data"
    }
   ],
   "source": [
    "x = np.linspace(0, 3*np.pi, 100)\n",
    "y = np.sin(x)\n",
    "fig, ax = plt.subplots(figsize=(3,3), dpi=100)\n",
    "ax.scatter(x, y)"
   ]
  },
  {
   "cell_type": "code",
   "execution_count": 5,
   "metadata": {},
   "outputs": [
    {
     "data": {
      "application/vnd.plotly.v1+json": {
       "config": {
        "plotlyServerURL": "https://plot.ly"
       },
       "data": [
        {
         "hovertemplate": "x=%{x}<br>y=%{y}<extra></extra>",
         "legendgroup": "",
         "marker": {
          "color": "#636efa",
          "symbol": "circle"
         },
         "mode": "markers",
         "name": "",
         "orientation": "v",
         "showlegend": false,
         "type": "scatter",
         "x": [
          0,
          0.09519977738150888,
          0.19039955476301776,
          0.28559933214452665,
          0.3807991095260355,
          0.4759988869075444,
          0.5711986642890533,
          0.6663984416705622,
          0.761598219052071,
          0.8567979964335799,
          0.9519977738150888,
          1.0471975511965976,
          1.1423973285781066,
          1.2375971059596154,
          1.3327968833411243,
          1.427996660722633,
          1.523196438104142,
          1.618396215485651,
          1.7135959928671598,
          1.8087957702486688,
          1.9039955476301775,
          1.9991953250116865,
          2.0943951023931953,
          2.1895948797747042,
          2.284794657156213,
          2.379994434537722,
          2.4751942119192307,
          2.5703939893007397,
          2.6655937666822487,
          2.7607935440637577,
          2.855993321445266,
          2.951193098826775,
          3.046392876208284,
          3.141592653589793,
          3.236792430971302,
          3.3319922083528106,
          3.4271919857343196,
          3.5223917631158286,
          3.6175915404973376,
          3.712791317878846,
          3.807991095260355,
          3.903190872641864,
          3.998390650023373,
          4.093590427404882,
          4.1887902047863905,
          4.2839899821679,
          4.3791897595494085,
          4.474389536930917,
          4.569589314312426,
          4.664789091693935,
          4.759988869075444,
          4.855188646456953,
          4.9503884238384614,
          5.045588201219971,
          5.140787978601479,
          5.235987755982988,
          5.331187533364497,
          5.426387310746006,
          5.521587088127515,
          5.616786865509024,
          5.711986642890532,
          5.807186420272042,
          5.90238619765355,
          5.99758597503506,
          6.092785752416568,
          6.187985529798077,
          6.283185307179586,
          6.378385084561095,
          6.473584861942604,
          6.568784639324113,
          6.663984416705621,
          6.759184194087131,
          6.854383971468639,
          6.949583748850149,
          7.044783526231657,
          7.139983303613166,
          7.235183080994675,
          7.330382858376184,
          7.425582635757692,
          7.520782413139202,
          7.61598219052071,
          7.7111819679022195,
          7.806381745283728,
          7.901581522665237,
          7.996781300046746,
          8.091981077428255,
          8.187180854809764,
          8.282380632191272,
          8.377580409572781,
          8.47278018695429,
          8.5679799643358,
          8.663179741717308,
          8.758379519098817,
          8.853579296480326,
          8.948779073861834,
          9.043978851243343,
          9.139178628624853,
          9.23437840600636,
          9.32957818338787,
          9.42477796076938
         ],
         "xaxis": "x",
         "y": [
          0,
          0.09505604330418266,
          0.1892512443604102,
          0.28173255684142967,
          0.3716624556603275,
          0.45822652172741035,
          0.5406408174555976,
          0.6181589862206052,
          0.6900790114821119,
          0.7557495743542583,
          0.8145759520503356,
          0.8660254037844386,
          0.9096319953545183,
          0.9450008187146685,
          0.9718115683235417,
          0.9898214418809327,
          0.998867339183008,
          0.998867339183008,
          0.9898214418809328,
          0.9718115683235417,
          0.9450008187146686,
          0.9096319953545184,
          0.8660254037844387,
          0.8145759520503357,
          0.7557495743542583,
          0.6900790114821119,
          0.6181589862206055,
          0.5406408174555978,
          0.4582265217274105,
          0.3716624556603276,
          0.28173255684143006,
          0.1892512443604105,
          0.09505604330418288,
          1.2246467991473532e-16,
          -0.09505604330418263,
          -0.18925124436040983,
          -0.2817325568414294,
          -0.37166245566032735,
          -0.4582265217274103,
          -0.5406408174555972,
          -0.618158986220605,
          -0.6900790114821118,
          -0.7557495743542582,
          -0.8145759520503356,
          -0.8660254037844385,
          -0.9096319953545184,
          -0.9450008187146683,
          -0.9718115683235415,
          -0.9898214418809327,
          -0.998867339183008,
          -0.998867339183008,
          -0.9898214418809328,
          -0.9718115683235419,
          -0.9450008187146686,
          -0.9096319953545186,
          -0.866025403784439,
          -0.8145759520503358,
          -0.7557495743542587,
          -0.690079011482112,
          -0.6181589862206056,
          -0.5406408174555982,
          -0.45822652172741063,
          -0.3716624556603281,
          -0.2817325568414298,
          -0.18925124436041063,
          -0.09505604330418344,
          -2.4492935982947064e-16,
          0.09505604330418206,
          0.18925124436041013,
          0.2817325568414293,
          0.3716624556603268,
          0.4582265217274102,
          0.5406408174555971,
          0.6181589862206052,
          0.6900790114821117,
          0.7557495743542577,
          0.8145759520503356,
          0.8660254037844384,
          0.909631995354518,
          0.9450008187146683,
          0.9718115683235415,
          0.9898214418809327,
          0.998867339183008,
          0.9988673391830081,
          0.9898214418809328,
          0.9718115683235419,
          0.9450008187146686,
          0.909631995354519,
          0.8660254037844392,
          0.814575952050336,
          0.7557495743542582,
          0.6900790114821128,
          0.6181589862206056,
          0.5406408174555976,
          0.4582265217274115,
          0.3716624556603282,
          0.2817325568414299,
          0.1892512443604116,
          0.09505604330418356,
          3.6739403974420594e-16
         ],
         "yaxis": "y"
        }
       ],
       "layout": {
        "legend": {
         "tracegroupgap": 0
        },
        "margin": {
         "t": 60
        },
        "template": {
         "data": {
          "bar": [
           {
            "error_x": {
             "color": "#2a3f5f"
            },
            "error_y": {
             "color": "#2a3f5f"
            },
            "marker": {
             "line": {
              "color": "#E5ECF6",
              "width": 0.5
             },
             "pattern": {
              "fillmode": "overlay",
              "size": 10,
              "solidity": 0.2
             }
            },
            "type": "bar"
           }
          ],
          "barpolar": [
           {
            "marker": {
             "line": {
              "color": "#E5ECF6",
              "width": 0.5
             },
             "pattern": {
              "fillmode": "overlay",
              "size": 10,
              "solidity": 0.2
             }
            },
            "type": "barpolar"
           }
          ],
          "carpet": [
           {
            "aaxis": {
             "endlinecolor": "#2a3f5f",
             "gridcolor": "white",
             "linecolor": "white",
             "minorgridcolor": "white",
             "startlinecolor": "#2a3f5f"
            },
            "baxis": {
             "endlinecolor": "#2a3f5f",
             "gridcolor": "white",
             "linecolor": "white",
             "minorgridcolor": "white",
             "startlinecolor": "#2a3f5f"
            },
            "type": "carpet"
           }
          ],
          "choropleth": [
           {
            "colorbar": {
             "outlinewidth": 0,
             "ticks": ""
            },
            "type": "choropleth"
           }
          ],
          "contour": [
           {
            "colorbar": {
             "outlinewidth": 0,
             "ticks": ""
            },
            "colorscale": [
             [
              0,
              "#0d0887"
             ],
             [
              0.1111111111111111,
              "#46039f"
             ],
             [
              0.2222222222222222,
              "#7201a8"
             ],
             [
              0.3333333333333333,
              "#9c179e"
             ],
             [
              0.4444444444444444,
              "#bd3786"
             ],
             [
              0.5555555555555556,
              "#d8576b"
             ],
             [
              0.6666666666666666,
              "#ed7953"
             ],
             [
              0.7777777777777778,
              "#fb9f3a"
             ],
             [
              0.8888888888888888,
              "#fdca26"
             ],
             [
              1,
              "#f0f921"
             ]
            ],
            "type": "contour"
           }
          ],
          "contourcarpet": [
           {
            "colorbar": {
             "outlinewidth": 0,
             "ticks": ""
            },
            "type": "contourcarpet"
           }
          ],
          "heatmap": [
           {
            "colorbar": {
             "outlinewidth": 0,
             "ticks": ""
            },
            "colorscale": [
             [
              0,
              "#0d0887"
             ],
             [
              0.1111111111111111,
              "#46039f"
             ],
             [
              0.2222222222222222,
              "#7201a8"
             ],
             [
              0.3333333333333333,
              "#9c179e"
             ],
             [
              0.4444444444444444,
              "#bd3786"
             ],
             [
              0.5555555555555556,
              "#d8576b"
             ],
             [
              0.6666666666666666,
              "#ed7953"
             ],
             [
              0.7777777777777778,
              "#fb9f3a"
             ],
             [
              0.8888888888888888,
              "#fdca26"
             ],
             [
              1,
              "#f0f921"
             ]
            ],
            "type": "heatmap"
           }
          ],
          "heatmapgl": [
           {
            "colorbar": {
             "outlinewidth": 0,
             "ticks": ""
            },
            "colorscale": [
             [
              0,
              "#0d0887"
             ],
             [
              0.1111111111111111,
              "#46039f"
             ],
             [
              0.2222222222222222,
              "#7201a8"
             ],
             [
              0.3333333333333333,
              "#9c179e"
             ],
             [
              0.4444444444444444,
              "#bd3786"
             ],
             [
              0.5555555555555556,
              "#d8576b"
             ],
             [
              0.6666666666666666,
              "#ed7953"
             ],
             [
              0.7777777777777778,
              "#fb9f3a"
             ],
             [
              0.8888888888888888,
              "#fdca26"
             ],
             [
              1,
              "#f0f921"
             ]
            ],
            "type": "heatmapgl"
           }
          ],
          "histogram": [
           {
            "marker": {
             "pattern": {
              "fillmode": "overlay",
              "size": 10,
              "solidity": 0.2
             }
            },
            "type": "histogram"
           }
          ],
          "histogram2d": [
           {
            "colorbar": {
             "outlinewidth": 0,
             "ticks": ""
            },
            "colorscale": [
             [
              0,
              "#0d0887"
             ],
             [
              0.1111111111111111,
              "#46039f"
             ],
             [
              0.2222222222222222,
              "#7201a8"
             ],
             [
              0.3333333333333333,
              "#9c179e"
             ],
             [
              0.4444444444444444,
              "#bd3786"
             ],
             [
              0.5555555555555556,
              "#d8576b"
             ],
             [
              0.6666666666666666,
              "#ed7953"
             ],
             [
              0.7777777777777778,
              "#fb9f3a"
             ],
             [
              0.8888888888888888,
              "#fdca26"
             ],
             [
              1,
              "#f0f921"
             ]
            ],
            "type": "histogram2d"
           }
          ],
          "histogram2dcontour": [
           {
            "colorbar": {
             "outlinewidth": 0,
             "ticks": ""
            },
            "colorscale": [
             [
              0,
              "#0d0887"
             ],
             [
              0.1111111111111111,
              "#46039f"
             ],
             [
              0.2222222222222222,
              "#7201a8"
             ],
             [
              0.3333333333333333,
              "#9c179e"
             ],
             [
              0.4444444444444444,
              "#bd3786"
             ],
             [
              0.5555555555555556,
              "#d8576b"
             ],
             [
              0.6666666666666666,
              "#ed7953"
             ],
             [
              0.7777777777777778,
              "#fb9f3a"
             ],
             [
              0.8888888888888888,
              "#fdca26"
             ],
             [
              1,
              "#f0f921"
             ]
            ],
            "type": "histogram2dcontour"
           }
          ],
          "mesh3d": [
           {
            "colorbar": {
             "outlinewidth": 0,
             "ticks": ""
            },
            "type": "mesh3d"
           }
          ],
          "parcoords": [
           {
            "line": {
             "colorbar": {
              "outlinewidth": 0,
              "ticks": ""
             }
            },
            "type": "parcoords"
           }
          ],
          "pie": [
           {
            "automargin": true,
            "type": "pie"
           }
          ],
          "scatter": [
           {
            "fillpattern": {
             "fillmode": "overlay",
             "size": 10,
             "solidity": 0.2
            },
            "type": "scatter"
           }
          ],
          "scatter3d": [
           {
            "line": {
             "colorbar": {
              "outlinewidth": 0,
              "ticks": ""
             }
            },
            "marker": {
             "colorbar": {
              "outlinewidth": 0,
              "ticks": ""
             }
            },
            "type": "scatter3d"
           }
          ],
          "scattercarpet": [
           {
            "marker": {
             "colorbar": {
              "outlinewidth": 0,
              "ticks": ""
             }
            },
            "type": "scattercarpet"
           }
          ],
          "scattergeo": [
           {
            "marker": {
             "colorbar": {
              "outlinewidth": 0,
              "ticks": ""
             }
            },
            "type": "scattergeo"
           }
          ],
          "scattergl": [
           {
            "marker": {
             "colorbar": {
              "outlinewidth": 0,
              "ticks": ""
             }
            },
            "type": "scattergl"
           }
          ],
          "scattermapbox": [
           {
            "marker": {
             "colorbar": {
              "outlinewidth": 0,
              "ticks": ""
             }
            },
            "type": "scattermapbox"
           }
          ],
          "scatterpolar": [
           {
            "marker": {
             "colorbar": {
              "outlinewidth": 0,
              "ticks": ""
             }
            },
            "type": "scatterpolar"
           }
          ],
          "scatterpolargl": [
           {
            "marker": {
             "colorbar": {
              "outlinewidth": 0,
              "ticks": ""
             }
            },
            "type": "scatterpolargl"
           }
          ],
          "scatterternary": [
           {
            "marker": {
             "colorbar": {
              "outlinewidth": 0,
              "ticks": ""
             }
            },
            "type": "scatterternary"
           }
          ],
          "surface": [
           {
            "colorbar": {
             "outlinewidth": 0,
             "ticks": ""
            },
            "colorscale": [
             [
              0,
              "#0d0887"
             ],
             [
              0.1111111111111111,
              "#46039f"
             ],
             [
              0.2222222222222222,
              "#7201a8"
             ],
             [
              0.3333333333333333,
              "#9c179e"
             ],
             [
              0.4444444444444444,
              "#bd3786"
             ],
             [
              0.5555555555555556,
              "#d8576b"
             ],
             [
              0.6666666666666666,
              "#ed7953"
             ],
             [
              0.7777777777777778,
              "#fb9f3a"
             ],
             [
              0.8888888888888888,
              "#fdca26"
             ],
             [
              1,
              "#f0f921"
             ]
            ],
            "type": "surface"
           }
          ],
          "table": [
           {
            "cells": {
             "fill": {
              "color": "#EBF0F8"
             },
             "line": {
              "color": "white"
             }
            },
            "header": {
             "fill": {
              "color": "#C8D4E3"
             },
             "line": {
              "color": "white"
             }
            },
            "type": "table"
           }
          ]
         },
         "layout": {
          "annotationdefaults": {
           "arrowcolor": "#2a3f5f",
           "arrowhead": 0,
           "arrowwidth": 1
          },
          "autotypenumbers": "strict",
          "coloraxis": {
           "colorbar": {
            "outlinewidth": 0,
            "ticks": ""
           }
          },
          "colorscale": {
           "diverging": [
            [
             0,
             "#8e0152"
            ],
            [
             0.1,
             "#c51b7d"
            ],
            [
             0.2,
             "#de77ae"
            ],
            [
             0.3,
             "#f1b6da"
            ],
            [
             0.4,
             "#fde0ef"
            ],
            [
             0.5,
             "#f7f7f7"
            ],
            [
             0.6,
             "#e6f5d0"
            ],
            [
             0.7,
             "#b8e186"
            ],
            [
             0.8,
             "#7fbc41"
            ],
            [
             0.9,
             "#4d9221"
            ],
            [
             1,
             "#276419"
            ]
           ],
           "sequential": [
            [
             0,
             "#0d0887"
            ],
            [
             0.1111111111111111,
             "#46039f"
            ],
            [
             0.2222222222222222,
             "#7201a8"
            ],
            [
             0.3333333333333333,
             "#9c179e"
            ],
            [
             0.4444444444444444,
             "#bd3786"
            ],
            [
             0.5555555555555556,
             "#d8576b"
            ],
            [
             0.6666666666666666,
             "#ed7953"
            ],
            [
             0.7777777777777778,
             "#fb9f3a"
            ],
            [
             0.8888888888888888,
             "#fdca26"
            ],
            [
             1,
             "#f0f921"
            ]
           ],
           "sequentialminus": [
            [
             0,
             "#0d0887"
            ],
            [
             0.1111111111111111,
             "#46039f"
            ],
            [
             0.2222222222222222,
             "#7201a8"
            ],
            [
             0.3333333333333333,
             "#9c179e"
            ],
            [
             0.4444444444444444,
             "#bd3786"
            ],
            [
             0.5555555555555556,
             "#d8576b"
            ],
            [
             0.6666666666666666,
             "#ed7953"
            ],
            [
             0.7777777777777778,
             "#fb9f3a"
            ],
            [
             0.8888888888888888,
             "#fdca26"
            ],
            [
             1,
             "#f0f921"
            ]
           ]
          },
          "colorway": [
           "#636efa",
           "#EF553B",
           "#00cc96",
           "#ab63fa",
           "#FFA15A",
           "#19d3f3",
           "#FF6692",
           "#B6E880",
           "#FF97FF",
           "#FECB52"
          ],
          "font": {
           "color": "#2a3f5f"
          },
          "geo": {
           "bgcolor": "white",
           "lakecolor": "white",
           "landcolor": "#E5ECF6",
           "showlakes": true,
           "showland": true,
           "subunitcolor": "white"
          },
          "hoverlabel": {
           "align": "left"
          },
          "hovermode": "closest",
          "mapbox": {
           "style": "light"
          },
          "paper_bgcolor": "white",
          "plot_bgcolor": "#E5ECF6",
          "polar": {
           "angularaxis": {
            "gridcolor": "white",
            "linecolor": "white",
            "ticks": ""
           },
           "bgcolor": "#E5ECF6",
           "radialaxis": {
            "gridcolor": "white",
            "linecolor": "white",
            "ticks": ""
           }
          },
          "scene": {
           "xaxis": {
            "backgroundcolor": "#E5ECF6",
            "gridcolor": "white",
            "gridwidth": 2,
            "linecolor": "white",
            "showbackground": true,
            "ticks": "",
            "zerolinecolor": "white"
           },
           "yaxis": {
            "backgroundcolor": "#E5ECF6",
            "gridcolor": "white",
            "gridwidth": 2,
            "linecolor": "white",
            "showbackground": true,
            "ticks": "",
            "zerolinecolor": "white"
           },
           "zaxis": {
            "backgroundcolor": "#E5ECF6",
            "gridcolor": "white",
            "gridwidth": 2,
            "linecolor": "white",
            "showbackground": true,
            "ticks": "",
            "zerolinecolor": "white"
           }
          },
          "shapedefaults": {
           "line": {
            "color": "#2a3f5f"
           }
          },
          "ternary": {
           "aaxis": {
            "gridcolor": "white",
            "linecolor": "white",
            "ticks": ""
           },
           "baxis": {
            "gridcolor": "white",
            "linecolor": "white",
            "ticks": ""
           },
           "bgcolor": "#E5ECF6",
           "caxis": {
            "gridcolor": "white",
            "linecolor": "white",
            "ticks": ""
           }
          },
          "title": {
           "x": 0.05
          },
          "xaxis": {
           "automargin": true,
           "gridcolor": "white",
           "linecolor": "white",
           "ticks": "",
           "title": {
            "standoff": 15
           },
           "zerolinecolor": "white",
           "zerolinewidth": 2
          },
          "yaxis": {
           "automargin": true,
           "gridcolor": "white",
           "linecolor": "white",
           "ticks": "",
           "title": {
            "standoff": 15
           },
           "zerolinecolor": "white",
           "zerolinewidth": 2
          }
         }
        },
        "xaxis": {
         "anchor": "y",
         "domain": [
          0,
          1
         ],
         "title": {
          "text": "x"
         }
        },
        "yaxis": {
         "anchor": "x",
         "domain": [
          0,
          1
         ],
         "title": {
          "text": "y"
         }
        }
       }
      }
     },
     "metadata": {},
     "output_type": "display_data"
    }
   ],
   "source": [
    "# plotly scatter plot\n",
    "fig = px.scatter(x=x, y=y)\n",
    "fig.show()"
   ]
  },
  {
   "cell_type": "markdown",
   "metadata": {},
   "source": [
    "### Bar plot"
   ]
  },
  {
   "cell_type": "code",
   "execution_count": null,
   "metadata": {},
   "outputs": [],
   "source": [
    "x = np.linspace(0, 3*np.pi, 100)\n",
    "y = np.sin(x)\n",
    "fig, ax = plt.subplots(figsize=(3,3), dpi=100)\n",
    "ax.bar(x, y)"
   ]
  },
  {
   "cell_type": "code",
   "execution_count": 6,
   "metadata": {},
   "outputs": [
    {
     "data": {
      "application/vnd.plotly.v1+json": {
       "config": {
        "plotlyServerURL": "https://plot.ly"
       },
       "data": [
        {
         "alignmentgroup": "True",
         "hovertemplate": "x=%{x}<br>y=%{y}<extra></extra>",
         "legendgroup": "",
         "marker": {
          "color": "#636efa",
          "pattern": {
           "shape": ""
          }
         },
         "name": "",
         "offsetgroup": "",
         "orientation": "v",
         "showlegend": false,
         "textposition": "auto",
         "type": "bar",
         "x": [
          0,
          0.09519977738150888,
          0.19039955476301776,
          0.28559933214452665,
          0.3807991095260355,
          0.4759988869075444,
          0.5711986642890533,
          0.6663984416705622,
          0.761598219052071,
          0.8567979964335799,
          0.9519977738150888,
          1.0471975511965976,
          1.1423973285781066,
          1.2375971059596154,
          1.3327968833411243,
          1.427996660722633,
          1.523196438104142,
          1.618396215485651,
          1.7135959928671598,
          1.8087957702486688,
          1.9039955476301775,
          1.9991953250116865,
          2.0943951023931953,
          2.1895948797747042,
          2.284794657156213,
          2.379994434537722,
          2.4751942119192307,
          2.5703939893007397,
          2.6655937666822487,
          2.7607935440637577,
          2.855993321445266,
          2.951193098826775,
          3.046392876208284,
          3.141592653589793,
          3.236792430971302,
          3.3319922083528106,
          3.4271919857343196,
          3.5223917631158286,
          3.6175915404973376,
          3.712791317878846,
          3.807991095260355,
          3.903190872641864,
          3.998390650023373,
          4.093590427404882,
          4.1887902047863905,
          4.2839899821679,
          4.3791897595494085,
          4.474389536930917,
          4.569589314312426,
          4.664789091693935,
          4.759988869075444,
          4.855188646456953,
          4.9503884238384614,
          5.045588201219971,
          5.140787978601479,
          5.235987755982988,
          5.331187533364497,
          5.426387310746006,
          5.521587088127515,
          5.616786865509024,
          5.711986642890532,
          5.807186420272042,
          5.90238619765355,
          5.99758597503506,
          6.092785752416568,
          6.187985529798077,
          6.283185307179586,
          6.378385084561095,
          6.473584861942604,
          6.568784639324113,
          6.663984416705621,
          6.759184194087131,
          6.854383971468639,
          6.949583748850149,
          7.044783526231657,
          7.139983303613166,
          7.235183080994675,
          7.330382858376184,
          7.425582635757692,
          7.520782413139202,
          7.61598219052071,
          7.7111819679022195,
          7.806381745283728,
          7.901581522665237,
          7.996781300046746,
          8.091981077428255,
          8.187180854809764,
          8.282380632191272,
          8.377580409572781,
          8.47278018695429,
          8.5679799643358,
          8.663179741717308,
          8.758379519098817,
          8.853579296480326,
          8.948779073861834,
          9.043978851243343,
          9.139178628624853,
          9.23437840600636,
          9.32957818338787,
          9.42477796076938
         ],
         "xaxis": "x",
         "y": [
          0,
          0.09505604330418266,
          0.1892512443604102,
          0.28173255684142967,
          0.3716624556603275,
          0.45822652172741035,
          0.5406408174555976,
          0.6181589862206052,
          0.6900790114821119,
          0.7557495743542583,
          0.8145759520503356,
          0.8660254037844386,
          0.9096319953545183,
          0.9450008187146685,
          0.9718115683235417,
          0.9898214418809327,
          0.998867339183008,
          0.998867339183008,
          0.9898214418809328,
          0.9718115683235417,
          0.9450008187146686,
          0.9096319953545184,
          0.8660254037844387,
          0.8145759520503357,
          0.7557495743542583,
          0.6900790114821119,
          0.6181589862206055,
          0.5406408174555978,
          0.4582265217274105,
          0.3716624556603276,
          0.28173255684143006,
          0.1892512443604105,
          0.09505604330418288,
          1.2246467991473532e-16,
          -0.09505604330418263,
          -0.18925124436040983,
          -0.2817325568414294,
          -0.37166245566032735,
          -0.4582265217274103,
          -0.5406408174555972,
          -0.618158986220605,
          -0.6900790114821118,
          -0.7557495743542582,
          -0.8145759520503356,
          -0.8660254037844385,
          -0.9096319953545184,
          -0.9450008187146683,
          -0.9718115683235415,
          -0.9898214418809327,
          -0.998867339183008,
          -0.998867339183008,
          -0.9898214418809328,
          -0.9718115683235419,
          -0.9450008187146686,
          -0.9096319953545186,
          -0.866025403784439,
          -0.8145759520503358,
          -0.7557495743542587,
          -0.690079011482112,
          -0.6181589862206056,
          -0.5406408174555982,
          -0.45822652172741063,
          -0.3716624556603281,
          -0.2817325568414298,
          -0.18925124436041063,
          -0.09505604330418344,
          -2.4492935982947064e-16,
          0.09505604330418206,
          0.18925124436041013,
          0.2817325568414293,
          0.3716624556603268,
          0.4582265217274102,
          0.5406408174555971,
          0.6181589862206052,
          0.6900790114821117,
          0.7557495743542577,
          0.8145759520503356,
          0.8660254037844384,
          0.909631995354518,
          0.9450008187146683,
          0.9718115683235415,
          0.9898214418809327,
          0.998867339183008,
          0.9988673391830081,
          0.9898214418809328,
          0.9718115683235419,
          0.9450008187146686,
          0.909631995354519,
          0.8660254037844392,
          0.814575952050336,
          0.7557495743542582,
          0.6900790114821128,
          0.6181589862206056,
          0.5406408174555976,
          0.4582265217274115,
          0.3716624556603282,
          0.2817325568414299,
          0.1892512443604116,
          0.09505604330418356,
          3.6739403974420594e-16
         ],
         "yaxis": "y"
        }
       ],
       "layout": {
        "barmode": "relative",
        "legend": {
         "tracegroupgap": 0
        },
        "margin": {
         "t": 60
        },
        "template": {
         "data": {
          "bar": [
           {
            "error_x": {
             "color": "#2a3f5f"
            },
            "error_y": {
             "color": "#2a3f5f"
            },
            "marker": {
             "line": {
              "color": "#E5ECF6",
              "width": 0.5
             },
             "pattern": {
              "fillmode": "overlay",
              "size": 10,
              "solidity": 0.2
             }
            },
            "type": "bar"
           }
          ],
          "barpolar": [
           {
            "marker": {
             "line": {
              "color": "#E5ECF6",
              "width": 0.5
             },
             "pattern": {
              "fillmode": "overlay",
              "size": 10,
              "solidity": 0.2
             }
            },
            "type": "barpolar"
           }
          ],
          "carpet": [
           {
            "aaxis": {
             "endlinecolor": "#2a3f5f",
             "gridcolor": "white",
             "linecolor": "white",
             "minorgridcolor": "white",
             "startlinecolor": "#2a3f5f"
            },
            "baxis": {
             "endlinecolor": "#2a3f5f",
             "gridcolor": "white",
             "linecolor": "white",
             "minorgridcolor": "white",
             "startlinecolor": "#2a3f5f"
            },
            "type": "carpet"
           }
          ],
          "choropleth": [
           {
            "colorbar": {
             "outlinewidth": 0,
             "ticks": ""
            },
            "type": "choropleth"
           }
          ],
          "contour": [
           {
            "colorbar": {
             "outlinewidth": 0,
             "ticks": ""
            },
            "colorscale": [
             [
              0,
              "#0d0887"
             ],
             [
              0.1111111111111111,
              "#46039f"
             ],
             [
              0.2222222222222222,
              "#7201a8"
             ],
             [
              0.3333333333333333,
              "#9c179e"
             ],
             [
              0.4444444444444444,
              "#bd3786"
             ],
             [
              0.5555555555555556,
              "#d8576b"
             ],
             [
              0.6666666666666666,
              "#ed7953"
             ],
             [
              0.7777777777777778,
              "#fb9f3a"
             ],
             [
              0.8888888888888888,
              "#fdca26"
             ],
             [
              1,
              "#f0f921"
             ]
            ],
            "type": "contour"
           }
          ],
          "contourcarpet": [
           {
            "colorbar": {
             "outlinewidth": 0,
             "ticks": ""
            },
            "type": "contourcarpet"
           }
          ],
          "heatmap": [
           {
            "colorbar": {
             "outlinewidth": 0,
             "ticks": ""
            },
            "colorscale": [
             [
              0,
              "#0d0887"
             ],
             [
              0.1111111111111111,
              "#46039f"
             ],
             [
              0.2222222222222222,
              "#7201a8"
             ],
             [
              0.3333333333333333,
              "#9c179e"
             ],
             [
              0.4444444444444444,
              "#bd3786"
             ],
             [
              0.5555555555555556,
              "#d8576b"
             ],
             [
              0.6666666666666666,
              "#ed7953"
             ],
             [
              0.7777777777777778,
              "#fb9f3a"
             ],
             [
              0.8888888888888888,
              "#fdca26"
             ],
             [
              1,
              "#f0f921"
             ]
            ],
            "type": "heatmap"
           }
          ],
          "heatmapgl": [
           {
            "colorbar": {
             "outlinewidth": 0,
             "ticks": ""
            },
            "colorscale": [
             [
              0,
              "#0d0887"
             ],
             [
              0.1111111111111111,
              "#46039f"
             ],
             [
              0.2222222222222222,
              "#7201a8"
             ],
             [
              0.3333333333333333,
              "#9c179e"
             ],
             [
              0.4444444444444444,
              "#bd3786"
             ],
             [
              0.5555555555555556,
              "#d8576b"
             ],
             [
              0.6666666666666666,
              "#ed7953"
             ],
             [
              0.7777777777777778,
              "#fb9f3a"
             ],
             [
              0.8888888888888888,
              "#fdca26"
             ],
             [
              1,
              "#f0f921"
             ]
            ],
            "type": "heatmapgl"
           }
          ],
          "histogram": [
           {
            "marker": {
             "pattern": {
              "fillmode": "overlay",
              "size": 10,
              "solidity": 0.2
             }
            },
            "type": "histogram"
           }
          ],
          "histogram2d": [
           {
            "colorbar": {
             "outlinewidth": 0,
             "ticks": ""
            },
            "colorscale": [
             [
              0,
              "#0d0887"
             ],
             [
              0.1111111111111111,
              "#46039f"
             ],
             [
              0.2222222222222222,
              "#7201a8"
             ],
             [
              0.3333333333333333,
              "#9c179e"
             ],
             [
              0.4444444444444444,
              "#bd3786"
             ],
             [
              0.5555555555555556,
              "#d8576b"
             ],
             [
              0.6666666666666666,
              "#ed7953"
             ],
             [
              0.7777777777777778,
              "#fb9f3a"
             ],
             [
              0.8888888888888888,
              "#fdca26"
             ],
             [
              1,
              "#f0f921"
             ]
            ],
            "type": "histogram2d"
           }
          ],
          "histogram2dcontour": [
           {
            "colorbar": {
             "outlinewidth": 0,
             "ticks": ""
            },
            "colorscale": [
             [
              0,
              "#0d0887"
             ],
             [
              0.1111111111111111,
              "#46039f"
             ],
             [
              0.2222222222222222,
              "#7201a8"
             ],
             [
              0.3333333333333333,
              "#9c179e"
             ],
             [
              0.4444444444444444,
              "#bd3786"
             ],
             [
              0.5555555555555556,
              "#d8576b"
             ],
             [
              0.6666666666666666,
              "#ed7953"
             ],
             [
              0.7777777777777778,
              "#fb9f3a"
             ],
             [
              0.8888888888888888,
              "#fdca26"
             ],
             [
              1,
              "#f0f921"
             ]
            ],
            "type": "histogram2dcontour"
           }
          ],
          "mesh3d": [
           {
            "colorbar": {
             "outlinewidth": 0,
             "ticks": ""
            },
            "type": "mesh3d"
           }
          ],
          "parcoords": [
           {
            "line": {
             "colorbar": {
              "outlinewidth": 0,
              "ticks": ""
             }
            },
            "type": "parcoords"
           }
          ],
          "pie": [
           {
            "automargin": true,
            "type": "pie"
           }
          ],
          "scatter": [
           {
            "fillpattern": {
             "fillmode": "overlay",
             "size": 10,
             "solidity": 0.2
            },
            "type": "scatter"
           }
          ],
          "scatter3d": [
           {
            "line": {
             "colorbar": {
              "outlinewidth": 0,
              "ticks": ""
             }
            },
            "marker": {
             "colorbar": {
              "outlinewidth": 0,
              "ticks": ""
             }
            },
            "type": "scatter3d"
           }
          ],
          "scattercarpet": [
           {
            "marker": {
             "colorbar": {
              "outlinewidth": 0,
              "ticks": ""
             }
            },
            "type": "scattercarpet"
           }
          ],
          "scattergeo": [
           {
            "marker": {
             "colorbar": {
              "outlinewidth": 0,
              "ticks": ""
             }
            },
            "type": "scattergeo"
           }
          ],
          "scattergl": [
           {
            "marker": {
             "colorbar": {
              "outlinewidth": 0,
              "ticks": ""
             }
            },
            "type": "scattergl"
           }
          ],
          "scattermapbox": [
           {
            "marker": {
             "colorbar": {
              "outlinewidth": 0,
              "ticks": ""
             }
            },
            "type": "scattermapbox"
           }
          ],
          "scatterpolar": [
           {
            "marker": {
             "colorbar": {
              "outlinewidth": 0,
              "ticks": ""
             }
            },
            "type": "scatterpolar"
           }
          ],
          "scatterpolargl": [
           {
            "marker": {
             "colorbar": {
              "outlinewidth": 0,
              "ticks": ""
             }
            },
            "type": "scatterpolargl"
           }
          ],
          "scatterternary": [
           {
            "marker": {
             "colorbar": {
              "outlinewidth": 0,
              "ticks": ""
             }
            },
            "type": "scatterternary"
           }
          ],
          "surface": [
           {
            "colorbar": {
             "outlinewidth": 0,
             "ticks": ""
            },
            "colorscale": [
             [
              0,
              "#0d0887"
             ],
             [
              0.1111111111111111,
              "#46039f"
             ],
             [
              0.2222222222222222,
              "#7201a8"
             ],
             [
              0.3333333333333333,
              "#9c179e"
             ],
             [
              0.4444444444444444,
              "#bd3786"
             ],
             [
              0.5555555555555556,
              "#d8576b"
             ],
             [
              0.6666666666666666,
              "#ed7953"
             ],
             [
              0.7777777777777778,
              "#fb9f3a"
             ],
             [
              0.8888888888888888,
              "#fdca26"
             ],
             [
              1,
              "#f0f921"
             ]
            ],
            "type": "surface"
           }
          ],
          "table": [
           {
            "cells": {
             "fill": {
              "color": "#EBF0F8"
             },
             "line": {
              "color": "white"
             }
            },
            "header": {
             "fill": {
              "color": "#C8D4E3"
             },
             "line": {
              "color": "white"
             }
            },
            "type": "table"
           }
          ]
         },
         "layout": {
          "annotationdefaults": {
           "arrowcolor": "#2a3f5f",
           "arrowhead": 0,
           "arrowwidth": 1
          },
          "autotypenumbers": "strict",
          "coloraxis": {
           "colorbar": {
            "outlinewidth": 0,
            "ticks": ""
           }
          },
          "colorscale": {
           "diverging": [
            [
             0,
             "#8e0152"
            ],
            [
             0.1,
             "#c51b7d"
            ],
            [
             0.2,
             "#de77ae"
            ],
            [
             0.3,
             "#f1b6da"
            ],
            [
             0.4,
             "#fde0ef"
            ],
            [
             0.5,
             "#f7f7f7"
            ],
            [
             0.6,
             "#e6f5d0"
            ],
            [
             0.7,
             "#b8e186"
            ],
            [
             0.8,
             "#7fbc41"
            ],
            [
             0.9,
             "#4d9221"
            ],
            [
             1,
             "#276419"
            ]
           ],
           "sequential": [
            [
             0,
             "#0d0887"
            ],
            [
             0.1111111111111111,
             "#46039f"
            ],
            [
             0.2222222222222222,
             "#7201a8"
            ],
            [
             0.3333333333333333,
             "#9c179e"
            ],
            [
             0.4444444444444444,
             "#bd3786"
            ],
            [
             0.5555555555555556,
             "#d8576b"
            ],
            [
             0.6666666666666666,
             "#ed7953"
            ],
            [
             0.7777777777777778,
             "#fb9f3a"
            ],
            [
             0.8888888888888888,
             "#fdca26"
            ],
            [
             1,
             "#f0f921"
            ]
           ],
           "sequentialminus": [
            [
             0,
             "#0d0887"
            ],
            [
             0.1111111111111111,
             "#46039f"
            ],
            [
             0.2222222222222222,
             "#7201a8"
            ],
            [
             0.3333333333333333,
             "#9c179e"
            ],
            [
             0.4444444444444444,
             "#bd3786"
            ],
            [
             0.5555555555555556,
             "#d8576b"
            ],
            [
             0.6666666666666666,
             "#ed7953"
            ],
            [
             0.7777777777777778,
             "#fb9f3a"
            ],
            [
             0.8888888888888888,
             "#fdca26"
            ],
            [
             1,
             "#f0f921"
            ]
           ]
          },
          "colorway": [
           "#636efa",
           "#EF553B",
           "#00cc96",
           "#ab63fa",
           "#FFA15A",
           "#19d3f3",
           "#FF6692",
           "#B6E880",
           "#FF97FF",
           "#FECB52"
          ],
          "font": {
           "color": "#2a3f5f"
          },
          "geo": {
           "bgcolor": "white",
           "lakecolor": "white",
           "landcolor": "#E5ECF6",
           "showlakes": true,
           "showland": true,
           "subunitcolor": "white"
          },
          "hoverlabel": {
           "align": "left"
          },
          "hovermode": "closest",
          "mapbox": {
           "style": "light"
          },
          "paper_bgcolor": "white",
          "plot_bgcolor": "#E5ECF6",
          "polar": {
           "angularaxis": {
            "gridcolor": "white",
            "linecolor": "white",
            "ticks": ""
           },
           "bgcolor": "#E5ECF6",
           "radialaxis": {
            "gridcolor": "white",
            "linecolor": "white",
            "ticks": ""
           }
          },
          "scene": {
           "xaxis": {
            "backgroundcolor": "#E5ECF6",
            "gridcolor": "white",
            "gridwidth": 2,
            "linecolor": "white",
            "showbackground": true,
            "ticks": "",
            "zerolinecolor": "white"
           },
           "yaxis": {
            "backgroundcolor": "#E5ECF6",
            "gridcolor": "white",
            "gridwidth": 2,
            "linecolor": "white",
            "showbackground": true,
            "ticks": "",
            "zerolinecolor": "white"
           },
           "zaxis": {
            "backgroundcolor": "#E5ECF6",
            "gridcolor": "white",
            "gridwidth": 2,
            "linecolor": "white",
            "showbackground": true,
            "ticks": "",
            "zerolinecolor": "white"
           }
          },
          "shapedefaults": {
           "line": {
            "color": "#2a3f5f"
           }
          },
          "ternary": {
           "aaxis": {
            "gridcolor": "white",
            "linecolor": "white",
            "ticks": ""
           },
           "baxis": {
            "gridcolor": "white",
            "linecolor": "white",
            "ticks": ""
           },
           "bgcolor": "#E5ECF6",
           "caxis": {
            "gridcolor": "white",
            "linecolor": "white",
            "ticks": ""
           }
          },
          "title": {
           "x": 0.05
          },
          "xaxis": {
           "automargin": true,
           "gridcolor": "white",
           "linecolor": "white",
           "ticks": "",
           "title": {
            "standoff": 15
           },
           "zerolinecolor": "white",
           "zerolinewidth": 2
          },
          "yaxis": {
           "automargin": true,
           "gridcolor": "white",
           "linecolor": "white",
           "ticks": "",
           "title": {
            "standoff": 15
           },
           "zerolinecolor": "white",
           "zerolinewidth": 2
          }
         }
        },
        "xaxis": {
         "anchor": "y",
         "domain": [
          0,
          1
         ],
         "title": {
          "text": "x"
         }
        },
        "yaxis": {
         "anchor": "x",
         "domain": [
          0,
          1
         ],
         "title": {
          "text": "y"
         }
        }
       }
      }
     },
     "metadata": {},
     "output_type": "display_data"
    }
   ],
   "source": [
    "# plotly bar plot\n",
    "fig = px.bar(x=x, y=y)\n",
    "fig.show()"
   ]
  },
  {
   "cell_type": "markdown",
   "metadata": {},
   "source": [
    "### Histogram"
   ]
  },
  {
   "cell_type": "code",
   "execution_count": 8,
   "metadata": {},
   "outputs": [
    {
     "data": {
      "text/plain": [
       "(array([ 4.,  1.,  6.,  3.,  7., 13., 23., 28., 29., 35., 49., 67., 75.,\n",
       "        75., 86., 77., 70., 68., 56., 55., 52., 32., 34., 18., 17., 10.,\n",
       "         4.,  1.,  2.,  3.]),\n",
       " array([-2.9635704 , -2.76561395, -2.5676575 , -2.36970105, -2.1717446 ,\n",
       "        -1.97378815, -1.7758317 , -1.57787525, -1.37991881, -1.18196236,\n",
       "        -0.98400591, -0.78604946, -0.58809301, -0.39013656, -0.19218011,\n",
       "         0.00577634,  0.20373279,  0.40168924,  0.59964569,  0.79760214,\n",
       "         0.99555859,  1.19351503,  1.39147148,  1.58942793,  1.78738438,\n",
       "         1.98534083,  2.18329728,  2.38125373,  2.57921018,  2.77716663,\n",
       "         2.97512308]),\n",
       " <BarContainer object of 30 artists>)"
      ]
     },
     "execution_count": 8,
     "metadata": {},
     "output_type": "execute_result"
    },
    {
     "data": {
      "image/png": "[encoded data removed]",
      "text/plain": [
       "<Figure size 300x300 with 1 Axes>"
      ]
     },
     "metadata": {},
     "output_type": "display_data"
    }
   ],
   "source": [
    "# histogram\n",
    "x = np.random.randn(1000)\n",
    "fig, ax = plt.subplots(figsize=(3,3), dpi=100)\n",
    "ax.hist(x, bins=30)"
   ]
  },
  {
   "cell_type": "code",
   "execution_count": 7,
   "metadata": {},
   "outputs": [
    {
     "data": {
      "application/vnd.plotly.v1+json": {
       "config": {
        "plotlyServerURL": "https://plot.ly"
       },
       "data": [
        {
         "alignmentgroup": "True",
         "bingroup": "x",
         "hovertemplate": "x=%{x}<br>count=%{y}<extra></extra>",
         "legendgroup": "",
         "marker": {
          "color": "#636efa",
          "pattern": {
           "shape": ""
          }
         },
         "name": "",
         "nbinsx": 30,
         "offsetgroup": "",
         "orientation": "v",
         "showlegend": false,
         "type": "histogram",
         "x": [
          0,
          0.09519977738150888,
          0.19039955476301776,
          0.28559933214452665,
          0.3807991095260355,
          0.4759988869075444,
          0.5711986642890533,
          0.6663984416705622,
          0.761598219052071,
          0.8567979964335799,
          0.9519977738150888,
          1.0471975511965976,
          1.1423973285781066,
          1.2375971059596154,
          1.3327968833411243,
          1.427996660722633,
          1.523196438104142,
          1.618396215485651,
          1.7135959928671598,
          1.8087957702486688,
          1.9039955476301775,
          1.9991953250116865,
          2.0943951023931953,
          2.1895948797747042,
          2.284794657156213,
          2.379994434537722,
          2.4751942119192307,
          2.5703939893007397,
          2.6655937666822487,
          2.7607935440637577,
          2.855993321445266,
          2.951193098826775,
          3.046392876208284,
          3.141592653589793,
          3.236792430971302,
          3.3319922083528106,
          3.4271919857343196,
          3.5223917631158286,
          3.6175915404973376,
          3.712791317878846,
          3.807991095260355,
          3.903190872641864,
          3.998390650023373,
          4.093590427404882,
          4.1887902047863905,
          4.2839899821679,
          4.3791897595494085,
          4.474389536930917,
          4.569589314312426,
          4.664789091693935,
          4.759988869075444,
          4.855188646456953,
          4.9503884238384614,
          5.045588201219971,
          5.140787978601479,
          5.235987755982988,
          5.331187533364497,
          5.426387310746006,
          5.521587088127515,
          5.616786865509024,
          5.711986642890532,
          5.807186420272042,
          5.90238619765355,
          5.99758597503506,
          6.092785752416568,
          6.187985529798077,
          6.283185307179586,
          6.378385084561095,
          6.473584861942604,
          6.568784639324113,
          6.663984416705621,
          6.759184194087131,
          6.854383971468639,
          6.949583748850149,
          7.044783526231657,
          7.139983303613166,
          7.235183080994675,
          7.330382858376184,
          7.425582635757692,
          7.520782413139202,
          7.61598219052071,
          7.7111819679022195,
          7.806381745283728,
          7.901581522665237,
          7.996781300046746,
          8.091981077428255,
          8.187180854809764,
          8.282380632191272,
          8.377580409572781,
          8.47278018695429,
          8.5679799643358,
          8.663179741717308,
          8.758379519098817,
          8.853579296480326,
          8.948779073861834,
          9.043978851243343,
          9.139178628624853,
          9.23437840600636,
          9.32957818338787,
          9.42477796076938
         ],
         "xaxis": "x",
         "yaxis": "y"
        }
       ],
       "layout": {
        "barmode": "relative",
        "legend": {
         "tracegroupgap": 0
        },
        "margin": {
         "t": 60
        },
        "template": {
         "data": {
          "bar": [
           {
            "error_x": {
             "color": "#2a3f5f"
            },
            "error_y": {
             "color": "#2a3f5f"
            },
            "marker": {
             "line": {
              "color": "#E5ECF6",
              "width": 0.5
             },
             "pattern": {
              "fillmode": "overlay",
              "size": 10,
              "solidity": 0.2
             }
            },
            "type": "bar"
           }
          ],
          "barpolar": [
           {
            "marker": {
             "line": {
              "color": "#E5ECF6",
              "width": 0.5
             },
             "pattern": {
              "fillmode": "overlay",
              "size": 10,
              "solidity": 0.2
             }
            },
            "type": "barpolar"
           }
          ],
          "carpet": [
           {
            "aaxis": {
             "endlinecolor": "#2a3f5f",
             "gridcolor": "white",
             "linecolor": "white",
             "minorgridcolor": "white",
             "startlinecolor": "#2a3f5f"
            },
            "baxis": {
             "endlinecolor": "#2a3f5f",
             "gridcolor": "white",
             "linecolor": "white",
             "minorgridcolor": "white",
             "startlinecolor": "#2a3f5f"
            },
            "type": "carpet"
           }
          ],
          "choropleth": [
           {
            "colorbar": {
             "outlinewidth": 0,
             "ticks": ""
            },
            "type": "choropleth"
           }
          ],
          "contour": [
           {
            "colorbar": {
             "outlinewidth": 0,
             "ticks": ""
            },
            "colorscale": [
             [
              0,
              "#0d0887"
             ],
             [
              0.1111111111111111,
              "#46039f"
             ],
             [
              0.2222222222222222,
              "#7201a8"
             ],
             [
              0.3333333333333333,
              "#9c179e"
             ],
             [
              0.4444444444444444,
              "#bd3786"
             ],
             [
              0.5555555555555556,
              "#d8576b"
             ],
             [
              0.6666666666666666,
              "#ed7953"
             ],
             [
              0.7777777777777778,
              "#fb9f3a"
             ],
             [
              0.8888888888888888,
              "#fdca26"
             ],
             [
              1,
              "#f0f921"
             ]
            ],
            "type": "contour"
           }
          ],
          "contourcarpet": [
           {
            "colorbar": {
             "outlinewidth": 0,
             "ticks": ""
            },
            "type": "contourcarpet"
           }
          ],
          "heatmap": [
           {
            "colorbar": {
             "outlinewidth": 0,
             "ticks": ""
            },
            "colorscale": [
             [
              0,
              "#0d0887"
             ],
             [
              0.1111111111111111,
              "#46039f"
             ],
             [
              0.2222222222222222,
              "#7201a8"
             ],
             [
              0.3333333333333333,
              "#9c179e"
             ],
             [
              0.4444444444444444,
              "#bd3786"
             ],
             [
              0.5555555555555556,
              "#d8576b"
             ],
             [
              0.6666666666666666,
              "#ed7953"
             ],
             [
              0.7777777777777778,
              "#fb9f3a"
             ],
             [
              0.8888888888888888,
              "#fdca26"
             ],
             [
              1,
              "#f0f921"
             ]
            ],
            "type": "heatmap"
           }
          ],
          "heatmapgl": [
           {
            "colorbar": {
             "outlinewidth": 0,
             "ticks": ""
            },
            "colorscale": [
             [
              0,
              "#0d0887"
             ],
             [
              0.1111111111111111,
              "#46039f"
             ],
             [
              0.2222222222222222,
              "#7201a8"
             ],
             [
              0.3333333333333333,
              "#9c179e"
             ],
             [
              0.4444444444444444,
              "#bd3786"
             ],
             [
              0.5555555555555556,
              "#d8576b"
             ],
             [
              0.6666666666666666,
              "#ed7953"
             ],
             [
              0.7777777777777778,
              "#fb9f3a"
             ],
             [
              0.8888888888888888,
              "#fdca26"
             ],
             [
              1,
              "#f0f921"
             ]
            ],
            "type": "heatmapgl"
           }
          ],
          "histogram": [
           {
            "marker": {
             "pattern": {
              "fillmode": "overlay",
              "size": 10,
              "solidity": 0.2
             }
            },
            "type": "histogram"
           }
          ],
          "histogram2d": [
           {
            "colorbar": {
             "outlinewidth": 0,
             "ticks": ""
            },
            "colorscale": [
             [
              0,
              "#0d0887"
             ],
             [
              0.1111111111111111,
              "#46039f"
             ],
             [
              0.2222222222222222,
              "#7201a8"
             ],
             [
              0.3333333333333333,
              "#9c179e"
             ],
             [
              0.4444444444444444,
              "#bd3786"
             ],
             [
              0.5555555555555556,
              "#d8576b"
             ],
             [
              0.6666666666666666,
              "#ed7953"
             ],
             [
              0.7777777777777778,
              "#fb9f3a"
             ],
             [
              0.8888888888888888,
              "#fdca26"
             ],
             [
              1,
              "#f0f921"
             ]
            ],
            "type": "histogram2d"
           }
          ],
          "histogram2dcontour": [
           {
            "colorbar": {
             "outlinewidth": 0,
             "ticks": ""
            },
            "colorscale": [
             [
              0,
              "#0d0887"
             ],
             [
              0.1111111111111111,
              "#46039f"
             ],
             [
              0.2222222222222222,
              "#7201a8"
             ],
             [
              0.3333333333333333,
              "#9c179e"
             ],
             [
              0.4444444444444444,
              "#bd3786"
             ],
             [
              0.5555555555555556,
              "#d8576b"
             ],
             [
              0.6666666666666666,
              "#ed7953"
             ],
             [
              0.7777777777777778,
              "#fb9f3a"
             ],
             [
              0.8888888888888888,
              "#fdca26"
             ],
             [
              1,
              "#f0f921"
             ]
            ],
            "type": "histogram2dcontour"
           }
          ],
          "mesh3d": [
           {
            "colorbar": {
             "outlinewidth": 0,
             "ticks": ""
            },
            "type": "mesh3d"
           }
          ],
          "parcoords": [
           {
            "line": {
             "colorbar": {
              "outlinewidth": 0,
              "ticks": ""
             }
            },
            "type": "parcoords"
           }
          ],
          "pie": [
           {
            "automargin": true,
            "type": "pie"
           }
          ],
          "scatter": [
           {
            "fillpattern": {
             "fillmode": "overlay",
             "size": 10,
             "solidity": 0.2
            },
            "type": "scatter"
           }
          ],
          "scatter3d": [
           {
            "line": {
             "colorbar": {
              "outlinewidth": 0,
              "ticks": ""
             }
            },
            "marker": {
             "colorbar": {
              "outlinewidth": 0,
              "ticks": ""
             }
            },
            "type": "scatter3d"
           }
          ],
          "scattercarpet": [
           {
            "marker": {
             "colorbar": {
              "outlinewidth": 0,
              "ticks": ""
             }
            },
            "type": "scattercarpet"
           }
          ],
          "scattergeo": [
           {
            "marker": {
             "colorbar": {
              "outlinewidth": 0,
              "ticks": ""
             }
            },
            "type": "scattergeo"
           }
          ],
          "scattergl": [
           {
            "marker": {
             "colorbar": {
              "outlinewidth": 0,
              "ticks": ""
             }
            },
            "type": "scattergl"
           }
          ],
          "scattermapbox": [
           {
            "marker": {
             "colorbar": {
              "outlinewidth": 0,
              "ticks": ""
             }
            },
            "type": "scattermapbox"
           }
          ],
          "scatterpolar": [
           {
            "marker": {
             "colorbar": {
              "outlinewidth": 0,
              "ticks": ""
             }
            },
            "type": "scatterpolar"
           }
          ],
          "scatterpolargl": [
           {
            "marker": {
             "colorbar": {
              "outlinewidth": 0,
              "ticks": ""
             }
            },
            "type": "scatterpolargl"
           }
          ],
          "scatterternary": [
           {
            "marker": {
             "colorbar": {
              "outlinewidth": 0,
              "ticks": ""
             }
            },
            "type": "scatterternary"
           }
          ],
          "surface": [
           {
            "colorbar": {
             "outlinewidth": 0,
             "ticks": ""
            },
            "colorscale": [
             [
              0,
              "#0d0887"
             ],
             [
              0.1111111111111111,
              "#46039f"
             ],
             [
              0.2222222222222222,
              "#7201a8"
             ],
             [
              0.3333333333333333,
              "#9c179e"
             ],
             [
              0.4444444444444444,
              "#bd3786"
             ],
             [
              0.5555555555555556,
              "#d8576b"
             ],
             [
              0.6666666666666666,
              "#ed7953"
             ],
             [
              0.7777777777777778,
              "#fb9f3a"
             ],
             [
              0.8888888888888888,
              "#fdca26"
             ],
             [
              1,
              "#f0f921"
             ]
            ],
            "type": "surface"
           }
          ],
          "table": [
           {
            "cells": {
             "fill": {
              "color": "#EBF0F8"
             },
             "line": {
              "color": "white"
             }
            },
            "header": {
             "fill": {
              "color": "#C8D4E3"
             },
             "line": {
              "color": "white"
             }
            },
            "type": "table"
           }
          ]
         },
         "layout": {
          "annotationdefaults": {
           "arrowcolor": "#2a3f5f",
           "arrowhead": 0,
           "arrowwidth": 1
          },
          "autotypenumbers": "strict",
          "coloraxis": {
           "colorbar": {
            "outlinewidth": 0,
            "ticks": ""
           }
          },
          "colorscale": {
           "diverging": [
            [
             0,
             "#8e0152"
            ],
            [
             0.1,
             "#c51b7d"
            ],
            [
             0.2,
             "#de77ae"
            ],
            [
             0.3,
             "#f1b6da"
            ],
            [
             0.4,
             "#fde0ef"
            ],
            [
             0.5,
             "#f7f7f7"
            ],
            [
             0.6,
             "#e6f5d0"
            ],
            [
             0.7,
             "#b8e186"
            ],
            [
             0.8,
             "#7fbc41"
            ],
            [
             0.9,
             "#4d9221"
            ],
            [
             1,
             "#276419"
            ]
           ],
           "sequential": [
            [
             0,
             "#0d0887"
            ],
            [
             0.1111111111111111,
             "#46039f"
            ],
            [
             0.2222222222222222,
             "#7201a8"
            ],
            [
             0.3333333333333333,
             "#9c179e"
            ],
            [
             0.4444444444444444,
             "#bd3786"
            ],
            [
             0.5555555555555556,
             "#d8576b"
            ],
            [
             0.6666666666666666,
             "#ed7953"
            ],
            [
             0.7777777777777778,
             "#fb9f3a"
            ],
            [
             0.8888888888888888,
             "#fdca26"
            ],
            [
             1,
             "#f0f921"
            ]
           ],
           "sequentialminus": [
            [
             0,
             "#0d0887"
            ],
            [
             0.1111111111111111,
             "#46039f"
            ],
            [
             0.2222222222222222,
             "#7201a8"
            ],
            [
             0.3333333333333333,
             "#9c179e"
            ],
            [
             0.4444444444444444,
             "#bd3786"
            ],
            [
             0.5555555555555556,
             "#d8576b"
            ],
            [
             0.6666666666666666,
             "#ed7953"
            ],
            [
             0.7777777777777778,
             "#fb9f3a"
            ],
            [
             0.8888888888888888,
             "#fdca26"
            ],
            [
             1,
             "#f0f921"
            ]
           ]
          },
          "colorway": [
           "#636efa",
           "#EF553B",
           "#00cc96",
           "#ab63fa",
           "#FFA15A",
           "#19d3f3",
           "#FF6692",
           "#B6E880",
           "#FF97FF",
           "#FECB52"
          ],
          "font": {
           "color": "#2a3f5f"
          },
          "geo": {
           "bgcolor": "white",
           "lakecolor": "white",
           "landcolor": "#E5ECF6",
           "showlakes": true,
           "showland": true,
           "subunitcolor": "white"
          },
          "hoverlabel": {
           "align": "left"
          },
          "hovermode": "closest",
          "mapbox": {
           "style": "light"
          },
          "paper_bgcolor": "white",
          "plot_bgcolor": "#E5ECF6",
          "polar": {
           "angularaxis": {
            "gridcolor": "white",
            "linecolor": "white",
            "ticks": ""
           },
           "bgcolor": "#E5ECF6",
           "radialaxis": {
            "gridcolor": "white",
            "linecolor": "white",
            "ticks": ""
           }
          },
          "scene": {
           "xaxis": {
            "backgroundcolor": "#E5ECF6",
            "gridcolor": "white",
            "gridwidth": 2,
            "linecolor": "white",
            "showbackground": true,
            "ticks": "",
            "zerolinecolor": "white"
           },
           "yaxis": {
            "backgroundcolor": "#E5ECF6",
            "gridcolor": "white",
            "gridwidth": 2,
            "linecolor": "white",
            "showbackground": true,
            "ticks": "",
            "zerolinecolor": "white"
           },
           "zaxis": {
            "backgroundcolor": "#E5ECF6",
            "gridcolor": "white",
            "gridwidth": 2,
            "linecolor": "white",
            "showbackground": true,
            "ticks": "",
            "zerolinecolor": "white"
           }
          },
          "shapedefaults": {
           "line": {
            "color": "#2a3f5f"
           }
          },
          "ternary": {
           "aaxis": {
            "gridcolor": "white",
            "linecolor": "white",
            "ticks": ""
           },
           "baxis": {
            "gridcolor": "white",
            "linecolor": "white",
            "ticks": ""
           },
           "bgcolor": "#E5ECF6",
           "caxis": {
            "gridcolor": "white",
            "linecolor": "white",
            "ticks": ""
           }
          },
          "title": {
           "x": 0.05
          },
          "xaxis": {
           "automargin": true,
           "gridcolor": "white",
           "linecolor": "white",
           "ticks": "",
           "title": {
            "standoff": 15
           },
           "zerolinecolor": "white",
           "zerolinewidth": 2
          },
          "yaxis": {
           "automargin": true,
           "gridcolor": "white",
           "linecolor": "white",
           "ticks": "",
           "title": {
            "standoff": 15
           },
           "zerolinecolor": "white",
           "zerolinewidth": 2
          }
         }
        },
        "xaxis": {
         "anchor": "y",
         "domain": [
          0,
          1
         ],
         "title": {
          "text": "x"
         }
        },
        "yaxis": {
         "anchor": "x",
         "domain": [
          0,
          1
         ],
         "title": {
          "text": "count"
         }
        }
       }
      }
     },
     "metadata": {},
     "output_type": "display_data"
    }
   ],
   "source": [
    "# plotly histogram\n",
    "fig = px.histogram(x=x, nbins=30)\n",
    "fig.show()"
   ]
  },
  {
   "cell_type": "code",
   "execution_count": 9,
   "metadata": {},
   "outputs": [
    {
     "data": {
      "application/vnd.plotly.v1+json": {
       "config": {
        "plotlyServerURL": "https://plot.ly"
       },
       "data": [
        {
         "contours": {
          "coloring": "none"
         },
         "hovertemplate": "x=%{x}<br>y=%{y}<br>count=%{z}<extra></extra>",
         "legendgroup": "",
         "line": {
          "color": "#636efa"
         },
         "name": "",
         "showlegend": false,
         "type": "histogram2dcontour",
         "x": [
          1.0199005182838279,
          0.09688911132391784,
          -0.8498862163168401,
          0.18592358149679247,
          0.5765087123929457,
          -0.0808838680944168,
          0.37760783635796713,
          -0.7371640804280931,
          -1.4470361352217342,
          1.1047828730854758,
          -0.4713857813589703,
          0.24014885710774303,
          0.5119451073720069,
          1.9811852276583104,
          0.4296775246679344,
          -0.21688627870912458,
          -0.4588621578247633,
          2.1333854254285947,
          -0.11303493196141602,
          -0.5267529115504985,
          0.7702943185576233,
          0.35282828384826204,
          2.373221445298785,
          0.8107885340775463,
          -0.6233762240814508,
          -0.33107115860302017,
          0.1755048716385228,
          0.09341035718746477,
          -1.919860025906609,
          0.957997618637255,
          -0.9873438477287129,
          -0.16539587794979882,
          1.4169225738134663,
          0.49956169893283836,
          -0.11534662260105859,
          -0.5101698973690288,
          -0.651778353432836,
          0.2838349232777129,
          -2.066948897778173,
          -2.4027962191569543,
          0.4329953107943708,
          0.16612464362936885,
          -0.3647088599356821,
          1.656257667907408,
          -0.3908884328459723,
          1.421758903275352,
          -0.6875214825887795,
          -1.731046021354242,
          -0.10289778839674701,
          -0.29704679387882793,
          1.1154888220146184,
          -0.34734358658435444,
          -1.6874340323724308,
          -1.1884508601679884,
          -1.1854678253795052,
          1.4682635218671345,
          -0.8256927532369039,
          0.5243280094992786,
          -1.7968248727938312,
          -0.1816286770284626,
          -0.4832264409765908,
          -1.4725993390357053,
          0.5720926273485349,
          -0.3935790863100441,
          -0.8693433019525634,
          1.9134045732521132,
          -0.7152491897766486,
          0.2774764498733328,
          -0.5824625698046021,
          0.9411127115163574,
          0.26739593166391074,
          1.2098279862967842,
          1.2799800063736,
          -0.5531390058528842,
          0.5346834163229086,
          0.535415583922156,
          -1.031738760178028,
          -0.7746458207561454,
          -1.7541595192831811,
          0.30106676599203774,
          -0.29118128375727886,
          -0.7018868305588557,
          -0.538823118203899,
          -1.4195763561063155,
          -0.5098105498836865,
          0.9875910900474926,
          0.07950804689389168,
          -0.9152796191739612,
          0.5019939454056217,
          -0.4894979484802976,
          1.539572424594469,
          -0.34734115905611096,
          -2.444023494488531,
          -0.29036239452606044,
          0.6056954175052504,
          -1.0652236000856974,
          0.6587469910744965,
          0.704012097946168,
          -0.11123607467057804,
          -0.7728023305355081,
          0.6603768828435467,
          -1.8421554745375712,
          -0.32425926811327616,
          -0.48554670440744335,
          -0.03476894411198367,
          0.7520715283833905,
          1.4510446461636741,
          -0.6998900432591055,
          -0.23844118293257607,
          0.48832436281038266,
          0.23690228039810796,
          0.025535374645167166,
          0.4258343297279815,
          -0.90109153736546,
          1.1229157345565106,
          -1.4599168958070792,
          -0.032816484187418025,
          0.6814354323953667,
          1.9998069080053154,
          0.3819559489346269,
          -0.983156641376921,
          0.9145894282201666,
          0.9723125944225908,
          1.7462820168362614,
          -0.3128768974699822,
          0.8387523037849223,
          -1.0441505929839001,
          -1.2386006337324773,
          -0.8427107350603404,
          -1.5169714397665772,
          -1.5526872486748315,
          0.8797171484845395,
          1.5563150841390865,
          -1.143939669692696,
          1.3046341477898886,
          1.1543236794885066,
          -0.21806588479264444,
          0.3056885113600742,
          -1.5052181658933352,
          -0.13717238482523217,
          -1.0479292543133387,
          0.18777343130149798,
          -1.6250145163841319,
          1.3361618601028344,
          0.5717912598457956,
          -0.7987362021415939,
          0.3220317762862175,
          -0.2824822125000179,
          1.3282736057792501,
          -0.15435071009135456,
          -0.9677066680627935,
          -0.27385853013026046,
          1.3425143482129849,
          0.11049684002073568,
          0.5318671181367087,
          2.169505823755339,
          -0.3982057827094362,
          -0.7527356806134148,
          0.0036624396617310232,
          -0.005577715781306417,
          -0.39080900453816597,
          -0.892983006586457,
          -1.1972398216833704,
          -1.0384804808384456,
          -0.6521482824692747,
          0.060577697299763665,
          2.9751230770584907,
          0.7748259861241696,
          0.19523718859533148,
          1.4592598197486346,
          0.8551917760806562,
          0.5151785144271741,
          -0.10864026612556883,
          0.660215363212931,
          -0.597041160720672,
          0.9349163199349905,
          -1.6013854284337106,
          -0.47419776986807727,
          0.27513077444099493,
          1.3023712910129435,
          0.4640891380725848,
          -0.3384955728253018,
          -1.1329894223376296,
          1.3615916841078093,
          -1.1115995415609317,
          1.0176782100242252,
          2.1008467193883256,
          1.4206065024924635,
          -0.1840390271545989,
          -0.10466257832486923,
          1.166955560452893,
          -1.1966417417524473,
          -0.7184466522275386,
          -0.35265319602938805,
          -0.33527465734762296,
          0.26396398435110574,
          -0.5062562790395747,
          1.1555275435199883,
          1.08513652918842,
          0.2905960641057468,
          -0.5682839640050861,
          0.41846945210929154,
          0.10185039637145327,
          0.18277242241752717,
          0.5648208660784069,
          2.2816154771589625,
          0.5463451997928777,
          0.28244960280600845,
          -2.421453126988786,
          -0.26191126802187026,
          -0.28563861892055403,
          -0.15551129228477978,
          0.2738179095146701,
          -0.26074161566910836,
          -1.0192496429086986,
          -0.33186170571254736,
          1.4143067495650536,
          -0.46961683159425743,
          -0.7624556537293413,
          -0.874826251531346,
          -0.5684316195586767,
          0.22074307395841244,
          -0.6323420189809477,
          -0.06585601998162917,
          -0.3648882912614664,
          -0.37800117856632176,
          0.9672609795429977,
          1.3664259900080673,
          0.23809652135853948,
          1.416153136566071,
          -1.4558716419701738,
          -0.07703529847141584,
          -1.0299375514761497,
          0.5215433147850308,
          1.07247259419824,
          -0.8271951358987677,
          1.2691150983242045,
          0.7787229671726096,
          0.059124814440199874,
          0.3228200178330758,
          -0.19678237922005465,
          0.020665934021433935,
          0.23388671109274123,
          -0.46478934789993664,
          -0.7578991008308087,
          -0.8396630677395761,
          0.5420032739472039,
          -2.306034100589378,
          0.11405554130255409,
          0.3164523641281695,
          -0.829833947931846,
          -0.964599301758758,
          1.0177606107146702,
          0.6412760574417573,
          0.12757116320354825,
          -1.6030894046860842,
          -1.052079293216234,
          0.05559694036657024,
          0.1351638953731071,
          -2.01913412911403,
          -0.26173976380731573,
          -0.9199516253426654,
          -0.7194899279457302,
          -0.42861117392496245,
          0.46901314399782,
          1.0645529336200719,
          -0.5079382698238978,
          1.452797372795446,
          1.8260131453877009,
          0.28009450254612966,
          -1.471374676775673,
          0.7569096531536336,
          -0.08020530897020897,
          -0.08976888953726193,
          1.6099508619547738,
          -0.5993930210802493,
          0.7323279621178667,
          1.9882158775893723,
          0.40448850192824237,
          2.3281508590306146,
          -0.4939928461728232,
          -0.18079456775064562,
          0.5835863314457915,
          -1.3965982820964913,
          -0.38665657429653766,
          -0.047489816132204224,
          0.25359637015022096,
          0.7946503167030331,
          1.4170944050647654,
          0.5030722480654601,
          0.4253648879548286,
          -1.357491531245864,
          -0.47323912174694455,
          0.11181535207785799,
          -1.6157870823377292,
          1.494546312132473,
          0.6851193034738093,
          -0.6646124901298559,
          -0.2539268821245418,
          0.4787807707187017,
          1.1672098908017623,
          0.38414299946463776,
          -0.02190253048607827,
          -0.37585746111637,
          -1.0656134949908427,
          -0.02992150920687532,
          -1.3000682296105848,
          -0.8168948365955304,
          0.023836989333887403,
          -0.9158921381318051,
          0.4142238732460613,
          0.128064507177172,
          0.18728451731251314,
          1.9512606046178813,
          1.676449218271922,
          -0.4923930309644405,
          -1.6753313604551774,
          0.09040027478189021,
          1.173646096377005,
          -0.88106083620967,
          -0.39983308437162823,
          1.2030181448923682,
          -0.4381113192665352,
          -1.4066452139311019,
          0.08718330743600577,
          0.7468955118978508,
          0.6694773002984465,
          0.20357678193765794,
          0.13803493626067545,
          0.08334293839740628,
          -0.7618760151222945,
          -0.4579921180196871,
          -0.6617021111553645,
          0.37767525067858293,
          -1.2519623563768856,
          -0.23367594786584617,
          -0.25807447275744877,
          -0.4591165489489726,
          0.7744487201281469,
          -0.11534568006575406,
          0.8894805383249843,
          -2.3840200408866172,
          2.003708228374881,
          0.6985147287464514,
          -1.5987722404538585,
          -2.2415092396735368,
          -0.3078992378235768,
          -1.2852442036467393,
          -1.0878742106998849,
          0.20958663017918341,
          0.7820034856934678,
          1.9131024728032666,
          1.9385685456271904,
          -1.819454491390754,
          -1.19990681571659,
          -1.2423696547403376,
          -0.19402884497394432,
          -0.7026840286266691,
          -0.2723665504414185,
          1.1688354151735676,
          -0.5025424992923833,
          -0.34070992424343194,
          -1.4104303096355182,
          0.48083062463199444,
          1.0891841936667794,
          1.1958760063858647,
          -0.5115295703912343,
          1.3164376166227203,
          0.8870089080399789,
          0.8327122722472114,
          -1.6379484562698812,
          -1.302665650814304,
          -0.6062820197326112,
          0.34818337527885795,
          2.700669250417836,
          0.9711529536295102,
          0.3631062969609175,
          1.0687750360048422,
          1.100509253837486,
          0.7662978106449128,
          -0.13523644549552422,
          0.29151411181050463,
          0.017711663942294096,
          -0.20023713799118803,
          -1.7641824400872643,
          0.8630710334088354,
          -0.6584868315834359,
          -0.026032714705584912,
          -0.8189013696865718,
          1.184627091976837,
          1.1060742126363714,
          0.24798709678528855,
          0.4144856347967099,
          -0.5542020881548363,
          -0.8117593469606358,
          0.8862774535590201,
          -2.879335861964465,
          -0.06608805230804465,
          1.292025459666742,
          0.5985489118776937,
          0.2020017654334542,
          0.013606278236417713,
          0.3942863200040867,
          -1.6216455774282308,
          -1.7009223760569683,
          0.551605087914666,
          -1.811264734668559,
          -0.5191902305838269,
          1.0464005767811344,
          0.7312101275864556,
          0.9805292447258976,
          0.8804142032487412,
          0.19750566598744104,
          -0.2178012709834755,
          0.06016229171693801,
          1.0949924881873194,
          0.06606651583691293,
          -0.2625764086141105,
          1.4777908751600866,
          -0.7572493644678144,
          -0.995279947974537,
          1.0925541234098464,
          -0.38774449034577513,
          0.879485818887132,
          -0.5328464040720451,
          -0.8687850599911249,
          0.44848901269566965,
          0.6391861367879732,
          0.818925592145244,
          -0.5946987390293771,
          0.3092268394940904,
          1.616682503769568,
          0.7075997827816287,
          -0.11169308619662759,
          -0.09133185173205377,
          1.4775380311102457,
          1.4886960945093413,
          -0.07300002020405424,
          -2.500652426814423,
          -0.04932429455421613,
          -1.7396329328950806,
          0.3581676623376008,
          -0.5596600403152919,
          -0.6254356701946872,
          -0.5812947214866235,
          1.4574124450775203,
          0.3534739125576742,
          0.8423236172669695,
          0.5212868079636467,
          -1.719406665024202,
          0.8162899744204019,
          1.309050557942052,
          -0.23752056047493147,
          -1.0978363805662639,
          -0.4689717365553785,
          -1.4281043037827963,
          -0.9362428766385906,
          -1.5137166619068658,
          -0.22006494734213994,
          0.6228743437948577,
          0.9275603177829334,
          0.7164490051702427,
          -0.5574838194479752,
          -0.3628933942959628,
          -0.5487838172851908,
          2.16582018521602,
          -0.23709805635471803,
          0.4024366348239542,
          0.030581155270061864,
          -0.35266344376748443,
          -0.08630004901731045,
          -0.8180894028097427,
          -0.05914057407686202,
          0.1668990425461064,
          -0.7272740300598984,
          1.7480584903923793,
          -0.5550223363831035,
          1.2420674622984245,
          -0.5635907386334529,
          -1.0830756831348431,
          0.23166733413761006,
          -0.06819140938011331,
          0.9020473029610678,
          1.5153962404231385,
          -0.10289359338642645,
          0.010806484108515507,
          1.087774757021303,
          -2.8644883301092707,
          -0.3890040641554335,
          0.35330781043668674,
          0.24626334011460937,
          2.917198166821066,
          1.1160991871975317,
          0.27117434157242,
          1.593017007335527,
          -1.2135965775564714,
          0.31846874441919876,
          0.16635112804701052,
          0.26067181412656987,
          -0.9315863984300676,
          -0.09185636456220908,
          -0.6188573783391031,
          0.8441057914669934,
          0.5696443229299146,
          1.298067493717305,
          -1.199015505471078,
          0.4714531900458154,
          1.7169997821277572,
          0.2235358097291565,
          -0.41485695221629154,
          1.1275728175564075,
          -1.8336856432201678,
          -0.9866817979464354,
          -0.13875294770374025,
          -0.2950944162793082,
          -0.12823181060445574,
          -0.17430734543418983,
          0.14829606229027126,
          0.5943504410793271,
          0.6857462180649657,
          -0.18663918816506422,
          -1.4405404687794616,
          -0.10206579548597473,
          0.761881747049318,
          -1.1797995661241156,
          -1.0381449624760184,
          1.829575714970598,
          1.4621804796000994,
          -1.6326312995609331,
          0.712550692963151,
          -2.6891892628089895,
          1.0765388982648991,
          0.28265209553401294,
          0.39882664129281936,
          -0.8715275073767454,
          0.30703977718568015,
          1.1833613304802288,
          -0.08732556700077808,
          0.17120034633797213,
          2.077822685381171,
          -0.8688327578489721,
          0.15376830600839975,
          1.8658858027657246,
          -0.2240690033343697,
          0.08460971634792784,
          0.5398058036539025,
          -0.9132080439282851,
          -0.5960589338862194,
          -1.5790730506785475,
          1.9082630642626612,
          1.1710379947152494,
          0.486576135241293,
          1.1828894667845207,
          -0.07418013661678277,
          0.59669412891113,
          0.028134568339187576,
          0.1439413368622356,
          -0.33046940378552603,
          -1.4733261463406826,
          -0.04037012663445961,
          0.8849333218367968,
          1.0867854231135246,
          1.3717353835098884,
          0.20626682377557173,
          -0.09437791498040222,
          1.5481247505215845,
          -1.1088618152344212,
          0.281477917363244,
          1.5823243404456317,
          1.3170419828082385,
          0.14012618948378744,
          0.7566044589795632,
          -1.6096048668899428,
          1.1618054507444904,
          0.2460678344782751,
          -0.21541434743068674,
          -0.784110508302138,
          -0.19189250912651004,
          0.16904995911153756,
          -0.5056069945004913,
          -1.1315891584839732,
          0.8620470661440992,
          -1.3302816840240763,
          0.2002398256564972,
          0.025341455183200162,
          0.5650053714586482,
          0.5844566402051559,
          -2.1131798444591,
          -0.8044607231188298,
          -0.25415917096574864,
          0.24996107828769676,
          0.3445811496558383,
          -0.6392225381378726,
          2.5978064915408874,
          0.8207414159177673,
          0.20739702872415175,
          0.45377789075046393,
          -0.630878599463766,
          -1.5308695220756847,
          1.9662028628037587,
          -0.3800921655678359,
          -1.1366714807154081,
          -1.0881110370009701,
          -0.41950356202756983,
          1.685699004707894,
          0.7227997885324243,
          -0.9848107870221199,
          -0.1102778898409614,
          -1.0932506977222067,
          1.4887948925788381,
          -1.2340240678207577,
          1.4803973435243667,
          1.3930429504714836,
          -0.486914694284328,
          -0.9283864326019753,
          0.05154946199275847,
          1.1586530450219708,
          0.06417319879005703,
          -0.35893581556366433,
          1.0218247215809457,
          0.5046506574965227,
          -0.16510727820608712,
          0.477533462870538,
          0.16536100906489196,
          -0.3447268924561958,
          1.849470942392888,
          0.715408823251175,
          -0.9410015171515353,
          -0.1324931820621275,
          0.4856544658812416,
          0.32151980554580006,
          0.8405537771559435,
          1.6925567672276205,
          -0.24722196742828242,
          -1.3177010504770346,
          -0.7263003729535726,
          2.3751605273962846,
          -0.9278542575736329,
          0.694568380897733,
          -1.8684785728387392,
          -0.160482529864731,
          -0.4710206797696533,
          1.453635536461539,
          -0.24846976009240743,
          -1.2373319172525876,
          0.15214700552653873,
          1.4136350059872713,
          -0.8171327196841157,
          -1.671824284431736,
          1.031388947644258,
          -1.8556424796568658,
          -1.2176657367961996,
          -1.515237601970366,
          -1.6194944772442508,
          -0.8654050520635047,
          -0.3114007808507472,
          -0.72753148433416,
          -0.9125179348241462,
          -0.8513002581026359,
          -1.345800354322585,
          -0.7118341815116314,
          0.061626450244356784,
          1.7414795176452589,
          -0.07963009299926875,
          -0.26265571286832806,
          -0.44230076952622266,
          -0.8439394944684862,
          -0.7391007001687675,
          -2.963570399074414,
          -0.4659281921134767,
          1.140150318739739,
          -0.43096135779854483,
          0.9674058582735544,
          0.07138028459928251,
          1.214693388071077,
          -0.6925398006822633,
          -0.04325432238181717,
          1.154798859254403,
          -1.2232297329366073,
          1.2625744220685144,
          1.5262345582017252,
          -0.42607345528896606,
          0.015637904223769327,
          1.022607974329598,
          0.9153718783011509,
          0.30069131944718386,
          0.19689078971175727,
          -0.9307043764354261,
          0.3353602744214179,
          0.10814172096815734,
          -1.2939030932478253,
          -1.0023229098903623,
          -0.057991803455425484,
          -0.022562949856733232,
          0.0331152967472869,
          -0.6493466875253117,
          -0.18482331550984696,
          1.3678346183958086,
          -0.48525237715776154,
          0.24554971014081306,
          1.093431277498814,
          -0.6637682561414511,
          -0.7019491165267732,
          1.7634026698103056,
          -0.0564803179149447,
          -0.14246422589753488,
          0.7006519465603543,
          0.1345483490233573,
          0.5029711638912833,
          0.46542386844814143,
          -1.8063993550786488,
          1.0608768183877497,
          -0.5987459263272807,
          0.4021683728004528,
          0.5897826851867836,
          0.7814729211660063,
          1.278131533982797,
          -0.13407048887628523,
          -1.1511720766007676,
          -1.0458406768539483,
          -0.7429895322838823,
          1.5782792198728928,
          -0.6656410128901181,
          0.27973674961880823,
          0.9376726698184845,
          0.773285205476432,
          0.26592410658337057,
          -0.6832324204255401,
          -0.41969254749293383,
          -1.9632678661252707,
          -0.16345997744700053,
          -0.9441066868113581,
          0.17616790048068534,
          -1.255141431752134,
          -0.4862724354919026,
          -1.9923663706960946,
          1.1144493902364394,
          1.6098438469971534,
          0.09023657632332979,
          -1.554517762121615,
          -1.4182282982195888,
          -1.0803441996472505,
          0.3052967602824843,
          0.15258905156579955,
          1.0965303795941357,
          -1.47753574660149,
          -0.17938842543390598,
          0.5869968169793621,
          0.7664129763620896,
          0.3620542889840579,
          0.5712009796387214,
          0.04342272428813172,
          0.2322150749479328,
          -0.7451290490742525,
          1.2254398940653952,
          -0.5494125859643478,
          0.8787646442835267,
          -0.7772973170639734,
          0.627583787042788,
          0.5726420301157434,
          0.18818013713812412,
          0.97624162522012,
          0.2154895523622354,
          -0.5186039793856405,
          1.9557794001414437,
          0.2115850187874225,
          0.5513670382129483,
          0.9185131387090535,
          1.6991819069478413,
          -0.49166301574613136,
          0.7737742934703972,
          1.3124187460968284,
          -0.5302346522600182,
          0.6732893532672325,
          0.31076351674454034,
          -1.5626953582453043,
          1.0787494096947379,
          -0.506728982219755,
          -0.3900468277855336,
          -1.4746906456783515,
          -0.7851470329789074,
          -1.3774557187067924,
          0.8861536376481263,
          1.78986536343492,
          -0.18582072471770586,
          -0.026534925379767205,
          -0.8543143080984689,
          -1.4541916651969355,
          0.7810772401501472,
          -0.05965822932189899,
          -0.519239933286027,
          -0.5834643852776258,
          -1.735212015418754,
          -0.8777743879798663,
          -0.6673695570661123,
          0.4561238244516538,
          0.8447184462732684,
          -0.09880888598724066,
          -0.9046168754254937,
          -0.7548139825205794,
          0.722243161596256,
          -1.4490563919270028,
          -2.1091650033635863,
          -0.13588839263763447,
          1.9761903500298463,
          -0.11444978324758533,
          0.20319521250748368,
          -0.7400817564541217,
          -0.6241028472618533,
          -0.19365408060504283,
          -0.04044347835559219,
          0.6253704821513032,
          -0.49632935157040037,
          -0.8897946546399094,
          -1.768809821711175,
          0.5359078053147762,
          -0.6248746516698749,
          -0.0017035920522038787,
          -1.375746939244596,
          -0.9584580639874759,
          2.047223142790518,
          -0.2346626663255392,
          -0.30735045845878883,
          0.4762124810616393,
          0.17303626676306838,
          1.4087800412057687,
          -0.17987758455842376,
          -0.18264717418877224,
          -0.9470933332413355,
          -0.22828592649221593,
          -1.0076387615609137,
          1.1060092648439586,
          0.4664834677952144,
          -1.4619809885634278,
          -0.49601343586550173,
          0.025772648488026583,
          1.031758194613824,
          -1.8642843768323472,
          1.0696983237661233,
          0.896194237358115,
          0.556952079998681,
          -0.866725133811695,
          0.30784650416744064,
          -1.1049207565525354,
          0.573465514936944,
          -2.382266130604811,
          -0.24172961074047888,
          -0.3133127790721823,
          0.44492490322761447,
          1.506383093708241,
          -0.8411528624164741,
          -0.5907408317100807,
          0.719353405033476,
          1.7422360813495386,
          0.5878849443601308,
          -0.10415596982605584,
          0.6657407866289731,
          -0.003948795325669742,
          -0.31634677594121635,
          0.19978472586357074,
          -0.5162104706771165,
          0.8199877919565202,
          -0.7068282664126326,
          0.3375457820936952,
          0.8554646564610319,
          -0.13776959249253365,
          0.555725289254343,
          0.7609773683395555,
          -0.044214985550162414,
          0.48456591322920456,
          -0.145871755484321,
          0.7060153282455289,
          -2.797702641349569,
          1.3591916627789564,
          1.4080944611483617,
          -2.1248855381835225,
          1.0474082983906834,
          -0.13652224762510423,
          -0.3659565965771241,
          -2.082885087253883,
          1.011489578759397,
          1.04639421468105,
          -1.288146963434331,
          -0.33585354069627477,
          0.9946274305225954,
          -0.5188735044967026,
          -1.0870265162263169,
          -2.2070428028318867,
          0.08804321015894341,
          1.1192334242144795,
          -0.09583321691856132,
          -0.9411208488235793,
          1.4538938269294464,
          -0.5947099588833537,
          0.04420581116055071,
          -0.46635024792871943,
          1.8758525413744578,
          1.2255823828276575,
          -1.389818540225653,
          0.5376448354362656,
          0.33778846269910767,
          -1.9590237268163115,
          -1.3284038751854008,
          0.4757330746848666,
          0.028343020629559075,
          -0.279306797338703,
          -0.5832058895779235,
          0.7898830812301134,
          -0.3871825895320821,
          0.8396798334718276,
          -0.5636335285831277,
          -0.756191164634087,
          1.7854529380322504,
          0.9077292079958553,
          0.8006103007898759,
          -0.33077735662146307,
          -0.4018977752160023,
          0.1561528311586235,
          -0.22011839237060016,
          1.3602577513884158,
          0.3178031587200916,
          0.19177572722293496,
          0.33203158861739945,
          0.7929816651142174,
          0.8776491278647552,
          0.8183262393587538,
          0.5942849449818306,
          1.3419327998759918,
          1.8490214448540803,
          -0.1366875570115377,
          0.8155280079778564,
          0.6207913786615464,
          -0.41700022470431486,
          -0.3968397317414481,
          -0.24908226561624872,
          0.38854973559483025,
          -0.11974195440329062,
          0.15381045001882437,
          -0.5511210887279487,
          -1.293148672013102,
          0.8438803671244965,
          -0.37407258565100265,
          1.6326947561196987,
          -0.45602837131830737,
          -0.7349037884027044,
          2.0864076274927625,
          -0.03687707401974885,
          0.742860770705336,
          -0.7181697193244522,
          0.8941671269937546,
          -0.6338462274272516,
          0.6844683624463376,
          0.904332647633638,
          1.2315642257970545,
          -0.8676854261276037,
          -0.09013081463549862,
          2.974268265949369,
          -0.3320015865877821,
          -0.241268517855826,
          -1.4048674591590038,
          -0.04544010972237074,
          -0.5982388738212121,
          0.3643518220680586,
          0.11449157012177716,
          -0.6585420437220266,
          1.2997721557338398,
          -0.30794522089344756,
          1.1882206857899862,
          0.6171226596359393,
          1.2726470027030925,
          0.7844243304987722,
          0.4001556604764329,
          1.7087205650324722,
          0.7863801122312872,
          0.6753156122732343,
          -0.745345718569597,
          1.445594403263601,
          0.7987262583132231,
          0.9622232331870935,
          0.18501443410677545,
          -0.06716960103882073,
          0.8538714719411644,
          0.17263407708916942,
          -0.14447712696788842,
          -1.3386507081861858,
          0.9021625791703983,
          -1.593055240290099,
          -0.6329209538657605,
          1.1187812692927799,
          1.5496349512170478,
          -0.7629455374847026,
          -1.1648551368161029,
          1.8154272871138735,
          -0.6709843813546607,
          -0.4153012737740234,
          -0.4783914189760684,
          -1.0790195830673162,
          -0.604257617957565,
          2.456001937785859,
          -1.9223553191334966
         ],
         "xaxis": "x",
         "xbingroup": "x",
         "y": [
          0,
          1,
          2,
          3,
          4,
          5,
          6,
          7,
          8,
          9,
          10,
          11,
          12,
          13,
          14,
          15,
          16,
          17,
          18,
          19,
          20,
          21,
          22,
          23,
          24,
          25,
          26,
          27,
          28,
          29,
          30,
          31,
          32,
          33,
          34,
          35,
          36,
          37,
          38,
          39,
          40,
          41,
          42,
          43,
          44,
          45,
          46,
          47,
          48,
          49,
          50,
          51,
          52,
          53,
          54,
          55,
          56,
          57,
          58,
          59,
          60,
          61,
          62,
          63,
          64,
          65,
          66,
          67,
          68,
          69,
          70,
          71,
          72,
          73,
          74,
          75,
          76,
          77,
          78,
          79,
          80,
          81,
          82,
          83,
          84,
          85,
          86,
          87,
          88,
          89,
          90,
          91,
          92,
          93,
          94,
          95,
          96,
          97,
          98,
          99,
          100,
          101,
          102,
          103,
          104,
          105,
          106,
          107,
          108,
          109,
          110,
          111,
          112,
          113,
          114,
          115,
          116,
          117,
          118,
          119,
          120,
          121,
          122,
          123,
          124,
          125,
          126,
          127,
          128,
          129,
          130,
          131,
          132,
          133,
          134,
          135,
          136,
          137,
          138,
          139,
          140,
          141,
          142,
          143,
          144,
          145,
          146,
          147,
          148,
          149,
          150,
          151,
          152,
          153,
          154,
          155,
          156,
          157,
          158,
          159,
          160,
          161,
          162,
          163,
          164,
          165,
          166,
          167,
          168,
          169,
          170,
          171,
          172,
          173,
          174,
          175,
          176,
          177,
          178,
          179,
          180,
          181,
          182,
          183,
          184,
          185,
          186,
          187,
          188,
          189,
          190,
          191,
          192,
          193,
          194,
          195,
          196,
          197,
          198,
          199,
          200,
          201,
          202,
          203,
          204,
          205,
          206,
          207,
          208,
          209,
          210,
          211,
          212,
          213,
          214,
          215,
          216,
          217,
          218,
          219,
          220,
          221,
          222,
          223,
          224,
          225,
          226,
          227,
          228,
          229,
          230,
          231,
          232,
          233,
          234,
          235,
          236,
          237,
          238,
          239,
          240,
          241,
          242,
          243,
          244,
          245,
          246,
          247,
          248,
          249,
          250,
          251,
          252,
          253,
          254,
          255,
          256,
          257,
          258,
          259,
          260,
          261,
          262,
          263,
          264,
          265,
          266,
          267,
          268,
          269,
          270,
          271,
          272,
          273,
          274,
          275,
          276,
          277,
          278,
          279,
          280,
          281,
          282,
          283,
          284,
          285,
          286,
          287,
          288,
          289,
          290,
          291,
          292,
          293,
          294,
          295,
          296,
          297,
          298,
          299,
          300,
          301,
          302,
          303,
          304,
          305,
          306,
          307,
          308,
          309,
          310,
          311,
          312,
          313,
          314,
          315,
          316,
          317,
          318,
          319,
          320,
          321,
          322,
          323,
          324,
          325,
          326,
          327,
          328,
          329,
          330,
          331,
          332,
          333,
          334,
          335,
          336,
          337,
          338,
          339,
          340,
          341,
          342,
          343,
          344,
          345,
          346,
          347,
          348,
          349,
          350,
          351,
          352,
          353,
          354,
          355,
          356,
          357,
          358,
          359,
          360,
          361,
          362,
          363,
          364,
          365,
          366,
          367,
          368,
          369,
          370,
          371,
          372,
          373,
          374,
          375,
          376,
          377,
          378,
          379,
          380,
          381,
          382,
          383,
          384,
          385,
          386,
          387,
          388,
          389,
          390,
          391,
          392,
          393,
          394,
          395,
          396,
          397,
          398,
          399,
          400,
          401,
          402,
          403,
          404,
          405,
          406,
          407,
          408,
          409,
          410,
          411,
          412,
          413,
          414,
          415,
          416,
          417,
          418,
          419,
          420,
          421,
          422,
          423,
          424,
          425,
          426,
          427,
          428,
          429,
          430,
          431,
          432,
          433,
          434,
          435,
          436,
          437,
          438,
          439,
          440,
          441,
          442,
          443,
          444,
          445,
          446,
          447,
          448,
          449,
          450,
          451,
          452,
          453,
          454,
          455,
          456,
          457,
          458,
          459,
          460,
          461,
          462,
          463,
          464,
          465,
          466,
          467,
          468,
          469,
          470,
          471,
          472,
          473,
          474,
          475,
          476,
          477,
          478,
          479,
          480,
          481,
          482,
          483,
          484,
          485,
          486,
          487,
          488,
          489,
          490,
          491,
          492,
          493,
          494,
          495,
          496,
          497,
          498,
          499,
          500,
          501,
          502,
          503,
          504,
          505,
          506,
          507,
          508,
          509,
          510,
          511,
          512,
          513,
          514,
          515,
          516,
          517,
          518,
          519,
          520,
          521,
          522,
          523,
          524,
          525,
          526,
          527,
          528,
          529,
          530,
          531,
          532,
          533,
          534,
          535,
          536,
          537,
          538,
          539,
          540,
          541,
          542,
          543,
          544,
          545,
          546,
          547,
          548,
          549,
          550,
          551,
          552,
          553,
          554,
          555,
          556,
          557,
          558,
          559,
          560,
          561,
          562,
          563,
          564,
          565,
          566,
          567,
          568,
          569,
          570,
          571,
          572,
          573,
          574,
          575,
          576,
          577,
          578,
          579,
          580,
          581,
          582,
          583,
          584,
          585,
          586,
          587,
          588,
          589,
          590,
          591,
          592,
          593,
          594,
          595,
          596,
          597,
          598,
          599,
          600,
          601,
          602,
          603,
          604,
          605,
          606,
          607,
          608,
          609,
          610,
          611,
          612,
          613,
          614,
          615,
          616,
          617,
          618,
          619,
          620,
          621,
          622,
          623,
          624,
          625,
          626,
          627,
          628,
          629,
          630,
          631,
          632,
          633,
          634,
          635,
          636,
          637,
          638,
          639,
          640,
          641,
          642,
          643,
          644,
          645,
          646,
          647,
          648,
          649,
          650,
          651,
          652,
          653,
          654,
          655,
          656,
          657,
          658,
          659,
          660,
          661,
          662,
          663,
          664,
          665,
          666,
          667,
          668,
          669,
          670,
          671,
          672,
          673,
          674,
          675,
          676,
          677,
          678,
          679,
          680,
          681,
          682,
          683,
          684,
          685,
          686,
          687,
          688,
          689,
          690,
          691,
          692,
          693,
          694,
          695,
          696,
          697,
          698,
          699,
          700,
          701,
          702,
          703,
          704,
          705,
          706,
          707,
          708,
          709,
          710,
          711,
          712,
          713,
          714,
          715,
          716,
          717,
          718,
          719,
          720,
          721,
          722,
          723,
          724,
          725,
          726,
          727,
          728,
          729,
          730,
          731,
          732,
          733,
          734,
          735,
          736,
          737,
          738,
          739,
          740,
          741,
          742,
          743,
          744,
          745,
          746,
          747,
          748,
          749,
          750,
          751,
          752,
          753,
          754,
          755,
          756,
          757,
          758,
          759,
          760,
          761,
          762,
          763,
          764,
          765,
          766,
          767,
          768,
          769,
          770,
          771,
          772,
          773,
          774,
          775,
          776,
          777,
          778,
          779,
          780,
          781,
          782,
          783,
          784,
          785,
          786,
          787,
          788,
          789,
          790,
          791,
          792,
          793,
          794,
          795,
          796,
          797,
          798,
          799,
          800,
          801,
          802,
          803,
          804,
          805,
          806,
          807,
          808,
          809,
          810,
          811,
          812,
          813,
          814,
          815,
          816,
          817,
          818,
          819,
          820,
          821,
          822,
          823,
          824,
          825,
          826,
          827,
          828,
          829,
          830,
          831,
          832,
          833,
          834,
          835,
          836,
          837,
          838,
          839,
          840,
          841,
          842,
          843,
          844,
          845,
          846,
          847,
          848,
          849,
          850,
          851,
          852,
          853,
          854,
          855,
          856,
          857,
          858,
          859,
          860,
          861,
          862,
          863,
          864,
          865,
          866,
          867,
          868,
          869,
          870,
          871,
          872,
          873,
          874,
          875,
          876,
          877,
          878,
          879,
          880,
          881,
          882,
          883,
          884,
          885,
          886,
          887,
          888,
          889,
          890,
          891,
          892,
          893,
          894,
          895,
          896,
          897,
          898,
          899,
          900,
          901,
          902,
          903,
          904,
          905,
          906,
          907,
          908,
          909,
          910,
          911,
          912,
          913,
          914,
          915,
          916,
          917,
          918,
          919,
          920,
          921,
          922,
          923,
          924,
          925,
          926,
          927,
          928,
          929,
          930,
          931,
          932,
          933,
          934,
          935,
          936,
          937,
          938,
          939,
          940,
          941,
          942,
          943,
          944,
          945,
          946,
          947,
          948,
          949,
          950,
          951,
          952,
          953,
          954,
          955,
          956,
          957,
          958,
          959,
          960,
          961,
          962,
          963,
          964,
          965,
          966,
          967,
          968,
          969,
          970,
          971,
          972,
          973,
          974,
          975,
          976,
          977,
          978,
          979,
          980,
          981,
          982,
          983,
          984,
          985,
          986,
          987,
          988,
          989,
          990,
          991,
          992,
          993,
          994,
          995,
          996,
          997,
          998,
          999
         ],
         "yaxis": "y",
         "ybingroup": "y"
        }
       ],
       "layout": {
        "legend": {
         "tracegroupgap": 0
        },
        "margin": {
         "t": 60
        },
        "template": {
         "data": {
          "bar": [
           {
            "error_x": {
             "color": "#2a3f5f"
            },
            "error_y": {
             "color": "#2a3f5f"
            },
            "marker": {
             "line": {
              "color": "#E5ECF6",
              "width": 0.5
             },
             "pattern": {
              "fillmode": "overlay",
              "size": 10,
              "solidity": 0.2
             }
            },
            "type": "bar"
           }
          ],
          "barpolar": [
           {
            "marker": {
             "line": {
              "color": "#E5ECF6",
              "width": 0.5
             },
             "pattern": {
              "fillmode": "overlay",
              "size": 10,
              "solidity": 0.2
             }
            },
            "type": "barpolar"
           }
          ],
          "carpet": [
           {
            "aaxis": {
             "endlinecolor": "#2a3f5f",
             "gridcolor": "white",
             "linecolor": "white",
             "minorgridcolor": "white",
             "startlinecolor": "#2a3f5f"
            },
            "baxis": {
             "endlinecolor": "#2a3f5f",
             "gridcolor": "white",
             "linecolor": "white",
             "minorgridcolor": "white",
             "startlinecolor": "#2a3f5f"
            },
            "type": "carpet"
           }
          ],
          "choropleth": [
           {
            "colorbar": {
             "outlinewidth": 0,
             "ticks": ""
            },
            "type": "choropleth"
           }
          ],
          "contour": [
           {
            "colorbar": {
             "outlinewidth": 0,
             "ticks": ""
            },
            "colorscale": [
             [
              0,
              "#0d0887"
             ],
             [
              0.1111111111111111,
              "#46039f"
             ],
             [
              0.2222222222222222,
              "#7201a8"
             ],
             [
              0.3333333333333333,
              "#9c179e"
             ],
             [
              0.4444444444444444,
              "#bd3786"
             ],
             [
              0.5555555555555556,
              "#d8576b"
             ],
             [
              0.6666666666666666,
              "#ed7953"
             ],
             [
              0.7777777777777778,
              "#fb9f3a"
             ],
             [
              0.8888888888888888,
              "#fdca26"
             ],
             [
              1,
              "#f0f921"
             ]
            ],
            "type": "contour"
           }
          ],
          "contourcarpet": [
           {
            "colorbar": {
             "outlinewidth": 0,
             "ticks": ""
            },
            "type": "contourcarpet"
           }
          ],
          "heatmap": [
           {
            "colorbar": {
             "outlinewidth": 0,
             "ticks": ""
            },
            "colorscale": [
             [
              0,
              "#0d0887"
             ],
             [
              0.1111111111111111,
              "#46039f"
             ],
             [
              0.2222222222222222,
              "#7201a8"
             ],
             [
              0.3333333333333333,
              "#9c179e"
             ],
             [
              0.4444444444444444,
              "#bd3786"
             ],
             [
              0.5555555555555556,
              "#d8576b"
             ],
             [
              0.6666666666666666,
              "#ed7953"
             ],
             [
              0.7777777777777778,
              "#fb9f3a"
             ],
             [
              0.8888888888888888,
              "#fdca26"
             ],
             [
              1,
              "#f0f921"
             ]
            ],
            "type": "heatmap"
           }
          ],
          "heatmapgl": [
           {
            "colorbar": {
             "outlinewidth": 0,
             "ticks": ""
            },
            "colorscale": [
             [
              0,
              "#0d0887"
             ],
             [
              0.1111111111111111,
              "#46039f"
             ],
             [
              0.2222222222222222,
              "#7201a8"
             ],
             [
              0.3333333333333333,
              "#9c179e"
             ],
             [
              0.4444444444444444,
              "#bd3786"
             ],
             [
              0.5555555555555556,
              "#d8576b"
             ],
             [
              0.6666666666666666,
              "#ed7953"
             ],
             [
              0.7777777777777778,
              "#fb9f3a"
             ],
             [
              0.8888888888888888,
              "#fdca26"
             ],
             [
              1,
              "#f0f921"
             ]
            ],
            "type": "heatmapgl"
           }
          ],
          "histogram": [
           {
            "marker": {
             "pattern": {
              "fillmode": "overlay",
              "size": 10,
              "solidity": 0.2
             }
            },
            "type": "histogram"
           }
          ],
          "histogram2d": [
           {
            "colorbar": {
             "outlinewidth": 0,
             "ticks": ""
            },
            "colorscale": [
             [
              0,
              "#0d0887"
             ],
             [
              0.1111111111111111,
              "#46039f"
             ],
             [
              0.2222222222222222,
              "#7201a8"
             ],
             [
              0.3333333333333333,
              "#9c179e"
             ],
             [
              0.4444444444444444,
              "#bd3786"
             ],
             [
              0.5555555555555556,
              "#d8576b"
             ],
             [
              0.6666666666666666,
              "#ed7953"
             ],
             [
              0.7777777777777778,
              "#fb9f3a"
             ],
             [
              0.8888888888888888,
              "#fdca26"
             ],
             [
              1,
              "#f0f921"
             ]
            ],
            "type": "histogram2d"
           }
          ],
          "histogram2dcontour": [
           {
            "colorbar": {
             "outlinewidth": 0,
             "ticks": ""
            },
            "colorscale": [
             [
              0,
              "#0d0887"
             ],
             [
              0.1111111111111111,
              "#46039f"
             ],
             [
              0.2222222222222222,
              "#7201a8"
             ],
             [
              0.3333333333333333,
              "#9c179e"
             ],
             [
              0.4444444444444444,
              "#bd3786"
             ],
             [
              0.5555555555555556,
              "#d8576b"
             ],
             [
              0.6666666666666666,
              "#ed7953"
             ],
             [
              0.7777777777777778,
              "#fb9f3a"
             ],
             [
              0.8888888888888888,
              "#fdca26"
             ],
             [
              1,
              "#f0f921"
             ]
            ],
            "type": "histogram2dcontour"
           }
          ],
          "mesh3d": [
           {
            "colorbar": {
             "outlinewidth": 0,
             "ticks": ""
            },
            "type": "mesh3d"
           }
          ],
          "parcoords": [
           {
            "line": {
             "colorbar": {
              "outlinewidth": 0,
              "ticks": ""
             }
            },
            "type": "parcoords"
           }
          ],
          "pie": [
           {
            "automargin": true,
            "type": "pie"
           }
          ],
          "scatter": [
           {
            "fillpattern": {
             "fillmode": "overlay",
             "size": 10,
             "solidity": 0.2
            },
            "type": "scatter"
           }
          ],
          "scatter3d": [
           {
            "line": {
             "colorbar": {
              "outlinewidth": 0,
              "ticks": ""
             }
            },
            "marker": {
             "colorbar": {
              "outlinewidth": 0,
              "ticks": ""
             }
            },
            "type": "scatter3d"
           }
          ],
          "scattercarpet": [
           {
            "marker": {
             "colorbar": {
              "outlinewidth": 0,
              "ticks": ""
             }
            },
            "type": "scattercarpet"
           }
          ],
          "scattergeo": [
           {
            "marker": {
             "colorbar": {
              "outlinewidth": 0,
              "ticks": ""
             }
            },
            "type": "scattergeo"
           }
          ],
          "scattergl": [
           {
            "marker": {
             "colorbar": {
              "outlinewidth": 0,
              "ticks": ""
             }
            },
            "type": "scattergl"
           }
          ],
          "scattermapbox": [
           {
            "marker": {
             "colorbar": {
              "outlinewidth": 0,
              "ticks": ""
             }
            },
            "type": "scattermapbox"
           }
          ],
          "scatterpolar": [
           {
            "marker": {
             "colorbar": {
              "outlinewidth": 0,
              "ticks": ""
             }
            },
            "type": "scatterpolar"
           }
          ],
          "scatterpolargl": [
           {
            "marker": {
             "colorbar": {
              "outlinewidth": 0,
              "ticks": ""
             }
            },
            "type": "scatterpolargl"
           }
          ],
          "scatterternary": [
           {
            "marker": {
             "colorbar": {
              "outlinewidth": 0,
              "ticks": ""
             }
            },
            "type": "scatterternary"
           }
          ],
          "surface": [
           {
            "colorbar": {
             "outlinewidth": 0,
             "ticks": ""
            },
            "colorscale": [
             [
              0,
              "#0d0887"
             ],
             [
              0.1111111111111111,
              "#46039f"
             ],
             [
              0.2222222222222222,
              "#7201a8"
             ],
             [
              0.3333333333333333,
              "#9c179e"
             ],
             [
              0.4444444444444444,
              "#bd3786"
             ],
             [
              0.5555555555555556,
              "#d8576b"
             ],
             [
              0.6666666666666666,
              "#ed7953"
             ],
             [
              0.7777777777777778,
              "#fb9f3a"
             ],
             [
              0.8888888888888888,
              "#fdca26"
             ],
             [
              1,
              "#f0f921"
             ]
            ],
            "type": "surface"
           }
          ],
          "table": [
           {
            "cells": {
             "fill": {
              "color": "#EBF0F8"
             },
             "line": {
              "color": "white"
             }
            },
            "header": {
             "fill": {
              "color": "#C8D4E3"
             },
             "line": {
              "color": "white"
             }
            },
            "type": "table"
           }
          ]
         },
         "layout": {
          "annotationdefaults": {
           "arrowcolor": "#2a3f5f",
           "arrowhead": 0,
           "arrowwidth": 1
          },
          "autotypenumbers": "strict",
          "coloraxis": {
           "colorbar": {
            "outlinewidth": 0,
            "ticks": ""
           }
          },
          "colorscale": {
           "diverging": [
            [
             0,
             "#8e0152"
            ],
            [
             0.1,
             "#c51b7d"
            ],
            [
             0.2,
             "#de77ae"
            ],
            [
             0.3,
             "#f1b6da"
            ],
            [
             0.4,
             "#fde0ef"
            ],
            [
             0.5,
             "#f7f7f7"
            ],
            [
             0.6,
             "#e6f5d0"
            ],
            [
             0.7,
             "#b8e186"
            ],
            [
             0.8,
             "#7fbc41"
            ],
            [
             0.9,
             "#4d9221"
            ],
            [
             1,
             "#276419"
            ]
           ],
           "sequential": [
            [
             0,
             "#0d0887"
            ],
            [
             0.1111111111111111,
             "#46039f"
            ],
            [
             0.2222222222222222,
             "#7201a8"
            ],
            [
             0.3333333333333333,
             "#9c179e"
            ],
            [
             0.4444444444444444,
             "#bd3786"
            ],
            [
             0.5555555555555556,
             "#d8576b"
            ],
            [
             0.6666666666666666,
             "#ed7953"
            ],
            [
             0.7777777777777778,
             "#fb9f3a"
            ],
            [
             0.8888888888888888,
             "#fdca26"
            ],
            [
             1,
             "#f0f921"
            ]
           ],
           "sequentialminus": [
            [
             0,
             "#0d0887"
            ],
            [
             0.1111111111111111,
             "#46039f"
            ],
            [
             0.2222222222222222,
             "#7201a8"
            ],
            [
             0.3333333333333333,
             "#9c179e"
            ],
            [
             0.4444444444444444,
             "#bd3786"
            ],
            [
             0.5555555555555556,
             "#d8576b"
            ],
            [
             0.6666666666666666,
             "#ed7953"
            ],
            [
             0.7777777777777778,
             "#fb9f3a"
            ],
            [
             0.8888888888888888,
             "#fdca26"
            ],
            [
             1,
             "#f0f921"
            ]
           ]
          },
          "colorway": [
           "#636efa",
           "#EF553B",
           "#00cc96",
           "#ab63fa",
           "#FFA15A",
           "#19d3f3",
           "#FF6692",
           "#B6E880",
           "#FF97FF",
           "#FECB52"
          ],
          "font": {
           "color": "#2a3f5f"
          },
          "geo": {
           "bgcolor": "white",
           "lakecolor": "white",
           "landcolor": "#E5ECF6",
           "showlakes": true,
           "showland": true,
           "subunitcolor": "white"
          },
          "hoverlabel": {
           "align": "left"
          },
          "hovermode": "closest",
          "mapbox": {
           "style": "light"
          },
          "paper_bgcolor": "white",
          "plot_bgcolor": "#E5ECF6",
          "polar": {
           "angularaxis": {
            "gridcolor": "white",
            "linecolor": "white",
            "ticks": ""
           },
           "bgcolor": "#E5ECF6",
           "radialaxis": {
            "gridcolor": "white",
            "linecolor": "white",
            "ticks": ""
           }
          },
          "scene": {
           "xaxis": {
            "backgroundcolor": "#E5ECF6",
            "gridcolor": "white",
            "gridwidth": 2,
            "linecolor": "white",
            "showbackground": true,
            "ticks": "",
            "zerolinecolor": "white"
           },
           "yaxis": {
            "backgroundcolor": "#E5ECF6",
            "gridcolor": "white",
            "gridwidth": 2,
            "linecolor": "white",
            "showbackground": true,
            "ticks": "",
            "zerolinecolor": "white"
           },
           "zaxis": {
            "backgroundcolor": "#E5ECF6",
            "gridcolor": "white",
            "gridwidth": 2,
            "linecolor": "white",
            "showbackground": true,
            "ticks": "",
            "zerolinecolor": "white"
           }
          },
          "shapedefaults": {
           "line": {
            "color": "#2a3f5f"
           }
          },
          "ternary": {
           "aaxis": {
            "gridcolor": "white",
            "linecolor": "white",
            "ticks": ""
           },
           "baxis": {
            "gridcolor": "white",
            "linecolor": "white",
            "ticks": ""
           },
           "bgcolor": "#E5ECF6",
           "caxis": {
            "gridcolor": "white",
            "linecolor": "white",
            "ticks": ""
           }
          },
          "title": {
           "x": 0.05
          },
          "xaxis": {
           "automargin": true,
           "gridcolor": "white",
           "linecolor": "white",
           "ticks": "",
           "title": {
            "standoff": 15
           },
           "zerolinecolor": "white",
           "zerolinewidth": 2
          },
          "yaxis": {
           "automargin": true,
           "gridcolor": "white",
           "linecolor": "white",
           "ticks": "",
           "title": {
            "standoff": 15
           },
           "zerolinecolor": "white",
           "zerolinewidth": 2
          }
         }
        },
        "xaxis": {
         "anchor": "y",
         "domain": [
          0,
          1
         ],
         "title": {
          "text": "x"
         }
        },
        "yaxis": {
         "anchor": "x",
         "domain": [
          0,
          1
         ],
         "title": {
          "text": "y"
         }
        }
       }
      }
     },
     "metadata": {},
     "output_type": "display_data"
    }
   ],
   "source": [
    "# Plotly density plot\n",
    "fig = px.density_contour(x=x)\n",
    "fig.show()"
   ]
  },
  {
   "cell_type": "markdown",
   "metadata": {},
   "source": [
    "### Histogram 2D"
   ]
  },
  {
   "cell_type": "code",
   "execution_count": 11,
   "metadata": {},
   "outputs": [
    {
     "data": {
      "text/plain": [
       "(array([[ 0.,  0.,  0.,  0.,  0.,  0.,  0.,  0.,  0.,  0.,  0.,  1.,  0.,\n",
       "          0.,  0.,  0.,  0.,  0.,  0.,  0.,  1.,  0.,  0.,  0.,  0.,  0.,\n",
       "          0.,  0.,  0.,  0.],\n",
       "        [ 0.,  0.,  0.,  0.,  0.,  0.,  0.,  0.,  0.,  0.,  0.,  0.,  0.,\n",
       "          0.,  0.,  0.,  0.,  1.,  0.,  0.,  0.,  0.,  0.,  0.,  0.,  0.,\n",
       "          0.,  0.,  0.,  0.],\n",
       "        [ 0.,  0.,  0.,  0.,  0.,  0.,  0.,  0.,  0.,  0.,  0.,  1.,  0.,\n",
       "          0.,  0.,  0.,  0.,  0.,  2.,  0.,  0.,  0.,  0.,  0.,  0.,  0.,\n",
       "          0.,  0.,  0.,  0.],\n",
       "        [ 0.,  0.,  0.,  0.,  0.,  0.,  0.,  0.,  0.,  1.,  0.,  0.,  3.,\n",
       "          0.,  1.,  2.,  1.,  0.,  0.,  0.,  0.,  0.,  0.,  0.,  0.,  0.,\n",
       "          0.,  0.,  0.,  0.],\n",
       "        [ 0.,  0.,  0.,  0.,  0.,  0.,  1.,  2.,  1.,  0.,  0.,  1.,  1.,\n",
       "          1.,  0.,  0.,  0.,  2.,  0.,  0.,  0.,  1.,  0.,  1.,  0.,  0.,\n",
       "          1.,  0.,  0.,  0.],\n",
       "        [ 0.,  0.,  0.,  0.,  1.,  0.,  0.,  0.,  0.,  1.,  0.,  2.,  0.,\n",
       "          2.,  0.,  0.,  1.,  0.,  2.,  0.,  0.,  0.,  0.,  0.,  0.,  0.,\n",
       "          0.,  0.,  0.,  0.],\n",
       "        [ 0.,  0.,  0.,  0.,  0.,  0.,  0.,  0.,  2.,  0.,  2.,  0.,  1.,\n",
       "          0.,  3.,  3.,  2.,  0.,  1.,  2.,  1.,  0.,  0.,  1.,  0.,  0.,\n",
       "          1.,  0.,  0.,  0.],\n",
       "        [ 1.,  0.,  1.,  0.,  0.,  0.,  1.,  2.,  0.,  4.,  1.,  4.,  3.,\n",
       "          6.,  3.,  3.,  1.,  1.,  0.,  2.,  1.,  1.,  3.,  2.,  0.,  0.,\n",
       "          0.,  1.,  0.,  0.],\n",
       "        [ 0.,  0.,  0.,  0.,  1.,  1.,  2.,  4.,  0.,  1.,  2.,  4.,  3.,\n",
       "          2.,  5.,  2.,  7.,  1.,  0.,  1.,  6.,  0.,  1.,  2.,  0.,  1.,\n",
       "          0.,  1.,  0.,  0.],\n",
       "        [ 1.,  1.,  0.,  0.,  1.,  2.,  1.,  3.,  3.,  1.,  2.,  2.,  7.,\n",
       "          3.,  5.,  4.,  4.,  6.,  5.,  4.,  0.,  3.,  1.,  0.,  0.,  0.,\n",
       "          0.,  0.,  0.,  0.],\n",
       "        [ 0.,  0.,  0.,  2.,  0.,  2.,  3.,  2.,  0.,  2.,  2.,  3.,  2.,\n",
       "          5.,  4.,  6.,  5.,  3.,  2.,  0.,  1.,  2.,  1.,  0.,  0.,  0.,\n",
       "          0.,  0.,  0.,  1.],\n",
       "        [ 0.,  1.,  0.,  0.,  3.,  0.,  1.,  3.,  3.,  4.,  3., 10.,  6.,\n",
       "          6.,  3.,  6.,  9.,  7.,  4.,  3.,  2.,  4.,  1.,  1.,  1.,  0.,\n",
       "          2.,  0.,  0.,  0.],\n",
       "        [ 0.,  1.,  0.,  0.,  1.,  1.,  2.,  3.,  6.,  4.,  6.,  3.,  5.,\n",
       "          8.,  6., 10.,  8.,  6.,  4.,  2.,  1.,  0.,  2.,  1.,  1.,  0.,\n",
       "          1.,  0.,  0.,  0.],\n",
       "        [ 2.,  0.,  0.,  2.,  0.,  1.,  2.,  4.,  2.,  6.,  5.,  8.,  8.,\n",
       "          5.,  5.,  7.,  5.,  8.,  5.,  2.,  0.,  3.,  4.,  1.,  0.,  0.,\n",
       "          0.,  0.,  0.,  1.],\n",
       "        [ 1.,  0.,  0.,  0.,  1.,  2.,  3.,  1.,  3.,  3.,  4.,  8., 11.,\n",
       "          9.,  7.,  4.,  8.,  5.,  6.,  3.,  5.,  5.,  4.,  1.,  1.,  1.,\n",
       "          0.,  0.,  0.,  0.],\n",
       "        [ 0.,  0.,  0.,  1.,  2.,  1.,  1.,  3.,  3.,  1.,  4.,  7.,  8.,\n",
       "          3.,  3.,  7.,  4.,  9.,  8.,  4.,  3.,  1.,  3.,  0.,  1.,  0.,\n",
       "          0.,  0.,  0.,  0.],\n",
       "        [ 1.,  1.,  0.,  3.,  2.,  5.,  2.,  2.,  3.,  3.,  1.,  4.,  7.,\n",
       "          5.,  4.,  5.,  6.,  9.,  4.,  3.,  1.,  0.,  1.,  3.,  2.,  1.,\n",
       "          0.,  0.,  0.,  0.],\n",
       "        [ 0.,  0.,  2.,  1.,  0.,  1.,  1.,  2.,  4.,  2.,  3.,  6.,  8.,\n",
       "          4.,  6.,  3.,  7.,  5.,  4.,  3.,  4.,  2.,  0.,  0.,  0.,  1.,\n",
       "          0.,  0.,  0.,  0.],\n",
       "        [ 0.,  0.,  1.,  1.,  0.,  1.,  1.,  2.,  2.,  3.,  3.,  4.,  3.,\n",
       "          7.,  4.,  3.,  5.,  1.,  4.,  1.,  1.,  1.,  0.,  0.,  1.,  1.,\n",
       "          0.,  0.,  0.,  1.],\n",
       "        [ 0.,  1.,  0.,  0.,  0.,  1.,  0.,  1.,  1.,  1.,  1.,  2.,  3.,\n",
       "          5.,  6.,  4.,  2.,  8.,  1.,  3.,  1.,  0.,  0.,  0.,  0.,  1.,\n",
       "          0.,  0.,  0.,  0.],\n",
       "        [ 0.,  0.,  0.,  0.,  0.,  1.,  1.,  0.,  1.,  0.,  4.,  1.,  3.,\n",
       "          3.,  2.,  4.,  2.,  3.,  3.,  2.,  2.,  3.,  1.,  0.,  0.,  0.,\n",
       "          0.,  1.,  0.,  0.],\n",
       "        [ 0.,  0.,  0.,  0.,  0.,  2.,  0.,  1.,  0.,  0.,  1.,  3.,  0.,\n",
       "          0.,  4.,  2.,  2.,  2.,  0.,  1.,  1.,  0.,  0.,  0.,  0.,  0.,\n",
       "          0.,  0.,  0.,  0.],\n",
       "        [ 0.,  0.,  0.,  0.,  0.,  1.,  0.,  0.,  1.,  0.,  1.,  2.,  1.,\n",
       "          3.,  1.,  1.,  0.,  1.,  1.,  1.,  0.,  0.,  0.,  0.,  0.,  0.,\n",
       "          0.,  0.,  0.,  0.],\n",
       "        [ 0.,  0.,  0.,  0.,  0.,  0.,  0.,  0.,  0.,  1.,  0.,  0.,  0.,\n",
       "          1.,  0.,  1.,  0.,  0.,  0.,  0.,  0.,  1.,  0.,  0.,  0.,  0.,\n",
       "          0.,  0.,  0.,  0.],\n",
       "        [ 0.,  0.,  0.,  0.,  0.,  0.,  0.,  0.,  1.,  0.,  0.,  1.,  0.,\n",
       "          1.,  1.,  0.,  0.,  1.,  0.,  0.,  0.,  0.,  0.,  0.,  0.,  0.,\n",
       "          0.,  0.,  0.,  1.],\n",
       "        [ 0.,  0.,  0.,  0.,  0.,  0.,  0.,  0.,  0.,  0.,  0.,  0.,  0.,\n",
       "          0.,  0.,  1.,  1.,  0.,  1.,  0.,  0.,  0.,  0.,  0.,  0.,  0.,\n",
       "          0.,  0.,  0.,  0.],\n",
       "        [ 0.,  0.,  0.,  0.,  0.,  0.,  0.,  0.,  0.,  0.,  0.,  0.,  0.,\n",
       "          0.,  0.,  0.,  0.,  0.,  0.,  0.,  0.,  0.,  0.,  0.,  0.,  0.,\n",
       "          0.,  0.,  0.,  0.],\n",
       "        [ 0.,  0.,  0.,  0.,  0.,  0.,  0.,  0.,  0.,  0.,  0.,  0.,  0.,\n",
       "          0.,  0.,  0.,  0.,  0.,  0.,  1.,  0.,  0.,  0.,  0.,  0.,  0.,\n",
       "          0.,  0.,  0.,  0.],\n",
       "        [ 0.,  0.,  0.,  0.,  0.,  0.,  0.,  0.,  0.,  0.,  0.,  1.,  0.,\n",
       "          0.,  0.,  0.,  0.,  0.,  0.,  0.,  0.,  0.,  0.,  0.,  0.,  0.,\n",
       "          0.,  0.,  0.,  0.],\n",
       "        [ 0.,  0.,  0.,  0.,  0.,  0.,  0.,  0.,  0.,  0.,  0.,  1.,  0.,\n",
       "          0.,  1.,  0.,  0.,  0.,  0.,  0.,  0.,  0.,  0.,  0.,  0.,  0.,\n",
       "          0.,  0.,  0.,  0.]]),\n",
       " array([-3.05334007, -2.83564285, -2.61794564, -2.40024842, -2.1825512 ,\n",
       "        -1.96485399, -1.74715677, -1.52945955, -1.31176234, -1.09406512,\n",
       "        -0.87636791, -0.65867069, -0.44097347, -0.22327626, -0.00557904,\n",
       "         0.21211818,  0.42981539,  0.64751261,  0.86520983,  1.08290704,\n",
       "         1.30060426,  1.51830147,  1.73599869,  1.95369591,  2.17139312,\n",
       "         2.38909034,  2.60678756,  2.82448477,  3.04218199,  3.2598792 ,\n",
       "         3.47757642]),\n",
       " array([-2.83177953, -2.63366979, -2.43556005, -2.23745031, -2.03934058,\n",
       "        -1.84123084, -1.6431211 , -1.44501136, -1.24690163, -1.04879189,\n",
       "        -0.85068215, -0.65257241, -0.45446267, -0.25635294, -0.0582432 ,\n",
       "         0.13986654,  0.33797628,  0.53608601,  0.73419575,  0.93230549,\n",
       "         1.13041523,  1.32852496,  1.5266347 ,  1.72474444,  1.92285418,\n",
       "         2.12096391,  2.31907365,  2.51718339,  2.71529313,  2.91340286,\n",
       "         3.1115126 ]),\n",
       " <matplotlib.collections.QuadMesh at 0x22b9116edc0>)"
      ]
     },
     "execution_count": 11,
     "metadata": {},
     "output_type": "execute_result"
    },
    {
     "data": {
      "image/png": "[encoded data removed]",
      "text/plain": [
       "<Figure size 300x300 with 1 Axes>"
      ]
     },
     "metadata": {},
     "output_type": "display_data"
    }
   ],
   "source": [
    "# Matplotlib hist2d\n",
    "x = np.random.randn(1000)\n",
    "y = np.random.randn(1000)\n",
    "fig, ax = plt.subplots(figsize=(3,3), dpi=100)\n",
    "ax.hist2d(x, y, bins=30)"
   ]
  },
  {
   "cell_type": "code",
   "execution_count": 12,
   "metadata": {},
   "outputs": [
    {
     "data": {
      "application/vnd.plotly.v1+json": {
       "config": {
        "plotlyServerURL": "https://plot.ly"
       },
       "data": [
        {
         "coloraxis": "coloraxis",
         "hovertemplate": "x=%{x}<br>y=%{y}<br>count=%{z}<extra></extra>",
         "name": "",
         "type": "histogram2d",
         "x": [
          0.35373490798508883,
          -0.23568389025506717,
          -0.39110017061776076,
          0.13142825513845136,
          -0.4404336109763668,
          0.1290170514199051,
          -1.6224161589215031,
          -0.18043322414951693,
          1.3116284152879936,
          0.6410390572429225,
          -0.48843229427957235,
          -1.605096664944387,
          -1.4129682914099149,
          1.2916646417333215,
          0.5171800404389028,
          1.0676512216454013,
          -2.3202718048698263,
          -0.36626895805460236,
          -0.911878073318174,
          1.0156101300033258,
          1.0912789761112158,
          0.3263376653855269,
          -1.580197781139498,
          -0.33393343113566754,
          -0.8349047351931685,
          -0.059564850908466915,
          1.218389058952066,
          -2.254486125277513,
          0.13197989624929932,
          -1.6362478581865676,
          0.16299516521302057,
          -0.27721985627871937,
          -1.235210375192799,
          0.28170238775105494,
          0.8947345926608264,
          -0.1063032785181179,
          -1.223935266818571,
          1.2384858292318823,
          2.131634453435166,
          0.35314115985903527,
          -2.1303834787734233,
          -0.6152414164387283,
          -0.2805235069407227,
          0.43108589991020846,
          0.2620501767681842,
          -1.2554427975168927,
          0.4943924907080386,
          -1.2777463268799327,
          1.4682592716367793,
          3.3636642360890723,
          -2.417285026060701,
          -0.3143923255272196,
          -0.36440966860720936,
          0.4305725624212506,
          0.10992155112041122,
          -0.4700587916377381,
          1.0317893273502678,
          -1.1244111367950966,
          -1.3885763800310411,
          -0.40585750117317904,
          -0.6332077731169963,
          3.1890176645524524,
          -0.2629285504559499,
          -0.5284559832343855,
          1.765913648143825,
          -0.631653465965516,
          0.17098248030293842,
          -0.7428654088121726,
          -0.48008354953447835,
          -0.30639788302972515,
          -0.7652596507386655,
          0.6235317992367656,
          -0.9550203098850756,
          -0.14792290915998998,
          -0.2300276528356404,
          -2.032845305888515,
          -0.24592019329462467,
          -0.8384121133030801,
          -1.0358275218141564,
          1.2230914447666037,
          0.991567101795501,
          -0.12610325033974237,
          0.12597292919418693,
          0.7047110144925145,
          1.1151413786279154,
          0.5206428372220896,
          0.40044842909061207,
          1.8649932890286973,
          -1.2027270254748421,
          0.5322885035385395,
          -0.994021030986914,
          -0.2462016673490081,
          -1.361021229099079,
          0.7989880245154255,
          0.9216703709864272,
          -2.0069794927653053,
          -2.225067072079027,
          1.6017952687340908,
          -0.008344580488953984,
          0.4389431480148291,
          0.3665869996517547,
          -0.1839045908640552,
          0.5822252245352663,
          -0.46787478734557525,
          -0.34982826824274976,
          -1.1969784234780705,
          0.5541615380868635,
          -1.152599643812738,
          0.05786967710369512,
          1.357600350409653,
          -0.5341548052089641,
          -0.452160076996697,
          -0.02160725216089587,
          -1.9056947064342102,
          0.4740348185048326,
          -0.06350207794402069,
          0.4139371837150019,
          0.2328938970619597,
          -0.552510281432758,
          0.6775959643356775,
          -1.519041283177429,
          1.2259094882254316,
          -1.8345802865718415,
          -2.1856789560637866,
          -0.5919677745401106,
          -0.32008088640836935,
          1.417593248005671,
          -1.0633440195292678,
          1.1074113810576878,
          0.7283583526074878,
          1.2486953988088385,
          0.7897810731334798,
          -0.8879043852222327,
          -1.4750145225254483,
          -0.9579547088721934,
          0.8956550845622244,
          1.7337467253470658,
          1.4096067881870669,
          -0.5387759257956996,
          -0.20297744779509394,
          0.3443398849178486,
          1.4314600727199829,
          0.2912025258786875,
          -0.6154558865691536,
          -0.09021672876129808,
          0.7076025655238437,
          -0.935122038244079,
          2.302337959415126,
          -1.6329756658644314,
          0.30622157430859837,
          1.1381592384207577,
          0.6858775120650166,
          1.006177421788453,
          -0.3369046198522891,
          -0.33198708925370024,
          1.31148524668141,
          -0.2621112746308447,
          0.3180951875251749,
          1.0213491743405063,
          0.06422075085550519,
          -0.37689700197953757,
          0.06944556621497303,
          -0.7420126794863545,
          -1.079903494445711,
          -0.5114419984064368,
          0.716435685832747,
          -0.31764424440611916,
          -1.0549796596896353,
          -0.9466280932196168,
          -0.6271897122742714,
          -2.3906066682948035,
          -0.25962784654227417,
          0.3641852160701304,
          1.325740108038142,
          -0.9532482976970672,
          0.2544770880760607,
          -0.8829617730634067,
          -0.47674860214450115,
          0.6044695922948652,
          -0.21336871119706854,
          0.12128366542691958,
          0.16241604553622055,
          -0.7542197465540232,
          0.910798267785209,
          0.1809973473667347,
          0.17547354753533528,
          0.8183374585363797,
          -1.5518677950887836,
          1.223400008336209,
          -0.4453564764306505,
          -0.6150854649798493,
          -1.27485036179178,
          -0.1509130344236099,
          0.6107984339664351,
          -1.121389916770019,
          -1.2239072451899262,
          0.04910267593293768,
          0.1559536846683113,
          1.0988118197556658,
          -1.4783141708186411,
          0.989341179488538,
          1.3341820336361916,
          -1.4845107195940823,
          -0.9121873807040921,
          -0.13847116939787393,
          0.5903586468989372,
          -0.9246302732302282,
          0.40364982892001045,
          0.06841473131874004,
          -2.428217289806557,
          1.7523062290017055,
          0.04911308011788396,
          1.3956742460915026,
          0.08084714920067107,
          -0.2957453213957923,
          0.1018429094692803,
          -0.28314713372814454,
          0.7782814652195912,
          1.4119045637843302,
          -0.054046922357490916,
          2.412218587459877,
          1.0135594532293766,
          0.3199691452822447,
          -1.3060706506623312,
          -0.8712468330798658,
          -0.6424927706560108,
          -1.0854719224465208,
          -1.2799064426309157,
          -0.9886324811433371,
          -0.31228832283975244,
          -0.5057922918965951,
          -1.4038530065218733,
          -0.32279723838939006,
          -1.5063253234906333,
          0.23965572007629207,
          0.3567675340295948,
          0.7552944133726076,
          0.41747507906168646,
          1.6517624650042741,
          -0.1500675609295153,
          0.41823976636140814,
          -1.0330424220628072,
          1.1260141563379198,
          -0.9747292239992928,
          2.2117136612350317,
          -1.35001538012278,
          0.17660781880636314,
          -1.16288146074761,
          -0.7983171102922877,
          -0.10337934375600238,
          -0.15578574575986492,
          -0.17695516933277844,
          1.8641694179761388,
          0.6867037308644763,
          -0.13553813362573547,
          0.7688936207936113,
          -0.018455455826682697,
          -1.076104894447427,
          0.1772294183359814,
          0.48471824250386697,
          0.36490895892613884,
          1.4685945612313343,
          -0.42563048691824207,
          -0.18779469101044394,
          0.4301687201450661,
          1.1334723337653174,
          -0.22823374835841534,
          0.6035619946461542,
          -1.5280434440438297,
          -0.7572499386013011,
          -0.03345000247578022,
          -1.3535630952045195,
          -1.2892327903832796,
          0.38125783214689435,
          0.4477388567435554,
          -0.08173382106574108,
          0.5772479576390476,
          1.834883383373298,
          -0.3904921550118294,
          -2.049814152100289,
          0.7390149258677198,
          -1.7499443579217828,
          -0.6951470090328786,
          -0.9957480396219001,
          1.3146257775408077,
          0.6460995556886827,
          1.1181892200727102,
          -0.6987423920359334,
          0.10767930455542257,
          0.7369102181598963,
          -0.16572555161093316,
          -0.3230955944934074,
          -0.6055312290909052,
          -1.1515694128430696,
          -0.08931679199252954,
          1.4952458041611876,
          0.04055405618739345,
          0.31978439460157004,
          0.10496037266458118,
          1.1534354348557612,
          0.18425823150178539,
          0.1317058095213732,
          -0.33809397682654435,
          0.48967886795190463,
          -1.5150361255370866,
          -0.5136283675256098,
          -0.4948130387548611,
          1.217226274820958,
          0.6290572153018954,
          0.41740888135569315,
          1.1484179163362733,
          0.4504947928977756,
          -0.5799132296901685,
          -1.872555430060111,
          2.4231345765045194,
          0.1810664872991084,
          0.17330133040249038,
          0.1590157842784979,
          -0.7857129102911945,
          -0.9817260608376913,
          -0.28741783016724004,
          0.3454352095931237,
          1.207603225770022,
          -1.534886043556897,
          -1.580612665961938,
          0.2021908178153856,
          -0.9586855937882549,
          -2.0611952498398303,
          0.5574253001830622,
          -0.6799534529562853,
          0.6297036168519844,
          0.764257522588973,
          1.75343281112469,
          -3.0533400683400838,
          0.7699177507926767,
          0.16510249496880045,
          -0.5029145690787837,
          0.2459470383534252,
          0.08621961014332327,
          -0.21140743039382784,
          0.9922025099250767,
          -0.8625422659516029,
          0.024994074060631942,
          -1.0454509088623827,
          -0.24779019911032063,
          0.06585492248460094,
          -2.149765371733015,
          1.0294371812326661,
          -1.7511673469444577,
          -0.48633806918748157,
          0.7259146891059923,
          -0.4441943698622047,
          -1.311765864139723,
          0.06421632119465509,
          1.1137032081940528,
          -0.23470219312054924,
          0.4591134348846732,
          -0.7394081358940079,
          0.046290978280327105,
          -0.9204933974650268,
          -0.4950090027897361,
          1.1177379342803402,
          1.3130264360410968,
          0.016615899591999942,
          0.050196419018773086,
          0.028453823074732616,
          0.16371158121268337,
          0.21311390837739055,
          0.6072484194173454,
          -0.7491795277933007,
          0.4033823623408988,
          -1.3560739611916077,
          -0.5236275247112248,
          -0.21936526693839356,
          -0.435644820342921,
          -1.096007385364968,
          0.7516987692184108,
          1.5566084734175107,
          -0.6442554809752674,
          0.7149774431277796,
          0.34821180109783556,
          -0.091803645167945,
          0.8516970598174507,
          -0.5354800853441115,
          -0.3834437470132059,
          1.1891931778265143,
          1.9384520192666794,
          -0.13510776699771088,
          -0.7127363010043731,
          0.727698181754586,
          0.7093565319158345,
          1.0706166151051437,
          0.6593314349475263,
          -0.3034349746674741,
          -0.21146996637287285,
          1.0674052601220079,
          0.2896309975245046,
          1.2443046447755253,
          0.6155645294266655,
          0.7047947907711445,
          0.5853063244194349,
          0.5860214152410498,
          -1.3808774961401125,
          0.03838115274539072,
          0.23248428026948523,
          0.45699190835894793,
          -1.0434104588866704,
          -0.05442396356672301,
          -0.01622969671489617,
          -0.9072973694569244,
          -0.4347529634586668,
          0.20155483901405227,
          -0.624272268546842,
          1.1055517808690558,
          0.47440149312680624,
          0.5553944218157959,
          -1.0108974105565756,
          1.3801794566936625,
          1.5010962431482793,
          1.358862774343331,
          0.16955286626896926,
          0.91434228323734,
          -0.09284278716017112,
          0.011847881153420186,
          -0.17492242759494836,
          -0.2134945972580942,
          0.9260331104510812,
          -0.7112660274009378,
          -1.2863929478209566,
          -0.7777391176988795,
          0.8533146575869389,
          1.5530042140279467,
          -0.39643963792248454,
          -0.5772956028932178,
          1.606813149566838,
          0.5292161026126926,
          1.4075686903097553,
          -0.6217316175465281,
          0.6418884292803424,
          0.4490633876916853,
          -0.3944625457743441,
          -1.522242987251244,
          0.4255875309595381,
          -0.4883065062194128,
          0.5448406239332925,
          -0.0782021792584825,
          0.06969781799535826,
          0.21928309695162723,
          0.39002327258355163,
          -0.07742651633837311,
          0.019994238298431843,
          -0.06725396236096479,
          -0.15796885720524062,
          -1.4458087837853186,
          -0.09839412348279795,
          -0.4550995619403305,
          -0.09515814484884548,
          1.148063272434157,
          0.7174620700438062,
          1.5033809047391458,
          0.9212941019906161,
          0.622570118391772,
          -0.3870199264606785,
          -0.15777198835939282,
          -0.5392184021399312,
          -0.22090292660775943,
          -1.1801215494605022,
          -0.6612235188020565,
          1.149755174475511,
          -0.49879626735551447,
          1.0579419868074216,
          0.23934558792755614,
          -0.40709719437129765,
          1.1249379594050914,
          0.36598079318241206,
          -1.2401952283666113,
          0.26578134090666317,
          -1.3084020286678466,
          -0.30581686691007465,
          0.005709151052972471,
          -0.6156713877782027,
          1.0287144327853754,
          -1.3118068570714825,
          -1.0704817475720831,
          0.8528334574650841,
          -0.4495253776569785,
          1.3133388791564735,
          0.414364910734185,
          -0.49295259771983846,
          0.8066099014622213,
          1.052760393160839,
          0.09799396809229391,
          -1.2137824014062795,
          1.277363257783107,
          -0.07087878303300571,
          -0.8656803079208805,
          0.364019376322748,
          -1.3550735456405685,
          -1.2959575850865772,
          1.0027314220812038,
          -0.6771615799407632,
          0.19320436824948986,
          0.10400863009544449,
          1.3926350361689412,
          1.071984145125688,
          0.598593633857697,
          1.7293421601627308,
          0.17677756586323307,
          0.24069418875127604,
          -0.7493463800873476,
          -0.1364177879185797,
          0.6401585818048484,
          -0.005673961539515618,
          -0.01714836748811679,
          -0.30910403086881577,
          -0.041121895211324686,
          0.7564974363364173,
          -0.9027868360061013,
          -1.4110723418076334,
          0.946573387983747,
          0.7314978793147755,
          1.5582950957247825,
          -0.8175755350469541,
          -0.3564152874565506,
          0.611319007405362,
          -0.4668533713976269,
          0.5210594999207174,
          -0.06483080085887091,
          -0.07202096622144806,
          0.1041238219449967,
          -0.9594327427910162,
          -0.8942131913797973,
          0.54789220917046,
          -0.022473089442826152,
          0.13085528760906065,
          0.1030704921166401,
          1.6926688435387374,
          0.2737825097659439,
          0.8394585515059185,
          0.5562984503463049,
          0.026796920494248727,
          1.4430940933546987,
          0.16570167750105902,
          1.5230598403441902,
          1.271397623664875,
          0.13590130911891266,
          -0.7647240883424465,
          -0.25092758631470147,
          -0.8050716610096033,
          -1.5972865302771375,
          -2.1299350222886138,
          0.5559924341639724,
          -0.2863543667333237,
          0.04646850874395283,
          -0.3357158722276278,
          -1.2543528463594127,
          1.4380014411547402,
          1.1268314897252856,
          -1.1335086033752364,
          -0.16768940954704284,
          0.5095411392503101,
          0.7317087649130372,
          -0.6251589544088919,
          0.9183625117744978,
          0.25427563384949925,
          0.2610200293680858,
          0.6804557539692131,
          -1.3176483360852307,
          -0.5662829160246984,
          -0.4812987266685688,
          -0.269166062770938,
          0.4825514195984916,
          0.1356707634177321,
          -1.1393241435137875,
          0.20636761224385372,
          -1.3914488642155294,
          -0.8731102952813651,
          -0.45111226160131396,
          -0.30746720496477137,
          0.8966837075538342,
          -0.8927922757242414,
          -1.0395867251007014,
          0.46870675412831325,
          1.0806269258774073,
          -0.0817136640495235,
          -1.027402409121025,
          -2.129825197091096,
          0.1419580443873802,
          0.5603681631271997,
          -0.3622618097951794,
          0.007707031262623453,
          1.8279685991748733,
          -1.134643655609134,
          0.14917494053911212,
          0.74618557470011,
          -1.5230413197866375,
          -1.3339879174732474,
          1.3962987508659193,
          -0.004324379674615472,
          1.5211176160730837,
          -1.3166680947818297,
          -0.3910683417025412,
          0.055193159738737334,
          -0.2093833811228762,
          0.5288755040264257,
          -0.6374025160772775,
          1.9832023895487998,
          0.33248782727477943,
          0.6953308649526296,
          0.27705451084306243,
          0.11543821659783235,
          -0.8110418755504314,
          1.3069584094500257,
          0.6783823896819757,
          -1.0785765439402681,
          -0.5980293280924591,
          0.19529800597189395,
          0.17534800780940646,
          3.4775764207174604,
          0.21540393144473222,
          1.1979798789340965,
          -1.332894265021014,
          0.14667598211597666,
          1.2998283178637149,
          -0.9347368295734021,
          0.5285560431450472,
          -0.644159479578214,
          -1.1796839335103768,
          1.2895045488851635,
          0.9562108199933875,
          -0.36455800847044195,
          -1.259966622205403,
          0.6727252547034114,
          0.21093513159743946,
          0.8658016329069835,
          0.676371831179266,
          0.04871268803592034,
          -0.10426829955213364,
          0.35516271951400624,
          -0.4508350816674838,
          1.8002782876291608,
          -0.840840871852229,
          0.2050100374552895,
          -0.647889272002137,
          -0.4915831662209296,
          0.4308177466489493,
          1.7880596767329444,
          0.046981194102641295,
          0.32229017628548967,
          -1.0197369566602532,
          -1.2871089530450563,
          -1.0006166393077578,
          0.13620836913675616,
          1.2684963016102555,
          -0.28480936358546055,
          2.5085211378831764,
          0.5670922170768418,
          0.3370366092659087,
          0.847658634438761,
          -0.1548843231793379,
          -0.35877903806837746,
          1.4702467263565322,
          0.32502753689486297,
          1.274814758524483,
          -0.4143613936855509,
          0.794096398695254,
          -1.2130778937244808,
          -2.227578386138072,
          0.9064934179021301,
          -0.18638106700869206,
          0.3093299564122198,
          0.7697639016127953,
          -0.6229319940535578,
          -0.946489689296378,
          1.2093222566763842,
          0.9390058098693034,
          -0.8879055209437432,
          0.559573267250786,
          -0.3682823474612687,
          0.6013736461080943,
          -1.633752994833777,
          -0.5135945250104439,
          -0.24943413895257022,
          0.8131365871828181,
          -0.6891299782942233,
          0.3542551358646174,
          -0.5135758696039916,
          -0.5563053689343953,
          -1.1353327909560067,
          -0.6440947742907965,
          -1.4231640879748788,
          -0.9007725066722924,
          0.44759557232392877,
          -0.1458515323896091,
          0.4020667669780684,
          -0.2833698826404149,
          -0.47301617727938516,
          1.4318899915598828,
          0.8028975363960246,
          0.7085469912180351,
          -1.3372810236514687,
          2.853293719270926,
          0.943318789534713,
          -0.08937512858476293,
          -0.25602296189174334,
          -0.9168302659883217,
          -0.4102251697929772,
          -1.356824428405833,
          0.16117035419051118,
          0.36614457696961067,
          1.3916594095579553,
          1.3302721572784357,
          -0.8053732907717133,
          0.847792679816248,
          0.3015608453779305,
          0.7641214723096289,
          1.0572063208571385,
          2.1594336980255564,
          -1.10859347022431,
          -0.8169019420173168,
          -0.47966081613237643,
          -0.031445233370525724,
          0.9008967156344578,
          0.8435412674627977,
          2.1895448913446565,
          0.9414075445090424,
          -1.0310283516848051,
          0.17317717081262388,
          0.3920237773977905,
          2.0448392292504796,
          0.4804755045565979,
          -0.4462402296832657,
          -0.6697220716557819,
          -0.3933331260273773,
          0.7040902338208951,
          2.3017687848266783,
          -0.4209797894803067,
          -1.5149258345637973,
          -0.10753671416794897,
          0.8832969213744846,
          0.36372403509604156,
          -0.26843688003586247,
          -0.5620656553330353,
          -0.44043949753735023,
          -0.2672276082119088,
          0.9863701474880402,
          1.415422950770451,
          1.4316606597232082,
          0.405172380412071,
          -0.40125679273128445,
          -0.9331472661635017,
          -0.5074702482849645,
          0.46698986545569476,
          -1.0142066671590109,
          2.3830940965972442,
          0.7625513594128895,
          0.7240441300560322,
          -1.7761634200564582,
          1.0534497774805238,
          0.6055500263274958,
          -0.4807918232722225,
          -1.6769716437292863,
          -2.9214781432604795,
          0.20091860849455612,
          -0.6648805318870844,
          -0.04556245295850607,
          -0.038686059445254675,
          0.19324599408449025,
          -0.5663462258417833,
          -1.7191016287681495,
          -0.5597671126649197,
          -1.1889725282365997,
          -1.403069476083708,
          -0.934829359995134,
          -0.48775713710278895,
          0.21937363315971906,
          -1.5639799987770122,
          1.6680389354202059,
          -1.5866108977508366,
          -0.4883104544039297,
          0.019054508006367762,
          0.8144064116313113,
          0.6778050950820292,
          -0.5243688347509534,
          0.6011917163585355,
          -0.6755398161286882,
          0.5557545933135019,
          -0.16630763606648777,
          1.014678088398141,
          -0.4509108472660151,
          -1.3484233053855625,
          1.5656465581526977,
          0.9087719727843024,
          -2.0071290354020648,
          -2.0977575160608493,
          -0.4972639748371955,
          -0.6026375662291604,
          -0.4275757366803387,
          -0.0814395387959093,
          -1.2169673779090098,
          1.4045369023439573,
          -1.2648692552597263,
          -0.22963247453739788,
          0.7736961520998333,
          0.6136732610897463,
          -2.5446382620385606,
          1.5542103435787191,
          0.3992783117481077,
          0.3563367213892474,
          1.0770980711633897,
          -0.4715089943968572,
          -0.2110396167323273,
          0.8921014914361209,
          0.18429483541717093,
          1.2500472723531724,
          1.5656436440872552,
          -1.5630291618453274,
          -0.18165102106818845,
          0.5785804946135483,
          -0.48357891848229845,
          -0.7548179505321213,
          0.03873624544225044,
          1.7079382060491584,
          0.5867981449478985,
          -0.38475265308086165,
          -0.9972558161868877,
          1.7061919727031574,
          0.06578310484791085,
          -1.003741711898699,
          0.0998382028431867,
          -1.1059446561326007,
          1.021581537405412,
          -1.427536844964553,
          1.0976182077138905,
          1.3068493923361846,
          0.6752781060954177,
          0.9986994880301654,
          0.2988473947659129,
          0.8278698139243136,
          -0.3593469378410729,
          0.23883138142341845,
          1.0686014650001636,
          0.025271648878101086,
          -0.6530220237254254,
          -0.2202976355768819,
          0.8154051111852448,
          0.6280968588162132,
          0.4526959419882722,
          -0.04839488598212403,
          0.6739618501014186,
          -0.09290623378167959,
          -1.1203932619362904,
          -0.7320426430227216,
          -0.8219599240906218,
          1.8086963874494648,
          0.4940843460123862,
          -1.2025488280110246,
          -0.8155689660350145,
          1.4443570894905822,
          0.5582755571123303,
          -1.4072792318805707,
          1.1873259013288457,
          0.37269331022960966,
          0.7993013734613508,
          0.3824424611512043,
          -0.00545223900860752,
          -1.7864760799891781,
          1.2960025433612412,
          -1.2767504089672532,
          -0.9259640288001034,
          1.4165639115918172,
          0.03133618302744071,
          0.35934334541188967,
          0.6980243228986354,
          -0.9755824711630069,
          -1.136977976203582,
          0.2349899825687996,
          -0.22160554519348913,
          -0.3907081605683291,
          1.840723124348266,
          -2.0550929624357996,
          -1.8849658564021097,
          0.05743288318371201,
          -0.3385016949750258,
          -1.68735374768149,
          1.1651766875245464,
          0.7453339300221701,
          0.7008774387840838,
          0.08453102478855869,
          -0.4602834225559919,
          0.5603971849705235,
          -0.28914858128383353,
          -0.042295773312996436,
          0.04577373900903077,
          0.9912279763257292,
          -1.0625015154547068,
          1.0540312856208378,
          0.22008496073950556,
          1.557470694204688,
          1.3906958552633841,
          0.35647438568050893,
          1.0310146969974345,
          -1.228966147218433,
          -0.3485277084155163,
          -0.06431814811149149,
          -0.05004390499862258,
          -0.7227910149065572,
          0.289295958128944,
          -0.05136071141077094,
          -1.2048474861257488,
          -0.8384990368161944,
          -0.35322969717067404,
          0.31228091398497165,
          -1.190430028415337,
          -1.324562688617471,
          -0.23138512537914696,
          0.8507044988517342,
          -0.5681908692951074,
          -0.7468077239341199,
          -1.0265497641902555,
          0.555937466156335,
          0.19271608871706333,
          -2.3403545978845606,
          0.4759128387839566,
          -0.011561790777905314,
          -0.11735213446090259,
          0.6514509534414257,
          -0.45905839294125456,
          -0.8940313645290167,
          2.354415699972917,
          -0.7206168252116733,
          -0.44746397548721834,
          0.28910183419014024,
          0.5154554358653471,
          -0.9171561625918636,
          0.10827906891685554,
          0.6765150103937957,
          -0.4778453850532612,
          -1.0049539250674178,
          -1.2937621370632226,
          0.21502470276208424,
          -0.10922114456057219,
          1.8989363833054558,
          -0.6963811563557538,
          -0.23946734354764804,
          -0.26315761436616947,
          1.0699788957676033,
          0.07738216896986541,
          0.7264819045580507,
          -0.04969326978745924,
          0.5483470022281963,
          -0.8448310130092689,
          -0.874325722957039,
          -0.5256653420958779,
          -1.3276849808251565,
          0.3346676033042197,
          -1.9502679703843881,
          0.4719500547097702,
          -0.08963783328942436,
          0.4497354600873628,
          -0.4914470060279659,
          -0.09759680823051739,
          -0.03587551012843489,
          -0.1499493930470452,
          -0.43775662735622706,
          0.906834790142435,
          -1.2417925376383812,
          -2.0943930831929563,
          0.11775101867132501,
          -1.5623624569127788,
          0.6874363616931252,
          -1.6781080446496133,
          -0.09968482930442844,
          -1.2542617616415976,
          0.4026311440430096,
          0.7611787944847865,
          -1.359853995296173,
          -1.0874980753759724,
          -1.0627076837039313,
          0.656433211465006,
          -2.6920525748953046,
          -0.6225805731621354,
          0.2087716104344931,
          1.2730820582285345,
          -0.32079740739981005,
          1.5768643850774986,
          0.6203386933206564,
          0.33090364880396117,
          -1.0267614868848836,
          -1.5195113238960642,
          -2.383805840067349,
          0.08861791509847285,
          1.7368803226140437,
          -1.6305516415452312,
          -0.022054423037666186,
          -1.5072787736429398,
          0.5000922586664589,
          -0.7795522206817954,
          -1.3616843976129225,
          -0.8696753308888833
         ],
         "xaxis": "x",
         "xbingroup": "x",
         "y": [
          0.6759447715924953,
          -0.9314984225082583,
          0.22857559724345566,
          -0.795082258579116,
          -1.0113708892804238,
          0.02695504590471441,
          0.7375618353605263,
          -0.7405311225876956,
          1.227239294304186,
          -1.452002976462731,
          -0.31067583655739395,
          1.3048881461549777,
          -0.6021526896391958,
          0.5341274005510394,
          1.0745798633600128,
          -0.18922452580495897,
          0.012863492624424381,
          0.638794103343614,
          0.5417261853453593,
          -0.459116692248595,
          0.6145689891861821,
          0.6630893621028766,
          0.2812765111266778,
          -1.0768625565215677,
          -0.2562772285965437,
          -0.461966246684807,
          -0.324323784245365,
          -0.2737591609127897,
          1.1771186183816622,
          -0.8229158858667046,
          -0.650155788324198,
          0.2645074400171333,
          -0.47353554173466017,
          1.5359254501110013,
          0.9663257908091383,
          0.6819833696675075,
          0.3043024387373626,
          -0.8009633476928845,
          0.33541381268245646,
          -0.873127141722855,
          -0.14071080252819326,
          -0.31628590415411084,
          -1.1521980369370148,
          -0.5993692121287684,
          0.8055400639320294,
          -0.7883247451345169,
          -1.1058345268768555,
          2.213200635866931,
          0.8056099533089461,
          0.013130638180687224,
          0.7655515387607382,
          1.9980930813893742,
          -0.7010408285122562,
          -0.007380973002352992,
          -0.3691021747742685,
          0.8020576301493558,
          -0.38559840851637256,
          -1.4205484893414548,
          -1.4276548452277609,
          0.593870594580001,
          0.37346564393313086,
          -0.5563243254597213,
          1.8789048637506152,
          -0.666641551378113,
          0.20425888567620515,
          0.14204052178843568,
          0.8452565155757759,
          1.3387805561978063,
          0.8692551982249336,
          0.5202919707350673,
          -0.7760567380102845,
          -2.065399451442892,
          -0.41836887477537493,
          0.9951267459014017,
          0.02230771449640969,
          -1.3047038334498582,
          0.10457722947832974,
          0.32623792850664457,
          -0.15839959091173422,
          0.13904585302751254,
          0.3832549422877449,
          -0.3370096547914501,
          1.330520925803713,
          -1.7505116713493873,
          0.055767719272087866,
          -0.24535621579340242,
          -0.37462773151728335,
          -0.4200307511985593,
          -0.10534788107593555,
          -0.12120956526945752,
          -0.6953516192330483,
          -1.1777494616241266,
          -1.586899919184783,
          1.2187129726377315,
          -0.13500465911720752,
          -1.1475431630018011,
          -0.308431409294442,
          -0.49612825540352223,
          -0.5840396384394037,
          -0.42324096083542895,
          -0.7935284548046255,
          0.6412288190667206,
          -1.826880867084735,
          0.16722803499585456,
          -1.131328869180762,
          0.12269136098778738,
          -2.0969323134755267,
          -0.5801329642433217,
          -0.14328474184485604,
          -0.7382248277807352,
          -0.9862891939939413,
          -1.3190311268476993,
          0.8917827365900882,
          0.8199909754895259,
          0.6405833404021287,
          -0.44143384703946986,
          0.9410071597620013,
          0.8763117682543199,
          1.6482076340394347,
          0.03577957999758468,
          0.028547726078958727,
          1.2642077312561621,
          -0.5003407011218302,
          0.4001280436033613,
          0.8735979900576607,
          0.01200494795190472,
          0.19814406747009208,
          0.8712840141432224,
          0.9425856723186011,
          -0.14683302527235553,
          -1.3149232918482654,
          -1.2009387694005578,
          0.07049377925464169,
          -0.23913064704829823,
          0.058894398521191306,
          1.9660842873275126,
          -1.3427582863130356,
          -0.7973545841474269,
          -0.1403845840297471,
          0.1637735834598146,
          -0.15133498993181277,
          1.6380621486116376,
          -1.4376316068651502,
          0.23735988072734776,
          -0.9886966962058731,
          1.4887436291959666,
          -1.7412846699901723,
          -0.18662594815491126,
          0.15831980407815857,
          -0.613480076870272,
          0.7123630297500769,
          -0.40603451644081473,
          0.5776799317224417,
          0.15449480368504548,
          0.222016663654337,
          -1.7515477799628547,
          -1.2766658021725859,
          1.1882285456576875,
          -0.4959262928158355,
          1.1730905097840236,
          -1.3084410217024074,
          -0.7220898289655325,
          -0.025902362424374967,
          -1.3012708077451134,
          -1.0473822998831963,
          -2.2408923914648446,
          0.2264395223714702,
          -1.0840754856695838,
          0.4041876559934888,
          -0.8307452291540601,
          0.3333897231826286,
          -0.803913515553758,
          0.8499487417932248,
          -0.7162800516484183,
          0.7146335991277472,
          0.23816571453876134,
          0.2324024969332063,
          -0.45961069199536875,
          -2.831779525900197,
          -0.23155293314288372,
          -2.690157785365067,
          -0.7561133492784219,
          -0.04632927595659517,
          0.1731547033939721,
          0.38684982331600465,
          0.11481500368074926,
          0.1868317924825736,
          1.9145424253677017,
          0.27489604701759124,
          1.75064075542122,
          0.6917410248651079,
          1.0511364206363032,
          -0.2408015882722494,
          1.751355833111197,
          1.769212271015624,
          0.3767494270658308,
          -0.28822443999143915,
          -0.1536101043436699,
          0.6171672167801627,
          1.7520638538346989,
          -2.1138074970720844,
          0.7278608773951579,
          1.5875616026556136,
          0.5849994542953572,
          -2.707415357092865,
          2.2871922305825754,
          1.5945278759174126,
          1.3606708231958127,
          -0.8937188479160803,
          -0.6448469666498482,
          -0.7448853826349046,
          0.7903617641539951,
          -0.4179397010113828,
          -0.14478566966780612,
          -0.0899919791724327,
          -1.498382835317841,
          -0.9078408106379724,
          1.1866603646725393,
          0.6288910397974119,
          -1.1378746061946527,
          0.15017142641058118,
          -0.7972741901320897,
          -0.4197579102074691,
          -0.6892309116133544,
          -1.8117054983718586,
          0.9899013313228981,
          0.1673828568968642,
          0.4552747742177505,
          -1.6004360216540703,
          -0.6900166914408904,
          -0.43167037125861024,
          -0.16284497327436173,
          1.6801582906301678,
          0.23052530996495943,
          0.3045912100219618,
          0.2125560268864791,
          1.1979817124226402,
          -0.5390337694681337,
          0.029062268126312962,
          -0.7006828541804896,
          0.8014552368317388,
          0.5342876408692324,
          0.6356690454409981,
          1.4156518126917421,
          -0.01695298935926906,
          -0.8634715994120412,
          -0.37543786620531494,
          0.5356725769072852,
          -0.1313805537347459,
          -0.24785180130918136,
          -0.07902195006947407,
          -0.6250333791844903,
          -0.07394407670193302,
          -0.5210890267526435,
          -1.52590554285199,
          -0.2905521888804454,
          0.1707711785517363,
          0.5504704912730803,
          1.67182274095533,
          -0.8603796628963216,
          2.100874745462931,
          2.5269227386670408,
          -0.7616201063632382,
          0.6694698853556947,
          -1.8361706750404407,
          0.28253374089492705,
          -0.4171366193694382,
          0.4948302569270405,
          1.8222246883080915,
          1.3298426742106961,
          1.399161779250605,
          -0.7875116624974137,
          -1.410308895766872,
          -2.178238107497684,
          0.7661237022051476,
          0.4764215231838732,
          0.6109395519696038,
          -1.1024386389285141,
          -0.09289809972615584,
          1.8352716764442398,
          -0.8659598833806937,
          -0.5701024791938499,
          0.6466187393611541,
          -1.7406258185601144,
          -0.0968586948258608,
          -0.051740381835665566,
          0.59666435802891,
          0.20315221676559744,
          -1.5252833735644906,
          -0.04621785155542651,
          -0.398926957255239,
          0.21160058235269724,
          -0.26686270290198993,
          -1.4086960661878778,
          0.989629583404779,
          0.7476746261851827,
          0.21007058616938007,
          -1.6693134274815604,
          0.2646434533379337,
          -0.23752865803384146,
          0.6579193624469227,
          0.852727751967731,
          -0.5265118705730607,
          0.4316462775984655,
          -0.32580671462335603,
          0.6049675508355497,
          -0.8012541909143565,
          0.23137879486883525,
          0.20732048618986415,
          -0.3452384494540829,
          -0.10474851414279042,
          1.949501205450212,
          1.0559685933517757,
          -0.18194153587428358,
          0.3862671512311931,
          1.665470892373401,
          -0.08846382167688413,
          -0.3076620808712724,
          0.6822100500369439,
          0.16068588080102963,
          0.024311704302403838,
          -0.6394940267843623,
          -2.549409190557898,
          -0.6835088223718614,
          0.37151410779783256,
          1.4331074632372223,
          -0.3631021261333782,
          0.7338852204119821,
          -0.15966103458903452,
          -1.300032771761531,
          1.7294152288810467,
          -1.355412670891411,
          -0.14973109803109666,
          -0.5858979046147894,
          -1.1375168960450242,
          -1.069580201973593,
          -0.9436330691745961,
          1.1456422091716953,
          -0.3768317601593735,
          1.4292154940924926,
          -1.405028512622548,
          0.1389662693390616,
          1.3521125269890513,
          -0.45058197260198907,
          0.9230652944014078,
          0.5334875177568807,
          1.3376740297230476,
          -1.1913157642078456,
          0.5223486560896433,
          -1.0060262869919627,
          -0.853251986185767,
          0.4619433583024648,
          -0.8975470749668086,
          0.5184701651263103,
          2.1247914160855355,
          0.5855307100126017,
          -0.6390031377951254,
          -0.0788676252127027,
          -0.4736606254443101,
          0.4681044705674054,
          -0.2190620470130217,
          1.0411091968199258,
          0.8908988277704248,
          2.226093444682305,
          -1.86326915799554,
          1.629615444031433,
          0.9481201503016352,
          -0.30821489396731766,
          -1.2856401374284898,
          0.2884163398942962,
          -0.3804684127960024,
          -0.24479606874431342,
          -2.0143802711388625,
          0.32305453803295037,
          0.5255229881429491,
          1.5977116663528748,
          -0.45627319338806094,
          -0.5742284136395551,
          0.6384493279925791,
          -1.2929826591341957,
          -1.1301583372293487,
          0.8091108285097492,
          1.496394355727687,
          1.3166934199661136,
          -0.26066075134627786,
          0.04895219237441084,
          0.7935240386428906,
          0.5490780551200634,
          -0.7519977179594513,
          0.7034205133043152,
          -0.6225738424953471,
          -0.13813545087850473,
          2.217399328451372,
          -2.478800034325438,
          0.43853740092332033,
          1.5065533542928633,
          -0.5282331794111937,
          0.5726413785640333,
          -2.0215687281720554,
          -1.1641314687486748,
          0.6883652574254909,
          -1.8374553901023511,
          0.585588917335131,
          -0.20353961611769994,
          0.5661110692512732,
          0.20359278542559184,
          -0.30557613851222243,
          0.561742658769576,
          -2.130021775373691,
          -1.2698945332037785,
          0.7920725874659797,
          0.7772176565382347,
          0.5506065016223355,
          -0.09722178415696865,
          0.8185552585498659,
          -1.0460040794716203,
          0.7466743831544005,
          0.09597533437069063,
          1.4054047110553516,
          0.3038271621974104,
          0.5856916477445879,
          -1.1779387739550462,
          0.5676450211163141,
          -1.158088138700872,
          -0.31406977799560093,
          0.40124529730497493,
          0.04605740778400791,
          0.6454174703883168,
          -0.028282962210630144,
          -0.30097292704981954,
          0.8675634527239555,
          -0.8148999299405705,
          2.3661945630552785,
          1.3362212648530591,
          -1.6791010424315471,
          -0.49629416650645,
          1.180915551218796,
          -0.4937179783549048,
          -0.319038318290691,
          0.7255959291289182,
          -1.7186198295782313,
          0.938942199289043,
          0.5449916793391968,
          -0.6174580576973407,
          -0.6721587132053458,
          0.5236713902851726,
          -0.4108127045097626,
          -1.477162667321392,
          1.0908091981455001,
          -2.6999520258422387,
          -1.4359144597646964,
          0.8130488311700955,
          0.04078624446729103,
          -0.46651901976731897,
          -0.5639503286324014,
          -1.0970137718679365,
          -0.6108834306210187,
          0.6203116655350216,
          0.6517027392218777,
          1.010629887377161,
          0.8158851979703294,
          1.0434668935411087,
          0.4333539950854563,
          -0.021297724724740265,
          1.0325672661398855,
          -0.9861550248100915,
          0.05373099358436384,
          0.4682060216602962,
          -0.5402002186112451,
          0.41628058985063554,
          -0.8509606092533839,
          0.3641985367652361,
          0.1869356368638144,
          0.09409996349298384,
          0.8900524561845194,
          -0.3593707245558659,
          0.45018632397838565,
          -1.9914070441600271,
          -0.06556829640650927,
          -0.16427473924588554,
          -0.5445896189634596,
          3.0969911118498494,
          -0.118984108630547,
          -0.8423344322469637,
          0.6262103196753769,
          0.15595030848885574,
          0.3136633163005041,
          0.6254185433501125,
          -0.47033741219161046,
          -0.37414793764137433,
          -0.8314247227007158,
          -0.33616112806444554,
          0.04331236136334824,
          -0.42909310743499873,
          0.17498180428795915,
          0.5323565583993349,
          0.7401176806901701,
          2.622210722833281,
          0.07869150262732968,
          -1.7754423558182022,
          -0.5710170173326665,
          0.03639796581341179,
          0.8159200678307319,
          1.3324383346792996,
          2.305686178683648,
          0.08699294705879955,
          0.44389685355854896,
          1.4426976091308186,
          -0.7912729697345392,
          -0.9395389636145389,
          -2.1218111101505572,
          -0.2817487697360584,
          -0.922537441534352,
          1.6081006111963616,
          1.2806187552382264,
          0.6354847552181908,
          -0.46431315370778675,
          1.0018307435049512,
          0.13840178658602245,
          -0.8931661494303229,
          0.8372556492968088,
          0.037769022545093345,
          0.8116327101376196,
          -1.068248301258567,
          0.41376318718427413,
          2.3785810928499873,
          0.5809872472415022,
          -1.2541775270081017,
          -0.38826318083139266,
          0.09158604853676144,
          0.8497115139716921,
          -1.1205911554738774,
          -0.36571546327058657,
          0.5864546918290382,
          -0.03145225097871045,
          0.8082140143043232,
          0.59423885257009,
          -0.440755160129663,
          -0.256878635960251,
          -0.11413768577527597,
          0.46486794878722876,
          -1.6209082990026176,
          -0.5829537663768286,
          0.26212229155618993,
          0.21547496037672578,
          -1.1166151733160052,
          0.3583512553008786,
          -0.25200070307228173,
          -2.185869185802112,
          -0.04448782140948135,
          -1.2544347833157858,
          1.2482465658954112,
          -0.25605780253423954,
          0.10564155488352525,
          -0.5716357961982811,
          -0.49537761404336134,
          0.0003072023917835973,
          -0.22077651660485834,
          0.6226125204604444,
          -0.5992857432898036,
          1.5828676242650637,
          0.7630675390139275,
          -0.4638560405975802,
          -0.821038311480198,
          0.8524030445724977,
          0.08109357717856935,
          1.1547866784378409,
          -1.4441403650969542,
          1.3264819498655447,
          0.06385133525250679,
          -1.5675749000418622,
          0.3691353280680017,
          1.187127100154519,
          1.1450086098445529,
          1.2751115872946364,
          -0.5626314423074512,
          2.918377027500079,
          0.15320919404401095,
          -1.2813661879776772,
          -0.16046935100420162,
          0.0942533269610899,
          -2.484200301006205,
          -1.87702910286894,
          0.46852563141642384,
          0.09267066948544743,
          -1.889222819506739,
          -0.572632605728141,
          -0.382051951251071,
          -1.2558567915343277,
          0.4654582419682735,
          0.3500373924316018,
          -0.014304321412734713,
          0.19437120678989037,
          1.4516993812602483,
          -0.1667454638568419,
          0.17128123812391222,
          1.4034658932706494,
          -0.2900782470607106,
          0.5107751819594906,
          -0.5324372662973575,
          -2.3777920476053387,
          0.16175892918134827,
          0.544321874959104,
          -0.561352890796923,
          -1.1581327905435292,
          2.322617018416882,
          1.4843092653107726,
          0.6050535711536905,
          -0.2687742717398902,
          -0.31352002891537306,
          0.6653655655532187,
          -1.4455695619682079,
          1.407360779657938,
          1.126726814007359,
          -0.6295026937052325,
          -1.850409274790063,
          -0.014590221562831303,
          -0.10049493060607335,
          -0.6448305598688121,
          -0.7978172118908677,
          0.0065654113375988995,
          1.0236070166642854,
          -0.5029157998917784,
          0.37743014734432456,
          0.10372193754882493,
          -0.457352474570978,
          0.1749099434727249,
          1.9021974782631845,
          0.7862791741192884,
          -0.3034250251504248,
          -0.7427402709358029,
          0.4797539535220436,
          -0.3885421131029947,
          1.9950663710385244,
          -1.5118184015776277,
          -2.2439279172706716,
          0.31126720958101084,
          -1.0103068852899428,
          0.6793924695733777,
          -0.0037361301045521177,
          1.0638570314574467,
          0.36614319693609493,
          -0.42626219154387807,
          0.8026548065402191,
          0.34337771358245645,
          -0.39232767994388273,
          -0.558466914932752,
          -0.43530430185711994,
          0.4286893366509416,
          1.3380744691362756,
          -1.274724564741762,
          1.346590805874975,
          -0.4728730552957903,
          -1.7119710433212454,
          -0.6942188007774479,
          0.7449678951544795,
          -1.8374224128732906,
          -1.391909795503537,
          0.5750167626802425,
          -0.8797052800833484,
          -0.1736844441384247,
          0.34668438115922656,
          0.7304692747553291,
          -0.4476773104887511,
          -0.23595216597998128,
          1.0696349153765405,
          -1.8064606061029949,
          -0.9571598428738928,
          0.34627947501748096,
          -0.4437599307728318,
          -1.2292270458692254,
          -2.043735398135,
          -1.2971816608523852,
          -1.2904831289439433,
          0.9618682589574107,
          0.26442399808139855,
          0.8109346967127279,
          -1.1537342113759754,
          -0.44265682863795014,
          0.5410932084173729,
          -0.0038130333472753027,
          0.6742024424655697,
          0.30131126680454773,
          -0.06235101156913601,
          -0.26814486601251797,
          -0.46604366605055136,
          2.0136984792168593,
          -0.22702852230775658,
          1.1629006823340187,
          -1.460079979770601,
          -0.3538002200643532,
          0.027521330277817956,
          0.05470931173973838,
          1.6470408663482623,
          1.608543633008958,
          -0.2703073566710993,
          -0.2615619909251742,
          0.5339327471406752,
          -0.6022589567570389,
          -1.5942396267916796,
          -0.8543776439768744,
          1.0819234492331926,
          -0.18110552223708015,
          1.9070721462547504,
          0.4220475701530069,
          -1.224688511632646,
          -1.1406824668092337,
          -0.2495143754071354,
          -0.48165737844400575,
          -1.9499843473364447,
          -0.1175707096797877,
          0.6382239370742505,
          -2.1667680361880373,
          -0.809481237816413,
          -1.9359932089902478,
          0.3283189027382478,
          0.15253321715703902,
          -0.9601702416868814,
          0.36126792517483064,
          -0.5103224863267829,
          -0.1758316283398315,
          1.5582316854593097,
          0.7684790063321475,
          -0.0748585856433105,
          -0.6273862551446876,
          0.8248149146754217,
          -0.21825807462653743,
          0.3213687598990922,
          1.5853979155143711,
          -0.15490774090106613,
          0.2642513658612887,
          -0.5549587390048726,
          -0.8640474287548017,
          -0.9612067832415324,
          -0.4127225845791879,
          -1.1099414565585077,
          0.9561839395393057,
          1.579959464071705,
          0.7592118654828018,
          -0.03898457599489039,
          0.10758698931047776,
          0.48520163592771764,
          0.6602276858726712,
          0.725367070335703,
          -0.6277476835216864,
          -0.8951253831418434,
          -0.6771897536181908,
          -1.1539890666949366,
          -1.1646197446849786,
          0.053890058255984676,
          0.3909117355837256,
          -0.6160623312759401,
          -1.8204397862285968,
          0.7809480616234568,
          0.6215278090367811,
          0.113088520398404,
          0.43500261855439426,
          0.833323408315116,
          -0.40175138745691585,
          -0.44945844448005207,
          0.503017091349183,
          2.4780951913775415,
          1.2877732156719646,
          -1.446945876906561,
          -1.5464598453685274,
          0.08333667644853776,
          1.5323017979103501,
          -0.1579917980670497,
          0.3546698419296719,
          -1.1339417985065678,
          0.46839609319650294,
          -0.6267163389725927,
          1.2948629737222679,
          1.0035442711510716,
          -0.5448019530748792,
          -0.23082322534230076,
          0.0728978477972969,
          -0.02901048737551135,
          0.9753406073627191,
          -1.2145812454325216,
          -0.5389295192769462,
          0.45054562438800455,
          -0.028815946299311116,
          -0.1787873738034258,
          0.8850306303426669,
          -0.10938716552794345,
          0.5382184062375615,
          -0.6220345322945351,
          -0.251593774886196,
          -2.0388220977544793,
          -0.2506016571512585,
          -1.6687645032214053,
          -0.46755437394478255,
          -1.452118721561942,
          2.370296792040903,
          1.493353667920951,
          0.3891574560120793,
          -1.9964473048691833,
          0.24649655723267658,
          -0.9752299297409074,
          -0.09144188221627905,
          0.49872883703641496,
          -1.502600512732114,
          0.4690705168094528,
          2.109703356753511,
          0.9216852692894173,
          0.989382990035589,
          -0.4387980649301702,
          0.8417433468465851,
          0.03777879785122904,
          -1.3154487080889719,
          2.9995864101397647,
          -0.2266570869613325,
          0.489770492044443,
          -1.2459368241363167,
          0.2081510236267792,
          -0.3887949099186368,
          -0.693134877540111,
          1.0880880822096881,
          -0.3401536537790851,
          0.16330259230894278,
          1.0379179756567665,
          0.6282171985965355,
          -0.14149492078347053,
          0.4181186848280439,
          -2.8086366729028844,
          1.2003955523652523,
          0.6986603050443425,
          -1.009367774671553,
          -0.9408199372300995,
          -0.12771523034466947,
          0.40196101483562846,
          -0.6315883810078852,
          -0.5081277380788429,
          0.3323811975279878,
          0.014397059810474226,
          0.3600289379918876,
          0.2633443241124642,
          0.5236234758585204,
          0.044863535108096056,
          0.20495172041651918,
          1.167357009957889,
          -0.5118751319738224,
          -1.2257795173921109,
          0.1810303824055934,
          0.5129017013251623,
          0.23147411117086225,
          1.8183876713760276,
          -1.492946321471374,
          -0.8197242100220725,
          -1.3596447389306956,
          -0.3692538473683,
          1.7035646442344616,
          0.7973334557398812,
          -0.47837933611481215,
          -0.9916922893259256,
          1.2175932822875797,
          0.47018034149519294,
          1.0166403485041144,
          0.7690378087595103,
          0.262649807512389,
          -0.08431558967534625,
          -0.5427888378024014,
          0.10573586956517657,
          1.3247743340756921,
          -1.797820955729486,
          -0.11135123309876817,
          0.0014493573588872123,
          1.2310741963374685,
          0.9493519578250316,
          -0.4896077412792996,
          -0.18604656280104698,
          0.1551985739011102,
          1.097257246923084,
          -0.5656937758166445,
          -1.4451566834633707,
          0.6248848649123787,
          1.4938371000403072,
          0.6616684735773305,
          -0.18853233809027461,
          -0.3320187019514817,
          -1.008646933457621,
          1.6846277079380363,
          1.5437830288303065,
          0.27860398487031274,
          -0.8872589224554001,
          -0.39713619162791947,
          0.24068752180244962,
          -0.31303445051174533,
          0.6852160250642269,
          -0.28679947032496816,
          0.6793781822735948,
          0.8349509249757183,
          1.8284079241204183,
          0.08876168119772297,
          -0.08360335446912345,
          0.8902154847498596,
          0.26329093716756435,
          -0.006469071784094612,
          -0.3076631203769747,
          -0.521863199104894,
          -2.2958862293302666,
          2.6443413051165994,
          0.45095721729301524,
          0.25411046607486315,
          0.5079469250216097,
          -0.5540339408026143,
          0.35363927425396907,
          -1.160059939400758,
          1.1445939086344483,
          -1.547258211949312,
          -0.2682478821163252,
          0.942106395711857,
          -0.3982604050434221,
          0.06972238635559883,
          0.14338060951640183,
          -0.6697711106402726,
          0.11279165152699251,
          -0.12254351039556763,
          -0.32331043996104314,
          0.15003945338012584,
          -0.865858682842564,
          0.3210994963465055,
          0.3555106661299389,
          -0.7977262300126212,
          -0.18808539970827232,
          0.48465717182974,
          1.4257047229636377,
          -0.2924204728372981,
          3.1115126015931205,
          -1.3792125816567793,
          -0.14510798468270972,
          0.0031934667664878153,
          0.38220039107442183,
          0.5378719889640535,
          -1.8243093932322867,
          0.5250463898658982,
          0.3867594136776469,
          1.0460185615968953,
          0.46255148303399357,
          1.1053605570826426,
          -1.2758003101473128,
          0.6716507757980442,
          0.23583085006817467,
          0.847931816888639,
          -0.19775654666518883,
          -0.5658611325293533,
          1.217116474243755,
          -1.127259706685098,
          -0.4302964427186526,
          -2.0980387617770497,
          0.29928674301182756,
          -1.7475795743827796,
          1.331501775082563,
          -2.7758329703515865,
          -0.23382227683027607,
          -1.8597621365012753,
          0.599423109589806,
          -0.012702700122324153,
          -2.6187188364606033,
          -0.5981911208754195,
          -1.3770695309152106,
          -0.40488255484149777,
          -0.788192840366122,
          0.8228586580846408,
          -1.2551574244567536,
          1.1940192526320197,
          0.6012348015310138,
          0.39147694722122717,
          -1.2319639933349695,
          0.7653448556720379,
          1.0208447600031203,
          -1.7289111998628042,
          -1.616885477400532,
          -0.7671613765620614,
          0.6949242514777607,
          -0.961110815597832,
          0.5371383623381706,
          -0.3633754829000378,
          -0.5698406652650246,
          0.5875603128204421,
          -2.52216932211353,
          -0.8182381545248331,
          0.5518595095502562,
          1.1295949741048286,
          0.45669955866503703,
          -1.4556593542766387,
          -1.3677980909850092,
          0.1494910054413629,
          0.39434848998721667,
          -0.3042174083796066,
          0.9993825667406963,
          -1.7494211404356395,
          0.5188436876663616,
          -1.0397796696315043,
          -0.28735487358662914,
          0.5603986706879284,
          0.13087289613119737,
          1.6258463594142114,
          1.1820844823697867
         ],
         "yaxis": "y",
         "ybingroup": "y"
        }
       ],
       "layout": {
        "coloraxis": {
         "colorbar": {
          "title": {
           "text": "count"
          }
         },
         "colorscale": [
          [
           0,
           "#0d0887"
          ],
          [
           0.1111111111111111,
           "#46039f"
          ],
          [
           0.2222222222222222,
           "#7201a8"
          ],
          [
           0.3333333333333333,
           "#9c179e"
          ],
          [
           0.4444444444444444,
           "#bd3786"
          ],
          [
           0.5555555555555556,
           "#d8576b"
          ],
          [
           0.6666666666666666,
           "#ed7953"
          ],
          [
           0.7777777777777778,
           "#fb9f3a"
          ],
          [
           0.8888888888888888,
           "#fdca26"
          ],
          [
           1,
           "#f0f921"
          ]
         ]
        },
        "legend": {
         "tracegroupgap": 0
        },
        "margin": {
         "t": 60
        },
        "template": {
         "data": {
          "bar": [
           {
            "error_x": {
             "color": "#2a3f5f"
            },
            "error_y": {
             "color": "#2a3f5f"
            },
            "marker": {
             "line": {
              "color": "#E5ECF6",
              "width": 0.5
             },
             "pattern": {
              "fillmode": "overlay",
              "size": 10,
              "solidity": 0.2
             }
            },
            "type": "bar"
           }
          ],
          "barpolar": [
           {
            "marker": {
             "line": {
              "color": "#E5ECF6",
              "width": 0.5
             },
             "pattern": {
              "fillmode": "overlay",
              "size": 10,
              "solidity": 0.2
             }
            },
            "type": "barpolar"
           }
          ],
          "carpet": [
           {
            "aaxis": {
             "endlinecolor": "#2a3f5f",
             "gridcolor": "white",
             "linecolor": "white",
             "minorgridcolor": "white",
             "startlinecolor": "#2a3f5f"
            },
            "baxis": {
             "endlinecolor": "#2a3f5f",
             "gridcolor": "white",
             "linecolor": "white",
             "minorgridcolor": "white",
             "startlinecolor": "#2a3f5f"
            },
            "type": "carpet"
           }
          ],
          "choropleth": [
           {
            "colorbar": {
             "outlinewidth": 0,
             "ticks": ""
            },
            "type": "choropleth"
           }
          ],
          "contour": [
           {
            "colorbar": {
             "outlinewidth": 0,
             "ticks": ""
            },
            "colorscale": [
             [
              0,
              "#0d0887"
             ],
             [
              0.1111111111111111,
              "#46039f"
             ],
             [
              0.2222222222222222,
              "#7201a8"
             ],
             [
              0.3333333333333333,
              "#9c179e"
             ],
             [
              0.4444444444444444,
              "#bd3786"
             ],
             [
              0.5555555555555556,
              "#d8576b"
             ],
             [
              0.6666666666666666,
              "#ed7953"
             ],
             [
              0.7777777777777778,
              "#fb9f3a"
             ],
             [
              0.8888888888888888,
              "#fdca26"
             ],
             [
              1,
              "#f0f921"
             ]
            ],
            "type": "contour"
           }
          ],
          "contourcarpet": [
           {
            "colorbar": {
             "outlinewidth": 0,
             "ticks": ""
            },
            "type": "contourcarpet"
           }
          ],
          "heatmap": [
           {
            "colorbar": {
             "outlinewidth": 0,
             "ticks": ""
            },
            "colorscale": [
             [
              0,
              "#0d0887"
             ],
             [
              0.1111111111111111,
              "#46039f"
             ],
             [
              0.2222222222222222,
              "#7201a8"
             ],
             [
              0.3333333333333333,
              "#9c179e"
             ],
             [
              0.4444444444444444,
              "#bd3786"
             ],
             [
              0.5555555555555556,
              "#d8576b"
             ],
             [
              0.6666666666666666,
              "#ed7953"
             ],
             [
              0.7777777777777778,
              "#fb9f3a"
             ],
             [
              0.8888888888888888,
              "#fdca26"
             ],
             [
              1,
              "#f0f921"
             ]
            ],
            "type": "heatmap"
           }
          ],
          "heatmapgl": [
           {
            "colorbar": {
             "outlinewidth": 0,
             "ticks": ""
            },
            "colorscale": [
             [
              0,
              "#0d0887"
             ],
             [
              0.1111111111111111,
              "#46039f"
             ],
             [
              0.2222222222222222,
              "#7201a8"
             ],
             [
              0.3333333333333333,
              "#9c179e"
             ],
             [
              0.4444444444444444,
              "#bd3786"
             ],
             [
              0.5555555555555556,
              "#d8576b"
             ],
             [
              0.6666666666666666,
              "#ed7953"
             ],
             [
              0.7777777777777778,
              "#fb9f3a"
             ],
             [
              0.8888888888888888,
              "#fdca26"
             ],
             [
              1,
              "#f0f921"
             ]
            ],
            "type": "heatmapgl"
           }
          ],
          "histogram": [
           {
            "marker": {
             "pattern": {
              "fillmode": "overlay",
              "size": 10,
              "solidity": 0.2
             }
            },
            "type": "histogram"
           }
          ],
          "histogram2d": [
           {
            "colorbar": {
             "outlinewidth": 0,
             "ticks": ""
            },
            "colorscale": [
             [
              0,
              "#0d0887"
             ],
             [
              0.1111111111111111,
              "#46039f"
             ],
             [
              0.2222222222222222,
              "#7201a8"
             ],
             [
              0.3333333333333333,
              "#9c179e"
             ],
             [
              0.4444444444444444,
              "#bd3786"
             ],
             [
              0.5555555555555556,
              "#d8576b"
             ],
             [
              0.6666666666666666,
              "#ed7953"
             ],
             [
              0.7777777777777778,
              "#fb9f3a"
             ],
             [
              0.8888888888888888,
              "#fdca26"
             ],
             [
              1,
              "#f0f921"
             ]
            ],
            "type": "histogram2d"
           }
          ],
          "histogram2dcontour": [
           {
            "colorbar": {
             "outlinewidth": 0,
             "ticks": ""
            },
            "colorscale": [
             [
              0,
              "#0d0887"
             ],
             [
              0.1111111111111111,
              "#46039f"
             ],
             [
              0.2222222222222222,
              "#7201a8"
             ],
             [
              0.3333333333333333,
              "#9c179e"
             ],
             [
              0.4444444444444444,
              "#bd3786"
             ],
             [
              0.5555555555555556,
              "#d8576b"
             ],
             [
              0.6666666666666666,
              "#ed7953"
             ],
             [
              0.7777777777777778,
              "#fb9f3a"
             ],
             [
              0.8888888888888888,
              "#fdca26"
             ],
             [
              1,
              "#f0f921"
             ]
            ],
            "type": "histogram2dcontour"
           }
          ],
          "mesh3d": [
           {
            "colorbar": {
             "outlinewidth": 0,
             "ticks": ""
            },
            "type": "mesh3d"
           }
          ],
          "parcoords": [
           {
            "line": {
             "colorbar": {
              "outlinewidth": 0,
              "ticks": ""
             }
            },
            "type": "parcoords"
           }
          ],
          "pie": [
           {
            "automargin": true,
            "type": "pie"
           }
          ],
          "scatter": [
           {
            "fillpattern": {
             "fillmode": "overlay",
             "size": 10,
             "solidity": 0.2
            },
            "type": "scatter"
           }
          ],
          "scatter3d": [
           {
            "line": {
             "colorbar": {
              "outlinewidth": 0,
              "ticks": ""
             }
            },
            "marker": {
             "colorbar": {
              "outlinewidth": 0,
              "ticks": ""
             }
            },
            "type": "scatter3d"
           }
          ],
          "scattercarpet": [
           {
            "marker": {
             "colorbar": {
              "outlinewidth": 0,
              "ticks": ""
             }
            },
            "type": "scattercarpet"
           }
          ],
          "scattergeo": [
           {
            "marker": {
             "colorbar": {
              "outlinewidth": 0,
              "ticks": ""
             }
            },
            "type": "scattergeo"
           }
          ],
          "scattergl": [
           {
            "marker": {
             "colorbar": {
              "outlinewidth": 0,
              "ticks": ""
             }
            },
            "type": "scattergl"
           }
          ],
          "scattermapbox": [
           {
            "marker": {
             "colorbar": {
              "outlinewidth": 0,
              "ticks": ""
             }
            },
            "type": "scattermapbox"
           }
          ],
          "scatterpolar": [
           {
            "marker": {
             "colorbar": {
              "outlinewidth": 0,
              "ticks": ""
             }
            },
            "type": "scatterpolar"
           }
          ],
          "scatterpolargl": [
           {
            "marker": {
             "colorbar": {
              "outlinewidth": 0,
              "ticks": ""
             }
            },
            "type": "scatterpolargl"
           }
          ],
          "scatterternary": [
           {
            "marker": {
             "colorbar": {
              "outlinewidth": 0,
              "ticks": ""
             }
            },
            "type": "scatterternary"
           }
          ],
          "surface": [
           {
            "colorbar": {
             "outlinewidth": 0,
             "ticks": ""
            },
            "colorscale": [
             [
              0,
              "#0d0887"
             ],
             [
              0.1111111111111111,
              "#46039f"
             ],
             [
              0.2222222222222222,
              "#7201a8"
             ],
             [
              0.3333333333333333,
              "#9c179e"
             ],
             [
              0.4444444444444444,
              "#bd3786"
             ],
             [
              0.5555555555555556,
              "#d8576b"
             ],
             [
              0.6666666666666666,
              "#ed7953"
             ],
             [
              0.7777777777777778,
              "#fb9f3a"
             ],
             [
              0.8888888888888888,
              "#fdca26"
             ],
             [
              1,
              "#f0f921"
             ]
            ],
            "type": "surface"
           }
          ],
          "table": [
           {
            "cells": {
             "fill": {
              "color": "#EBF0F8"
             },
             "line": {
              "color": "white"
             }
            },
            "header": {
             "fill": {
              "color": "#C8D4E3"
             },
             "line": {
              "color": "white"
             }
            },
            "type": "table"
           }
          ]
         },
         "layout": {
          "annotationdefaults": {
           "arrowcolor": "#2a3f5f",
           "arrowhead": 0,
           "arrowwidth": 1
          },
          "autotypenumbers": "strict",
          "coloraxis": {
           "colorbar": {
            "outlinewidth": 0,
            "ticks": ""
           }
          },
          "colorscale": {
           "diverging": [
            [
             0,
             "#8e0152"
            ],
            [
             0.1,
             "#c51b7d"
            ],
            [
             0.2,
             "#de77ae"
            ],
            [
             0.3,
             "#f1b6da"
            ],
            [
             0.4,
             "#fde0ef"
            ],
            [
             0.5,
             "#f7f7f7"
            ],
            [
             0.6,
             "#e6f5d0"
            ],
            [
             0.7,
             "#b8e186"
            ],
            [
             0.8,
             "#7fbc41"
            ],
            [
             0.9,
             "#4d9221"
            ],
            [
             1,
             "#276419"
            ]
           ],
           "sequential": [
            [
             0,
             "#0d0887"
            ],
            [
             0.1111111111111111,
             "#46039f"
            ],
            [
             0.2222222222222222,
             "#7201a8"
            ],
            [
             0.3333333333333333,
             "#9c179e"
            ],
            [
             0.4444444444444444,
             "#bd3786"
            ],
            [
             0.5555555555555556,
             "#d8576b"
            ],
            [
             0.6666666666666666,
             "#ed7953"
            ],
            [
             0.7777777777777778,
             "#fb9f3a"
            ],
            [
             0.8888888888888888,
             "#fdca26"
            ],
            [
             1,
             "#f0f921"
            ]
           ],
           "sequentialminus": [
            [
             0,
             "#0d0887"
            ],
            [
             0.1111111111111111,
             "#46039f"
            ],
            [
             0.2222222222222222,
             "#7201a8"
            ],
            [
             0.3333333333333333,
             "#9c179e"
            ],
            [
             0.4444444444444444,
             "#bd3786"
            ],
            [
             0.5555555555555556,
             "#d8576b"
            ],
            [
             0.6666666666666666,
             "#ed7953"
            ],
            [
             0.7777777777777778,
             "#fb9f3a"
            ],
            [
             0.8888888888888888,
             "#fdca26"
            ],
            [
             1,
             "#f0f921"
            ]
           ]
          },
          "colorway": [
           "#636efa",
           "#EF553B",
           "#00cc96",
           "#ab63fa",
           "#FFA15A",
           "#19d3f3",
           "#FF6692",
           "#B6E880",
           "#FF97FF",
           "#FECB52"
          ],
          "font": {
           "color": "#2a3f5f"
          },
          "geo": {
           "bgcolor": "white",
           "lakecolor": "white",
           "landcolor": "#E5ECF6",
           "showlakes": true,
           "showland": true,
           "subunitcolor": "white"
          },
          "hoverlabel": {
           "align": "left"
          },
          "hovermode": "closest",
          "mapbox": {
           "style": "light"
          },
          "paper_bgcolor": "white",
          "plot_bgcolor": "#E5ECF6",
          "polar": {
           "angularaxis": {
            "gridcolor": "white",
            "linecolor": "white",
            "ticks": ""
           },
           "bgcolor": "#E5ECF6",
           "radialaxis": {
            "gridcolor": "white",
            "linecolor": "white",
            "ticks": ""
           }
          },
          "scene": {
           "xaxis": {
            "backgroundcolor": "#E5ECF6",
            "gridcolor": "white",
            "gridwidth": 2,
            "linecolor": "white",
            "showbackground": true,
            "ticks": "",
            "zerolinecolor": "white"
           },
           "yaxis": {
            "backgroundcolor": "#E5ECF6",
            "gridcolor": "white",
            "gridwidth": 2,
            "linecolor": "white",
            "showbackground": true,
            "ticks": "",
            "zerolinecolor": "white"
           },
           "zaxis": {
            "backgroundcolor": "#E5ECF6",
            "gridcolor": "white",
            "gridwidth": 2,
            "linecolor": "white",
            "showbackground": true,
            "ticks": "",
            "zerolinecolor": "white"
           }
          },
          "shapedefaults": {
           "line": {
            "color": "#2a3f5f"
           }
          },
          "ternary": {
           "aaxis": {
            "gridcolor": "white",
            "linecolor": "white",
            "ticks": ""
           },
           "baxis": {
            "gridcolor": "white",
            "linecolor": "white",
            "ticks": ""
           },
           "bgcolor": "#E5ECF6",
           "caxis": {
            "gridcolor": "white",
            "linecolor": "white",
            "ticks": ""
           }
          },
          "title": {
           "x": 0.05
          },
          "xaxis": {
           "automargin": true,
           "gridcolor": "white",
           "linecolor": "white",
           "ticks": "",
           "title": {
            "standoff": 15
           },
           "zerolinecolor": "white",
           "zerolinewidth": 2
          },
          "yaxis": {
           "automargin": true,
           "gridcolor": "white",
           "linecolor": "white",
           "ticks": "",
           "title": {
            "standoff": 15
           },
           "zerolinecolor": "white",
           "zerolinewidth": 2
          }
         }
        },
        "xaxis": {
         "anchor": "y",
         "domain": [
          0,
          1
         ],
         "title": {
          "text": "x"
         }
        },
        "yaxis": {
         "anchor": "x",
         "domain": [
          0,
          1
         ],
         "title": {
          "text": "y"
         }
        }
       }
      }
     },
     "metadata": {},
     "output_type": "display_data"
    }
   ],
   "source": [
    "# Plotly density heatmap\n",
    "fig = px.density_heatmap(x=x, y=y)\n",
    "fig.show()"
   ]
  },
  {
   "cell_type": "markdown",
   "metadata": {},
   "source": [
    "### Boxplot"
   ]
  },
  {
   "cell_type": "code",
   "execution_count": 13,
   "metadata": {},
   "outputs": [
    {
     "data": {
      "text/plain": [
       "{'whiskers': [<matplotlib.lines.Line2D at 0x22b9302e790>,\n",
       "  <matplotlib.lines.Line2D at 0x22b9302e9d0>],\n",
       " 'caps': [<matplotlib.lines.Line2D at 0x22b9302ec70>,\n",
       "  <matplotlib.lines.Line2D at 0x22b9302ef10>],\n",
       " 'boxes': [<matplotlib.lines.Line2D at 0x22b9302e6d0>],\n",
       " 'medians': [<matplotlib.lines.Line2D at 0x22b930391f0>],\n",
       " 'fliers': [<matplotlib.lines.Line2D at 0x22b93039490>],\n",
       " 'means': []}"
      ]
     },
     "execution_count": 13,
     "metadata": {},
     "output_type": "execute_result"
    },
    {
     "data": {
      "image/png": "[encoded data removed]",
      "text/plain": [
       "<Figure size 300x300 with 1 Axes>"
      ]
     },
     "metadata": {},
     "output_type": "display_data"
    }
   ],
   "source": [
    "# matplotlib boxplot\n",
    "data = np.random.randn(100)\n",
    "fig, ax = plt.subplots(figsize=(3,3), dpi=100)\n",
    "ax.boxplot(data)"
   ]
  },
  {
   "cell_type": "code",
   "execution_count": 14,
   "metadata": {},
   "outputs": [
    {
     "data": {
      "application/vnd.plotly.v1+json": {
       "config": {
        "plotlyServerURL": "https://plot.ly"
       },
       "data": [
        {
         "alignmentgroup": "True",
         "hovertemplate": "variable=%{x}<br>value=%{y}<extra></extra>",
         "legendgroup": "",
         "marker": {
          "color": "#636efa"
         },
         "name": "",
         "notched": false,
         "offsetgroup": "",
         "orientation": "v",
         "showlegend": false,
         "type": "box",
         "x": [
          "0",
          "0",
          "0",
          "0",
          "0",
          "0",
          "0",
          "0",
          "0",
          "0",
          "0",
          "0",
          "0",
          "0",
          "0",
          "0",
          "0",
          "0",
          "0",
          "0",
          "0",
          "0",
          "0",
          "0",
          "0",
          "0",
          "0",
          "0",
          "0",
          "0",
          "0",
          "0",
          "0",
          "0",
          "0",
          "0",
          "0",
          "0",
          "0",
          "0",
          "0",
          "0",
          "0",
          "0",
          "0",
          "0",
          "0",
          "0",
          "0",
          "0",
          "0",
          "0",
          "0",
          "0",
          "0",
          "0",
          "0",
          "0",
          "0",
          "0",
          "0",
          "0",
          "0",
          "0",
          "0",
          "0",
          "0",
          "0",
          "0",
          "0",
          "0",
          "0",
          "0",
          "0",
          "0",
          "0",
          "0",
          "0",
          "0",
          "0",
          "0",
          "0",
          "0",
          "0",
          "0",
          "0",
          "0",
          "0",
          "0",
          "0",
          "0",
          "0",
          "0",
          "0",
          "0",
          "0",
          "0",
          "0",
          "0",
          "0"
         ],
         "x0": " ",
         "xaxis": "x",
         "y": [
          -0.4303505894390408,
          -0.028191140497931276,
          -0.07604836929544488,
          -1.1227377815608426,
          -0.5147812334529183,
          0.8879944679638194,
          -1.7688826398848105,
          -0.3674054563408346,
          -0.25046151619094903,
          -2.1016757006523354,
          -1.1173690268942242,
          -0.1551239806385514,
          0.326670243450495,
          0.6348137956984934,
          -1.1016113608424083,
          -0.06562904976592716,
          1.0798341462102556,
          0.10813583871897395,
          0.26969069462916645,
          0.795776363445575,
          -0.360998282570849,
          -0.6165663344631976,
          -0.6354802840286222,
          0.6088279436248233,
          0.49337706973220113,
          -0.8347122643646675,
          -0.8042587443411034,
          -0.8461122378501302,
          -0.29229020869734895,
          0.9592917258674756,
          -0.23249318715607106,
          -0.8975015398948543,
          -0.16283121458250818,
          1.4300638019178367,
          -0.8954542571547061,
          0.28738220782260565,
          -0.09391436801007552,
          -0.13742476098601786,
          -0.2521887112254153,
          0.8853273190019159,
          -0.2274485829671623,
          -0.2751269802145999,
          -0.5361688296842699,
          -0.670433410846353,
          -1.2674353306589174,
          -0.2726167103552684,
          -0.9378966301431186,
          0.11667465510867421,
          -1.8954514482510343,
          -1.3937913244529743,
          -0.6920427921510256,
          1.7432911302668952,
          1.3489618001584591,
          1.3156688652238944,
          -0.5785484523755768,
          1.3078492896444485,
          0.05039973540597498,
          0.7878541762634239,
          0.08666834191192227,
          -0.7724049708629543,
          -0.33534508611624175,
          -1.1840216844885556,
          0.3818960979554205,
          -0.06629429824945846,
          -0.7391728899912386,
          0.4717514122275678,
          0.9543095037133394,
          -0.9327878824369078,
          0.2499390656081539,
          0.9197516999974704,
          0.5017612394601126,
          -0.20755825025661553,
          -0.7432076059863882,
          0.8623673401070875,
          0.3370653902842148,
          -0.5523694256381916,
          0.952087253654466,
          -0.4052105389865042,
          -0.21589102057014548,
          -1.2997403408429535,
          0.2388479483184489,
          -0.5826359855632471,
          0.010265596212178851,
          -0.16755248257001637,
          -0.45536909044842766,
          0.43720144962031815,
          -0.21942213751579,
          0.18032139019512963,
          0.624466408361065,
          -0.6884548868511299,
          -0.21732944044472682,
          -2.125036201360691,
          0.4545634478350302,
          0.37348392250082485,
          0.7045148969563679,
          0.6781976349314913,
          0.7323116466594133,
          0.5511723467235058,
          -0.9198451047534129,
          0.1539774102731975
         ],
         "y0": " ",
         "yaxis": "y"
        }
       ],
       "layout": {
        "boxmode": "group",
        "legend": {
         "tracegroupgap": 0
        },
        "margin": {
         "t": 60
        },
        "template": {
         "data": {
          "bar": [
           {
            "error_x": {
             "color": "#2a3f5f"
            },
            "error_y": {
             "color": "#2a3f5f"
            },
            "marker": {
             "line": {
              "color": "#E5ECF6",
              "width": 0.5
             },
             "pattern": {
              "fillmode": "overlay",
              "size": 10,
              "solidity": 0.2
             }
            },
            "type": "bar"
           }
          ],
          "barpolar": [
           {
            "marker": {
             "line": {
              "color": "#E5ECF6",
              "width": 0.5
             },
             "pattern": {
              "fillmode": "overlay",
              "size": 10,
              "solidity": 0.2
             }
            },
            "type": "barpolar"
           }
          ],
          "carpet": [
           {
            "aaxis": {
             "endlinecolor": "#2a3f5f",
             "gridcolor": "white",
             "linecolor": "white",
             "minorgridcolor": "white",
             "startlinecolor": "#2a3f5f"
            },
            "baxis": {
             "endlinecolor": "#2a3f5f",
             "gridcolor": "white",
             "linecolor": "white",
             "minorgridcolor": "white",
             "startlinecolor": "#2a3f5f"
            },
            "type": "carpet"
           }
          ],
          "choropleth": [
           {
            "colorbar": {
             "outlinewidth": 0,
             "ticks": ""
            },
            "type": "choropleth"
           }
          ],
          "contour": [
           {
            "colorbar": {
             "outlinewidth": 0,
             "ticks": ""
            },
            "colorscale": [
             [
              0,
              "#0d0887"
             ],
             [
              0.1111111111111111,
              "#46039f"
             ],
             [
              0.2222222222222222,
              "#7201a8"
             ],
             [
              0.3333333333333333,
              "#9c179e"
             ],
             [
              0.4444444444444444,
              "#bd3786"
             ],
             [
              0.5555555555555556,
              "#d8576b"
             ],
             [
              0.6666666666666666,
              "#ed7953"
             ],
             [
              0.7777777777777778,
              "#fb9f3a"
             ],
             [
              0.8888888888888888,
              "#fdca26"
             ],
             [
              1,
              "#f0f921"
             ]
            ],
            "type": "contour"
           }
          ],
          "contourcarpet": [
           {
            "colorbar": {
             "outlinewidth": 0,
             "ticks": ""
            },
            "type": "contourcarpet"
           }
          ],
          "heatmap": [
           {
            "colorbar": {
             "outlinewidth": 0,
             "ticks": ""
            },
            "colorscale": [
             [
              0,
              "#0d0887"
             ],
             [
              0.1111111111111111,
              "#46039f"
             ],
             [
              0.2222222222222222,
              "#7201a8"
             ],
             [
              0.3333333333333333,
              "#9c179e"
             ],
             [
              0.4444444444444444,
              "#bd3786"
             ],
             [
              0.5555555555555556,
              "#d8576b"
             ],
             [
              0.6666666666666666,
              "#ed7953"
             ],
             [
              0.7777777777777778,
              "#fb9f3a"
             ],
             [
              0.8888888888888888,
              "#fdca26"
             ],
             [
              1,
              "#f0f921"
             ]
            ],
            "type": "heatmap"
           }
          ],
          "heatmapgl": [
           {
            "colorbar": {
             "outlinewidth": 0,
             "ticks": ""
            },
            "colorscale": [
             [
              0,
              "#0d0887"
             ],
             [
              0.1111111111111111,
              "#46039f"
             ],
             [
              0.2222222222222222,
              "#7201a8"
             ],
             [
              0.3333333333333333,
              "#9c179e"
             ],
             [
              0.4444444444444444,
              "#bd3786"
             ],
             [
              0.5555555555555556,
              "#d8576b"
             ],
             [
              0.6666666666666666,
              "#ed7953"
             ],
             [
              0.7777777777777778,
              "#fb9f3a"
             ],
             [
              0.8888888888888888,
              "#fdca26"
             ],
             [
              1,
              "#f0f921"
             ]
            ],
            "type": "heatmapgl"
           }
          ],
          "histogram": [
           {
            "marker": {
             "pattern": {
              "fillmode": "overlay",
              "size": 10,
              "solidity": 0.2
             }
            },
            "type": "histogram"
           }
          ],
          "histogram2d": [
           {
            "colorbar": {
             "outlinewidth": 0,
             "ticks": ""
            },
            "colorscale": [
             [
              0,
              "#0d0887"
             ],
             [
              0.1111111111111111,
              "#46039f"
             ],
             [
              0.2222222222222222,
              "#7201a8"
             ],
             [
              0.3333333333333333,
              "#9c179e"
             ],
             [
              0.4444444444444444,
              "#bd3786"
             ],
             [
              0.5555555555555556,
              "#d8576b"
             ],
             [
              0.6666666666666666,
              "#ed7953"
             ],
             [
              0.7777777777777778,
              "#fb9f3a"
             ],
             [
              0.8888888888888888,
              "#fdca26"
             ],
             [
              1,
              "#f0f921"
             ]
            ],
            "type": "histogram2d"
           }
          ],
          "histogram2dcontour": [
           {
            "colorbar": {
             "outlinewidth": 0,
             "ticks": ""
            },
            "colorscale": [
             [
              0,
              "#0d0887"
             ],
             [
              0.1111111111111111,
              "#46039f"
             ],
             [
              0.2222222222222222,
              "#7201a8"
             ],
             [
              0.3333333333333333,
              "#9c179e"
             ],
             [
              0.4444444444444444,
              "#bd3786"
             ],
             [
              0.5555555555555556,
              "#d8576b"
             ],
             [
              0.6666666666666666,
              "#ed7953"
             ],
             [
              0.7777777777777778,
              "#fb9f3a"
             ],
             [
              0.8888888888888888,
              "#fdca26"
             ],
             [
              1,
              "#f0f921"
             ]
            ],
            "type": "histogram2dcontour"
           }
          ],
          "mesh3d": [
           {
            "colorbar": {
             "outlinewidth": 0,
             "ticks": ""
            },
            "type": "mesh3d"
           }
          ],
          "parcoords": [
           {
            "line": {
             "colorbar": {
              "outlinewidth": 0,
              "ticks": ""
             }
            },
            "type": "parcoords"
           }
          ],
          "pie": [
           {
            "automargin": true,
            "type": "pie"
           }
          ],
          "scatter": [
           {
            "fillpattern": {
             "fillmode": "overlay",
             "size": 10,
             "solidity": 0.2
            },
            "type": "scatter"
           }
          ],
          "scatter3d": [
           {
            "line": {
             "colorbar": {
              "outlinewidth": 0,
              "ticks": ""
             }
            },
            "marker": {
             "colorbar": {
              "outlinewidth": 0,
              "ticks": ""
             }
            },
            "type": "scatter3d"
           }
          ],
          "scattercarpet": [
           {
            "marker": {
             "colorbar": {
              "outlinewidth": 0,
              "ticks": ""
             }
            },
            "type": "scattercarpet"
           }
          ],
          "scattergeo": [
           {
            "marker": {
             "colorbar": {
              "outlinewidth": 0,
              "ticks": ""
             }
            },
            "type": "scattergeo"
           }
          ],
          "scattergl": [
           {
            "marker": {
             "colorbar": {
              "outlinewidth": 0,
              "ticks": ""
             }
            },
            "type": "scattergl"
           }
          ],
          "scattermapbox": [
           {
            "marker": {
             "colorbar": {
              "outlinewidth": 0,
              "ticks": ""
             }
            },
            "type": "scattermapbox"
           }
          ],
          "scatterpolar": [
           {
            "marker": {
             "colorbar": {
              "outlinewidth": 0,
              "ticks": ""
             }
            },
            "type": "scatterpolar"
           }
          ],
          "scatterpolargl": [
           {
            "marker": {
             "colorbar": {
              "outlinewidth": 0,
              "ticks": ""
             }
            },
            "type": "scatterpolargl"
           }
          ],
          "scatterternary": [
           {
            "marker": {
             "colorbar": {
              "outlinewidth": 0,
              "ticks": ""
             }
            },
            "type": "scatterternary"
           }
          ],
          "surface": [
           {
            "colorbar": {
             "outlinewidth": 0,
             "ticks": ""
            },
            "colorscale": [
             [
              0,
              "#0d0887"
             ],
             [
              0.1111111111111111,
              "#46039f"
             ],
             [
              0.2222222222222222,
              "#7201a8"
             ],
             [
              0.3333333333333333,
              "#9c179e"
             ],
             [
              0.4444444444444444,
              "#bd3786"
             ],
             [
              0.5555555555555556,
              "#d8576b"
             ],
             [
              0.6666666666666666,
              "#ed7953"
             ],
             [
              0.7777777777777778,
              "#fb9f3a"
             ],
             [
              0.8888888888888888,
              "#fdca26"
             ],
             [
              1,
              "#f0f921"
             ]
            ],
            "type": "surface"
           }
          ],
          "table": [
           {
            "cells": {
             "fill": {
              "color": "#EBF0F8"
             },
             "line": {
              "color": "white"
             }
            },
            "header": {
             "fill": {
              "color": "#C8D4E3"
             },
             "line": {
              "color": "white"
             }
            },
            "type": "table"
           }
          ]
         },
         "layout": {
          "annotationdefaults": {
           "arrowcolor": "#2a3f5f",
           "arrowhead": 0,
           "arrowwidth": 1
          },
          "autotypenumbers": "strict",
          "coloraxis": {
           "colorbar": {
            "outlinewidth": 0,
            "ticks": ""
           }
          },
          "colorscale": {
           "diverging": [
            [
             0,
             "#8e0152"
            ],
            [
             0.1,
             "#c51b7d"
            ],
            [
             0.2,
             "#de77ae"
            ],
            [
             0.3,
             "#f1b6da"
            ],
            [
             0.4,
             "#fde0ef"
            ],
            [
             0.5,
             "#f7f7f7"
            ],
            [
             0.6,
             "#e6f5d0"
            ],
            [
             0.7,
             "#b8e186"
            ],
            [
             0.8,
             "#7fbc41"
            ],
            [
             0.9,
             "#4d9221"
            ],
            [
             1,
             "#276419"
            ]
           ],
           "sequential": [
            [
             0,
             "#0d0887"
            ],
            [
             0.1111111111111111,
             "#46039f"
            ],
            [
             0.2222222222222222,
             "#7201a8"
            ],
            [
             0.3333333333333333,
             "#9c179e"
            ],
            [
             0.4444444444444444,
             "#bd3786"
            ],
            [
             0.5555555555555556,
             "#d8576b"
            ],
            [
             0.6666666666666666,
             "#ed7953"
            ],
            [
             0.7777777777777778,
             "#fb9f3a"
            ],
            [
             0.8888888888888888,
             "#fdca26"
            ],
            [
             1,
             "#f0f921"
            ]
           ],
           "sequentialminus": [
            [
             0,
             "#0d0887"
            ],
            [
             0.1111111111111111,
             "#46039f"
            ],
            [
             0.2222222222222222,
             "#7201a8"
            ],
            [
             0.3333333333333333,
             "#9c179e"
            ],
            [
             0.4444444444444444,
             "#bd3786"
            ],
            [
             0.5555555555555556,
             "#d8576b"
            ],
            [
             0.6666666666666666,
             "#ed7953"
            ],
            [
             0.7777777777777778,
             "#fb9f3a"
            ],
            [
             0.8888888888888888,
             "#fdca26"
            ],
            [
             1,
             "#f0f921"
            ]
           ]
          },
          "colorway": [
           "#636efa",
           "#EF553B",
           "#00cc96",
           "#ab63fa",
           "#FFA15A",
           "#19d3f3",
           "#FF6692",
           "#B6E880",
           "#FF97FF",
           "#FECB52"
          ],
          "font": {
           "color": "#2a3f5f"
          },
          "geo": {
           "bgcolor": "white",
           "lakecolor": "white",
           "landcolor": "#E5ECF6",
           "showlakes": true,
           "showland": true,
           "subunitcolor": "white"
          },
          "hoverlabel": {
           "align": "left"
          },
          "hovermode": "closest",
          "mapbox": {
           "style": "light"
          },
          "paper_bgcolor": "white",
          "plot_bgcolor": "#E5ECF6",
          "polar": {
           "angularaxis": {
            "gridcolor": "white",
            "linecolor": "white",
            "ticks": ""
           },
           "bgcolor": "#E5ECF6",
           "radialaxis": {
            "gridcolor": "white",
            "linecolor": "white",
            "ticks": ""
           }
          },
          "scene": {
           "xaxis": {
            "backgroundcolor": "#E5ECF6",
            "gridcolor": "white",
            "gridwidth": 2,
            "linecolor": "white",
            "showbackground": true,
            "ticks": "",
            "zerolinecolor": "white"
           },
           "yaxis": {
            "backgroundcolor": "#E5ECF6",
            "gridcolor": "white",
            "gridwidth": 2,
            "linecolor": "white",
            "showbackground": true,
            "ticks": "",
            "zerolinecolor": "white"
           },
           "zaxis": {
            "backgroundcolor": "#E5ECF6",
            "gridcolor": "white",
            "gridwidth": 2,
            "linecolor": "white",
            "showbackground": true,
            "ticks": "",
            "zerolinecolor": "white"
           }
          },
          "shapedefaults": {
           "line": {
            "color": "#2a3f5f"
           }
          },
          "ternary": {
           "aaxis": {
            "gridcolor": "white",
            "linecolor": "white",
            "ticks": ""
           },
           "baxis": {
            "gridcolor": "white",
            "linecolor": "white",
            "ticks": ""
           },
           "bgcolor": "#E5ECF6",
           "caxis": {
            "gridcolor": "white",
            "linecolor": "white",
            "ticks": ""
           }
          },
          "title": {
           "x": 0.05
          },
          "xaxis": {
           "automargin": true,
           "gridcolor": "white",
           "linecolor": "white",
           "ticks": "",
           "title": {
            "standoff": 15
           },
           "zerolinecolor": "white",
           "zerolinewidth": 2
          },
          "yaxis": {
           "automargin": true,
           "gridcolor": "white",
           "linecolor": "white",
           "ticks": "",
           "title": {
            "standoff": 15
           },
           "zerolinecolor": "white",
           "zerolinewidth": 2
          }
         }
        },
        "xaxis": {
         "anchor": "y",
         "domain": [
          0,
          1
         ],
         "title": {
          "text": "variable"
         }
        },
        "yaxis": {
         "anchor": "x",
         "domain": [
          0,
          1
         ],
         "title": {
          "text": "value"
         }
        }
       }
      }
     },
     "metadata": {},
     "output_type": "display_data"
    }
   ],
   "source": [
    "# Plotly boxplot\n",
    "fig = px.box(data)\n",
    "fig.show()"
   ]
  },
  {
   "cell_type": "markdown",
   "metadata": {},
   "source": [
    "### Violin plot"
   ]
  },
  {
   "cell_type": "code",
   "execution_count": 15,
   "metadata": {},
   "outputs": [
    {
     "data": {
      "text/plain": [
       "{'bodies': [<matplotlib.collections.PolyCollection at 0x22b930bca90>],\n",
       " 'cmaxes': <matplotlib.collections.LineCollection at 0x22b911667c0>,\n",
       " 'cmins': <matplotlib.collections.LineCollection at 0x22b930cd0a0>,\n",
       " 'cbars': <matplotlib.collections.LineCollection at 0x22b930cd400>}"
      ]
     },
     "execution_count": 15,
     "metadata": {},
     "output_type": "execute_result"
    },
    {
     "data": {
      "image/png": "[encoded data removed]",
      "text/plain": [
       "<Figure size 300x300 with 1 Axes>"
      ]
     },
     "metadata": {},
     "output_type": "display_data"
    }
   ],
   "source": [
    "# Violin plot\n",
    "x = np.random.randn(1000)\n",
    "fig, ax = plt.subplots(figsize=(3,3), dpi=100)\n",
    "ax.violinplot(x)"
   ]
  },
  {
   "cell_type": "code",
   "execution_count": 16,
   "metadata": {},
   "outputs": [
    {
     "data": {
      "application/vnd.plotly.v1+json": {
       "config": {
        "plotlyServerURL": "https://plot.ly"
       },
       "data": [
        {
         "alignmentgroup": "True",
         "box": {
          "visible": false
         },
         "hovertemplate": "x=%{x}<extra></extra>",
         "legendgroup": "",
         "marker": {
          "color": "#636efa"
         },
         "name": "",
         "offsetgroup": "",
         "orientation": "h",
         "scalegroup": "True",
         "showlegend": false,
         "type": "violin",
         "x": [
          0.363919278691675,
          0.8494247944799853,
          -0.6779963823553105,
          0.6845403836928052,
          0.23027200609054915,
          -0.7941418230199937,
          0.13634888877357246,
          -2.0083199664086866,
          -0.9401937823879281,
          -1.465454703118547,
          -0.11221816248601636,
          -1.2315592694530768,
          -1.2455069788445767,
          0.03283722654903073,
          1.343340057004135,
          0.8269662826898505,
          1.1053298769534803,
          -0.023900406238411942,
          0.25243446354561394,
          -0.9168957332438447,
          -0.7861784816780821,
          -0.5891210863538453,
          0.29070508833090786,
          0.11959829483948659,
          0.06050406073526337,
          -0.93362430335116,
          -0.9643573366365454,
          0.1936191820083199,
          0.5683817872532886,
          -1.957745951090319,
          -1.7684137424013169,
          1.8305585924032073,
          -0.6104433643415155,
          -0.5681018747179223,
          -0.6114190738733802,
          -1.1503172998185127,
          1.503762479102974,
          -0.608284222149981,
          -0.16269015420052962,
          -1.2840565505022923,
          1.6823375654383836,
          -1.2798909620659156,
          -0.5645303554662876,
          0.1014453606192742,
          -0.22462753296635607,
          -0.5644026265750055,
          -0.04979260395129222,
          -0.9776411259330594,
          -0.9960445855633423,
          0.9828442982469919,
          2.586588292485202,
          -1.0240711905019801,
          1.2646244969724412,
          -0.06516780142500635,
          0.059726922553675364,
          -0.9574246928537749,
          0.28914622445943705,
          -0.7061078665008412,
          -0.32562422450228395,
          -0.12293279611082805,
          0.8001162175049905,
          -0.12469167345827918,
          -1.0614662286166514,
          -0.9875623769248371,
          3.636223500604217,
          0.5313113166989817,
          -1.2005008249176559,
          0.8251889871491154,
          0.5220736034534349,
          -1.0140682210206933,
          -0.9269875567572755,
          2.017929903200162,
          0.42337085656187845,
          0.9116013425671322,
          -2.0318631864059657,
          -0.045281387593152686,
          0.7246163142814963,
          0.4622114215999202,
          -1.4862934138594432,
          0.5707806100388927,
          -0.27102766170336634,
          -1.062485283378858,
          1.439450214987719,
          -0.049269193825170914,
          0.5094150467250337,
          0.6017282670046327,
          -1.1692193495316745,
          -2.4782944548894195,
          -1.1002644622057882,
          -1.0345728768788218,
          1.6778416097756,
          0.40634484007149696,
          1.2447202186881383,
          -0.893497332048881,
          0.7693789171804053,
          -1.3735404044978994,
          0.5203317390427623,
          -0.4521517680784391,
          0.38907300214412943,
          0.027236236797158385,
          1.8544515767718486,
          0.04277918698547116,
          -0.7639021201983439,
          0.0020984960742790144,
          0.4784932772478458,
          0.955089876416145,
          -2.6135638059134156,
          -0.6797552633676004,
          -0.07855718819404103,
          0.02087440173147421,
          -0.31783148940638467,
          -0.19259129756168056,
          1.7215161397110466,
          1.1865128976839803,
          -0.18736716908496218,
          1.909166852943572,
          -0.39037147061940025,
          -0.6119813175994581,
          -0.2910961930555487,
          0.02406736128695566,
          -1.1697829706563683,
          0.1344475508625829,
          1.178330147043926,
          -0.6958793310663376,
          -0.4852070698756683,
          -0.34733177167154505,
          -1.0834286348701552,
          -0.5241374682786122,
          -0.4088302406357362,
          -2.1017331090774745,
          0.5218460351246329,
          -0.10635893278352937,
          -0.267597822219921,
          -0.14992029089312095,
          0.842638743347709,
          0.4324666239775688,
          -0.03698400284297818,
          1.2959675676113938,
          0.6955385947182282,
          0.5723819313962599,
          0.16937966583629227,
          -0.9261628589209019,
          0.5977426171184378,
          -0.5395857727370079,
          -0.345323352221311,
          -0.8643051908380119,
          -0.3185902306267175,
          1.7056948418695492,
          1.4734948935867405,
          0.46950638615521323,
          -0.867553959687161,
          1.261145422899592,
          0.5630596355317227,
          -0.13570384485595371,
          -0.001168346767790932,
          -0.41859362034139364,
          1.2739213029314662,
          -0.49428729916553565,
          0.3578884072648973,
          0.6505512236566351,
          -1.4166927875501287,
          0.5185534151541485,
          1.106040061523012,
          0.09617468813892818,
          0.5088242835574723,
          1.119323761859465,
          0.3743745314261449,
          0.7594900560661437,
          -0.556624505620754,
          0.019413143814054252,
          -0.08310011092380992,
          1.4674958765796944,
          0.37815597029134257,
          -0.05851627586271133,
          -0.6332124862822077,
          0.3302074165563117,
          0.5509425206026697,
          -0.41927589323543063,
          -1.426379168167328,
          -0.844459595630951,
          0.5297138615982387,
          1.2266583536390667,
          -0.6554434909449036,
          -0.15067627331699054,
          0.01623628134549802,
          -0.6100878155449738,
          0.9921170552790616,
          0.23538639832620406,
          0.9911229183981853,
          0.6816422389074178,
          -0.5894657190116142,
          1.5738096984851069,
          1.2379318638435015,
          -0.5888755880322422,
          0.35316398988466313,
          2.4293178254933263,
          1.085430049059906,
          0.5843223212278078,
          1.0976340814341978,
          -0.28431606003253573,
          1.3237994637793704,
          -0.5053051429530173,
          -0.1111264062615527,
          -0.06882209166794495,
          0.32048909822725935,
          0.347306808359599,
          -2.325017321061135,
          2.087645543081289,
          0.6911335202470593,
          0.5856853780607401,
          0.51015001501746,
          -0.3466392789098303,
          -2.0411169606340254,
          0.3932889209459614,
          -0.3237230058275692,
          1.6477183262763422,
          -1.0709404868167915,
          -1.3893595724600158,
          -0.09693427042004249,
          0.8588417593271013,
          -2.4631173544023137,
          -0.6509051286405723,
          -0.32832325545780555,
          0.5990491730646217,
          0.07809748765137134,
          0.9127054365182325,
          1.2718172153079375,
          -0.04678121052873606,
          0.31203195304468706,
          0.35387915835495776,
          -1.0470915213893361,
          0.49665704181704395,
          -1.1664507715081682,
          -0.316063742727856,
          0.6887821115518009,
          1.722396920202064,
          -0.19145999315335221,
          0.4787780672488689,
          0.7115593342759925,
          -2.034735767401774,
          0.5968814527463421,
          3.067057361728345,
          0.25971510892053745,
          0.2610461124781762,
          -0.1680693089140991,
          -0.6853495194793243,
          1.3714849038481336,
          0.4280309883273812,
          0.739439457354866,
          1.9869007819594326,
          -0.8564139156308475,
          -0.3406908277941574,
          1.057750492451262,
          -0.5917439915448147,
          -0.4233035907150391,
          1.3059902079276076,
          0.5943122829675158,
          -0.19712093888005974,
          0.5056560921307781,
          -1.98028500930004,
          -0.6420407898461135,
          0.018495693195645938,
          0.052145818871797665,
          0.11267969065194404,
          0.8038659685593861,
          0.3395483214107866,
          -0.18717555687163256,
          0.029203259882784053,
          1.0555089501070924,
          0.8790846933164984,
          -1.0185571882588538,
          0.6070726324369318,
          -0.09863845164479625,
          1.582807821372689,
          -0.1522606716649312,
          -0.7755394013460222,
          -1.3027198752842106,
          -1.0315265532741098,
          0.21346103250155204,
          -0.30752622828132925,
          -0.45341266183546985,
          0.4070096294689707,
          -0.9627468659807692,
          0.4895919938430608,
          0.575327274235746,
          0.8225721611721183,
          -1.8528068324369427,
          1.2038368150568,
          0.8743333705206352,
          -1.7772551174257376,
          1.248923375361557,
          1.5434804406308358,
          -0.23234223754372493,
          2.7678478864480516,
          1.0838974134188601,
          0.03653200904102151,
          0.7744015250149117,
          -0.7346943216761237,
          2.8334650217875095,
          -1.565214906087961,
          0.5982770632472284,
          -0.49399129049415696,
          0.8728958511961395,
          -0.7192214737422081,
          -0.052285346517137045,
          -1.259967939500531,
          -0.6383724682652675,
          0.7177133440914658,
          1.4580382150556477,
          0.1678607360057776,
          -0.05017184929917328,
          -0.4475339993956365,
          0.14762645288900814,
          0.12446705301111395,
          -0.7698705515760271,
          0.5768173717141779,
          -0.44232153515566586,
          0.298916641275855,
          0.9183127702020969,
          0.9971071731701033,
          -0.24466917291213472,
          -0.06645409415587947,
          -1.0344416554746831,
          -1.948237870097817,
          -1.4173842929709455,
          -0.6967586579154038,
          0.9004308841459474,
          0.48941601722101064,
          0.050480851415650986,
          -0.0341068916909454,
          0.6832605125485878,
          -0.2502600800925774,
          0.8185154025191116,
          -0.4816354378656566,
          0.4220417323814353,
          -0.47656661101781,
          -1.349665997352015,
          0.14426297028962531,
          -1.3564680771024018,
          -0.32882474325247596,
          1.1963324771757253,
          0.46242221260088096,
          -0.9117928759143225,
          0.6024792291731281,
          1.4397179408357363,
          -0.29134740675569437,
          1.239052190506905,
          0.5560255554663422,
          -0.19393207392852657,
          -0.49941369978065403,
          1.9653565707770866,
          -0.2979121035809465,
          -1.284750661919023,
          0.15914222851283152,
          0.36476050077474914,
          -1.16445887172147,
          -0.03867589099890684,
          -1.147807728081596,
          -1.5601243541642027,
          -0.3441376560005191,
          0.11944827847333157,
          1.8853575610966444,
          -0.09323799994256766,
          -1.912259834990291,
          0.941778173711955,
          0.0023217587701971757,
          1.1398591054788152,
          2.0593001266048483,
          -0.4849369837151627,
          0.3845871301766537,
          -3.391275854062468,
          0.7092245607563973,
          -0.8543427404945866,
          -0.08484541746081516,
          -0.0034976982570235965,
          0.1164534616116178,
          -0.536836493719273,
          -1.8396333475626563,
          1.222663547067233,
          1.531417354941218,
          0.7390132284842929,
          -0.15497096061700694,
          0.15057600361836987,
          -0.24035606307622098,
          0.9818172769747044,
          -0.6425995588061985,
          0.24324292377570192,
          2.1394038734041585,
          1.8234720461446068,
          -0.2087439863400943,
          -0.1605794721857805,
          -0.1289959213856331,
          1.3840174577478042,
          1.245881965176203,
          1.0266203217819838,
          0.7204066652241683,
          -0.14866706129218554,
          0.7875979919132183,
          -0.02108518290288811,
          0.6783910839032307,
          1.2384032821453743,
          -1.0916194233218954,
          1.5955498641901082,
          -1.1647266480836656,
          -1.0885013992943888,
          -0.8436533566469631,
          0.29949535325937093,
          -0.05928232883386034,
          -0.8168764760477649,
          0.472050208547623,
          0.11267672624114607,
          0.5023016745211638,
          0.6863039655776352,
          1.653813231869931,
          1.9139386615551877,
          -1.0640068288276978,
          -0.6711342325662414,
          0.873772345068593,
          -0.4896970565577644,
          0.3412631536931947,
          -0.23398003313815313,
          0.6395141462701738,
          0.23302785508932078,
          0.5151774406717454,
          -0.2005900906064679,
          0.5783634615985136,
          0.49967646805266236,
          -0.3157359249353051,
          -0.37134230350724773,
          -1.536515074508286,
          -1.5641013933959735,
          0.682426412380021,
          -0.7571254676878573,
          1.0800371936668989,
          0.20718860166395156,
          -1.2260272575220477,
          -0.6550795180272686,
          -0.2770504107198932,
          -0.36588098883433956,
          -0.5163162864366133,
          1.1174162146121362,
          0.18758310870989264,
          0.9470341651485901,
          -0.888451399502601,
          0.8452622603400703,
          0.15800020388384511,
          -0.056034712490698725,
          0.31462914631084704,
          0.27647537607633854,
          1.1762696377468398,
          -0.32221490562349564,
          0.3781961262400703,
          1.9703542671027667,
          -1.2076723164804484,
          -1.7017074824515983,
          0.34855759209224607,
          -0.5532089781861973,
          -0.5061078383426494,
          -1.9404832222649664,
          2.2806691618727757,
          0.22759928633377344,
          -2.4124079101368476,
          -0.6346080809720169,
          0.562315846988093,
          -0.7174835755402471,
          2.7838645814061995,
          -0.8017663157963509,
          -0.6583900399288202,
          0.8411464708021427,
          -0.6140495042573042,
          1.1046547887760312,
          0.8061409940471285,
          0.23856687386817,
          1.7336818743865439,
          -0.9798985611436033,
          -0.5609102852593041,
          -0.8511209720748377,
          0.29008022263252314,
          -0.5648931579912339,
          -0.5206318124845352,
          0.8684432768839576,
          0.9696261175920663,
          1.265007404157378,
          -1.543307036754057,
          1.6904418231671334,
          -0.2005466546550611,
          0.033932228256432925,
          -1.2703196013161169,
          -0.249968321957286,
          -0.4807194980067665,
          1.5120264923899613,
          -1.3956159607894771,
          1.7527333147040984,
          -1.2081593438503855,
          -0.3967270298506741,
          -0.820380781323503,
          0.9852002432735263,
          0.7661826039161601,
          -0.46837049586768204,
          0.2533184685885651,
          -0.13792413152769922,
          0.05022296629268794,
          -0.8913521533391271,
          -1.432996147032539,
          -2.075869315057905,
          0.546948340646217,
          0.5672734799533903,
          0.07392170970906382,
          1.137956113157435,
          1.6686023204663982,
          -1.7030688812372188,
          0.4655212213145057,
          0.6885204065047013,
          1.1659678450523705,
          -1.1824576330405467,
          0.024378768368497353,
          2.194037493449742,
          0.42261063836345214,
          -0.9261971530620292,
          -1.1195813544139726,
          -1.8113008368711532,
          -1.645146473421256,
          1.8564896960667483,
          -1.3111450671531397,
          1.8405439688815017,
          -0.28742593812460243,
          -0.9716109613099047,
          2.2253071535687483,
          0.9935926287427289,
          -0.8689944933965521,
          1.1630727669487182,
          0.13622553684141345,
          1.4039618880195803,
          -2.3830624401793603,
          1.0959859415054074,
          0.8211944903050747,
          1.3630351099491078,
          0.34409939083901786,
          -0.5603183365073879,
          0.7611577620855631,
          -2.2672436285372495,
          -0.1733337273976862,
          1.46134461031242,
          1.427922012274992,
          -0.5100072341033033,
          -0.7028181806884314,
          0.6272652535872827,
          1.8413407062352718,
          0.7995024839445245,
          -1.4709375985038549,
          0.4225696070863761,
          -0.24077017876195136,
          0.5808246901408058,
          -1.8641390272813,
          -0.5305900434586973,
          0.09267650024793206,
          1.7931447768248092,
          0.5372276669790741,
          -1.1138276594261858,
          1.4439945069126436,
          0.5756419224222533,
          2.4811631204458884,
          0.42994196020694936,
          1.5557186021502278,
          1.1170894200793884,
          0.36892460338693944,
          -0.33663022608085147,
          -0.22468755578182284,
          -0.05418602976042271,
          0.26750219135052183,
          -1.537375715079179,
          2.7819854612923276,
          0.21814911832801034,
          -0.4292722922322929,
          0.24146425494162188,
          0.4417413270092288,
          -0.9311939009830671,
          0.4250003659251365,
          -0.5980836567764046,
          1.0057591265848584,
          -0.5617610539666666,
          0.6845504816213553,
          -0.44967281229937733,
          -0.453164467907565,
          -0.8430704206016337,
          -2.402998094446382,
          -1.4873222672445108,
          0.5131908030417163,
          0.6339046556882613,
          -0.07982690219265204,
          -1.7742546264247308,
          0.5809372540372666,
          -1.6006950916954203,
          -0.6800005141268821,
          0.31598404155404347,
          -0.3957535762209048,
          -0.20915043447686218,
          -0.05560749345007837,
          0.004725572968009112,
          -0.38952897107876283,
          0.6133342587037369,
          0.5255217153955444,
          0.4074414281714543,
          -0.0795039525627964,
          1.3329174042734486,
          0.8098489773066724,
          0.9389954764267355,
          2.942819249283987,
          0.062086979283944986,
          -0.38021480148894077,
          -1.8386914513106367,
          -0.5847902558834981,
          1.1569753352952505,
          1.006846096822259,
          -1.207300833786401,
          -2.71250507983415,
          -0.531005581820042,
          0.7016403621764458,
          1.7126312982284606,
          -0.1894434735996479,
          0.13751129228491163,
          0.22537756059999944,
          1.3691211278777615,
          0.7120642744117334,
          -0.5160546476789375,
          0.14394825885763496,
          -0.6237933319187049,
          -1.7486423785603693,
          -0.5073509805104125,
          0.2762173590034049,
          -0.18474499078538972,
          -1.3473888989652745,
          0.18154038925665053,
          -0.35421534046816683,
          -1.7580819283225804,
          -0.16228095962704525,
          -1.590116306035649,
          0.7846333127040152,
          -1.0341441491855345,
          1.3402048062783098,
          -1.1530127761920783,
          1.4673966699978773,
          -0.2208150146620946,
          -0.6598315376932145,
          -0.058601434887419146,
          0.3261486373624039,
          0.5574985121976821,
          -1.081274402797299,
          0.3167745507919241,
          0.2675562163797306,
          -0.7823651823789575,
          -0.14593419129352592,
          0.978093963334866,
          0.17328736252366025,
          -0.7252022277169899,
          -0.22106529498908406,
          2.3968880175961793,
          -0.09023237769752764,
          0.5012630189142595,
          0.8743745725943104,
          0.07594093140149441,
          1.6355526869262573,
          0.040291028199803215,
          0.4298324928702186,
          -1.2932132695183107,
          0.5653454728383518,
          -1.2886954426861106,
          -1.70104732106837,
          0.9578492782769062,
          1.3745980335469679,
          0.6153348353755435,
          0.1163041767264006,
          2.637257688288163,
          -1.8361099782861536,
          0.988615138810746,
          -0.8544423888111067,
          -0.023450040877714115,
          0.07630395572080756,
          0.6917679028070388,
          1.1953256129898466,
          -1.1884686487185547,
          -0.0986515476702039,
          0.32421103256778266,
          1.719127237209115,
          -1.526872759670946,
          1.2676451525327053,
          0.6880471675648482,
          1.4541563262616206,
          -0.36849531615795583,
          1.2306035646000788,
          2.1195800236277997,
          0.7173132857971902,
          0.13022513128697627,
          0.5894351667463273,
          -0.5165368313228323,
          0.4279308102912734,
          1.355709074141485,
          -1.0437136031178582,
          0.4380914215210655,
          1.1274569524417037,
          1.3575388793212462,
          -0.6982936981088064,
          0.8071190253819364,
          -1.1042353736811499,
          1.7311576432968538,
          -1.0489111353301828,
          0.13429518785457875,
          1.252938039105462,
          -1.1259208211742346,
          -0.45342263390536874,
          0.8224739883425055,
          -1.8602978261030887,
          0.34716535618688316,
          -0.26167138098333337,
          -0.5119428999380845,
          -1.9519011183831938,
          -1.2473496431280884,
          0.017168198361219203,
          -0.39686883439710735,
          -0.768684307744954,
          -0.05862575156860628,
          -0.583822308797034,
          0.5408550626242241,
          -0.6172581681804699,
          0.032100368590770666,
          -0.6203012585568067,
          0.389985579840604,
          0.7619296245717906,
          -0.24229291258990773,
          0.4702012621692189,
          0.4811101453572078,
          -1.644689274066128,
          -0.966704706362753,
          -1.3157903451191173,
          -0.28288483526057606,
          1.5833017409950505,
          1.0250676470133961,
          0.13001354777852403,
          0.1668668386297909,
          -0.9269280233004346,
          -0.26648833437833136,
          -0.9367625351405322,
          0.08684559863472284,
          2.194432435002902,
          0.3592771678398554,
          0.9761593120324359,
          0.12141493996003683,
          -0.017001395598318668,
          -0.4178315369531077,
          1.263576068202994,
          -0.5734685568467018,
          0.7081623369653338,
          -1.0887128518162796,
          -1.0393778928254627,
          0.6633055785435172,
          -1.7801164559782179,
          0.06787847956611749,
          -0.25108314258149217,
          0.9742644675827826,
          -1.711121411493316,
          -1.085529321930721,
          -0.22422283463678128,
          -0.2919288320549864,
          -0.3511463371596487,
          0.3782722795253299,
          1.5420721197876506,
          -0.6329850720819932,
          -0.14481718210544567,
          -0.5951166000765051,
          -0.9786849007495974,
          0.5250656857937521,
          1.0775308556096923,
          0.6351275136146356,
          1.27801471231527,
          -0.594104841427866,
          -0.632594595829171,
          0.8467241779528095,
          0.36329007350343234,
          -0.8865040899637182,
          -0.21623102062222224,
          -0.41186406954037,
          1.051573825087804,
          0.3929559831855525,
          2.218979972157771,
          0.2832380165403704,
          -0.1885923865814073,
          -0.6567584310397969,
          0.7981232717971389,
          -0.09319167178965035,
          -0.8661614852365559,
          -0.27964744065658825,
          -0.04131857785515693,
          -0.26284619200063125,
          -0.363717601153097,
          0.9564111218609023,
          -0.9227784320774282,
          -2.0664991950335776,
          -0.05162736989845831,
          1.4718944211045668,
          -0.9115255628866004,
          1.655336729750077,
          0.4477721924909139,
          1.2039724040585165,
          0.3676299404027265,
          -0.3489181818522825,
          -0.056256453911128296,
          0.429769530921752,
          -1.4895036166384985,
          0.5754598737737108,
          0.8706480310313564,
          1.6738983272340255,
          -1.1016082104424285,
          -1.0580800377717616,
          -0.7644549935845794,
          0.3326296244752929,
          0.24903848971221107,
          -0.8894876809294955,
          0.7791101292228522,
          0.16072934775256853,
          -0.5234540679723362,
          -0.3945752565256048,
          -0.7081137314160825,
          0.27100311250556663,
          0.6090841969578596,
          0.6681052827676554,
          -0.7461344723264439,
          1.3001598979278566,
          0.7118523787882943,
          -1.04742368614889,
          -1.362172584296705,
          -1.4385555377103432,
          2.0119064633075823,
          0.9381302744886314,
          0.8805874837941858,
          1.3443242004718827,
          0.16382537028833039,
          0.12275276818797481,
          0.35057530324732156,
          -0.034835959275398815,
          -1.553274696878235,
          0.9063477334939031,
          -0.709698776840232,
          0.5406069996488329,
          -0.6343155263558903,
          -0.14739450441319912,
          1.3306661078939024,
          0.7779508804570487,
          -0.41471053103664574,
          -0.50237352943608,
          0.45723849820761847,
          1.0634048089429289,
          -0.02190063108395662,
          0.11267456924121616,
          -0.1524816402366004,
          0.8128917486481909,
          0.050724252250654314,
          0.7983971386949291,
          0.4400462272638873,
          -1.5592099021936214,
          0.49637500934362405,
          -2.58658981887735,
          0.8578598447804077,
          0.7683177863298719,
          0.04704430300294935,
          -1.5851589172094385,
          1.6804628581110288,
          -1.5150949253982842,
          0.36711070149351305,
          -1.3546978846214808,
          -0.7830214663216059,
          -0.1553641939525992,
          -0.8562864229184258,
          0.9796194468731739,
          -0.18489605633556408,
          0.7786010629248812,
          -1.4668737985557556,
          0.7047072347947618,
          0.5310799212107671,
          0.6020657025522649,
          0.6035406108362774,
          0.9139020127103997,
          -0.8829289560976222,
          0.24273394803212173,
          0.23710939153958124,
          -1.249036295531884,
          0.2145597363251308,
          -1.2594915795583466,
          -0.49326594483787467,
          -0.4125653299849817,
          0.06882061471797465,
          -0.20035040847736488,
          -1.1415976898354083,
          0.41131849338920784,
          -1.081081482195376,
          1.7414615474318536,
          1.116963787536976,
          0.6180299545017387,
          1.1307948383065682,
          -3.772404224605007,
          -0.3228980928993758,
          -1.5596657924229107,
          -0.10786939736853146,
          1.4519270180687214,
          -0.88915943924536,
          -0.931243793189202,
          0.9367438559513092,
          0.7373435969797777,
          -0.69846544092401,
          0.6282311819723332,
          -0.9275081280815558,
          0.15968331452947282,
          -1.3830473213128531,
          0.29605999068453664,
          0.8977488883333318,
          -0.23444520132996902,
          0.7452485245078384,
          -0.8065633295747454,
          -0.931643354031661,
          2.3355393979382226,
          -0.39793519163294166,
          1.2337057532403173,
          1.3370572894679749,
          -0.670205051993844,
          -0.8701262707495441,
          -0.9732064938010757,
          1.035238532137175,
          1.5686074793378937,
          -2.072102332684749,
          0.351189660703541,
          0.762147777972716,
          0.15528885848088517,
          0.3957555234955585,
          -0.21571976530312828,
          0.7426813147636383,
          1.5419808274313855,
          1.064857840546869,
          -0.8278033374397054,
          -1.4588422474078895,
          -0.4670246311287281,
          -1.900162033678404,
          1.3379723593295176,
          1.41837232445248,
          1.2411042215337318,
          -0.4989021817250828,
          0.020915594649509643,
          0.20308920785690082,
          -1.4854572963553556,
          0.3917994011986141,
          1.5373826826267718,
          -0.6348621984009164,
          -1.347983231262943,
          -0.07649639339377394,
          -0.6237317522647643,
          -1.1860519280887805,
          1.5248724943683039,
          0.40539966928484406,
          -1.4710856637055434,
          1.7379787600195982,
          0.6775302894977959,
          0.6359846528400266,
          0.40839551001019425,
          -0.06184038616661834,
          -1.0023345493718987,
          0.6817928502656377,
          -0.28794369712630447,
          1.4279963556445625,
          1.224911693618376,
          -1.5398575312229925,
          2.0111311619511567,
          0.24903059853723306,
          0.5586732215999785,
          -0.3131998945641582,
          -1.1791549895764368,
          0.8207811164519363,
          -0.012451297513654909,
          -0.7071963313126216,
          -0.07464890858837678,
          -1.1442801963270763,
          -2.059132764694259,
          1.4079143231334308,
          0.827730542513021,
          -0.5996249521773377,
          -1.1188196350412603,
          0.3529188912311945,
          0.5357513490435805,
          1.0093228141398876,
          -0.34382492115525715,
          -1.582775453031521,
          -0.276914503398069,
          -1.4673643262141063,
          0.6065475688400995,
          0.9567174900440133,
          0.9012489408411766,
          1.449382780846813,
          0.8034477939363616,
          -0.04391739764866463,
          0.6591250175433009,
          0.2969749725895256,
          0.1455463621415875,
          -0.31121396733038015
         ],
         "x0": " ",
         "xaxis": "x",
         "y0": " ",
         "yaxis": "y"
        }
       ],
       "layout": {
        "legend": {
         "tracegroupgap": 0
        },
        "margin": {
         "t": 60
        },
        "template": {
         "data": {
          "bar": [
           {
            "error_x": {
             "color": "#2a3f5f"
            },
            "error_y": {
             "color": "#2a3f5f"
            },
            "marker": {
             "line": {
              "color": "#E5ECF6",
              "width": 0.5
             },
             "pattern": {
              "fillmode": "overlay",
              "size": 10,
              "solidity": 0.2
             }
            },
            "type": "bar"
           }
          ],
          "barpolar": [
           {
            "marker": {
             "line": {
              "color": "#E5ECF6",
              "width": 0.5
             },
             "pattern": {
              "fillmode": "overlay",
              "size": 10,
              "solidity": 0.2
             }
            },
            "type": "barpolar"
           }
          ],
          "carpet": [
           {
            "aaxis": {
             "endlinecolor": "#2a3f5f",
             "gridcolor": "white",
             "linecolor": "white",
             "minorgridcolor": "white",
             "startlinecolor": "#2a3f5f"
            },
            "baxis": {
             "endlinecolor": "#2a3f5f",
             "gridcolor": "white",
             "linecolor": "white",
             "minorgridcolor": "white",
             "startlinecolor": "#2a3f5f"
            },
            "type": "carpet"
           }
          ],
          "choropleth": [
           {
            "colorbar": {
             "outlinewidth": 0,
             "ticks": ""
            },
            "type": "choropleth"
           }
          ],
          "contour": [
           {
            "colorbar": {
             "outlinewidth": 0,
             "ticks": ""
            },
            "colorscale": [
             [
              0,
              "#0d0887"
             ],
             [
              0.1111111111111111,
              "#46039f"
             ],
             [
              0.2222222222222222,
              "#7201a8"
             ],
             [
              0.3333333333333333,
              "#9c179e"
             ],
             [
              0.4444444444444444,
              "#bd3786"
             ],
             [
              0.5555555555555556,
              "#d8576b"
             ],
             [
              0.6666666666666666,
              "#ed7953"
             ],
             [
              0.7777777777777778,
              "#fb9f3a"
             ],
             [
              0.8888888888888888,
              "#fdca26"
             ],
             [
              1,
              "#f0f921"
             ]
            ],
            "type": "contour"
           }
          ],
          "contourcarpet": [
           {
            "colorbar": {
             "outlinewidth": 0,
             "ticks": ""
            },
            "type": "contourcarpet"
           }
          ],
          "heatmap": [
           {
            "colorbar": {
             "outlinewidth": 0,
             "ticks": ""
            },
            "colorscale": [
             [
              0,
              "#0d0887"
             ],
             [
              0.1111111111111111,
              "#46039f"
             ],
             [
              0.2222222222222222,
              "#7201a8"
             ],
             [
              0.3333333333333333,
              "#9c179e"
             ],
             [
              0.4444444444444444,
              "#bd3786"
             ],
             [
              0.5555555555555556,
              "#d8576b"
             ],
             [
              0.6666666666666666,
              "#ed7953"
             ],
             [
              0.7777777777777778,
              "#fb9f3a"
             ],
             [
              0.8888888888888888,
              "#fdca26"
             ],
             [
              1,
              "#f0f921"
             ]
            ],
            "type": "heatmap"
           }
          ],
          "heatmapgl": [
           {
            "colorbar": {
             "outlinewidth": 0,
             "ticks": ""
            },
            "colorscale": [
             [
              0,
              "#0d0887"
             ],
             [
              0.1111111111111111,
              "#46039f"
             ],
             [
              0.2222222222222222,
              "#7201a8"
             ],
             [
              0.3333333333333333,
              "#9c179e"
             ],
             [
              0.4444444444444444,
              "#bd3786"
             ],
             [
              0.5555555555555556,
              "#d8576b"
             ],
             [
              0.6666666666666666,
              "#ed7953"
             ],
             [
              0.7777777777777778,
              "#fb9f3a"
             ],
             [
              0.8888888888888888,
              "#fdca26"
             ],
             [
              1,
              "#f0f921"
             ]
            ],
            "type": "heatmapgl"
           }
          ],
          "histogram": [
           {
            "marker": {
             "pattern": {
              "fillmode": "overlay",
              "size": 10,
              "solidity": 0.2
             }
            },
            "type": "histogram"
           }
          ],
          "histogram2d": [
           {
            "colorbar": {
             "outlinewidth": 0,
             "ticks": ""
            },
            "colorscale": [
             [
              0,
              "#0d0887"
             ],
             [
              0.1111111111111111,
              "#46039f"
             ],
             [
              0.2222222222222222,
              "#7201a8"
             ],
             [
              0.3333333333333333,
              "#9c179e"
             ],
             [
              0.4444444444444444,
              "#bd3786"
             ],
             [
              0.5555555555555556,
              "#d8576b"
             ],
             [
              0.6666666666666666,
              "#ed7953"
             ],
             [
              0.7777777777777778,
              "#fb9f3a"
             ],
             [
              0.8888888888888888,
              "#fdca26"
             ],
             [
              1,
              "#f0f921"
             ]
            ],
            "type": "histogram2d"
           }
          ],
          "histogram2dcontour": [
           {
            "colorbar": {
             "outlinewidth": 0,
             "ticks": ""
            },
            "colorscale": [
             [
              0,
              "#0d0887"
             ],
             [
              0.1111111111111111,
              "#46039f"
             ],
             [
              0.2222222222222222,
              "#7201a8"
             ],
             [
              0.3333333333333333,
              "#9c179e"
             ],
             [
              0.4444444444444444,
              "#bd3786"
             ],
             [
              0.5555555555555556,
              "#d8576b"
             ],
             [
              0.6666666666666666,
              "#ed7953"
             ],
             [
              0.7777777777777778,
              "#fb9f3a"
             ],
             [
              0.8888888888888888,
              "#fdca26"
             ],
             [
              1,
              "#f0f921"
             ]
            ],
            "type": "histogram2dcontour"
           }
          ],
          "mesh3d": [
           {
            "colorbar": {
             "outlinewidth": 0,
             "ticks": ""
            },
            "type": "mesh3d"
           }
          ],
          "parcoords": [
           {
            "line": {
             "colorbar": {
              "outlinewidth": 0,
              "ticks": ""
             }
            },
            "type": "parcoords"
           }
          ],
          "pie": [
           {
            "automargin": true,
            "type": "pie"
           }
          ],
          "scatter": [
           {
            "fillpattern": {
             "fillmode": "overlay",
             "size": 10,
             "solidity": 0.2
            },
            "type": "scatter"
           }
          ],
          "scatter3d": [
           {
            "line": {
             "colorbar": {
              "outlinewidth": 0,
              "ticks": ""
             }
            },
            "marker": {
             "colorbar": {
              "outlinewidth": 0,
              "ticks": ""
             }
            },
            "type": "scatter3d"
           }
          ],
          "scattercarpet": [
           {
            "marker": {
             "colorbar": {
              "outlinewidth": 0,
              "ticks": ""
             }
            },
            "type": "scattercarpet"
           }
          ],
          "scattergeo": [
           {
            "marker": {
             "colorbar": {
              "outlinewidth": 0,
              "ticks": ""
             }
            },
            "type": "scattergeo"
           }
          ],
          "scattergl": [
           {
            "marker": {
             "colorbar": {
              "outlinewidth": 0,
              "ticks": ""
             }
            },
            "type": "scattergl"
           }
          ],
          "scattermapbox": [
           {
            "marker": {
             "colorbar": {
              "outlinewidth": 0,
              "ticks": ""
             }
            },
            "type": "scattermapbox"
           }
          ],
          "scatterpolar": [
           {
            "marker": {
             "colorbar": {
              "outlinewidth": 0,
              "ticks": ""
             }
            },
            "type": "scatterpolar"
           }
          ],
          "scatterpolargl": [
           {
            "marker": {
             "colorbar": {
              "outlinewidth": 0,
              "ticks": ""
             }
            },
            "type": "scatterpolargl"
           }
          ],
          "scatterternary": [
           {
            "marker": {
             "colorbar": {
              "outlinewidth": 0,
              "ticks": ""
             }
            },
            "type": "scatterternary"
           }
          ],
          "surface": [
           {
            "colorbar": {
             "outlinewidth": 0,
             "ticks": ""
            },
            "colorscale": [
             [
              0,
              "#0d0887"
             ],
             [
              0.1111111111111111,
              "#46039f"
             ],
             [
              0.2222222222222222,
              "#7201a8"
             ],
             [
              0.3333333333333333,
              "#9c179e"
             ],
             [
              0.4444444444444444,
              "#bd3786"
             ],
             [
              0.5555555555555556,
              "#d8576b"
             ],
             [
              0.6666666666666666,
              "#ed7953"
             ],
             [
              0.7777777777777778,
              "#fb9f3a"
             ],
             [
              0.8888888888888888,
              "#fdca26"
             ],
             [
              1,
              "#f0f921"
             ]
            ],
            "type": "surface"
           }
          ],
          "table": [
           {
            "cells": {
             "fill": {
              "color": "#EBF0F8"
             },
             "line": {
              "color": "white"
             }
            },
            "header": {
             "fill": {
              "color": "#C8D4E3"
             },
             "line": {
              "color": "white"
             }
            },
            "type": "table"
           }
          ]
         },
         "layout": {
          "annotationdefaults": {
           "arrowcolor": "#2a3f5f",
           "arrowhead": 0,
           "arrowwidth": 1
          },
          "autotypenumbers": "strict",
          "coloraxis": {
           "colorbar": {
            "outlinewidth": 0,
            "ticks": ""
           }
          },
          "colorscale": {
           "diverging": [
            [
             0,
             "#8e0152"
            ],
            [
             0.1,
             "#c51b7d"
            ],
            [
             0.2,
             "#de77ae"
            ],
            [
             0.3,
             "#f1b6da"
            ],
            [
             0.4,
             "#fde0ef"
            ],
            [
             0.5,
             "#f7f7f7"
            ],
            [
             0.6,
             "#e6f5d0"
            ],
            [
             0.7,
             "#b8e186"
            ],
            [
             0.8,
             "#7fbc41"
            ],
            [
             0.9,
             "#4d9221"
            ],
            [
             1,
             "#276419"
            ]
           ],
           "sequential": [
            [
             0,
             "#0d0887"
            ],
            [
             0.1111111111111111,
             "#46039f"
            ],
            [
             0.2222222222222222,
             "#7201a8"
            ],
            [
             0.3333333333333333,
             "#9c179e"
            ],
            [
             0.4444444444444444,
             "#bd3786"
            ],
            [
             0.5555555555555556,
             "#d8576b"
            ],
            [
             0.6666666666666666,
             "#ed7953"
            ],
            [
             0.7777777777777778,
             "#fb9f3a"
            ],
            [
             0.8888888888888888,
             "#fdca26"
            ],
            [
             1,
             "#f0f921"
            ]
           ],
           "sequentialminus": [
            [
             0,
             "#0d0887"
            ],
            [
             0.1111111111111111,
             "#46039f"
            ],
            [
             0.2222222222222222,
             "#7201a8"
            ],
            [
             0.3333333333333333,
             "#9c179e"
            ],
            [
             0.4444444444444444,
             "#bd3786"
            ],
            [
             0.5555555555555556,
             "#d8576b"
            ],
            [
             0.6666666666666666,
             "#ed7953"
            ],
            [
             0.7777777777777778,
             "#fb9f3a"
            ],
            [
             0.8888888888888888,
             "#fdca26"
            ],
            [
             1,
             "#f0f921"
            ]
           ]
          },
          "colorway": [
           "#636efa",
           "#EF553B",
           "#00cc96",
           "#ab63fa",
           "#FFA15A",
           "#19d3f3",
           "#FF6692",
           "#B6E880",
           "#FF97FF",
           "#FECB52"
          ],
          "font": {
           "color": "#2a3f5f"
          },
          "geo": {
           "bgcolor": "white",
           "lakecolor": "white",
           "landcolor": "#E5ECF6",
           "showlakes": true,
           "showland": true,
           "subunitcolor": "white"
          },
          "hoverlabel": {
           "align": "left"
          },
          "hovermode": "closest",
          "mapbox": {
           "style": "light"
          },
          "paper_bgcolor": "white",
          "plot_bgcolor": "#E5ECF6",
          "polar": {
           "angularaxis": {
            "gridcolor": "white",
            "linecolor": "white",
            "ticks": ""
           },
           "bgcolor": "#E5ECF6",
           "radialaxis": {
            "gridcolor": "white",
            "linecolor": "white",
            "ticks": ""
           }
          },
          "scene": {
           "xaxis": {
            "backgroundcolor": "#E5ECF6",
            "gridcolor": "white",
            "gridwidth": 2,
            "linecolor": "white",
            "showbackground": true,
            "ticks": "",
            "zerolinecolor": "white"
           },
           "yaxis": {
            "backgroundcolor": "#E5ECF6",
            "gridcolor": "white",
            "gridwidth": 2,
            "linecolor": "white",
            "showbackground": true,
            "ticks": "",
            "zerolinecolor": "white"
           },
           "zaxis": {
            "backgroundcolor": "#E5ECF6",
            "gridcolor": "white",
            "gridwidth": 2,
            "linecolor": "white",
            "showbackground": true,
            "ticks": "",
            "zerolinecolor": "white"
           }
          },
          "shapedefaults": {
           "line": {
            "color": "#2a3f5f"
           }
          },
          "ternary": {
           "aaxis": {
            "gridcolor": "white",
            "linecolor": "white",
            "ticks": ""
           },
           "baxis": {
            "gridcolor": "white",
            "linecolor": "white",
            "ticks": ""
           },
           "bgcolor": "#E5ECF6",
           "caxis": {
            "gridcolor": "white",
            "linecolor": "white",
            "ticks": ""
           }
          },
          "title": {
           "x": 0.05
          },
          "xaxis": {
           "automargin": true,
           "gridcolor": "white",
           "linecolor": "white",
           "ticks": "",
           "title": {
            "standoff": 15
           },
           "zerolinecolor": "white",
           "zerolinewidth": 2
          },
          "yaxis": {
           "automargin": true,
           "gridcolor": "white",
           "linecolor": "white",
           "ticks": "",
           "title": {
            "standoff": 15
           },
           "zerolinecolor": "white",
           "zerolinewidth": 2
          }
         }
        },
        "violinmode": "group",
        "xaxis": {
         "anchor": "y",
         "domain": [
          0,
          1
         ],
         "title": {
          "text": "x"
         }
        },
        "yaxis": {
         "anchor": "x",
         "domain": [
          0,
          1
         ]
        }
       }
      }
     },
     "metadata": {},
     "output_type": "display_data"
    }
   ],
   "source": [
    "# Plotly violin plot\n",
    "fig = px.violin(x=x)\n",
    "fig.show()"
   ]
  },
  {
   "cell_type": "markdown",
   "metadata": {},
   "source": [
    "### Pie chart"
   ]
  },
  {
   "cell_type": "code",
   "execution_count": null,
   "metadata": {},
   "outputs": [],
   "source": [
    "# Pie chart\n",
    "labels = ['A', 'B', 'C', 'D']\n",
    "sizes = [25, 25, 25, 25]\n",
    "fig, ax = plt.subplots(figsize=(3,3), dpi=100)\n",
    "ax.pie(sizes, labels=labels)"
   ]
  },
  {
   "cell_type": "code",
   "execution_count": null,
   "metadata": {},
   "outputs": [],
   "source": [
    "# Plotly pie chart\n",
    "fig = px.pie(values=sizes, names=labels)\n",
    "fig.show()"
   ]
  },
  {
   "cell_type": "markdown",
   "metadata": {},
   "source": [
    "### Heatmap"
   ]
  },
  {
   "cell_type": "code",
   "execution_count": 17,
   "metadata": {},
   "outputs": [
    {
     "data": {
      "text/plain": [
       "<matplotlib.image.AxesImage at 0x22b930fd040>"
      ]
     },
     "execution_count": 17,
     "metadata": {},
     "output_type": "execute_result"
    },
    {
     "data": {
      "image/png": "[encoded data removed]",
      "text/plain": [
       "<Figure size 300x300 with 1 Axes>"
      ]
     },
     "metadata": {},
     "output_type": "display_data"
    }
   ],
   "source": [
    "# Heatmap\n",
    "data = np.random.rand(3,3)\n",
    "fig, ax = plt.subplots(figsize=(3,3), dpi=100)\n",
    "ax.imshow(data)"
   ]
  },
  {
   "cell_type": "code",
   "execution_count": 18,
   "metadata": {},
   "outputs": [
    {
     "data": {
      "application/vnd.plotly.v1+json": {
       "config": {
        "plotlyServerURL": "https://plot.ly"
       },
       "data": [
        {
         "coloraxis": "coloraxis",
         "hovertemplate": "x: %{x}<br>y: %{y}<br>color: %{z}<extra></extra>",
         "name": "0",
         "type": "heatmap",
         "xaxis": "x",
         "yaxis": "y",
         "z": [
          [
           0.0980527442589223,
           0.46510165621222277,
           0.7687852191058018
          ],
          [
           0.20152211244917995,
           0.8917754339664713,
           0.30451456678156597
          ],
          [
           0.04289348396645076,
           0.15958082173377364,
           0.2556303222549049
          ]
         ]
        }
       ],
       "layout": {
        "coloraxis": {
         "colorscale": [
          [
           0,
           "#0d0887"
          ],
          [
           0.1111111111111111,
           "#46039f"
          ],
          [
           0.2222222222222222,
           "#7201a8"
          ],
          [
           0.3333333333333333,
           "#9c179e"
          ],
          [
           0.4444444444444444,
           "#bd3786"
          ],
          [
           0.5555555555555556,
           "#d8576b"
          ],
          [
           0.6666666666666666,
           "#ed7953"
          ],
          [
           0.7777777777777778,
           "#fb9f3a"
          ],
          [
           0.8888888888888888,
           "#fdca26"
          ],
          [
           1,
           "#f0f921"
          ]
         ]
        },
        "margin": {
         "t": 60
        },
        "template": {
         "data": {
          "bar": [
           {
            "error_x": {
             "color": "#2a3f5f"
            },
            "error_y": {
             "color": "#2a3f5f"
            },
            "marker": {
             "line": {
              "color": "#E5ECF6",
              "width": 0.5
             },
             "pattern": {
              "fillmode": "overlay",
              "size": 10,
              "solidity": 0.2
             }
            },
            "type": "bar"
           }
          ],
          "barpolar": [
           {
            "marker": {
             "line": {
              "color": "#E5ECF6",
              "width": 0.5
             },
             "pattern": {
              "fillmode": "overlay",
              "size": 10,
              "solidity": 0.2
             }
            },
            "type": "barpolar"
           }
          ],
          "carpet": [
           {
            "aaxis": {
             "endlinecolor": "#2a3f5f",
             "gridcolor": "white",
             "linecolor": "white",
             "minorgridcolor": "white",
             "startlinecolor": "#2a3f5f"
            },
            "baxis": {
             "endlinecolor": "#2a3f5f",
             "gridcolor": "white",
             "linecolor": "white",
             "minorgridcolor": "white",
             "startlinecolor": "#2a3f5f"
            },
            "type": "carpet"
           }
          ],
          "choropleth": [
           {
            "colorbar": {
             "outlinewidth": 0,
             "ticks": ""
            },
            "type": "choropleth"
           }
          ],
          "contour": [
           {
            "colorbar": {
             "outlinewidth": 0,
             "ticks": ""
            },
            "colorscale": [
             [
              0,
              "#0d0887"
             ],
             [
              0.1111111111111111,
              "#46039f"
             ],
             [
              0.2222222222222222,
              "#7201a8"
             ],
             [
              0.3333333333333333,
              "#9c179e"
             ],
             [
              0.4444444444444444,
              "#bd3786"
             ],
             [
              0.5555555555555556,
              "#d8576b"
             ],
             [
              0.6666666666666666,
              "#ed7953"
             ],
             [
              0.7777777777777778,
              "#fb9f3a"
             ],
             [
              0.8888888888888888,
              "#fdca26"
             ],
             [
              1,
              "#f0f921"
             ]
            ],
            "type": "contour"
           }
          ],
          "contourcarpet": [
           {
            "colorbar": {
             "outlinewidth": 0,
             "ticks": ""
            },
            "type": "contourcarpet"
           }
          ],
          "heatmap": [
           {
            "colorbar": {
             "outlinewidth": 0,
             "ticks": ""
            },
            "colorscale": [
             [
              0,
              "#0d0887"
             ],
             [
              0.1111111111111111,
              "#46039f"
             ],
             [
              0.2222222222222222,
              "#7201a8"
             ],
             [
              0.3333333333333333,
              "#9c179e"
             ],
             [
              0.4444444444444444,
              "#bd3786"
             ],
             [
              0.5555555555555556,
              "#d8576b"
             ],
             [
              0.6666666666666666,
              "#ed7953"
             ],
             [
              0.7777777777777778,
              "#fb9f3a"
             ],
             [
              0.8888888888888888,
              "#fdca26"
             ],
             [
              1,
              "#f0f921"
             ]
            ],
            "type": "heatmap"
           }
          ],
          "heatmapgl": [
           {
            "colorbar": {
             "outlinewidth": 0,
             "ticks": ""
            },
            "colorscale": [
             [
              0,
              "#0d0887"
             ],
             [
              0.1111111111111111,
              "#46039f"
             ],
             [
              0.2222222222222222,
              "#7201a8"
             ],
             [
              0.3333333333333333,
              "#9c179e"
             ],
             [
              0.4444444444444444,
              "#bd3786"
             ],
             [
              0.5555555555555556,
              "#d8576b"
             ],
             [
              0.6666666666666666,
              "#ed7953"
             ],
             [
              0.7777777777777778,
              "#fb9f3a"
             ],
             [
              0.8888888888888888,
              "#fdca26"
             ],
             [
              1,
              "#f0f921"
             ]
            ],
            "type": "heatmapgl"
           }
          ],
          "histogram": [
           {
            "marker": {
             "pattern": {
              "fillmode": "overlay",
              "size": 10,
              "solidity": 0.2
             }
            },
            "type": "histogram"
           }
          ],
          "histogram2d": [
           {
            "colorbar": {
             "outlinewidth": 0,
             "ticks": ""
            },
            "colorscale": [
             [
              0,
              "#0d0887"
             ],
             [
              0.1111111111111111,
              "#46039f"
             ],
             [
              0.2222222222222222,
              "#7201a8"
             ],
             [
              0.3333333333333333,
              "#9c179e"
             ],
             [
              0.4444444444444444,
              "#bd3786"
             ],
             [
              0.5555555555555556,
              "#d8576b"
             ],
             [
              0.6666666666666666,
              "#ed7953"
             ],
             [
              0.7777777777777778,
              "#fb9f3a"
             ],
             [
              0.8888888888888888,
              "#fdca26"
             ],
             [
              1,
              "#f0f921"
             ]
            ],
            "type": "histogram2d"
           }
          ],
          "histogram2dcontour": [
           {
            "colorbar": {
             "outlinewidth": 0,
             "ticks": ""
            },
            "colorscale": [
             [
              0,
              "#0d0887"
             ],
             [
              0.1111111111111111,
              "#46039f"
             ],
             [
              0.2222222222222222,
              "#7201a8"
             ],
             [
              0.3333333333333333,
              "#9c179e"
             ],
             [
              0.4444444444444444,
              "#bd3786"
             ],
             [
              0.5555555555555556,
              "#d8576b"
             ],
             [
              0.6666666666666666,
              "#ed7953"
             ],
             [
              0.7777777777777778,
              "#fb9f3a"
             ],
             [
              0.8888888888888888,
              "#fdca26"
             ],
             [
              1,
              "#f0f921"
             ]
            ],
            "type": "histogram2dcontour"
           }
          ],
          "mesh3d": [
           {
            "colorbar": {
             "outlinewidth": 0,
             "ticks": ""
            },
            "type": "mesh3d"
           }
          ],
          "parcoords": [
           {
            "line": {
             "colorbar": {
              "outlinewidth": 0,
              "ticks": ""
             }
            },
            "type": "parcoords"
           }
          ],
          "pie": [
           {
            "automargin": true,
            "type": "pie"
           }
          ],
          "scatter": [
           {
            "fillpattern": {
             "fillmode": "overlay",
             "size": 10,
             "solidity": 0.2
            },
            "type": "scatter"
           }
          ],
          "scatter3d": [
           {
            "line": {
             "colorbar": {
              "outlinewidth": 0,
              "ticks": ""
             }
            },
            "marker": {
             "colorbar": {
              "outlinewidth": 0,
              "ticks": ""
             }
            },
            "type": "scatter3d"
           }
          ],
          "scattercarpet": [
           {
            "marker": {
             "colorbar": {
              "outlinewidth": 0,
              "ticks": ""
             }
            },
            "type": "scattercarpet"
           }
          ],
          "scattergeo": [
           {
            "marker": {
             "colorbar": {
              "outlinewidth": 0,
              "ticks": ""
             }
            },
            "type": "scattergeo"
           }
          ],
          "scattergl": [
           {
            "marker": {
             "colorbar": {
              "outlinewidth": 0,
              "ticks": ""
             }
            },
            "type": "scattergl"
           }
          ],
          "scattermapbox": [
           {
            "marker": {
             "colorbar": {
              "outlinewidth": 0,
              "ticks": ""
             }
            },
            "type": "scattermapbox"
           }
          ],
          "scatterpolar": [
           {
            "marker": {
             "colorbar": {
              "outlinewidth": 0,
              "ticks": ""
             }
            },
            "type": "scatterpolar"
           }
          ],
          "scatterpolargl": [
           {
            "marker": {
             "colorbar": {
              "outlinewidth": 0,
              "ticks": ""
             }
            },
            "type": "scatterpolargl"
           }
          ],
          "scatterternary": [
           {
            "marker": {
             "colorbar": {
              "outlinewidth": 0,
              "ticks": ""
             }
            },
            "type": "scatterternary"
           }
          ],
          "surface": [
           {
            "colorbar": {
             "outlinewidth": 0,
             "ticks": ""
            },
            "colorscale": [
             [
              0,
              "#0d0887"
             ],
             [
              0.1111111111111111,
              "#46039f"
             ],
             [
              0.2222222222222222,
              "#7201a8"
             ],
             [
              0.3333333333333333,
              "#9c179e"
             ],
             [
              0.4444444444444444,
              "#bd3786"
             ],
             [
              0.5555555555555556,
              "#d8576b"
             ],
             [
              0.6666666666666666,
              "#ed7953"
             ],
             [
              0.7777777777777778,
              "#fb9f3a"
             ],
             [
              0.8888888888888888,
              "#fdca26"
             ],
             [
              1,
              "#f0f921"
             ]
            ],
            "type": "surface"
           }
          ],
          "table": [
           {
            "cells": {
             "fill": {
              "color": "#EBF0F8"
             },
             "line": {
              "color": "white"
             }
            },
            "header": {
             "fill": {
              "color": "#C8D4E3"
             },
             "line": {
              "color": "white"
             }
            },
            "type": "table"
           }
          ]
         },
         "layout": {
          "annotationdefaults": {
           "arrowcolor": "#2a3f5f",
           "arrowhead": 0,
           "arrowwidth": 1
          },
          "autotypenumbers": "strict",
          "coloraxis": {
           "colorbar": {
            "outlinewidth": 0,
            "ticks": ""
           }
          },
          "colorscale": {
           "diverging": [
            [
             0,
             "#8e0152"
            ],
            [
             0.1,
             "#c51b7d"
            ],
            [
             0.2,
             "#de77ae"
            ],
            [
             0.3,
             "#f1b6da"
            ],
            [
             0.4,
             "#fde0ef"
            ],
            [
             0.5,
             "#f7f7f7"
            ],
            [
             0.6,
             "#e6f5d0"
            ],
            [
             0.7,
             "#b8e186"
            ],
            [
             0.8,
             "#7fbc41"
            ],
            [
             0.9,
             "#4d9221"
            ],
            [
             1,
             "#276419"
            ]
           ],
           "sequential": [
            [
             0,
             "#0d0887"
            ],
            [
             0.1111111111111111,
             "#46039f"
            ],
            [
             0.2222222222222222,
             "#7201a8"
            ],
            [
             0.3333333333333333,
             "#9c179e"
            ],
            [
             0.4444444444444444,
             "#bd3786"
            ],
            [
             0.5555555555555556,
             "#d8576b"
            ],
            [
             0.6666666666666666,
             "#ed7953"
            ],
            [
             0.7777777777777778,
             "#fb9f3a"
            ],
            [
             0.8888888888888888,
             "#fdca26"
            ],
            [
             1,
             "#f0f921"
            ]
           ],
           "sequentialminus": [
            [
             0,
             "#0d0887"
            ],
            [
             0.1111111111111111,
             "#46039f"
            ],
            [
             0.2222222222222222,
             "#7201a8"
            ],
            [
             0.3333333333333333,
             "#9c179e"
            ],
            [
             0.4444444444444444,
             "#bd3786"
            ],
            [
             0.5555555555555556,
             "#d8576b"
            ],
            [
             0.6666666666666666,
             "#ed7953"
            ],
            [
             0.7777777777777778,
             "#fb9f3a"
            ],
            [
             0.8888888888888888,
             "#fdca26"
            ],
            [
             1,
             "#f0f921"
            ]
           ]
          },
          "colorway": [
           "#636efa",
           "#EF553B",
           "#00cc96",
           "#ab63fa",
           "#FFA15A",
           "#19d3f3",
           "#FF6692",
           "#B6E880",
           "#FF97FF",
           "#FECB52"
          ],
          "font": {
           "color": "#2a3f5f"
          },
          "geo": {
           "bgcolor": "white",
           "lakecolor": "white",
           "landcolor": "#E5ECF6",
           "showlakes": true,
           "showland": true,
           "subunitcolor": "white"
          },
          "hoverlabel": {
           "align": "left"
          },
          "hovermode": "closest",
          "mapbox": {
           "style": "light"
          },
          "paper_bgcolor": "white",
          "plot_bgcolor": "#E5ECF6",
          "polar": {
           "angularaxis": {
            "gridcolor": "white",
            "linecolor": "white",
            "ticks": ""
           },
           "bgcolor": "#E5ECF6",
           "radialaxis": {
            "gridcolor": "white",
            "linecolor": "white",
            "ticks": ""
           }
          },
          "scene": {
           "xaxis": {
            "backgroundcolor": "#E5ECF6",
            "gridcolor": "white",
            "gridwidth": 2,
            "linecolor": "white",
            "showbackground": true,
            "ticks": "",
            "zerolinecolor": "white"
           },
           "yaxis": {
            "backgroundcolor": "#E5ECF6",
            "gridcolor": "white",
            "gridwidth": 2,
            "linecolor": "white",
            "showbackground": true,
            "ticks": "",
            "zerolinecolor": "white"
           },
           "zaxis": {
            "backgroundcolor": "#E5ECF6",
            "gridcolor": "white",
            "gridwidth": 2,
            "linecolor": "white",
            "showbackground": true,
            "ticks": "",
            "zerolinecolor": "white"
           }
          },
          "shapedefaults": {
           "line": {
            "color": "#2a3f5f"
           }
          },
          "ternary": {
           "aaxis": {
            "gridcolor": "white",
            "linecolor": "white",
            "ticks": ""
           },
           "baxis": {
            "gridcolor": "white",
            "linecolor": "white",
            "ticks": ""
           },
           "bgcolor": "#E5ECF6",
           "caxis": {
            "gridcolor": "white",
            "linecolor": "white",
            "ticks": ""
           }
          },
          "title": {
           "x": 0.05
          },
          "xaxis": {
           "automargin": true,
           "gridcolor": "white",
           "linecolor": "white",
           "ticks": "",
           "title": {
            "standoff": 15
           },
           "zerolinecolor": "white",
           "zerolinewidth": 2
          },
          "yaxis": {
           "automargin": true,
           "gridcolor": "white",
           "linecolor": "white",
           "ticks": "",
           "title": {
            "standoff": 15
           },
           "zerolinecolor": "white",
           "zerolinewidth": 2
          }
         }
        },
        "xaxis": {
         "anchor": "y",
         "constrain": "domain",
         "domain": [
          0,
          1
         ],
         "scaleanchor": "y"
        },
        "yaxis": {
         "anchor": "x",
         "autorange": "reversed",
         "constrain": "domain",
         "domain": [
          0,
          1
         ]
        }
       }
      }
     },
     "metadata": {},
     "output_type": "display_data"
    }
   ],
   "source": [
    "# Plotly heatmap\n",
    "fig = px.imshow(data)\n",
    "fig.show()"
   ]
  },
  {
   "cell_type": "markdown",
   "metadata": {},
   "source": [
    "### Contour plot\n",
    "Plotly doesn't support contour plot, but we can use matplotlib to plot contour plot"
   ]
  },
  {
   "cell_type": "code",
   "execution_count": null,
   "metadata": {},
   "outputs": [],
   "source": [
    "# coutour plot\n",
    "data = np.random.rand(10,10)\n",
    "fig, ax = plt.subplots(figsize=(3,3), dpi=100)\n",
    "ax.contour(data)"
   ]
  },
  {
   "cell_type": "markdown",
   "metadata": {},
   "source": [
    "### 3D plot\n",
    "SeaBorn doesn't support 3D plot, but we can use matplotlib to plot 3D plot"
   ]
  },
  {
   "cell_type": "code",
   "execution_count": null,
   "metadata": {},
   "outputs": [],
   "source": [
    "# 3d plot\n",
    "x = np.linspace(-5, 5, 100)\n",
    "y = np.linspace(-5, 5, 100)\n",
    "x, y = np.meshgrid(x, y)\n",
    "z = np.sin(np.sqrt(x**2 + y**2))\n",
    "fig = plt.figure(figsize=(3,3), dpi=100)\n",
    "ax = fig.add_subplot(111, projection='3d')\n",
    "ax.plot_surface(x, y, z)"
   ]
  },
  {
   "cell_type": "markdown",
   "metadata": {},
   "source": [
    "Plotly unique plots\n",
    "- Sunburst plot\n",
    "- Choropleth map\n",
    "- Parallel coordinates plot\n",
    "- Parallel categories plot\n",
    "- Treemap\n",
    "- Scatter3D plot\n",
    "- Line3D plot\n",
    "- Polar plot\n",
    "- Radar chart\n",
    "- Ternary plot\n",
    "- Streamline plot\n",
    "- Animated plot"
   ]
  },
  {
   "cell_type": "code",
   "execution_count": 19,
   "metadata": {},
   "outputs": [
    {
     "data": {
      "application/vnd.plotly.v1+json": {
       "config": {
        "plotlyServerURL": "https://plot.ly"
       },
       "data": [
        {
         "domain": {
          "x": [
           0,
           1
          ],
          "y": [
           0,
           1
          ]
         },
         "hovertemplate": "label=%{label}<br>value=%{value}<br>parent=%{parent}<extra></extra>",
         "labels": [
          "A",
          "B",
          "C",
          "D",
          "E"
         ],
         "name": "",
         "parents": [
          "",
          "A",
          "A",
          "B",
          ""
         ],
         "type": "sunburst",
         "values": [
          10,
          20,
          30,
          40,
          50
         ]
        }
       ],
       "layout": {
        "legend": {
         "tracegroupgap": 0
        },
        "margin": {
         "t": 60
        },
        "template": {
         "data": {
          "bar": [
           {
            "error_x": {
             "color": "#2a3f5f"
            },
            "error_y": {
             "color": "#2a3f5f"
            },
            "marker": {
             "line": {
              "color": "#E5ECF6",
              "width": 0.5
             },
             "pattern": {
              "fillmode": "overlay",
              "size": 10,
              "solidity": 0.2
             }
            },
            "type": "bar"
           }
          ],
          "barpolar": [
           {
            "marker": {
             "line": {
              "color": "#E5ECF6",
              "width": 0.5
             },
             "pattern": {
              "fillmode": "overlay",
              "size": 10,
              "solidity": 0.2
             }
            },
            "type": "barpolar"
           }
          ],
          "carpet": [
           {
            "aaxis": {
             "endlinecolor": "#2a3f5f",
             "gridcolor": "white",
             "linecolor": "white",
             "minorgridcolor": "white",
             "startlinecolor": "#2a3f5f"
            },
            "baxis": {
             "endlinecolor": "#2a3f5f",
             "gridcolor": "white",
             "linecolor": "white",
             "minorgridcolor": "white",
             "startlinecolor": "#2a3f5f"
            },
            "type": "carpet"
           }
          ],
          "choropleth": [
           {
            "colorbar": {
             "outlinewidth": 0,
             "ticks": ""
            },
            "type": "choropleth"
           }
          ],
          "contour": [
           {
            "colorbar": {
             "outlinewidth": 0,
             "ticks": ""
            },
            "colorscale": [
             [
              0,
              "#0d0887"
             ],
             [
              0.1111111111111111,
              "#46039f"
             ],
             [
              0.2222222222222222,
              "#7201a8"
             ],
             [
              0.3333333333333333,
              "#9c179e"
             ],
             [
              0.4444444444444444,
              "#bd3786"
             ],
             [
              0.5555555555555556,
              "#d8576b"
             ],
             [
              0.6666666666666666,
              "#ed7953"
             ],
             [
              0.7777777777777778,
              "#fb9f3a"
             ],
             [
              0.8888888888888888,
              "#fdca26"
             ],
             [
              1,
              "#f0f921"
             ]
            ],
            "type": "contour"
           }
          ],
          "contourcarpet": [
           {
            "colorbar": {
             "outlinewidth": 0,
             "ticks": ""
            },
            "type": "contourcarpet"
           }
          ],
          "heatmap": [
           {
            "colorbar": {
             "outlinewidth": 0,
             "ticks": ""
            },
            "colorscale": [
             [
              0,
              "#0d0887"
             ],
             [
              0.1111111111111111,
              "#46039f"
             ],
             [
              0.2222222222222222,
              "#7201a8"
             ],
             [
              0.3333333333333333,
              "#9c179e"
             ],
             [
              0.4444444444444444,
              "#bd3786"
             ],
             [
              0.5555555555555556,
              "#d8576b"
             ],
             [
              0.6666666666666666,
              "#ed7953"
             ],
             [
              0.7777777777777778,
              "#fb9f3a"
             ],
             [
              0.8888888888888888,
              "#fdca26"
             ],
             [
              1,
              "#f0f921"
             ]
            ],
            "type": "heatmap"
           }
          ],
          "heatmapgl": [
           {
            "colorbar": {
             "outlinewidth": 0,
             "ticks": ""
            },
            "colorscale": [
             [
              0,
              "#0d0887"
             ],
             [
              0.1111111111111111,
              "#46039f"
             ],
             [
              0.2222222222222222,
              "#7201a8"
             ],
             [
              0.3333333333333333,
              "#9c179e"
             ],
             [
              0.4444444444444444,
              "#bd3786"
             ],
             [
              0.5555555555555556,
              "#d8576b"
             ],
             [
              0.6666666666666666,
              "#ed7953"
             ],
             [
              0.7777777777777778,
              "#fb9f3a"
             ],
             [
              0.8888888888888888,
              "#fdca26"
             ],
             [
              1,
              "#f0f921"
             ]
            ],
            "type": "heatmapgl"
           }
          ],
          "histogram": [
           {
            "marker": {
             "pattern": {
              "fillmode": "overlay",
              "size": 10,
              "solidity": 0.2
             }
            },
            "type": "histogram"
           }
          ],
          "histogram2d": [
           {
            "colorbar": {
             "outlinewidth": 0,
             "ticks": ""
            },
            "colorscale": [
             [
              0,
              "#0d0887"
             ],
             [
              0.1111111111111111,
              "#46039f"
             ],
             [
              0.2222222222222222,
              "#7201a8"
             ],
             [
              0.3333333333333333,
              "#9c179e"
             ],
             [
              0.4444444444444444,
              "#bd3786"
             ],
             [
              0.5555555555555556,
              "#d8576b"
             ],
             [
              0.6666666666666666,
              "#ed7953"
             ],
             [
              0.7777777777777778,
              "#fb9f3a"
             ],
             [
              0.8888888888888888,
              "#fdca26"
             ],
             [
              1,
              "#f0f921"
             ]
            ],
            "type": "histogram2d"
           }
          ],
          "histogram2dcontour": [
           {
            "colorbar": {
             "outlinewidth": 0,
             "ticks": ""
            },
            "colorscale": [
             [
              0,
              "#0d0887"
             ],
             [
              0.1111111111111111,
              "#46039f"
             ],
             [
              0.2222222222222222,
              "#7201a8"
             ],
             [
              0.3333333333333333,
              "#9c179e"
             ],
             [
              0.4444444444444444,
              "#bd3786"
             ],
             [
              0.5555555555555556,
              "#d8576b"
             ],
             [
              0.6666666666666666,
              "#ed7953"
             ],
             [
              0.7777777777777778,
              "#fb9f3a"
             ],
             [
              0.8888888888888888,
              "#fdca26"
             ],
             [
              1,
              "#f0f921"
             ]
            ],
            "type": "histogram2dcontour"
           }
          ],
          "mesh3d": [
           {
            "colorbar": {
             "outlinewidth": 0,
             "ticks": ""
            },
            "type": "mesh3d"
           }
          ],
          "parcoords": [
           {
            "line": {
             "colorbar": {
              "outlinewidth": 0,
              "ticks": ""
             }
            },
            "type": "parcoords"
           }
          ],
          "pie": [
           {
            "automargin": true,
            "type": "pie"
           }
          ],
          "scatter": [
           {
            "fillpattern": {
             "fillmode": "overlay",
             "size": 10,
             "solidity": 0.2
            },
            "type": "scatter"
           }
          ],
          "scatter3d": [
           {
            "line": {
             "colorbar": {
              "outlinewidth": 0,
              "ticks": ""
             }
            },
            "marker": {
             "colorbar": {
              "outlinewidth": 0,
              "ticks": ""
             }
            },
            "type": "scatter3d"
           }
          ],
          "scattercarpet": [
           {
            "marker": {
             "colorbar": {
              "outlinewidth": 0,
              "ticks": ""
             }
            },
            "type": "scattercarpet"
           }
          ],
          "scattergeo": [
           {
            "marker": {
             "colorbar": {
              "outlinewidth": 0,
              "ticks": ""
             }
            },
            "type": "scattergeo"
           }
          ],
          "scattergl": [
           {
            "marker": {
             "colorbar": {
              "outlinewidth": 0,
              "ticks": ""
             }
            },
            "type": "scattergl"
           }
          ],
          "scattermapbox": [
           {
            "marker": {
             "colorbar": {
              "outlinewidth": 0,
              "ticks": ""
             }
            },
            "type": "scattermapbox"
           }
          ],
          "scatterpolar": [
           {
            "marker": {
             "colorbar": {
              "outlinewidth": 0,
              "ticks": ""
             }
            },
            "type": "scatterpolar"
           }
          ],
          "scatterpolargl": [
           {
            "marker": {
             "colorbar": {
              "outlinewidth": 0,
              "ticks": ""
             }
            },
            "type": "scatterpolargl"
           }
          ],
          "scatterternary": [
           {
            "marker": {
             "colorbar": {
              "outlinewidth": 0,
              "ticks": ""
             }
            },
            "type": "scatterternary"
           }
          ],
          "surface": [
           {
            "colorbar": {
             "outlinewidth": 0,
             "ticks": ""
            },
            "colorscale": [
             [
              0,
              "#0d0887"
             ],
             [
              0.1111111111111111,
              "#46039f"
             ],
             [
              0.2222222222222222,
              "#7201a8"
             ],
             [
              0.3333333333333333,
              "#9c179e"
             ],
             [
              0.4444444444444444,
              "#bd3786"
             ],
             [
              0.5555555555555556,
              "#d8576b"
             ],
             [
              0.6666666666666666,
              "#ed7953"
             ],
             [
              0.7777777777777778,
              "#fb9f3a"
             ],
             [
              0.8888888888888888,
              "#fdca26"
             ],
             [
              1,
              "#f0f921"
             ]
            ],
            "type": "surface"
           }
          ],
          "table": [
           {
            "cells": {
             "fill": {
              "color": "#EBF0F8"
             },
             "line": {
              "color": "white"
             }
            },
            "header": {
             "fill": {
              "color": "#C8D4E3"
             },
             "line": {
              "color": "white"
             }
            },
            "type": "table"
           }
          ]
         },
         "layout": {
          "annotationdefaults": {
           "arrowcolor": "#2a3f5f",
           "arrowhead": 0,
           "arrowwidth": 1
          },
          "autotypenumbers": "strict",
          "coloraxis": {
           "colorbar": {
            "outlinewidth": 0,
            "ticks": ""
           }
          },
          "colorscale": {
           "diverging": [
            [
             0,
             "#8e0152"
            ],
            [
             0.1,
             "#c51b7d"
            ],
            [
             0.2,
             "#de77ae"
            ],
            [
             0.3,
             "#f1b6da"
            ],
            [
             0.4,
             "#fde0ef"
            ],
            [
             0.5,
             "#f7f7f7"
            ],
            [
             0.6,
             "#e6f5d0"
            ],
            [
             0.7,
             "#b8e186"
            ],
            [
             0.8,
             "#7fbc41"
            ],
            [
             0.9,
             "#4d9221"
            ],
            [
             1,
             "#276419"
            ]
           ],
           "sequential": [
            [
             0,
             "#0d0887"
            ],
            [
             0.1111111111111111,
             "#46039f"
            ],
            [
             0.2222222222222222,
             "#7201a8"
            ],
            [
             0.3333333333333333,
             "#9c179e"
            ],
            [
             0.4444444444444444,
             "#bd3786"
            ],
            [
             0.5555555555555556,
             "#d8576b"
            ],
            [
             0.6666666666666666,
             "#ed7953"
            ],
            [
             0.7777777777777778,
             "#fb9f3a"
            ],
            [
             0.8888888888888888,
             "#fdca26"
            ],
            [
             1,
             "#f0f921"
            ]
           ],
           "sequentialminus": [
            [
             0,
             "#0d0887"
            ],
            [
             0.1111111111111111,
             "#46039f"
            ],
            [
             0.2222222222222222,
             "#7201a8"
            ],
            [
             0.3333333333333333,
             "#9c179e"
            ],
            [
             0.4444444444444444,
             "#bd3786"
            ],
            [
             0.5555555555555556,
             "#d8576b"
            ],
            [
             0.6666666666666666,
             "#ed7953"
            ],
            [
             0.7777777777777778,
             "#fb9f3a"
            ],
            [
             0.8888888888888888,
             "#fdca26"
            ],
            [
             1,
             "#f0f921"
            ]
           ]
          },
          "colorway": [
           "#636efa",
           "#EF553B",
           "#00cc96",
           "#ab63fa",
           "#FFA15A",
           "#19d3f3",
           "#FF6692",
           "#B6E880",
           "#FF97FF",
           "#FECB52"
          ],
          "font": {
           "color": "#2a3f5f"
          },
          "geo": {
           "bgcolor": "white",
           "lakecolor": "white",
           "landcolor": "#E5ECF6",
           "showlakes": true,
           "showland": true,
           "subunitcolor": "white"
          },
          "hoverlabel": {
           "align": "left"
          },
          "hovermode": "closest",
          "mapbox": {
           "style": "light"
          },
          "paper_bgcolor": "white",
          "plot_bgcolor": "#E5ECF6",
          "polar": {
           "angularaxis": {
            "gridcolor": "white",
            "linecolor": "white",
            "ticks": ""
           },
           "bgcolor": "#E5ECF6",
           "radialaxis": {
            "gridcolor": "white",
            "linecolor": "white",
            "ticks": ""
           }
          },
          "scene": {
           "xaxis": {
            "backgroundcolor": "#E5ECF6",
            "gridcolor": "white",
            "gridwidth": 2,
            "linecolor": "white",
            "showbackground": true,
            "ticks": "",
            "zerolinecolor": "white"
           },
           "yaxis": {
            "backgroundcolor": "#E5ECF6",
            "gridcolor": "white",
            "gridwidth": 2,
            "linecolor": "white",
            "showbackground": true,
            "ticks": "",
            "zerolinecolor": "white"
           },
           "zaxis": {
            "backgroundcolor": "#E5ECF6",
            "gridcolor": "white",
            "gridwidth": 2,
            "linecolor": "white",
            "showbackground": true,
            "ticks": "",
            "zerolinecolor": "white"
           }
          },
          "shapedefaults": {
           "line": {
            "color": "#2a3f5f"
           }
          },
          "ternary": {
           "aaxis": {
            "gridcolor": "white",
            "linecolor": "white",
            "ticks": ""
           },
           "baxis": {
            "gridcolor": "white",
            "linecolor": "white",
            "ticks": ""
           },
           "bgcolor": "#E5ECF6",
           "caxis": {
            "gridcolor": "white",
            "linecolor": "white",
            "ticks": ""
           }
          },
          "title": {
           "x": 0.05
          },
          "xaxis": {
           "automargin": true,
           "gridcolor": "white",
           "linecolor": "white",
           "ticks": "",
           "title": {
            "standoff": 15
           },
           "zerolinecolor": "white",
           "zerolinewidth": 2
          },
          "yaxis": {
           "automargin": true,
           "gridcolor": "white",
           "linecolor": "white",
           "ticks": "",
           "title": {
            "standoff": 15
           },
           "zerolinecolor": "white",
           "zerolinewidth": 2
          }
         }
        }
       }
      }
     },
     "metadata": {},
     "output_type": "display_data"
    }
   ],
   "source": [
    "# Plotly sunburst plot\n",
    "fig = px.sunburst(\n",
    "    names=[\"A\", \"B\", \"C\", \"D\", \"E\"],\n",
    "    parents=[\"\", \"A\", \"A\", \"B\", \"\"],\n",
    "    values=[10, 20, 30, 40, 50],\n",
    ")\n",
    "fig.show()"
   ]
  },
  {
   "cell_type": "code",
   "execution_count": null,
   "metadata": {},
   "outputs": [],
   "source": [
    "# Plotly Choropleth map\n",
    "fig = px.choropleth(locations=[\"USA\", \"CAN\", \"MEX\"], locationmode=\"ISO-3\", color=[10, 20, 30])\n",
    "fig.show()"
   ]
  },
  {
   "cell_type": "code",
   "execution_count": null,
   "metadata": {},
   "outputs": [],
   "source": [
    "# Plotly Parallel coordinates plot\n",
    "fig = px.parallel_coordinates(\n",
    "    data_frame=dict(\n",
    "        A=[1, 2, 3],\n",
    "        B=[2, 3, 4],\n",
    "        C=[3, 4, 5],\n",
    "    )\n",
    ")\n",
    "fig.show()"
   ]
  },
  {
   "cell_type": "code",
   "execution_count": null,
   "metadata": {},
   "outputs": [],
   "source": [
    "# Plotly Parallel categories plot\n",
    "fig = px.parallel_categories(\n",
    "    data_frame=dict(\n",
    "        A=[1, 2, 3],\n",
    "        B=[2, 3, 4],\n",
    "        C=[3, 4, 5],\n",
    "    )\n",
    ")\n",
    "fig.show()"
   ]
  },
  {
   "cell_type": "code",
   "execution_count": 20,
   "metadata": {},
   "outputs": [
    {
     "data": {
      "application/vnd.plotly.v1+json": {
       "config": {
        "plotlyServerURL": "https://plot.ly"
       },
       "data": [
        {
         "domain": {
          "x": [
           0,
           1
          ],
          "y": [
           0,
           1
          ]
         },
         "hovertemplate": "label=%{label}<br>value=%{value}<br>parent=%{parent}<extra></extra>",
         "labels": [
          "A",
          "B",
          "C",
          "D",
          "E"
         ],
         "name": "",
         "parents": [
          "",
          "A",
          "A",
          "B",
          ""
         ],
         "type": "treemap",
         "values": [
          10,
          20,
          30,
          40,
          50
         ]
        }
       ],
       "layout": {
        "legend": {
         "tracegroupgap": 0
        },
        "margin": {
         "t": 60
        },
        "template": {
         "data": {
          "bar": [
           {
            "error_x": {
             "color": "#2a3f5f"
            },
            "error_y": {
             "color": "#2a3f5f"
            },
            "marker": {
             "line": {
              "color": "#E5ECF6",
              "width": 0.5
             },
             "pattern": {
              "fillmode": "overlay",
              "size": 10,
              "solidity": 0.2
             }
            },
            "type": "bar"
           }
          ],
          "barpolar": [
           {
            "marker": {
             "line": {
              "color": "#E5ECF6",
              "width": 0.5
             },
             "pattern": {
              "fillmode": "overlay",
              "size": 10,
              "solidity": 0.2
             }
            },
            "type": "barpolar"
           }
          ],
          "carpet": [
           {
            "aaxis": {
             "endlinecolor": "#2a3f5f",
             "gridcolor": "white",
             "linecolor": "white",
             "minorgridcolor": "white",
             "startlinecolor": "#2a3f5f"
            },
            "baxis": {
             "endlinecolor": "#2a3f5f",
             "gridcolor": "white",
             "linecolor": "white",
             "minorgridcolor": "white",
             "startlinecolor": "#2a3f5f"
            },
            "type": "carpet"
           }
          ],
          "choropleth": [
           {
            "colorbar": {
             "outlinewidth": 0,
             "ticks": ""
            },
            "type": "choropleth"
           }
          ],
          "contour": [
           {
            "colorbar": {
             "outlinewidth": 0,
             "ticks": ""
            },
            "colorscale": [
             [
              0,
              "#0d0887"
             ],
             [
              0.1111111111111111,
              "#46039f"
             ],
             [
              0.2222222222222222,
              "#7201a8"
             ],
             [
              0.3333333333333333,
              "#9c179e"
             ],
             [
              0.4444444444444444,
              "#bd3786"
             ],
             [
              0.5555555555555556,
              "#d8576b"
             ],
             [
              0.6666666666666666,
              "#ed7953"
             ],
             [
              0.7777777777777778,
              "#fb9f3a"
             ],
             [
              0.8888888888888888,
              "#fdca26"
             ],
             [
              1,
              "#f0f921"
             ]
            ],
            "type": "contour"
           }
          ],
          "contourcarpet": [
           {
            "colorbar": {
             "outlinewidth": 0,
             "ticks": ""
            },
            "type": "contourcarpet"
           }
          ],
          "heatmap": [
           {
            "colorbar": {
             "outlinewidth": 0,
             "ticks": ""
            },
            "colorscale": [
             [
              0,
              "#0d0887"
             ],
             [
              0.1111111111111111,
              "#46039f"
             ],
             [
              0.2222222222222222,
              "#7201a8"
             ],
             [
              0.3333333333333333,
              "#9c179e"
             ],
             [
              0.4444444444444444,
              "#bd3786"
             ],
             [
              0.5555555555555556,
              "#d8576b"
             ],
             [
              0.6666666666666666,
              "#ed7953"
             ],
             [
              0.7777777777777778,
              "#fb9f3a"
             ],
             [
              0.8888888888888888,
              "#fdca26"
             ],
             [
              1,
              "#f0f921"
             ]
            ],
            "type": "heatmap"
           }
          ],
          "heatmapgl": [
           {
            "colorbar": {
             "outlinewidth": 0,
             "ticks": ""
            },
            "colorscale": [
             [
              0,
              "#0d0887"
             ],
             [
              0.1111111111111111,
              "#46039f"
             ],
             [
              0.2222222222222222,
              "#7201a8"
             ],
             [
              0.3333333333333333,
              "#9c179e"
             ],
             [
              0.4444444444444444,
              "#bd3786"
             ],
             [
              0.5555555555555556,
              "#d8576b"
             ],
             [
              0.6666666666666666,
              "#ed7953"
             ],
             [
              0.7777777777777778,
              "#fb9f3a"
             ],
             [
              0.8888888888888888,
              "#fdca26"
             ],
             [
              1,
              "#f0f921"
             ]
            ],
            "type": "heatmapgl"
           }
          ],
          "histogram": [
           {
            "marker": {
             "pattern": {
              "fillmode": "overlay",
              "size": 10,
              "solidity": 0.2
             }
            },
            "type": "histogram"
           }
          ],
          "histogram2d": [
           {
            "colorbar": {
             "outlinewidth": 0,
             "ticks": ""
            },
            "colorscale": [
             [
              0,
              "#0d0887"
             ],
             [
              0.1111111111111111,
              "#46039f"
             ],
             [
              0.2222222222222222,
              "#7201a8"
             ],
             [
              0.3333333333333333,
              "#9c179e"
             ],
             [
              0.4444444444444444,
              "#bd3786"
             ],
             [
              0.5555555555555556,
              "#d8576b"
             ],
             [
              0.6666666666666666,
              "#ed7953"
             ],
             [
              0.7777777777777778,
              "#fb9f3a"
             ],
             [
              0.8888888888888888,
              "#fdca26"
             ],
             [
              1,
              "#f0f921"
             ]
            ],
            "type": "histogram2d"
           }
          ],
          "histogram2dcontour": [
           {
            "colorbar": {
             "outlinewidth": 0,
             "ticks": ""
            },
            "colorscale": [
             [
              0,
              "#0d0887"
             ],
             [
              0.1111111111111111,
              "#46039f"
             ],
             [
              0.2222222222222222,
              "#7201a8"
             ],
             [
              0.3333333333333333,
              "#9c179e"
             ],
             [
              0.4444444444444444,
              "#bd3786"
             ],
             [
              0.5555555555555556,
              "#d8576b"
             ],
             [
              0.6666666666666666,
              "#ed7953"
             ],
             [
              0.7777777777777778,
              "#fb9f3a"
             ],
             [
              0.8888888888888888,
              "#fdca26"
             ],
             [
              1,
              "#f0f921"
             ]
            ],
            "type": "histogram2dcontour"
           }
          ],
          "mesh3d": [
           {
            "colorbar": {
             "outlinewidth": 0,
             "ticks": ""
            },
            "type": "mesh3d"
           }
          ],
          "parcoords": [
           {
            "line": {
             "colorbar": {
              "outlinewidth": 0,
              "ticks": ""
             }
            },
            "type": "parcoords"
           }
          ],
          "pie": [
           {
            "automargin": true,
            "type": "pie"
           }
          ],
          "scatter": [
           {
            "fillpattern": {
             "fillmode": "overlay",
             "size": 10,
             "solidity": 0.2
            },
            "type": "scatter"
           }
          ],
          "scatter3d": [
           {
            "line": {
             "colorbar": {
              "outlinewidth": 0,
              "ticks": ""
             }
            },
            "marker": {
             "colorbar": {
              "outlinewidth": 0,
              "ticks": ""
             }
            },
            "type": "scatter3d"
           }
          ],
          "scattercarpet": [
           {
            "marker": {
             "colorbar": {
              "outlinewidth": 0,
              "ticks": ""
             }
            },
            "type": "scattercarpet"
           }
          ],
          "scattergeo": [
           {
            "marker": {
             "colorbar": {
              "outlinewidth": 0,
              "ticks": ""
             }
            },
            "type": "scattergeo"
           }
          ],
          "scattergl": [
           {
            "marker": {
             "colorbar": {
              "outlinewidth": 0,
              "ticks": ""
             }
            },
            "type": "scattergl"
           }
          ],
          "scattermapbox": [
           {
            "marker": {
             "colorbar": {
              "outlinewidth": 0,
              "ticks": ""
             }
            },
            "type": "scattermapbox"
           }
          ],
          "scatterpolar": [
           {
            "marker": {
             "colorbar": {
              "outlinewidth": 0,
              "ticks": ""
             }
            },
            "type": "scatterpolar"
           }
          ],
          "scatterpolargl": [
           {
            "marker": {
             "colorbar": {
              "outlinewidth": 0,
              "ticks": ""
             }
            },
            "type": "scatterpolargl"
           }
          ],
          "scatterternary": [
           {
            "marker": {
             "colorbar": {
              "outlinewidth": 0,
              "ticks": ""
             }
            },
            "type": "scatterternary"
           }
          ],
          "surface": [
           {
            "colorbar": {
             "outlinewidth": 0,
             "ticks": ""
            },
            "colorscale": [
             [
              0,
              "#0d0887"
             ],
             [
              0.1111111111111111,
              "#46039f"
             ],
             [
              0.2222222222222222,
              "#7201a8"
             ],
             [
              0.3333333333333333,
              "#9c179e"
             ],
             [
              0.4444444444444444,
              "#bd3786"
             ],
             [
              0.5555555555555556,
              "#d8576b"
             ],
             [
              0.6666666666666666,
              "#ed7953"
             ],
             [
              0.7777777777777778,
              "#fb9f3a"
             ],
             [
              0.8888888888888888,
              "#fdca26"
             ],
             [
              1,
              "#f0f921"
             ]
            ],
            "type": "surface"
           }
          ],
          "table": [
           {
            "cells": {
             "fill": {
              "color": "#EBF0F8"
             },
             "line": {
              "color": "white"
             }
            },
            "header": {
             "fill": {
              "color": "#C8D4E3"
             },
             "line": {
              "color": "white"
             }
            },
            "type": "table"
           }
          ]
         },
         "layout": {
          "annotationdefaults": {
           "arrowcolor": "#2a3f5f",
           "arrowhead": 0,
           "arrowwidth": 1
          },
          "autotypenumbers": "strict",
          "coloraxis": {
           "colorbar": {
            "outlinewidth": 0,
            "ticks": ""
           }
          },
          "colorscale": {
           "diverging": [
            [
             0,
             "#8e0152"
            ],
            [
             0.1,
             "#c51b7d"
            ],
            [
             0.2,
             "#de77ae"
            ],
            [
             0.3,
             "#f1b6da"
            ],
            [
             0.4,
             "#fde0ef"
            ],
            [
             0.5,
             "#f7f7f7"
            ],
            [
             0.6,
             "#e6f5d0"
            ],
            [
             0.7,
             "#b8e186"
            ],
            [
             0.8,
             "#7fbc41"
            ],
            [
             0.9,
             "#4d9221"
            ],
            [
             1,
             "#276419"
            ]
           ],
           "sequential": [
            [
             0,
             "#0d0887"
            ],
            [
             0.1111111111111111,
             "#46039f"
            ],
            [
             0.2222222222222222,
             "#7201a8"
            ],
            [
             0.3333333333333333,
             "#9c179e"
            ],
            [
             0.4444444444444444,
             "#bd3786"
            ],
            [
             0.5555555555555556,
             "#d8576b"
            ],
            [
             0.6666666666666666,
             "#ed7953"
            ],
            [
             0.7777777777777778,
             "#fb9f3a"
            ],
            [
             0.8888888888888888,
             "#fdca26"
            ],
            [
             1,
             "#f0f921"
            ]
           ],
           "sequentialminus": [
            [
             0,
             "#0d0887"
            ],
            [
             0.1111111111111111,
             "#46039f"
            ],
            [
             0.2222222222222222,
             "#7201a8"
            ],
            [
             0.3333333333333333,
             "#9c179e"
            ],
            [
             0.4444444444444444,
             "#bd3786"
            ],
            [
             0.5555555555555556,
             "#d8576b"
            ],
            [
             0.6666666666666666,
             "#ed7953"
            ],
            [
             0.7777777777777778,
             "#fb9f3a"
            ],
            [
             0.8888888888888888,
             "#fdca26"
            ],
            [
             1,
             "#f0f921"
            ]
           ]
          },
          "colorway": [
           "#636efa",
           "#EF553B",
           "#00cc96",
           "#ab63fa",
           "#FFA15A",
           "#19d3f3",
           "#FF6692",
           "#B6E880",
           "#FF97FF",
           "#FECB52"
          ],
          "font": {
           "color": "#2a3f5f"
          },
          "geo": {
           "bgcolor": "white",
           "lakecolor": "white",
           "landcolor": "#E5ECF6",
           "showlakes": true,
           "showland": true,
           "subunitcolor": "white"
          },
          "hoverlabel": {
           "align": "left"
          },
          "hovermode": "closest",
          "mapbox": {
           "style": "light"
          },
          "paper_bgcolor": "white",
          "plot_bgcolor": "#E5ECF6",
          "polar": {
           "angularaxis": {
            "gridcolor": "white",
            "linecolor": "white",
            "ticks": ""
           },
           "bgcolor": "#E5ECF6",
           "radialaxis": {
            "gridcolor": "white",
            "linecolor": "white",
            "ticks": ""
           }
          },
          "scene": {
           "xaxis": {
            "backgroundcolor": "#E5ECF6",
            "gridcolor": "white",
            "gridwidth": 2,
            "linecolor": "white",
            "showbackground": true,
            "ticks": "",
            "zerolinecolor": "white"
           },
           "yaxis": {
            "backgroundcolor": "#E5ECF6",
            "gridcolor": "white",
            "gridwidth": 2,
            "linecolor": "white",
            "showbackground": true,
            "ticks": "",
            "zerolinecolor": "white"
           },
           "zaxis": {
            "backgroundcolor": "#E5ECF6",
            "gridcolor": "white",
            "gridwidth": 2,
            "linecolor": "white",
            "showbackground": true,
            "ticks": "",
            "zerolinecolor": "white"
           }
          },
          "shapedefaults": {
           "line": {
            "color": "#2a3f5f"
           }
          },
          "ternary": {
           "aaxis": {
            "gridcolor": "white",
            "linecolor": "white",
            "ticks": ""
           },
           "baxis": {
            "gridcolor": "white",
            "linecolor": "white",
            "ticks": ""
           },
           "bgcolor": "#E5ECF6",
           "caxis": {
            "gridcolor": "white",
            "linecolor": "white",
            "ticks": ""
           }
          },
          "title": {
           "x": 0.05
          },
          "xaxis": {
           "automargin": true,
           "gridcolor": "white",
           "linecolor": "white",
           "ticks": "",
           "title": {
            "standoff": 15
           },
           "zerolinecolor": "white",
           "zerolinewidth": 2
          },
          "yaxis": {
           "automargin": true,
           "gridcolor": "white",
           "linecolor": "white",
           "ticks": "",
           "title": {
            "standoff": 15
           },
           "zerolinecolor": "white",
           "zerolinewidth": 2
          }
         }
        }
       }
      }
     },
     "metadata": {},
     "output_type": "display_data"
    }
   ],
   "source": [
    "# Plotly Treemap\n",
    "fig = px.treemap(\n",
    "    names=[\"A\", \"B\", \"C\", \"D\", \"E\"],\n",
    "    parents=[\"\", \"A\", \"A\", \"B\", \"\"],\n",
    "    values=[10, 20, 30, 40, 50],\n",
    ")\n",
    "fig.show()"
   ]
  },
  {
   "cell_type": "code",
   "execution_count": 21,
   "metadata": {},
   "outputs": [
    {
     "data": {
      "application/vnd.plotly.v1+json": {
       "config": {
        "plotlyServerURL": "https://plot.ly"
       },
       "data": [
        {
         "hovertemplate": "x=%{x}<br>y=%{y}<br>z=%{z}<extra></extra>",
         "legendgroup": "",
         "marker": {
          "color": "#636efa",
          "symbol": "circle"
         },
         "mode": "markers",
         "name": "",
         "scene": "scene",
         "showlegend": false,
         "type": "scatter3d",
         "x": [
          1.3819160019951664,
          0.9748218787704425,
          -0.667117071331422,
          -2.1945102105959964,
          -0.46195646924414946,
          1.011403065489686,
          0.2778380987037367,
          1.1941043184759383,
          -0.17836123067001294,
          1.528199911295124,
          0.274247477446072,
          -1.3597170697962067,
          -0.14276950758132587,
          0.06467436456379848,
          0.1310996854632086,
          0.3290811352728008,
          0.32091222438884076,
          -0.8528672210229565,
          1.025770178255122,
          0.3899201231029631,
          -1.774247207536832,
          -0.10862242303685005,
          -0.20737102526306989,
          0.7686278595344835,
          -0.6061023233667593,
          -1.3760039916497497,
          0.9706676243007553,
          -0.3353765376153477,
          -1.1146242573501117,
          0.25056516697324444,
          -0.7763035001693962,
          0.3166591717039287,
          0.24455079789015183,
          -0.09643008883183074,
          -0.1736533573882082,
          -1.018448033387123,
          1.695512124516721,
          1.8736179168131286,
          0.5208778602763832,
          0.22838384630135258,
          0.4095852209878509,
          -1.0637992217098724,
          -0.9634832893036036,
          -0.6206831808337552,
          -1.2295347795832092,
          -2.233117740318667,
          -1.3493291543152524,
          -0.8928329356248723,
          0.08412784422983051,
          0.8698670441723774,
          -0.13596395758156507,
          1.3257793820705357,
          -0.17760702783670834,
          -0.13856445550010554,
          -0.9829448443999348,
          0.960070582383733,
          1.032158422032893,
          1.1464497926570563,
          0.19339183649147285,
          0.8800833115074006,
          -1.7814061799215934,
          1.2915220107218217,
          0.19337527202851962,
          0.7774007624695647,
          -0.13716523315419968,
          -1.5825039908634562,
          -0.34763952949590776,
          -0.6459193656691782,
          0.4386935942880062,
          -1.3807021630639325,
          0.42913278698356777,
          0.4457545455756786,
          0.33963235216665083,
          2.9624877010665194,
          0.289214839306044,
          0.22294753910061024,
          0.179393470874883,
          -0.8443751413474734,
          1.0367309224784333,
          2.7893318633845197,
          1.4640721681573858,
          -0.12085173792215467,
          -1.5792720055753402,
          -0.490387387038256,
          -2.278876019511621,
          -0.21815560803800127,
          -0.3286853651154182,
          -0.6197713212229655,
          0.17339634485461924,
          -0.5359014879014339,
          1.1781031915520603,
          -0.5993973179855503,
          0.0450771434800353,
          -1.4904691856262007,
          1.5159570810375789,
          0.11221961869421018,
          -1.4866179760510039,
          -0.8229694006728869,
          -0.2850891387980544,
          -0.6953588410275602
         ],
         "y": [
          -1.3432465785319938,
          -0.7174425908109971,
          0.23630718505547738,
          0.9551257140051822,
          -1.197291791459136,
          1.262347586198922,
          0.5190736444632092,
          -0.053816923662730214,
          0.00214849528626691,
          -0.6087991163379918,
          0.6464972148970667,
          -0.9061998153938287,
          1.2549761362198035,
          0.2592441611764228,
          0.8271360627387804,
          -0.133192368485339,
          -1.1975500783034305,
          -1.7511060984765503,
          0.777334055190424,
          0.6087405051889433,
          -0.7234769204194944,
          -1.2473848357205533,
          0.1568244235634921,
          -0.6593842568776727,
          -1.7595366762634101,
          -0.10021584611179057,
          -0.007218881203809718,
          -0.8551643145118696,
          -3.019545122876876,
          0.5507174220090449,
          -2.2388863453782903,
          0.6590817778147235,
          0.810314001991319,
          0.5641216041623477,
          -1.960243783013531,
          -1.7259226671511287,
          0.22634101767536974,
          0.7677819659355332,
          -0.45944603260079575,
          -0.6726281597510528,
          -0.2830631860295708,
          0.7356984195780986,
          -0.16596925116447303,
          -0.0048940141788454085,
          3.1275568491124757,
          -0.6719432277002931,
          -0.2745433092195023,
          0.5306232147353598,
          -0.07552658128945462,
          -0.24717628276109813,
          -0.8674921209793323,
          -0.1467526532111213,
          -1.6398568037581263,
          -0.6443716303211343,
          0.8623663761013399,
          -0.12257614329673576,
          -0.1914991819588191,
          0.0761037097189165,
          -1.1096767365850484,
          1.4530522251743654,
          1.042201358168317,
          1.0414709115014085,
          1.2912648774577655,
          -0.3895877253280989,
          0.22580828544429649,
          1.3808115203376197,
          -0.12858552183739028,
          1.257034103047901,
          1.142168686466677,
          1.2795916630865822,
          -0.02764468476619212,
          -1.148022266758695,
          0.95655448582391,
          0.13197162404083307,
          0.16826609643595383,
          -0.15274861547311266,
          -0.32418465919174755,
          -2.8759858256868234,
          -1.1632989025614375,
          -0.1445594510037362,
          0.6901622079742625,
          -2.169991166734281,
          1.8691528530593204,
          0.2700158576013336,
          2.1657727028994245,
          -1.6435553341906526,
          -1.0374044783261176,
          0.5749416407837582,
          0.8296050591432138,
          -0.10993851078529542,
          -0.09606418676813307,
          -1.0464563804721703,
          -1.5192822423495254,
          -0.06789901283173193,
          0.4889969156183998,
          1.3499922053834816,
          -2.057640549817762,
          -0.9870474160276949,
          0.018145626978293736,
          -0.5099091363050052
         ],
         "z": [
          1.6548717114306528,
          1.5871905789757246,
          0.7661413769168463,
          0.5587869354113442,
          -1.0606985206947284,
          -0.15863272373911186,
          1.8279914583569317,
          -0.5402156756200794,
          -0.54707588277786,
          0.019242262084194,
          -1.1074483201106375,
          1.329560622087099,
          -0.016839420374688996,
          -1.477921108525338,
          0.9016682015819065,
          1.25673605325258,
          2.1553875797959456,
          0.3466028658766888,
          0.22458173037942733,
          -0.03137507569686989,
          0.571180547809446,
          -0.36149767621369394,
          -0.6151708301537573,
          -0.6100772001121307,
          -2.4398119770352604,
          0.3418582453298504,
          0.19204876126532888,
          1.2892529698798714,
          1.107939280513954,
          -1.6934125706102463,
          0.6310415648046199,
          -1.766548915687941,
          1.1852884842779563,
          0.6868113495013901,
          -1.05405700199033,
          0.7514164304678637,
          0.45822743249733133,
          -1.4672586621879147,
          0.1490073190422108,
          0.9244568247938258,
          0.09374223179991327,
          0.4957410361342206,
          0.545720255965261,
          1.227258614063051,
          0.030894915206778072,
          -0.09606356719474518,
          -0.031805109708879314,
          -0.16793803751148043,
          -1.3677091313458267,
          1.811383505921706,
          1.2122568788228127,
          -0.9442504573490887,
          0.34770685743530805,
          0.2171120551265708,
          1.291310180587564,
          0.029473066038996635,
          2.4640468594399323,
          1.2359811364521145,
          -0.33180050739485856,
          1.25010314825084,
          0.4985255216224199,
          1.780403142368469,
          -0.8083344326209543,
          -0.022582504878725772,
          -0.74585430711542,
          0.8179799194208462,
          0.7076577663730756,
          0.020567642203541344,
          -1.5580139841334903,
          -0.6821895129922255,
          0.016558406520852664,
          -0.4845103410032067,
          -0.19511448373453133,
          -0.41078463843921825,
          -2.0621075990279754,
          1.1808966358740387,
          0.1427809720645941,
          0.9030328861202078,
          0.5437166337290573,
          -1.0102651362775399,
          0.9403084271476154,
          -0.29701241889837,
          0.9577240357322678,
          -0.5090043753547175,
          -0.5407001281484611,
          0.3627668694781933,
          -2.3570542976986966,
          -0.2284143920133237,
          -0.6138846589943937,
          0.596932201420365,
          0.19590608730000483,
          0.9874440343260515,
          -0.13282916058561298,
          -1.8493527727348376,
          -0.22815975129864366,
          1.0479702524737056,
          -0.28829726884200807,
          0.4140180793277103,
          -0.014971239359375771,
          0.9128637749296944
         ]
        }
       ],
       "layout": {
        "legend": {
         "tracegroupgap": 0
        },
        "margin": {
         "t": 60
        },
        "scene": {
         "domain": {
          "x": [
           0,
           1
          ],
          "y": [
           0,
           1
          ]
         },
         "xaxis": {
          "title": {
           "text": "x"
          }
         },
         "yaxis": {
          "title": {
           "text": "y"
          }
         },
         "zaxis": {
          "title": {
           "text": "z"
          }
         }
        },
        "template": {
         "data": {
          "bar": [
           {
            "error_x": {
             "color": "#2a3f5f"
            },
            "error_y": {
             "color": "#2a3f5f"
            },
            "marker": {
             "line": {
              "color": "#E5ECF6",
              "width": 0.5
             },
             "pattern": {
              "fillmode": "overlay",
              "size": 10,
              "solidity": 0.2
             }
            },
            "type": "bar"
           }
          ],
          "barpolar": [
           {
            "marker": {
             "line": {
              "color": "#E5ECF6",
              "width": 0.5
             },
             "pattern": {
              "fillmode": "overlay",
              "size": 10,
              "solidity": 0.2
             }
            },
            "type": "barpolar"
           }
          ],
          "carpet": [
           {
            "aaxis": {
             "endlinecolor": "#2a3f5f",
             "gridcolor": "white",
             "linecolor": "white",
             "minorgridcolor": "white",
             "startlinecolor": "#2a3f5f"
            },
            "baxis": {
             "endlinecolor": "#2a3f5f",
             "gridcolor": "white",
             "linecolor": "white",
             "minorgridcolor": "white",
             "startlinecolor": "#2a3f5f"
            },
            "type": "carpet"
           }
          ],
          "choropleth": [
           {
            "colorbar": {
             "outlinewidth": 0,
             "ticks": ""
            },
            "type": "choropleth"
           }
          ],
          "contour": [
           {
            "colorbar": {
             "outlinewidth": 0,
             "ticks": ""
            },
            "colorscale": [
             [
              0,
              "#0d0887"
             ],
             [
              0.1111111111111111,
              "#46039f"
             ],
             [
              0.2222222222222222,
              "#7201a8"
             ],
             [
              0.3333333333333333,
              "#9c179e"
             ],
             [
              0.4444444444444444,
              "#bd3786"
             ],
             [
              0.5555555555555556,
              "#d8576b"
             ],
             [
              0.6666666666666666,
              "#ed7953"
             ],
             [
              0.7777777777777778,
              "#fb9f3a"
             ],
             [
              0.8888888888888888,
              "#fdca26"
             ],
             [
              1,
              "#f0f921"
             ]
            ],
            "type": "contour"
           }
          ],
          "contourcarpet": [
           {
            "colorbar": {
             "outlinewidth": 0,
             "ticks": ""
            },
            "type": "contourcarpet"
           }
          ],
          "heatmap": [
           {
            "colorbar": {
             "outlinewidth": 0,
             "ticks": ""
            },
            "colorscale": [
             [
              0,
              "#0d0887"
             ],
             [
              0.1111111111111111,
              "#46039f"
             ],
             [
              0.2222222222222222,
              "#7201a8"
             ],
             [
              0.3333333333333333,
              "#9c179e"
             ],
             [
              0.4444444444444444,
              "#bd3786"
             ],
             [
              0.5555555555555556,
              "#d8576b"
             ],
             [
              0.6666666666666666,
              "#ed7953"
             ],
             [
              0.7777777777777778,
              "#fb9f3a"
             ],
             [
              0.8888888888888888,
              "#fdca26"
             ],
             [
              1,
              "#f0f921"
             ]
            ],
            "type": "heatmap"
           }
          ],
          "heatmapgl": [
           {
            "colorbar": {
             "outlinewidth": 0,
             "ticks": ""
            },
            "colorscale": [
             [
              0,
              "#0d0887"
             ],
             [
              0.1111111111111111,
              "#46039f"
             ],
             [
              0.2222222222222222,
              "#7201a8"
             ],
             [
              0.3333333333333333,
              "#9c179e"
             ],
             [
              0.4444444444444444,
              "#bd3786"
             ],
             [
              0.5555555555555556,
              "#d8576b"
             ],
             [
              0.6666666666666666,
              "#ed7953"
             ],
             [
              0.7777777777777778,
              "#fb9f3a"
             ],
             [
              0.8888888888888888,
              "#fdca26"
             ],
             [
              1,
              "#f0f921"
             ]
            ],
            "type": "heatmapgl"
           }
          ],
          "histogram": [
           {
            "marker": {
             "pattern": {
              "fillmode": "overlay",
              "size": 10,
              "solidity": 0.2
             }
            },
            "type": "histogram"
           }
          ],
          "histogram2d": [
           {
            "colorbar": {
             "outlinewidth": 0,
             "ticks": ""
            },
            "colorscale": [
             [
              0,
              "#0d0887"
             ],
             [
              0.1111111111111111,
              "#46039f"
             ],
             [
              0.2222222222222222,
              "#7201a8"
             ],
             [
              0.3333333333333333,
              "#9c179e"
             ],
             [
              0.4444444444444444,
              "#bd3786"
             ],
             [
              0.5555555555555556,
              "#d8576b"
             ],
             [
              0.6666666666666666,
              "#ed7953"
             ],
             [
              0.7777777777777778,
              "#fb9f3a"
             ],
             [
              0.8888888888888888,
              "#fdca26"
             ],
             [
              1,
              "#f0f921"
             ]
            ],
            "type": "histogram2d"
           }
          ],
          "histogram2dcontour": [
           {
            "colorbar": {
             "outlinewidth": 0,
             "ticks": ""
            },
            "colorscale": [
             [
              0,
              "#0d0887"
             ],
             [
              0.1111111111111111,
              "#46039f"
             ],
             [
              0.2222222222222222,
              "#7201a8"
             ],
             [
              0.3333333333333333,
              "#9c179e"
             ],
             [
              0.4444444444444444,
              "#bd3786"
             ],
             [
              0.5555555555555556,
              "#d8576b"
             ],
             [
              0.6666666666666666,
              "#ed7953"
             ],
             [
              0.7777777777777778,
              "#fb9f3a"
             ],
             [
              0.8888888888888888,
              "#fdca26"
             ],
             [
              1,
              "#f0f921"
             ]
            ],
            "type": "histogram2dcontour"
           }
          ],
          "mesh3d": [
           {
            "colorbar": {
             "outlinewidth": 0,
             "ticks": ""
            },
            "type": "mesh3d"
           }
          ],
          "parcoords": [
           {
            "line": {
             "colorbar": {
              "outlinewidth": 0,
              "ticks": ""
             }
            },
            "type": "parcoords"
           }
          ],
          "pie": [
           {
            "automargin": true,
            "type": "pie"
           }
          ],
          "scatter": [
           {
            "fillpattern": {
             "fillmode": "overlay",
             "size": 10,
             "solidity": 0.2
            },
            "type": "scatter"
           }
          ],
          "scatter3d": [
           {
            "line": {
             "colorbar": {
              "outlinewidth": 0,
              "ticks": ""
             }
            },
            "marker": {
             "colorbar": {
              "outlinewidth": 0,
              "ticks": ""
             }
            },
            "type": "scatter3d"
           }
          ],
          "scattercarpet": [
           {
            "marker": {
             "colorbar": {
              "outlinewidth": 0,
              "ticks": ""
             }
            },
            "type": "scattercarpet"
           }
          ],
          "scattergeo": [
           {
            "marker": {
             "colorbar": {
              "outlinewidth": 0,
              "ticks": ""
             }
            },
            "type": "scattergeo"
           }
          ],
          "scattergl": [
           {
            "marker": {
             "colorbar": {
              "outlinewidth": 0,
              "ticks": ""
             }
            },
            "type": "scattergl"
           }
          ],
          "scattermapbox": [
           {
            "marker": {
             "colorbar": {
              "outlinewidth": 0,
              "ticks": ""
             }
            },
            "type": "scattermapbox"
           }
          ],
          "scatterpolar": [
           {
            "marker": {
             "colorbar": {
              "outlinewidth": 0,
              "ticks": ""
             }
            },
            "type": "scatterpolar"
           }
          ],
          "scatterpolargl": [
           {
            "marker": {
             "colorbar": {
              "outlinewidth": 0,
              "ticks": ""
             }
            },
            "type": "scatterpolargl"
           }
          ],
          "scatterternary": [
           {
            "marker": {
             "colorbar": {
              "outlinewidth": 0,
              "ticks": ""
             }
            },
            "type": "scatterternary"
           }
          ],
          "surface": [
           {
            "colorbar": {
             "outlinewidth": 0,
             "ticks": ""
            },
            "colorscale": [
             [
              0,
              "#0d0887"
             ],
             [
              0.1111111111111111,
              "#46039f"
             ],
             [
              0.2222222222222222,
              "#7201a8"
             ],
             [
              0.3333333333333333,
              "#9c179e"
             ],
             [
              0.4444444444444444,
              "#bd3786"
             ],
             [
              0.5555555555555556,
              "#d8576b"
             ],
             [
              0.6666666666666666,
              "#ed7953"
             ],
             [
              0.7777777777777778,
              "#fb9f3a"
             ],
             [
              0.8888888888888888,
              "#fdca26"
             ],
             [
              1,
              "#f0f921"
             ]
            ],
            "type": "surface"
           }
          ],
          "table": [
           {
            "cells": {
             "fill": {
              "color": "#EBF0F8"
             },
             "line": {
              "color": "white"
             }
            },
            "header": {
             "fill": {
              "color": "#C8D4E3"
             },
             "line": {
              "color": "white"
             }
            },
            "type": "table"
           }
          ]
         },
         "layout": {
          "annotationdefaults": {
           "arrowcolor": "#2a3f5f",
           "arrowhead": 0,
           "arrowwidth": 1
          },
          "autotypenumbers": "strict",
          "coloraxis": {
           "colorbar": {
            "outlinewidth": 0,
            "ticks": ""
           }
          },
          "colorscale": {
           "diverging": [
            [
             0,
             "#8e0152"
            ],
            [
             0.1,
             "#c51b7d"
            ],
            [
             0.2,
             "#de77ae"
            ],
            [
             0.3,
             "#f1b6da"
            ],
            [
             0.4,
             "#fde0ef"
            ],
            [
             0.5,
             "#f7f7f7"
            ],
            [
             0.6,
             "#e6f5d0"
            ],
            [
             0.7,
             "#b8e186"
            ],
            [
             0.8,
             "#7fbc41"
            ],
            [
             0.9,
             "#4d9221"
            ],
            [
             1,
             "#276419"
            ]
           ],
           "sequential": [
            [
             0,
             "#0d0887"
            ],
            [
             0.1111111111111111,
             "#46039f"
            ],
            [
             0.2222222222222222,
             "#7201a8"
            ],
            [
             0.3333333333333333,
             "#9c179e"
            ],
            [
             0.4444444444444444,
             "#bd3786"
            ],
            [
             0.5555555555555556,
             "#d8576b"
            ],
            [
             0.6666666666666666,
             "#ed7953"
            ],
            [
             0.7777777777777778,
             "#fb9f3a"
            ],
            [
             0.8888888888888888,
             "#fdca26"
            ],
            [
             1,
             "#f0f921"
            ]
           ],
           "sequentialminus": [
            [
             0,
             "#0d0887"
            ],
            [
             0.1111111111111111,
             "#46039f"
            ],
            [
             0.2222222222222222,
             "#7201a8"
            ],
            [
             0.3333333333333333,
             "#9c179e"
            ],
            [
             0.4444444444444444,
             "#bd3786"
            ],
            [
             0.5555555555555556,
             "#d8576b"
            ],
            [
             0.6666666666666666,
             "#ed7953"
            ],
            [
             0.7777777777777778,
             "#fb9f3a"
            ],
            [
             0.8888888888888888,
             "#fdca26"
            ],
            [
             1,
             "#f0f921"
            ]
           ]
          },
          "colorway": [
           "#636efa",
           "#EF553B",
           "#00cc96",
           "#ab63fa",
           "#FFA15A",
           "#19d3f3",
           "#FF6692",
           "#B6E880",
           "#FF97FF",
           "#FECB52"
          ],
          "font": {
           "color": "#2a3f5f"
          },
          "geo": {
           "bgcolor": "white",
           "lakecolor": "white",
           "landcolor": "#E5ECF6",
           "showlakes": true,
           "showland": true,
           "subunitcolor": "white"
          },
          "hoverlabel": {
           "align": "left"
          },
          "hovermode": "closest",
          "mapbox": {
           "style": "light"
          },
          "paper_bgcolor": "white",
          "plot_bgcolor": "#E5ECF6",
          "polar": {
           "angularaxis": {
            "gridcolor": "white",
            "linecolor": "white",
            "ticks": ""
           },
           "bgcolor": "#E5ECF6",
           "radialaxis": {
            "gridcolor": "white",
            "linecolor": "white",
            "ticks": ""
           }
          },
          "scene": {
           "xaxis": {
            "backgroundcolor": "#E5ECF6",
            "gridcolor": "white",
            "gridwidth": 2,
            "linecolor": "white",
            "showbackground": true,
            "ticks": "",
            "zerolinecolor": "white"
           },
           "yaxis": {
            "backgroundcolor": "#E5ECF6",
            "gridcolor": "white",
            "gridwidth": 2,
            "linecolor": "white",
            "showbackground": true,
            "ticks": "",
            "zerolinecolor": "white"
           },
           "zaxis": {
            "backgroundcolor": "#E5ECF6",
            "gridcolor": "white",
            "gridwidth": 2,
            "linecolor": "white",
            "showbackground": true,
            "ticks": "",
            "zerolinecolor": "white"
           }
          },
          "shapedefaults": {
           "line": {
            "color": "#2a3f5f"
           }
          },
          "ternary": {
           "aaxis": {
            "gridcolor": "white",
            "linecolor": "white",
            "ticks": ""
           },
           "baxis": {
            "gridcolor": "white",
            "linecolor": "white",
            "ticks": ""
           },
           "bgcolor": "#E5ECF6",
           "caxis": {
            "gridcolor": "white",
            "linecolor": "white",
            "ticks": ""
           }
          },
          "title": {
           "x": 0.05
          },
          "xaxis": {
           "automargin": true,
           "gridcolor": "white",
           "linecolor": "white",
           "ticks": "",
           "title": {
            "standoff": 15
           },
           "zerolinecolor": "white",
           "zerolinewidth": 2
          },
          "yaxis": {
           "automargin": true,
           "gridcolor": "white",
           "linecolor": "white",
           "ticks": "",
           "title": {
            "standoff": 15
           },
           "zerolinecolor": "white",
           "zerolinewidth": 2
          }
         }
        }
       }
      }
     },
     "metadata": {},
     "output_type": "display_data"
    }
   ],
   "source": [
    "# Plotly 3d scatter plot\n",
    "x = np.random.randn(100)\n",
    "y = np.random.randn(100)\n",
    "z = np.random.randn(100)\n",
    "fig = px.scatter_3d(x=x, y=y, z=z)\n",
    "fig.show()"
   ]
  },
  {
   "cell_type": "code",
   "execution_count": null,
   "metadata": {},
   "outputs": [],
   "source": [
    "# Plotly 3d line plot\n",
    "x = np.linspace(0, 3*np.pi, 100)\n",
    "y = np.sin(x)\n",
    "z = np.cos(x)\n",
    "fig = px.line_3d(x=x, y=y, z=z)\n",
    "fig.show()"
   ]
  },
  {
   "cell_type": "code",
   "execution_count": 23,
   "metadata": {},
   "outputs": [
    {
     "data": {
      "application/vnd.plotly.v1+json": {
       "config": {
        "plotlyServerURL": "https://plot.ly"
       },
       "data": [
        {
         "hovertemplate": "r=%{r}<br>theta=%{theta}<extra></extra>",
         "legendgroup": "",
         "marker": {
          "color": "#636efa",
          "symbol": "circle"
         },
         "mode": "markers",
         "name": "",
         "r": [
          -0.3545840583294712,
          1.6852480749038676,
          0.1741172156170114,
          -0.19059589495505266,
          1.13271460283657,
          0.034410173804943475,
          -0.47710807909910485,
          -1.7968033063685354,
          0.4143228529235169,
          -0.686280012565495,
          1.2589628002334685,
          -1.034276287074297,
          0.4357187427514892,
          -1.4279023069245445,
          0.34837264208170715,
          0.6518285178275007,
          1.4852962700089154,
          -0.8095298976325145,
          1.4514117649385934,
          -2.427606150588283,
          -0.8456945636522444,
          -0.16199006572132074,
          0.6105901159769391,
          0.04183284462801208,
          -0.52900464579087,
          -1.2673521095813238,
          0.0851490393439907,
          1.4637977409297238,
          1.0450908820001434,
          -0.23890321372036952,
          -0.7635415747440075,
          0.7255815787521266,
          1.065571145011255,
          -0.6537441517257339,
          -0.10389790545163267,
          -0.29903450710131907,
          2.238849330506275,
          1.2882452361861856,
          0.4296685435896804,
          -1.4843356438689017,
          0.9649734088718755,
          0.3571156425699084,
          0.34014878862376324,
          1.171452541809248,
          -0.44929009127006525,
          0.6817241176167387,
          -0.42352195286355243,
          0.9694778309849521,
          -1.4620480009069232,
          0.883958867707833,
          -0.08835939839827918,
          0.7862403797546766,
          0.6241932931625649,
          1.1133349754381945,
          1.7445007949776699,
          0.47209758391812245,
          0.7493614917508213,
          0.29327644907193345,
          -1.0311265899772624,
          -0.8506513995889715,
          -1.421053085374951,
          -0.9370662116198515,
          -1.0013038579287652,
          1.1460628066489413,
          -1.133246339353521,
          0.2356457102157059,
          2.65281657706861,
          0.06364803956832336,
          -0.382710347940699,
          -0.39824956770315884,
          -1.940250304895288,
          0.028967757980436406,
          0.2045972384069505,
          -0.3991947251519895,
          -0.3190875631996016,
          1.1511157126439415,
          0.04354449149492742,
          -0.5307052922433734,
          0.7117183182413682,
          -0.5324010633898362,
          -0.2656035281268729,
          -0.5351332260752154,
          0.5265352816239646,
          1.901698069717197,
          0.046594137039470754,
          0.7940216404172097,
          -0.5659559178994054,
          -0.2244329553377066,
          0.6185017022972208,
          0.900787472129128,
          -0.7392394313375329,
          0.8353248100654528,
          0.955233669795723,
          0.5932696366762585,
          -1.1607233111818531,
          -0.9167034962695301,
          1.2392580510692217,
          -0.15043533480204974,
          1.0457537631632612,
          0.7411363804874272
         ],
         "showlegend": false,
         "subplot": "polar",
         "theta": [
          -0.7689495757077659,
          1.4913328618555206,
          0.26959725067342827,
          -0.04178339893414033,
          1.049521906710606,
          -0.06471082155690254,
          -0.2985936331964436,
          -0.5884039276997239,
          -0.6713028453519178,
          0.42087786996503246,
          0.03241510780438732,
          0.7559944272027267,
          -0.007208014977079846,
          -0.1803007811421769,
          -1.811853154314781,
          0.9978671324841442,
          -0.6971035067123404,
          0.7112238595988049,
          -0.07156640940868371,
          -0.26691124986780546,
          -0.3490447045770894,
          0.9593009944359816,
          -0.6213623254145036,
          -0.7922007151798599,
          -0.16600599234930144,
          -0.015026059503243741,
          -0.7322670476648514,
          0.43823805353875583,
          0.4548140196947687,
          0.1876237121672646,
          0.19851308110013283,
          0.9685482744558768,
          -0.05089512234535947,
          -1.4885867274584623,
          -0.16381599018003407,
          -0.26774413010188747,
          0.74600526465338,
          -1.0544258585523265,
          -0.5687205297239043,
          1.9025427903547494,
          -2.0750817993076134,
          0.3871475011811345,
          0.15969333596354035,
          -1.2466872242479259,
          -1.810188423558668,
          1.7092910484662052,
          0.20667092346545135,
          -0.49408785836969826,
          0.9256401171052546,
          0.03961774495816456,
          -0.6341029116164557,
          0.3576802541237212,
          -0.19041616330367783,
          -0.8651895697319538,
          1.53556434983337,
          0.8050834661095233,
          0.37959777883322987,
          0.8411476077966427,
          0.5627816387385807,
          1.4646137742567447,
          1.0794368051902334,
          0.3001963676571818,
          -1.595716285935629,
          1.2854366245834832,
          0.6082257634260578,
          0.6592503535557952,
          0.5893556356928917,
          -0.7079265849796622,
          -0.5071876711574553,
          0.6214592538255818,
          1.0572407602886744,
          -0.21897716767761558,
          0.5092408328799579,
          -0.6665438423011569,
          -0.0577858510524856,
          0.4194629193199703,
          -0.6402770543373131,
          -0.3161963766671313,
          -1.6152518618234366,
          2.181860976697799,
          0.6088120132050022,
          0.7739614970048441,
          -0.2658330436268951,
          -0.2548722531379589,
          -0.5408256241060898,
          -0.06808756968468908,
          0.17821130277004432,
          0.36817487840701835,
          0.5504157458235555,
          -0.4247860098816992,
          -0.7997652123367663,
          0.11008099924827938,
          0.6865002608251665,
          0.9286727788303621,
          -0.1669152702883121,
          -0.7981301435082893,
          0.8224390641538731,
          -0.5894944209738602,
          -0.41414815897845136,
          -0.20724787182779142
         ],
         "type": "scatterpolar"
        }
       ],
       "layout": {
        "legend": {
         "tracegroupgap": 0
        },
        "margin": {
         "t": 60
        },
        "polar": {
         "angularaxis": {
          "direction": "clockwise",
          "rotation": 90
         },
         "domain": {
          "x": [
           0,
           1
          ],
          "y": [
           0,
           1
          ]
         }
        },
        "template": {
         "data": {
          "bar": [
           {
            "error_x": {
             "color": "#2a3f5f"
            },
            "error_y": {
             "color": "#2a3f5f"
            },
            "marker": {
             "line": {
              "color": "#E5ECF6",
              "width": 0.5
             },
             "pattern": {
              "fillmode": "overlay",
              "size": 10,
              "solidity": 0.2
             }
            },
            "type": "bar"
           }
          ],
          "barpolar": [
           {
            "marker": {
             "line": {
              "color": "#E5ECF6",
              "width": 0.5
             },
             "pattern": {
              "fillmode": "overlay",
              "size": 10,
              "solidity": 0.2
             }
            },
            "type": "barpolar"
           }
          ],
          "carpet": [
           {
            "aaxis": {
             "endlinecolor": "#2a3f5f",
             "gridcolor": "white",
             "linecolor": "white",
             "minorgridcolor": "white",
             "startlinecolor": "#2a3f5f"
            },
            "baxis": {
             "endlinecolor": "#2a3f5f",
             "gridcolor": "white",
             "linecolor": "white",
             "minorgridcolor": "white",
             "startlinecolor": "#2a3f5f"
            },
            "type": "carpet"
           }
          ],
          "choropleth": [
           {
            "colorbar": {
             "outlinewidth": 0,
             "ticks": ""
            },
            "type": "choropleth"
           }
          ],
          "contour": [
           {
            "colorbar": {
             "outlinewidth": 0,
             "ticks": ""
            },
            "colorscale": [
             [
              0,
              "#0d0887"
             ],
             [
              0.1111111111111111,
              "#46039f"
             ],
             [
              0.2222222222222222,
              "#7201a8"
             ],
             [
              0.3333333333333333,
              "#9c179e"
             ],
             [
              0.4444444444444444,
              "#bd3786"
             ],
             [
              0.5555555555555556,
              "#d8576b"
             ],
             [
              0.6666666666666666,
              "#ed7953"
             ],
             [
              0.7777777777777778,
              "#fb9f3a"
             ],
             [
              0.8888888888888888,
              "#fdca26"
             ],
             [
              1,
              "#f0f921"
             ]
            ],
            "type": "contour"
           }
          ],
          "contourcarpet": [
           {
            "colorbar": {
             "outlinewidth": 0,
             "ticks": ""
            },
            "type": "contourcarpet"
           }
          ],
          "heatmap": [
           {
            "colorbar": {
             "outlinewidth": 0,
             "ticks": ""
            },
            "colorscale": [
             [
              0,
              "#0d0887"
             ],
             [
              0.1111111111111111,
              "#46039f"
             ],
             [
              0.2222222222222222,
              "#7201a8"
             ],
             [
              0.3333333333333333,
              "#9c179e"
             ],
             [
              0.4444444444444444,
              "#bd3786"
             ],
             [
              0.5555555555555556,
              "#d8576b"
             ],
             [
              0.6666666666666666,
              "#ed7953"
             ],
             [
              0.7777777777777778,
              "#fb9f3a"
             ],
             [
              0.8888888888888888,
              "#fdca26"
             ],
             [
              1,
              "#f0f921"
             ]
            ],
            "type": "heatmap"
           }
          ],
          "heatmapgl": [
           {
            "colorbar": {
             "outlinewidth": 0,
             "ticks": ""
            },
            "colorscale": [
             [
              0,
              "#0d0887"
             ],
             [
              0.1111111111111111,
              "#46039f"
             ],
             [
              0.2222222222222222,
              "#7201a8"
             ],
             [
              0.3333333333333333,
              "#9c179e"
             ],
             [
              0.4444444444444444,
              "#bd3786"
             ],
             [
              0.5555555555555556,
              "#d8576b"
             ],
             [
              0.6666666666666666,
              "#ed7953"
             ],
             [
              0.7777777777777778,
              "#fb9f3a"
             ],
             [
              0.8888888888888888,
              "#fdca26"
             ],
             [
              1,
              "#f0f921"
             ]
            ],
            "type": "heatmapgl"
           }
          ],
          "histogram": [
           {
            "marker": {
             "pattern": {
              "fillmode": "overlay",
              "size": 10,
              "solidity": 0.2
             }
            },
            "type": "histogram"
           }
          ],
          "histogram2d": [
           {
            "colorbar": {
             "outlinewidth": 0,
             "ticks": ""
            },
            "colorscale": [
             [
              0,
              "#0d0887"
             ],
             [
              0.1111111111111111,
              "#46039f"
             ],
             [
              0.2222222222222222,
              "#7201a8"
             ],
             [
              0.3333333333333333,
              "#9c179e"
             ],
             [
              0.4444444444444444,
              "#bd3786"
             ],
             [
              0.5555555555555556,
              "#d8576b"
             ],
             [
              0.6666666666666666,
              "#ed7953"
             ],
             [
              0.7777777777777778,
              "#fb9f3a"
             ],
             [
              0.8888888888888888,
              "#fdca26"
             ],
             [
              1,
              "#f0f921"
             ]
            ],
            "type": "histogram2d"
           }
          ],
          "histogram2dcontour": [
           {
            "colorbar": {
             "outlinewidth": 0,
             "ticks": ""
            },
            "colorscale": [
             [
              0,
              "#0d0887"
             ],
             [
              0.1111111111111111,
              "#46039f"
             ],
             [
              0.2222222222222222,
              "#7201a8"
             ],
             [
              0.3333333333333333,
              "#9c179e"
             ],
             [
              0.4444444444444444,
              "#bd3786"
             ],
             [
              0.5555555555555556,
              "#d8576b"
             ],
             [
              0.6666666666666666,
              "#ed7953"
             ],
             [
              0.7777777777777778,
              "#fb9f3a"
             ],
             [
              0.8888888888888888,
              "#fdca26"
             ],
             [
              1,
              "#f0f921"
             ]
            ],
            "type": "histogram2dcontour"
           }
          ],
          "mesh3d": [
           {
            "colorbar": {
             "outlinewidth": 0,
             "ticks": ""
            },
            "type": "mesh3d"
           }
          ],
          "parcoords": [
           {
            "line": {
             "colorbar": {
              "outlinewidth": 0,
              "ticks": ""
             }
            },
            "type": "parcoords"
           }
          ],
          "pie": [
           {
            "automargin": true,
            "type": "pie"
           }
          ],
          "scatter": [
           {
            "fillpattern": {
             "fillmode": "overlay",
             "size": 10,
             "solidity": 0.2
            },
            "type": "scatter"
           }
          ],
          "scatter3d": [
           {
            "line": {
             "colorbar": {
              "outlinewidth": 0,
              "ticks": ""
             }
            },
            "marker": {
             "colorbar": {
              "outlinewidth": 0,
              "ticks": ""
             }
            },
            "type": "scatter3d"
           }
          ],
          "scattercarpet": [
           {
            "marker": {
             "colorbar": {
              "outlinewidth": 0,
              "ticks": ""
             }
            },
            "type": "scattercarpet"
           }
          ],
          "scattergeo": [
           {
            "marker": {
             "colorbar": {
              "outlinewidth": 0,
              "ticks": ""
             }
            },
            "type": "scattergeo"
           }
          ],
          "scattergl": [
           {
            "marker": {
             "colorbar": {
              "outlinewidth": 0,
              "ticks": ""
             }
            },
            "type": "scattergl"
           }
          ],
          "scattermapbox": [
           {
            "marker": {
             "colorbar": {
              "outlinewidth": 0,
              "ticks": ""
             }
            },
            "type": "scattermapbox"
           }
          ],
          "scatterpolar": [
           {
            "marker": {
             "colorbar": {
              "outlinewidth": 0,
              "ticks": ""
             }
            },
            "type": "scatterpolar"
           }
          ],
          "scatterpolargl": [
           {
            "marker": {
             "colorbar": {
              "outlinewidth": 0,
              "ticks": ""
             }
            },
            "type": "scatterpolargl"
           }
          ],
          "scatterternary": [
           {
            "marker": {
             "colorbar": {
              "outlinewidth": 0,
              "ticks": ""
             }
            },
            "type": "scatterternary"
           }
          ],
          "surface": [
           {
            "colorbar": {
             "outlinewidth": 0,
             "ticks": ""
            },
            "colorscale": [
             [
              0,
              "#0d0887"
             ],
             [
              0.1111111111111111,
              "#46039f"
             ],
             [
              0.2222222222222222,
              "#7201a8"
             ],
             [
              0.3333333333333333,
              "#9c179e"
             ],
             [
              0.4444444444444444,
              "#bd3786"
             ],
             [
              0.5555555555555556,
              "#d8576b"
             ],
             [
              0.6666666666666666,
              "#ed7953"
             ],
             [
              0.7777777777777778,
              "#fb9f3a"
             ],
             [
              0.8888888888888888,
              "#fdca26"
             ],
             [
              1,
              "#f0f921"
             ]
            ],
            "type": "surface"
           }
          ],
          "table": [
           {
            "cells": {
             "fill": {
              "color": "#EBF0F8"
             },
             "line": {
              "color": "white"
             }
            },
            "header": {
             "fill": {
              "color": "#C8D4E3"
             },
             "line": {
              "color": "white"
             }
            },
            "type": "table"
           }
          ]
         },
         "layout": {
          "annotationdefaults": {
           "arrowcolor": "#2a3f5f",
           "arrowhead": 0,
           "arrowwidth": 1
          },
          "autotypenumbers": "strict",
          "coloraxis": {
           "colorbar": {
            "outlinewidth": 0,
            "ticks": ""
           }
          },
          "colorscale": {
           "diverging": [
            [
             0,
             "#8e0152"
            ],
            [
             0.1,
             "#c51b7d"
            ],
            [
             0.2,
             "#de77ae"
            ],
            [
             0.3,
             "#f1b6da"
            ],
            [
             0.4,
             "#fde0ef"
            ],
            [
             0.5,
             "#f7f7f7"
            ],
            [
             0.6,
             "#e6f5d0"
            ],
            [
             0.7,
             "#b8e186"
            ],
            [
             0.8,
             "#7fbc41"
            ],
            [
             0.9,
             "#4d9221"
            ],
            [
             1,
             "#276419"
            ]
           ],
           "sequential": [
            [
             0,
             "#0d0887"
            ],
            [
             0.1111111111111111,
             "#46039f"
            ],
            [
             0.2222222222222222,
             "#7201a8"
            ],
            [
             0.3333333333333333,
             "#9c179e"
            ],
            [
             0.4444444444444444,
             "#bd3786"
            ],
            [
             0.5555555555555556,
             "#d8576b"
            ],
            [
             0.6666666666666666,
             "#ed7953"
            ],
            [
             0.7777777777777778,
             "#fb9f3a"
            ],
            [
             0.8888888888888888,
             "#fdca26"
            ],
            [
             1,
             "#f0f921"
            ]
           ],
           "sequentialminus": [
            [
             0,
             "#0d0887"
            ],
            [
             0.1111111111111111,
             "#46039f"
            ],
            [
             0.2222222222222222,
             "#7201a8"
            ],
            [
             0.3333333333333333,
             "#9c179e"
            ],
            [
             0.4444444444444444,
             "#bd3786"
            ],
            [
             0.5555555555555556,
             "#d8576b"
            ],
            [
             0.6666666666666666,
             "#ed7953"
            ],
            [
             0.7777777777777778,
             "#fb9f3a"
            ],
            [
             0.8888888888888888,
             "#fdca26"
            ],
            [
             1,
             "#f0f921"
            ]
           ]
          },
          "colorway": [
           "#636efa",
           "#EF553B",
           "#00cc96",
           "#ab63fa",
           "#FFA15A",
           "#19d3f3",
           "#FF6692",
           "#B6E880",
           "#FF97FF",
           "#FECB52"
          ],
          "font": {
           "color": "#2a3f5f"
          },
          "geo": {
           "bgcolor": "white",
           "lakecolor": "white",
           "landcolor": "#E5ECF6",
           "showlakes": true,
           "showland": true,
           "subunitcolor": "white"
          },
          "hoverlabel": {
           "align": "left"
          },
          "hovermode": "closest",
          "mapbox": {
           "style": "light"
          },
          "paper_bgcolor": "white",
          "plot_bgcolor": "#E5ECF6",
          "polar": {
           "angularaxis": {
            "gridcolor": "white",
            "linecolor": "white",
            "ticks": ""
           },
           "bgcolor": "#E5ECF6",
           "radialaxis": {
            "gridcolor": "white",
            "linecolor": "white",
            "ticks": ""
           }
          },
          "scene": {
           "xaxis": {
            "backgroundcolor": "#E5ECF6",
            "gridcolor": "white",
            "gridwidth": 2,
            "linecolor": "white",
            "showbackground": true,
            "ticks": "",
            "zerolinecolor": "white"
           },
           "yaxis": {
            "backgroundcolor": "#E5ECF6",
            "gridcolor": "white",
            "gridwidth": 2,
            "linecolor": "white",
            "showbackground": true,
            "ticks": "",
            "zerolinecolor": "white"
           },
           "zaxis": {
            "backgroundcolor": "#E5ECF6",
            "gridcolor": "white",
            "gridwidth": 2,
            "linecolor": "white",
            "showbackground": true,
            "ticks": "",
            "zerolinecolor": "white"
           }
          },
          "shapedefaults": {
           "line": {
            "color": "#2a3f5f"
           }
          },
          "ternary": {
           "aaxis": {
            "gridcolor": "white",
            "linecolor": "white",
            "ticks": ""
           },
           "baxis": {
            "gridcolor": "white",
            "linecolor": "white",
            "ticks": ""
           },
           "bgcolor": "#E5ECF6",
           "caxis": {
            "gridcolor": "white",
            "linecolor": "white",
            "ticks": ""
           }
          },
          "title": {
           "x": 0.05
          },
          "xaxis": {
           "automargin": true,
           "gridcolor": "white",
           "linecolor": "white",
           "ticks": "",
           "title": {
            "standoff": 15
           },
           "zerolinecolor": "white",
           "zerolinewidth": 2
          },
          "yaxis": {
           "automargin": true,
           "gridcolor": "white",
           "linecolor": "white",
           "ticks": "",
           "title": {
            "standoff": 15
           },
           "zerolinecolor": "white",
           "zerolinewidth": 2
          }
         }
        }
       }
      }
     },
     "metadata": {},
     "output_type": "display_data"
    }
   ],
   "source": [
    "# Plotly polar chart\n",
    "df = pd.DataFrame(dict(\n",
    "    r=np.random.randn(100),\n",
    "    theta=np.random.randn(100),\n",
    "))\n",
    "fig = px.scatter_polar(df, r=\"r\", theta=\"theta\")\n",
    "fig.show()"
   ]
  },
  {
   "cell_type": "code",
   "execution_count": null,
   "metadata": {},
   "outputs": [],
   "source": [
    "# Plotly radar chart\n",
    "df = pd.DataFrame(dict(\n",
    "    r=np.random.randn(100),\n",
    "    theta=np.random.randn(100),\n",
    "))\n",
    "fig = px.line_polar(df, r=\"r\", theta=\"theta\")\n",
    "fig.show()"
   ]
  },
  {
   "cell_type": "code",
   "execution_count": 24,
   "metadata": {},
   "outputs": [
    {
     "data": {
      "application/vnd.plotly.v1+json": {
       "config": {
        "plotlyServerURL": "https://plot.ly"
       },
       "data": [
        {
         "a": [
          -1.7677032832436297,
          -0.020108113827981878,
          0.26804351208170224,
          -0.14388683442259095,
          -2.160003874689289,
          0.9912727807276145,
          0.6276907243909253,
          0.336167906226144,
          -1.6492688021273774,
          0.05244199044238683,
          0.6265295887457543,
          0.6514782822049212,
          -0.8201799494482744,
          0.1991335864993729,
          1.2789298910737001,
          -1.0523597134495928,
          0.8592728195611188,
          1.1957922358903528,
          -0.743681387161019,
          -0.44461084730767864,
          0.7282324952364461,
          -0.3134930518130894,
          -0.684761751602751,
          -0.4395315844807398,
          -0.7534610581626904,
          -0.7962296069740439,
          0.6745792483343104,
          0.18538103748567675,
          -0.15516408901793985,
          0.4207671683255088,
          -2.0555812074193547,
          -0.18678633097495018,
          0.2556008441272605,
          1.4343232064132858,
          -0.9705828321302882,
          0.37767551837672064,
          -0.3409598930535249,
          -0.6553755405570658,
          -1.0050251341797805,
          0.47114683625467785,
          0.3014406276303423,
          -0.3187823050034114,
          -0.857048291151462,
          0.12415433895130737,
          0.9061101973387954,
          0.20540471432923946,
          0.40854998831503364,
          -1.1677064865092661,
          0.09943901586782287,
          -1.1745718974736663,
          0.7049387583846102,
          0.6362678021863006,
          0.16381113580214224,
          1.0391923016662956,
          0.04295577925670716,
          0.44427340890797956,
          -0.5893336282189949,
          1.064508240678948,
          -0.11350919822346443,
          0.7482052759944777,
          -2.5414863826111476,
          -0.14540661150714265,
          -2.022482410146995,
          0.7146371170710994,
          -0.23544772022212357,
          -0.5579266418509125,
          -1.2915807288518886,
          -1.4710352271011211,
          -1.2940222489703868,
          -0.5598390266664163,
          -1.283879562541543,
          0.7592707796961495,
          -0.7608448519774491,
          0.46902671974725346,
          0.1492150840960152,
          -0.2065669371205108,
          -0.10031535704289797,
          -1.8047678101114029,
          -0.04424661717430529,
          0.10925713696244584,
          -0.15044656400060014,
          0.11491637751477558,
          0.46977749373329886,
          0.21515349090991484,
          -2.1789408899960585,
          0.9109168448166306,
          0.2619799031352206,
          -0.043315402643566245,
          -1.0874425475870086,
          -0.16635650727498205,
          -0.42251593685256067,
          -2.2917076248588257,
          -0.23073036095613295,
          -2.203105260670856,
          -1.9694312376481344,
          -0.015436551392613145,
          -0.1660622576919035,
          -0.05415501044840549,
          0.10511355849041716,
          1.807502681522408
         ],
         "b": [
          -0.246728806515529,
          -0.7664719367525559,
          0.5391092894429494,
          -1.520356888728087,
          0.3054861197263727,
          0.029076632689727835,
          0.9334209025063358,
          -0.19926282280214344,
          -0.685296127963154,
          -0.6862826618186851,
          0.7060062899487353,
          0.8526580676150564,
          1.3433569953954425,
          -0.8030975445429276,
          -0.5202119776835835,
          -1.3619325985481958,
          0.09686673033206841,
          0.15901407488012245,
          -1.268109487744023,
          -0.30059695181198476,
          -0.17560418811402112,
          0.8726010324702883,
          0.6873612999254937,
          0.6834884795749435,
          1.0500674698260457,
          -1.5995222204407376,
          -0.7029208665951541,
          -0.4304781980988367,
          -0.55467812068095,
          0.7456847065701425,
          -0.17866375873462975,
          -1.6382032640602506,
          0.2925729082195969,
          0.7973829963900557,
          0.8079112441533659,
          -0.7607154429094327,
          -0.15429848684982758,
          1.6054717962759195,
          -0.9926944987758767,
          -0.9287061174522573,
          -1.0052685314575591,
          -1.1499186433441746,
          -0.2728902430305314,
          -0.5916815303140777,
          -0.9683079256812589,
          0.013956031232573227,
          0.28439953305217297,
          0.8706168083283335,
          1.1847950047347953,
          -0.953780184121521,
          0.5972287261424547,
          -0.3210053435413506,
          -0.22381525026881965,
          -0.6287970910692536,
          0.2905870357197658,
          -0.4355210532198043,
          0.5500595011060327,
          0.8501305847601329,
          0.2900485110400663,
          0.6183056863209474,
          -0.3461971508221642,
          -1.5439007053667495,
          1.600147370568224,
          3.431159485956792,
          -0.17025989404434083,
          0.36228694170368086,
          1.1497564410081231,
          0.32992855100916535,
          -1.537458230322043,
          -1.6222411326167079,
          0.413078755494609,
          -1.3314405690338795,
          0.33034029091724726,
          -0.00596627791754091,
          0.21006343418549386,
          0.5032771234614463,
          -0.7747138453193,
          -0.7843004277007875,
          -0.3703511700093615,
          -0.047689037784386455,
          1.1644977275174329,
          0.09604942075561236,
          -0.11714632556697305,
          -1.4207896492942726,
          -1.051672651032147,
          -0.4756204450698343,
          1.6258467733636457,
          0.12025753565900149,
          0.4642858050483047,
          1.3881724470626904,
          1.9696673318537938,
          -0.07257342760368933,
          -0.34020211072816114,
          0.002459501552876454,
          -0.7889846241761412,
          -0.3283502102727708,
          -0.5624543385859007,
          -0.3007890929249287,
          0.18746652759675814,
          1.1861739704496508
         ],
         "c": [
          2.354863628377091,
          -1.661519247125201,
          2.012132126674703,
          -1.766961696629591,
          -0.6704130514374468,
          -2.214565884116181,
          -0.6693738983177918,
          -0.3335135027738101,
          0.9191977012744805,
          0.6272334382755872,
          0.05585952003621771,
          -1.4712233932263747,
          -1.5365083552184338,
          0.04104766587854363,
          -1.6940430204566983,
          2.7563349411920246,
          -0.2860183048887879,
          -0.7613384454390069,
          0.6832156942111521,
          -1.6472795807464704,
          -0.13522346406220387,
          -0.5914533983313347,
          1.4639249503070777,
          1.1796164366947028,
          -0.45125614462979385,
          -0.9783736825596071,
          1.0174894426232992,
          2.121467844412768,
          -1.5565226096421994,
          -0.02556492529468496,
          -1.9533768112872842,
          1.2742841629286246,
          0.674670457117238,
          1.143551780919249,
          0.6085447405557174,
          0.015502454045463895,
          0.9188327774731311,
          -0.5692495827563645,
          -0.3076879464739324,
          -0.5947615876784668,
          -0.14096166976653332,
          1.1721455507884708,
          -0.08787913970228406,
          -0.3490622779644767,
          -0.3311690984656531,
          0.04042189714717823,
          -0.3055724029989578,
          0.8531443091202894,
          -1.4052353387941556,
          -0.13019566194621918,
          -1.2863739005411106,
          0.19185488503417086,
          -0.8983912037642149,
          -1.0505756412915974,
          1.043081116678202,
          -1.066850938933584,
          1.547791879878514,
          -0.7341781218158241,
          1.1901274914009614,
          -0.033678370811044384,
          -0.6413749627001081,
          -0.19738395015057997,
          -0.9875149207439516,
          -0.16144396727779972,
          0.4865196979978769,
          -0.053662238960222035,
          -0.40381003936827675,
          0.2796191622710748,
          -0.9951916600053845,
          1.2518654719863165,
          -0.049372579941830703,
          -0.009375079794921182,
          2.715952824192588,
          0.511965181665663,
          0.0030785199861761213,
          1.274990786934258,
          -1.2524112295277885,
          -0.717844335551875,
          0.5728582071392033,
          0.6088836464067526,
          -0.2086389726842889,
          -0.7376077151655637,
          1.9702352815936228,
          -0.12853563386775593,
          -0.6737830164471564,
          0.3640400667315353,
          -0.027174063164076705,
          0.8552764636047779,
          -1.7468789644369906,
          -0.5483822720285356,
          1.4395568865172004,
          -0.693698758922245,
          -0.06845090103845419,
          1.2384502172764074,
          -0.8559287024568841,
          -1.2237138620867294,
          -0.36608101241459634,
          -0.6183900966865838,
          -1.3992931521956173,
          0.6741576709144275
         ],
         "hovertemplate": "A=%{a}<br>B=%{b}<br>C=%{c}<extra></extra>",
         "legendgroup": "",
         "marker": {
          "color": "#636efa",
          "symbol": "circle"
         },
         "mode": "markers",
         "name": "",
         "showlegend": false,
         "subplot": "ternary",
         "type": "scatterternary"
        }
       ],
       "layout": {
        "legend": {
         "tracegroupgap": 0
        },
        "margin": {
         "t": 60
        },
        "template": {
         "data": {
          "bar": [
           {
            "error_x": {
             "color": "#2a3f5f"
            },
            "error_y": {
             "color": "#2a3f5f"
            },
            "marker": {
             "line": {
              "color": "#E5ECF6",
              "width": 0.5
             },
             "pattern": {
              "fillmode": "overlay",
              "size": 10,
              "solidity": 0.2
             }
            },
            "type": "bar"
           }
          ],
          "barpolar": [
           {
            "marker": {
             "line": {
              "color": "#E5ECF6",
              "width": 0.5
             },
             "pattern": {
              "fillmode": "overlay",
              "size": 10,
              "solidity": 0.2
             }
            },
            "type": "barpolar"
           }
          ],
          "carpet": [
           {
            "aaxis": {
             "endlinecolor": "#2a3f5f",
             "gridcolor": "white",
             "linecolor": "white",
             "minorgridcolor": "white",
             "startlinecolor": "#2a3f5f"
            },
            "baxis": {
             "endlinecolor": "#2a3f5f",
             "gridcolor": "white",
             "linecolor": "white",
             "minorgridcolor": "white",
             "startlinecolor": "#2a3f5f"
            },
            "type": "carpet"
           }
          ],
          "choropleth": [
           {
            "colorbar": {
             "outlinewidth": 0,
             "ticks": ""
            },
            "type": "choropleth"
           }
          ],
          "contour": [
           {
            "colorbar": {
             "outlinewidth": 0,
             "ticks": ""
            },
            "colorscale": [
             [
              0,
              "#0d0887"
             ],
             [
              0.1111111111111111,
              "#46039f"
             ],
             [
              0.2222222222222222,
              "#7201a8"
             ],
             [
              0.3333333333333333,
              "#9c179e"
             ],
             [
              0.4444444444444444,
              "#bd3786"
             ],
             [
              0.5555555555555556,
              "#d8576b"
             ],
             [
              0.6666666666666666,
              "#ed7953"
             ],
             [
              0.7777777777777778,
              "#fb9f3a"
             ],
             [
              0.8888888888888888,
              "#fdca26"
             ],
             [
              1,
              "#f0f921"
             ]
            ],
            "type": "contour"
           }
          ],
          "contourcarpet": [
           {
            "colorbar": {
             "outlinewidth": 0,
             "ticks": ""
            },
            "type": "contourcarpet"
           }
          ],
          "heatmap": [
           {
            "colorbar": {
             "outlinewidth": 0,
             "ticks": ""
            },
            "colorscale": [
             [
              0,
              "#0d0887"
             ],
             [
              0.1111111111111111,
              "#46039f"
             ],
             [
              0.2222222222222222,
              "#7201a8"
             ],
             [
              0.3333333333333333,
              "#9c179e"
             ],
             [
              0.4444444444444444,
              "#bd3786"
             ],
             [
              0.5555555555555556,
              "#d8576b"
             ],
             [
              0.6666666666666666,
              "#ed7953"
             ],
             [
              0.7777777777777778,
              "#fb9f3a"
             ],
             [
              0.8888888888888888,
              "#fdca26"
             ],
             [
              1,
              "#f0f921"
             ]
            ],
            "type": "heatmap"
           }
          ],
          "heatmapgl": [
           {
            "colorbar": {
             "outlinewidth": 0,
             "ticks": ""
            },
            "colorscale": [
             [
              0,
              "#0d0887"
             ],
             [
              0.1111111111111111,
              "#46039f"
             ],
             [
              0.2222222222222222,
              "#7201a8"
             ],
             [
              0.3333333333333333,
              "#9c179e"
             ],
             [
              0.4444444444444444,
              "#bd3786"
             ],
             [
              0.5555555555555556,
              "#d8576b"
             ],
             [
              0.6666666666666666,
              "#ed7953"
             ],
             [
              0.7777777777777778,
              "#fb9f3a"
             ],
             [
              0.8888888888888888,
              "#fdca26"
             ],
             [
              1,
              "#f0f921"
             ]
            ],
            "type": "heatmapgl"
           }
          ],
          "histogram": [
           {
            "marker": {
             "pattern": {
              "fillmode": "overlay",
              "size": 10,
              "solidity": 0.2
             }
            },
            "type": "histogram"
           }
          ],
          "histogram2d": [
           {
            "colorbar": {
             "outlinewidth": 0,
             "ticks": ""
            },
            "colorscale": [
             [
              0,
              "#0d0887"
             ],
             [
              0.1111111111111111,
              "#46039f"
             ],
             [
              0.2222222222222222,
              "#7201a8"
             ],
             [
              0.3333333333333333,
              "#9c179e"
             ],
             [
              0.4444444444444444,
              "#bd3786"
             ],
             [
              0.5555555555555556,
              "#d8576b"
             ],
             [
              0.6666666666666666,
              "#ed7953"
             ],
             [
              0.7777777777777778,
              "#fb9f3a"
             ],
             [
              0.8888888888888888,
              "#fdca26"
             ],
             [
              1,
              "#f0f921"
             ]
            ],
            "type": "histogram2d"
           }
          ],
          "histogram2dcontour": [
           {
            "colorbar": {
             "outlinewidth": 0,
             "ticks": ""
            },
            "colorscale": [
             [
              0,
              "#0d0887"
             ],
             [
              0.1111111111111111,
              "#46039f"
             ],
             [
              0.2222222222222222,
              "#7201a8"
             ],
             [
              0.3333333333333333,
              "#9c179e"
             ],
             [
              0.4444444444444444,
              "#bd3786"
             ],
             [
              0.5555555555555556,
              "#d8576b"
             ],
             [
              0.6666666666666666,
              "#ed7953"
             ],
             [
              0.7777777777777778,
              "#fb9f3a"
             ],
             [
              0.8888888888888888,
              "#fdca26"
             ],
             [
              1,
              "#f0f921"
             ]
            ],
            "type": "histogram2dcontour"
           }
          ],
          "mesh3d": [
           {
            "colorbar": {
             "outlinewidth": 0,
             "ticks": ""
            },
            "type": "mesh3d"
           }
          ],
          "parcoords": [
           {
            "line": {
             "colorbar": {
              "outlinewidth": 0,
              "ticks": ""
             }
            },
            "type": "parcoords"
           }
          ],
          "pie": [
           {
            "automargin": true,
            "type": "pie"
           }
          ],
          "scatter": [
           {
            "fillpattern": {
             "fillmode": "overlay",
             "size": 10,
             "solidity": 0.2
            },
            "type": "scatter"
           }
          ],
          "scatter3d": [
           {
            "line": {
             "colorbar": {
              "outlinewidth": 0,
              "ticks": ""
             }
            },
            "marker": {
             "colorbar": {
              "outlinewidth": 0,
              "ticks": ""
             }
            },
            "type": "scatter3d"
           }
          ],
          "scattercarpet": [
           {
            "marker": {
             "colorbar": {
              "outlinewidth": 0,
              "ticks": ""
             }
            },
            "type": "scattercarpet"
           }
          ],
          "scattergeo": [
           {
            "marker": {
             "colorbar": {
              "outlinewidth": 0,
              "ticks": ""
             }
            },
            "type": "scattergeo"
           }
          ],
          "scattergl": [
           {
            "marker": {
             "colorbar": {
              "outlinewidth": 0,
              "ticks": ""
             }
            },
            "type": "scattergl"
           }
          ],
          "scattermapbox": [
           {
            "marker": {
             "colorbar": {
              "outlinewidth": 0,
              "ticks": ""
             }
            },
            "type": "scattermapbox"
           }
          ],
          "scatterpolar": [
           {
            "marker": {
             "colorbar": {
              "outlinewidth": 0,
              "ticks": ""
             }
            },
            "type": "scatterpolar"
           }
          ],
          "scatterpolargl": [
           {
            "marker": {
             "colorbar": {
              "outlinewidth": 0,
              "ticks": ""
             }
            },
            "type": "scatterpolargl"
           }
          ],
          "scatterternary": [
           {
            "marker": {
             "colorbar": {
              "outlinewidth": 0,
              "ticks": ""
             }
            },
            "type": "scatterternary"
           }
          ],
          "surface": [
           {
            "colorbar": {
             "outlinewidth": 0,
             "ticks": ""
            },
            "colorscale": [
             [
              0,
              "#0d0887"
             ],
             [
              0.1111111111111111,
              "#46039f"
             ],
             [
              0.2222222222222222,
              "#7201a8"
             ],
             [
              0.3333333333333333,
              "#9c179e"
             ],
             [
              0.4444444444444444,
              "#bd3786"
             ],
             [
              0.5555555555555556,
              "#d8576b"
             ],
             [
              0.6666666666666666,
              "#ed7953"
             ],
             [
              0.7777777777777778,
              "#fb9f3a"
             ],
             [
              0.8888888888888888,
              "#fdca26"
             ],
             [
              1,
              "#f0f921"
             ]
            ],
            "type": "surface"
           }
          ],
          "table": [
           {
            "cells": {
             "fill": {
              "color": "#EBF0F8"
             },
             "line": {
              "color": "white"
             }
            },
            "header": {
             "fill": {
              "color": "#C8D4E3"
             },
             "line": {
              "color": "white"
             }
            },
            "type": "table"
           }
          ]
         },
         "layout": {
          "annotationdefaults": {
           "arrowcolor": "#2a3f5f",
           "arrowhead": 0,
           "arrowwidth": 1
          },
          "autotypenumbers": "strict",
          "coloraxis": {
           "colorbar": {
            "outlinewidth": 0,
            "ticks": ""
           }
          },
          "colorscale": {
           "diverging": [
            [
             0,
             "#8e0152"
            ],
            [
             0.1,
             "#c51b7d"
            ],
            [
             0.2,
             "#de77ae"
            ],
            [
             0.3,
             "#f1b6da"
            ],
            [
             0.4,
             "#fde0ef"
            ],
            [
             0.5,
             "#f7f7f7"
            ],
            [
             0.6,
             "#e6f5d0"
            ],
            [
             0.7,
             "#b8e186"
            ],
            [
             0.8,
             "#7fbc41"
            ],
            [
             0.9,
             "#4d9221"
            ],
            [
             1,
             "#276419"
            ]
           ],
           "sequential": [
            [
             0,
             "#0d0887"
            ],
            [
             0.1111111111111111,
             "#46039f"
            ],
            [
             0.2222222222222222,
             "#7201a8"
            ],
            [
             0.3333333333333333,
             "#9c179e"
            ],
            [
             0.4444444444444444,
             "#bd3786"
            ],
            [
             0.5555555555555556,
             "#d8576b"
            ],
            [
             0.6666666666666666,
             "#ed7953"
            ],
            [
             0.7777777777777778,
             "#fb9f3a"
            ],
            [
             0.8888888888888888,
             "#fdca26"
            ],
            [
             1,
             "#f0f921"
            ]
           ],
           "sequentialminus": [
            [
             0,
             "#0d0887"
            ],
            [
             0.1111111111111111,
             "#46039f"
            ],
            [
             0.2222222222222222,
             "#7201a8"
            ],
            [
             0.3333333333333333,
             "#9c179e"
            ],
            [
             0.4444444444444444,
             "#bd3786"
            ],
            [
             0.5555555555555556,
             "#d8576b"
            ],
            [
             0.6666666666666666,
             "#ed7953"
            ],
            [
             0.7777777777777778,
             "#fb9f3a"
            ],
            [
             0.8888888888888888,
             "#fdca26"
            ],
            [
             1,
             "#f0f921"
            ]
           ]
          },
          "colorway": [
           "#636efa",
           "#EF553B",
           "#00cc96",
           "#ab63fa",
           "#FFA15A",
           "#19d3f3",
           "#FF6692",
           "#B6E880",
           "#FF97FF",
           "#FECB52"
          ],
          "font": {
           "color": "#2a3f5f"
          },
          "geo": {
           "bgcolor": "white",
           "lakecolor": "white",
           "landcolor": "#E5ECF6",
           "showlakes": true,
           "showland": true,
           "subunitcolor": "white"
          },
          "hoverlabel": {
           "align": "left"
          },
          "hovermode": "closest",
          "mapbox": {
           "style": "light"
          },
          "paper_bgcolor": "white",
          "plot_bgcolor": "#E5ECF6",
          "polar": {
           "angularaxis": {
            "gridcolor": "white",
            "linecolor": "white",
            "ticks": ""
           },
           "bgcolor": "#E5ECF6",
           "radialaxis": {
            "gridcolor": "white",
            "linecolor": "white",
            "ticks": ""
           }
          },
          "scene": {
           "xaxis": {
            "backgroundcolor": "#E5ECF6",
            "gridcolor": "white",
            "gridwidth": 2,
            "linecolor": "white",
            "showbackground": true,
            "ticks": "",
            "zerolinecolor": "white"
           },
           "yaxis": {
            "backgroundcolor": "#E5ECF6",
            "gridcolor": "white",
            "gridwidth": 2,
            "linecolor": "white",
            "showbackground": true,
            "ticks": "",
            "zerolinecolor": "white"
           },
           "zaxis": {
            "backgroundcolor": "#E5ECF6",
            "gridcolor": "white",
            "gridwidth": 2,
            "linecolor": "white",
            "showbackground": true,
            "ticks": "",
            "zerolinecolor": "white"
           }
          },
          "shapedefaults": {
           "line": {
            "color": "#2a3f5f"
           }
          },
          "ternary": {
           "aaxis": {
            "gridcolor": "white",
            "linecolor": "white",
            "ticks": ""
           },
           "baxis": {
            "gridcolor": "white",
            "linecolor": "white",
            "ticks": ""
           },
           "bgcolor": "#E5ECF6",
           "caxis": {
            "gridcolor": "white",
            "linecolor": "white",
            "ticks": ""
           }
          },
          "title": {
           "x": 0.05
          },
          "xaxis": {
           "automargin": true,
           "gridcolor": "white",
           "linecolor": "white",
           "ticks": "",
           "title": {
            "standoff": 15
           },
           "zerolinecolor": "white",
           "zerolinewidth": 2
          },
          "yaxis": {
           "automargin": true,
           "gridcolor": "white",
           "linecolor": "white",
           "ticks": "",
           "title": {
            "standoff": 15
           },
           "zerolinecolor": "white",
           "zerolinewidth": 2
          }
         }
        },
        "ternary": {
         "aaxis": {
          "title": {
           "text": "A"
          }
         },
         "baxis": {
          "title": {
           "text": "B"
          }
         },
         "caxis": {
          "title": {
           "text": "C"
          }
         },
         "domain": {
          "x": [
           0,
           1
          ],
          "y": [
           0,
           1
          ]
         }
        }
       }
      }
     },
     "metadata": {},
     "output_type": "display_data"
    }
   ],
   "source": [
    "# Plotly ternary plot\n",
    "df = pd.DataFrame(dict(\n",
    "    A=np.random.randn(100),\n",
    "    B=np.random.randn(100),\n",
    "    C=np.random.randn(100),\n",
    "))\n",
    "fig = px.scatter_ternary(df, a=\"A\", b=\"B\", c=\"C\")\n",
    "fig.show()"
   ]
  },
  {
   "cell_type": "code",
   "execution_count": 25,
   "metadata": {},
   "outputs": [
    {
     "data": {
      "application/vnd.plotly.v1+json": {
       "config": {
        "plotlyServerURL": "https://plot.ly"
       },
       "data": [
        {
         "mode": "lines",
         "type": "scatter",
         "x": [
          1.000918273645543,
          1.000918273645543,
          1.000918273645543,
          1.000918273645543,
          1.000918273645543,
          1.000918273645543,
          1.000918273645543,
          1.000918273645543,
          1.000918273645543,
          1.000918273645543,
          1.000918273645543,
          1.000918273645543,
          1.000918273645543,
          1.000918273645543,
          1.000918273645543,
          1.000918273645543,
          1.000918273645543,
          1.000918273645543,
          1.000918273645543,
          1.000918273645543,
          1.000918273645543,
          1.000918273645543,
          1.000918273645543,
          1.000918273645543,
          1.000918273645543,
          1.000918273645543,
          1.000918273645543,
          1.000918273645543,
          1.000918273645543,
          1.000918273645543,
          1.000918273645543,
          1.000918273645543,
          1.000918273645543,
          1.000918273645543,
          1.000918273645543,
          1.000918273645543,
          1.000918273645543,
          1.000918273645543,
          1.000918273645543,
          1.000918273645543,
          1.000918273645543,
          1.000918273645543,
          1.000918273645543,
          1.000918273645543,
          1.000918273645543,
          1.000918273645543,
          1.000918273645543,
          1.000918273645543,
          1.000918273645543,
          1.000918273645543,
          1.000918273645543,
          1.000918273645543,
          1.000918273645543,
          1.000918273645543,
          1.000918273645543,
          1.000918273645543,
          1.000918273645543,
          1.000918273645543,
          1.000918273645543,
          1.000918273645543,
          1.000918273645543,
          1.000918273645543,
          1.000918273645543,
          1.000918273645543,
          1.000918273645543,
          1.000918273645543,
          1.000918273645543,
          1.000918273645543,
          1.000918273645543,
          1.000918273645543,
          1.000918273645543,
          1.000918273645543,
          1.000918273645544,
          1.0009182736455449,
          1.0009182736455466,
          1.0009182736455546,
          1.0009182736455813,
          1.00091827364567,
          1.0009182736459632,
          1.0009182736469233,
          1.00091827365008,
          1.0009182736604547,
          1.000918273694551,
          1.000918273806616,
          1.000918274174933,
          1.0009182753854606,
          1.0009182793640328,
          1.0009182924401863,
          1.000918335416853,
          1.0009184766659116,
          1.0009189409018102,
          1.000920466685284,
          1.000925481451195,
          1.0009419639631494,
          1.0009961490137123,
          1.0011745163431298,
          1.0017672338974037,
          1.0039090426442545,
          1.0110879873093834,
          1.0202616741544626,
          1.0337262621758505,
          1.0581215673425488,
          1.099883353416697,
          1.133769484594084,
          1.1615461000278984,
          1.1856414077845052,
          1.2068184074694797,
          1.2253639481973435,
          1.2413809574631616,
          1.2548425125313294,
          1.265660000533682,
          1.2737171256961375,
          1.278861632242685,
          1.2809143050485474,
          1.2796768470887248,
          1.274939961117627,
          1.266492337207075,
          1.2541304568878537,
          1.237670904969539,
          1.217003041877562,
          1.192061312877735,
          1.1628439968917128,
          1.1295059270008565,
          1.092231122609273,
          1.051320356371681,
          1.0071417477249334,
          0.9600820564589787,
          0.9105325434817497,
          0.8588978513065997,
          0.8055356828669429,
          0.7507559620014046,
          0.6948259759361752,
          0.6379772725160109,
          0.580396136214393,
          0.5222382449495133,
          0.46362871050567067,
          0.4046668533450184,
          0.3454325446279052,
          0.28599024170332044,
          0.22639133478218776,
          0.16667711857560708,
          0.10688138243308964,
          0.047032410984485296,
          -0.012845782718069909,
          -0.07273203168429632,
          -0.13260692726579482,
          -0.19245196277459398,
          -0.25224886597324536,
          -0.3119791440252717,
          -0.37162393013506057,
          -0.43116365108023347,
          -0.49057793920487747,
          -0.5498456831217933,
          -0.6089456785452918,
          -0.667856395941036,
          -0.7265558871780082,
          -0.7850216158542684,
          -0.8432329295712111,
          -0.9011703842531134,
          -0.9588147361003685,
          -1.0161485778964499,
          -1.0731578994867825,
          -1.1298286480142679,
          -1.1861493551785514,
          -1.242112147095247,
          -1.2977084014606661,
          -1.3529334972269613,
          -1.4077846973559642,
          -1.4622605932229984,
          -1.5163632656008421,
          -1.5700928797340648,
          -1.6234529213184665,
          -1.6764472681927247,
          -1.7290837469351392,
          -1.7813678885533133,
          -1.833308252084624,
          -1.884912390509059,
          -1.9361911169874155,
          -1.987149781587678,
          -2.0377992188516134,
          -2.088148743489807,
          -2.1382085133354285,
          -2.187988215243314,
          -2.2374984807019875,
          -2.2867464250842713,
          -2.33574158933036,
          -2.3844946447826088,
          -2.4330140758686483,
          -2.481309903104492,
          -2.5293889192640515,
          -2.5772593074018104,
          -2.624930419554864,
          -2.672409847025213,
          -2.719706028632446,
          -2.7668243274001507,
          -2.8137723270805144,
          -2.8605575025143986,
          -2.907186979407102,
          -2.9536656240465295,
          -3,
          null,
          1.3000491455825225,
          1.3259952867519633,
          1.350333776930138,
          1.3731249332419901,
          1.394329775306609,
          1.41391774156968,
          1.431847040940439,
          1.448037781744941,
          1.4624156496006142,
          1.4748945314953419,
          1.4853746395361096,
          1.493741420227221,
          1.4998730442434054,
          1.503641701240805,
          1.5049115263100132,
          1.5035407975680402,
          1.4993846955958725,
          1.4922986919542156,
          1.4821429620739401,
          1.4687961352027914,
          1.4521555040533727,
          1.4321374574678636,
          1.4086938298080147,
          1.3818414365557015,
          1.3516072098568355,
          1.3181131403940878,
          1.2814844680118496,
          1.2419252747267793,
          1.1996518108096277,
          1.1549028068948788,
          1.1079445380828323,
          1.0590281274666955,
          1.0083996399874575,
          0.9562865235811722,
          0.902900691898969,
          0.8484274322254226,
          0.7930396987522834,
          0.7368828039323301,
          0.6800820260549316,
          0.6227449908351863,
          0.5649610364457671,
          0.5068083229436726,
          0.4483528657057203,
          0.3896493068813882,
          0.33074421762179185,
          0.2716776100476648,
          0.2124834728807965,
          0.1531907049173471,
          0.09382408549916699,
          0.03440574615719827,
          -0.02504458537726162,
          -0.08450901943409361,
          -0.1439711533423118,
          -0.20341575292851832,
          -0.26282786004483505,
          -0.32219286468567665,
          -0.38149633041565867,
          -0.44072404168992163,
          -0.49986209815311833,
          -0.5588960826051821,
          -0.6178114550174518,
          -0.6765936702015907,
          -0.7352289150866387,
          -0.7937030768717399,
          -0.8520019778463843,
          -0.9101118773244976,
          -0.9680204622762263,
          -1.0257142663041325,
          -1.0831810942048168,
          -1.1404105705106016,
          -1.1973927110078384,
          -1.2541179639187463,
          -1.3105790056536597,
          -1.3667688604107686,
          -1.4226811287321572,
          -1.4783116606541757,
          -1.5336559224256854,
          -1.5887117044643773,
          -1.6434776743252866,
          -1.6979529210362412,
          -1.7521377991605298,
          -1.806031357973835,
          -1.859636501750633,
          -1.9129553282608427,
          -1.9659915614563919,
          -2.018748116608599,
          -2.0712296610770062,
          -2.123440792120535,
          -2.175386661315582,
          -2.2270704957833773,
          -2.2784987818432425,
          -2.3296769277674585,
          -2.380611261740383,
          -2.431307296631315,
          -2.481772219089765,
          -2.532010039803021,
          -2.582027168234065,
          null,
          1.068689303715515,
          1.0474606719146227,
          1.0203722610333221,
          0.9873267960064123,
          0.9486986541694744,
          0.9049508687892387,
          0.8567839416968193,
          0.8050957565658088,
          0.7506526934866242,
          0.6941587244787195,
          0.6361938845819668,
          0.5772164454219064,
          0.5175630760382308,
          0.4574769129791729,
          0.39713123739763745,
          0.3366400628768327,
          0.2760765905243385,
          0.21548484123970768,
          0.1548883378009407,
          0.09429673526101334,
          0.03371097539780843,
          -0.026872624381452326,
          -0.08745906522356961,
          -0.14805195879954347,
          -0.20865130645974395,
          -0.26925171291033756,
          -0.32984102551799843,
          -0.3903994200814429,
          -0.450898968270558,
          -0.5113037194023167,
          -0.5715703095064488,
          -0.6316490759833817,
          -0.6914856120794681,
          -0.7510226503144088,
          -0.8102021164921278,
          -0.8689682217664849,
          -0.9272691466664735,
          -0.9850579926629393,
          -1.042296167891913,
          -1.098953048513555,
          -1.1550037626776355,
          -1.2104349602063227,
          -1.2652347565702866,
          -1.31940073335278,
          -1.3729405424936725,
          -1.4258627983046261,
          -1.478184515576941,
          -1.5299202052472622,
          -1.5810938595658692,
          -1.6317269565996007,
          -1.68183882731538,
          -1.7314544083653294,
          -1.780598639454487,
          -1.8292968125670197,
          -1.87757225483745,
          -1.9254483165541862,
          -1.972945650473799,
          -2.0200868910002563,
          -2.066894566908047,
          -2.1133888666814533,
          -2.1595853003055456,
          -2.205503864102519,
          -2.251161408483116,
          -2.296576550570472,
          -2.341760810475087,
          -2.386729047248766,
          -2.4314965549934495,
          -2.476077148095998,
          -2.520478781449582,
          -2.56471473738582,
          -2.6087965190926297,
          -2.6527333876086296,
          -2.6965334347447785,
          -2.740206696042929,
          -2.7837617528273575,
          -2.8272043948129735,
          -2.8705428482011364,
          -2.913784302111095,
          -2.9569350061812774,
          -3,
          null,
          0.8391366716637574,
          0.7858887610107188,
          0.7296680918167917,
          0.6714733338401748,
          0.6120403769428289,
          0.5519055255868448,
          0.4914345918839973,
          0.4308657642555418,
          0.37034437029067435,
          0.309949262458431,
          0.24971242852487618,
          0.18963346648586388,
          0.12969026264551076,
          0.06985694597277803,
          0.0101000073566615,
          -0.04962971111819359,
          -0.10938101101552666,
          -0.16919863350042963,
          -0.22912013789457175,
          -0.28916989492604994,
          -0.34935602126023824,
          -0.4096813371616501,
          -0.47013230707105347,
          -0.5306772075753714,
          -0.5912659176768944,
          -0.6518308712377245,
          -0.7122892919302419,
          -0.7725466668657464,
          -0.8325012183963163,
          -0.8920486163754315,
          -0.9510870636039743,
          -1.009525422791076,
          -1.06728426416967,
          -1.1242991498323238,
          -1.1805238519297994,
          -1.2359240765264559,
          -1.2904848785667842,
          -1.3442054140400732,
          -1.397095648265423,
          -1.4491769949376938,
          -1.5004680721257233,
          -1.5510042395087849,
          -1.6008221318980471,
          -1.6499592437519333,
          -1.6984578915782913,
          -1.7463534544348382,
          -1.793684571579231,
          -1.8404897336929233,
          -1.8868052303130594,
          -1.9326707781883525,
          -1.978111950145625,
          -2.0231618356605585,
          -2.067852969908531,
          -2.1122133766283793,
          -2.1562633632966466,
          -2.200031102636759,
          -2.243539354506475,
          -2.2868073758144787,
          -2.3298548746277077,
          -2.372700666611615,
          -2.4153624542695735,
          -2.457852012309891,
          -2.5001859800595083,
          -2.542378375397722,
          -2.584439002229239,
          -2.6263807612794325,
          -2.668214881235225,
          -2.7099501194422495,
          -2.7515943025586274,
          -2.7931577085364094,
          -2.834647977392756,
          -2.8760699026620866,
          -2.9174318756406583,
          -2.9587409652036936,
          -3,
          null,
          1.6877588019433238,
          1.6780641524420625,
          1.665638755692048,
          1.6503980543665202,
          1.6322745179007132,
          1.611213038022954,
          1.5871880398681748,
          1.5602102921525178,
          1.5303015933486535,
          1.4975518435411406,
          1.4620468802317461,
          1.4239299718617646,
          1.3833536061537597,
          1.340482852319064,
          1.2955186639214409,
          1.2486490970258055,
          1.200062636873839,
          1.149943997794634,
          1.0984719795025644,
          1.0458156639339196,
          0.9921245743330722,
          0.937533396545911,
          0.8821647142784981,
          0.8261281303358028,
          0.7695178151109143,
          0.7124180320348446,
          0.6549010971636062,
          0.5970295091388476,
          0.5388585521670382,
          0.4804358124997741,
          0.4218013542410919,
          0.36299087750292713,
          0.3040354496935689,
          0.2449622864860479,
          0.18579430179164858,
          0.12655217375154137,
          0.06725445210452063,
          0.007917828553463568,
          -0.05144257407303021,
          -0.11081311040581232,
          -0.17018060300092186,
          -0.22953249173319978,
          -0.2888566770581038,
          -0.3481414857276488,
          -0.4073757355245702,
          -0.46654796629538486,
          -0.5256467183995106,
          -0.5846605328457479,
          -0.6435783177819769,
          -0.7023889437148174,
          -0.7610809818988162,
          -0.8196430529862817,
          -0.8780642871143165,
          -0.93633394340578,
          -0.9944410876582284,
          -1.0523752264762285,
          -1.1101270050763166,
          -1.1676869109219716,
          -1.2250457759678617,
          -1.282195719298697,
          -1.3391291968701984,
          -1.3958389288659645,
          -1.4523191255666479,
          -1.5085631408268467,
          -1.5645658643484055,
          -1.6203239703787191,
          -1.6758338135034159,
          -1.7310930921852274,
          -1.7861001277024364,
          -1.8408531127653056,
          -1.895351967049826,
          -1.9495964890554107,
          -2.0035879818390243,
          -2.0573276020724958,
          -2.1108156322236438,
          -2.1640543364681304,
          null,
          0.3872016180641946,
          0.32908246424289,
          0.27170898624503526,
          0.2150264201078924,
          0.15892786732564668,
          0.10334019871708922,
          0.04815164104906833,
          -0.0067545004940834374,
          -0.06147732186271604,
          -0.11614862946391558,
          -0.17086827139266036,
          -0.22575488772216623,
          -0.28090765097632353,
          -0.33642171413467326,
          -0.3923901996034074,
          -0.4488770194931542,
          -0.5059461106506835,
          -0.56363530973826,
          -0.6219502455836365,
          -0.6808790346046516,
          -0.7403762894552037,
          -0.800358122254917,
          -0.8606971927708678,
          -0.9212383073892414,
          -0.9817966981098087,
          -1.0421661916084808,
          -1.1021308520762314,
          -1.161475172041106,
          -1.2200050788841241,
          -1.277555669469524,
          -1.3339961551541257,
          -1.3892317862054906,
          -1.44320075652115,
          -1.4958860334505146,
          -1.5472974262288632,
          -1.5974686787038337,
          -1.646445909617105,
          -1.69429835707105,
          -1.741084407182495,
          -1.786879308530002,
          -1.8317599477328812,
          -1.8757995383115151,
          -1.9190667856420471,
          -1.9616313342920542,
          -2.0035591957708223,
          -2.044909515200068,
          -2.0857399866742425,
          -2.1261046834012096,
          -2.1660520188625885,
          -2.2056222472163887,
          -2.244863328640415,
          -2.2838111629036915,
          -2.3224976762982252,
          -2.3609566448445474,
          -2.3992173128915457,
          -2.437305131022776,
          -2.4752465923288067,
          -2.5130588371936518,
          -2.550763951442457,
          -2.58838183366681,
          -2.625925599938829,
          -2.6634124307770977,
          -2.70085331698774,
          -2.7382615854664887,
          -2.775650297858094,
          -2.8130251786920355,
          -2.8503972564406745,
          -2.8877734345692523,
          -2.925161518429097,
          -2.962569261183241,
          -3,
          null,
          2.972459244565096,
          2.9315534769744014,
          2.890697716692327,
          2.8498873785766374,
          2.8091277193632376,
          2.7684233002644394,
          2.727771192745042,
          2.6871767232375596,
          2.6466451061824356,
          2.606172064282707,
          2.5657654296169508,
          2.5254324453098684,
          2.4851652138882914,
          2.44497424739893,
          2.4048701454525183,
          2.36484368172518,
          2.324905122818109,
          2.285068155996262,
          2.245323179200442,
          2.205688685340995,
          2.166172367008393,
          2.1267626622224727,
          2.0874969888086596,
          2.0483801698181647,
          2.0093887496588394,
          1.970588283677845,
          1.9319842869388033,
          1.893568269070724,
          1.8554278803881106,
          1.8175380614941545,
          1.7799887575964783,
          1.7428813737605457,
          1.7062143092463833,
          1.6702627620322055,
          1.63519052238634,
          1.6014152675864857,
          1.5696446977795775,
          1.5408373050477335,
          1.5169554691397433,
          1.5004558526186385,
          1.4935795536034906,
          1.4964759542360095,
          1.5070110328511035,
          1.5226400331790604,
          1.5414540125559597,
          1.562195022876601,
          1.584042910935831,
          1.6064756374846088,
          1.629115799658634,
          1.65169997860892,
          1.6740458046172177,
          1.695989828455395,
          1.71741336756891,
          1.738218481324612,
          1.7583021826221223,
          1.777586599514783,
          1.7959991143917033,
          1.8134597269534733,
          1.8299009286529815,
          1.8452564272940908,
          1.8594559271376863,
          1.8724258361386141,
          1.8840959970260611,
          1.8943938079398457,
          1.9032437684622545,
          1.9105673751615653,
          1.9162824953872155,
          1.9203054980963197,
          1.9225507793749026,
          1.9229305594928547,
          1.9213555099894224,
          1.9177355738318465,
          1.9119809881286534,
          1.904003997898644,
          1.8937227387750264,
          1.8810599831464287,
          1.8659455724570657,
          1.8483182009157275,
          1.828135813188461,
          1.8053714164059071,
          1.7800086592836344,
          1.7520685302245171,
          1.7215791406529002,
          1.688602944678725,
          1.653211259451342,
          1.6155132223356174,
          1.5756157364572037,
          1.5336518238498433,
          1.4897650563091496,
          1.4440989362885412,
          1.3967980754029767,
          1.3480169084892584,
          1.2978983134470603,
          1.2465773167972989,
          1.1941837057334013,
          1.1408364933765958,
          1.0866456844641643,
          1.0317110364143067,
          0.9761257820759481,
          0.9199720618673837,
          0.8633211099906792,
          0.8062378574505948,
          0.7487793758494345,
          0.6909954976546215,
          0.6329311157963864,
          0.5746256748236145,
          0.5161131613787888,
          0.4574241446536318,
          0.39858563263851865,
          0.33962133481594226,
          0.2805517822219299,
          0.2213956199732059,
          0.1621696514506259,
          0.10288900845420468,
          0.04356730334273573,
          -0.015783169752164206,
          -0.07515071749802438,
          -0.13452436455443983,
          -0.19389371004991318,
          -0.25324891886103673,
          -0.3125806211071964,
          -0.37187940025491395,
          -0.43113596367344664,
          -0.4903410962489376,
          -0.549485838817867,
          -0.6085612861388197,
          -0.6675582747547208,
          -0.7264676214996664,
          -0.7852799477635104,
          -0.8439864993614079,
          -0.9025781661492562,
          -0.9610458632482075,
          -1.019380750565338,
          -1.0775745242479784,
          -1.1356186275344822,
          -1.1935047220663546,
          -1.2512252034438827,
          -1.3087726739399892,
          -1.3661398090491286,
          -1.4233200336459828,
          -1.4803071663168412,
          -1.537095088819228,
          null,
          -0.09092417667595987,
          -0.13987588476038404,
          -0.18896169221334747,
          -0.23830463534231505,
          -0.28803179455898187,
          -0.3382525548379305,
          -0.38906700889004675,
          -0.44056776952454646,
          -0.4928317953778998,
          -0.5459276724801829,
          -0.5999045153029163,
          -0.6547955866147119,
          -0.7106143854130695,
          -0.7673535215208158,
          -0.8249792172269963,
          -0.8834311723398502,
          -0.9426197405850956,
          -1.0024192527892364,
          -1.0626700669713764,
          -1.1231838912369494,
          -1.1837452698643096,
          -1.2441191976565606,
          -1.304061674448648,
          -1.3633303680184299,
          -1.4216942731163764,
          -1.4789549012273153,
          -1.5349501896928455,
          -1.5895573716740459,
          -1.642697342323892,
          -1.6943325542437702,
          -1.7444471938353434,
          -1.7930679038640034,
          -1.840240991333091,
          -1.8860367816385952,
          -1.9305333178145527,
          -1.9738015421763073,
          -2.0159382240800356,
          -2.057033313141756,
          -2.097168337650963,
          -2.1364278407072357,
          -2.174901218260782,
          -2.2126586869191534,
          -2.249774624277703,
          -2.286317796373858,
          -2.3223493106807656,
          -2.357933466747242,
          -2.3931204142881244,
          -2.4279616790655068,
          -2.462503148477464,
          -2.496785298919478,
          -2.530853247329746,
          -2.564736164360075,
          -2.5984706217984668,
          -2.6320830662016066,
          -2.665601589053153,
          -2.6990503025690242,
          -2.732452564638744,
          -2.7658284238492996,
          -2.7991940019027934,
          -2.832568407926655,
          -2.865962056373527,
          -2.8993917062467895,
          -2.9328673414716473,
          -2.9664007564519648,
          -3,
          null,
          -0.13135782272481356,
          -0.17624842697006393,
          -0.2215764010456831,
          -0.2674422756429644,
          -0.31394862925305667,
          -0.36117885914500114,
          -0.40920497748982676,
          -0.45810023836053393,
          -0.5079091512813436,
          -0.5586761963691083,
          -0.6104305813768836,
          -0.6631915906539341,
          -0.7169635357481989,
          -0.771738886543746,
          -0.8274937994343983,
          -0.8841924867879669,
          -0.9417781046713753,
          -1.0001766068750657,
          -1.0592914252453436,
          -1.1190041035987415,
          -1.179174520491327,
          -1.239639905800873,
          -1.300216107955501,
          -1.3607010474449068,
          -1.4208803641905512,
          -1.480534935087025,
          -1.5394495246249078,
          -1.597421212135522,
          -1.654263513226361,
          -1.709821526843736,
          -1.7639734234610611,
          -1.816630687826988,
          -1.8677304523024612,
          -1.917249792092053,
          -1.9651960699240687,
          -2.0116000570985366,
          -2.0565145723451,
          -2.099994327345544,
          -2.1421153484911115,
          -2.182963180674482,
          -2.2226197851893024,
          -2.261167792848144,
          -2.298699486396931,
          -2.3352965225412445,
          -2.3710406948164735,
          -2.406012503749604,
          -2.4402815802376874,
          -2.473924998378145,
          -2.5070061012075358,
          -2.5395905939611523,
          -2.5717341703153833,
          -2.6034936449116834,
          -2.634918004055098,
          -2.666054376969192,
          -2.696948873891464,
          -2.727641551915199,
          -2.758168862784953,
          -2.7885649529171044,
          -2.8188616466035263,
          -2.849087186469934,
          -2.8792675727388333,
          -2.9094277990210053,
          -2.939590699494436,
          -2.9697755300254065,
          -3,
          null,
          1.2269397166285474,
          1.1724228728870978,
          1.11725528102835,
          1.0615101111364798,
          1.0052548686803107,
          0.948548982889065,
          0.8914465745462086,
          0.8339959880089904,
          0.7762396645604515,
          0.718216260575057,
          0.6599601920810039,
          0.6015015267394377,
          0.5428672740990441,
          0.48408170697385344,
          0.42516641905070207,
          0.3661405530411459,
          0.3070211597205468,
          0.24782373173680528,
          0.18856225646202462,
          0.12924936417513955,
          0.06989638890597805,
          0.010514055857853144,
          -0.04888763491469472,
          -0.10829929304605956,
          -0.16771207667950216,
          -0.22711771215301102,
          -0.2865079720058046,
          -0.3458748141956467,
          -0.4052103362317405,
          -0.4645067907040521,
          -0.5237566733732377,
          -0.5829522529013538,
          -0.6420857658868924,
          -0.7011494252873582,
          null,
          -0.23731067293290353,
          -0.2813163408564683,
          -0.32622778512575223,
          -0.37208466257193473,
          -0.41890595129699193,
          -0.46671421810595826,
          -0.5155224049021068,
          -0.5653283944579055,
          -0.6161378407215534,
          -0.6679375112502921,
          -0.7207177516196679,
          -0.7744545312251616,
          -0.8291243556031853,
          -0.884689787387134,
          -0.9411133832857788,
          -0.9983434178281088,
          -1.0563196924393008,
          -1.1149736006046487,
          -1.1742234681804022,
          -1.2339758738260487,
          -1.294124586965147,
          -1.3545497082282179,
          -1.4151174696253241,
          -1.4756809045810253,
          -1.5360815565987538,
          -1.5961522993924766,
          -1.6557211963577365,
          -1.7146161579796717,
          -1.7726700026164643,
          -1.8297231525525484,
          -1.8856293217135736,
          -1.9402653059673287,
          -1.9935231189106095,
          -2.0453177161599125,
          -2.0955962749070403,
          -2.1443281345181116,
          -2.191506208097216,
          -2.237144371286016,
          -2.281263955709322,
          -2.3239115290844374,
          -2.3651438362259842,
          -2.4050215178027137,
          -2.4436145479026834,
          -2.4809998957026305,
          -2.5172497609104574,
          -2.552441074748181,
          -2.586650855982582,
          -2.6199541794822694,
          -2.652428364258847,
          -2.684137493005621,
          -2.71515541816007,
          -2.7455424441506233,
          -2.7753644992670985,
          -2.8046766533614624,
          -2.8335412935109194,
          -2.862006030924295,
          -2.8901242121905617,
          -2.917938797302235,
          -2.9454969394719255,
          -2.9728375296202807,
          -3,
          null,
          0.9783991664866467,
          0.9509280506093281,
          0.910303517989461,
          0.8576938698472842,
          0.7987506854028408,
          0.7395675614313268,
          0.6834896135121231,
          0.6315847107297032,
          0.5835081349504243,
          0.5387828438051652,
          0.49679870073576593,
          0.4569843956386852,
          0.41885969832689085,
          0.3819937927022301,
          0.346005969720931,
          0.3105964948510267,
          0.2754833861481072,
          0.24043110853842675,
          0.20523806504310116,
          0.16973641505127102,
          0.13379702494208479,
          0.09728949044866964,
          0.06012324628713861,
          0.022210320810154283,
          -0.016512214787714363,
          -0.056087400845599156,
          -0.09655702915970465,
          -0.13796058688506907,
          -0.1803112579310051,
          -0.22362324885766105,
          -0.26790765343353495,
          -0.31316750113040204,
          -0.35939566607246487,
          -0.40659274840477,
          -0.4547500775019744,
          -0.5038508280860907,
          -0.553887489223329,
          -0.604838194985736,
          -0.6566876859829058,
          -0.7094125325042562,
          -0.7629900990333685,
          -0.8173916478628143,
          -0.8725897735821762,
          -0.9285483444568325,
          -0.985232742069857,
          -1.0426005025487723,
          -1.100604195898054,
          -1.159192611862147,
          -1.2183064618132367,
          -1.2778792668001515,
          -1.3378369689888636,
          -1.3980970705386246,
          -1.4585676429007244,
          -1.5191474425983307,
          -1.5797264484807167,
          -1.6401861369205974,
          -1.7003996322645727,
          -1.76023340530288,
          -1.819550878377405,
          -1.8782146233762906,
          -1.9360866591567465,
          -1.9930321116950118,
          -2.048926221275712,
          -2.103658425977193,
          -2.157128959629172,
          -2.209257169428866,
          -2.2599770225242115,
          -2.3092428512346674,
          -2.357029483222208,
          -2.403316604288726,
          -2.4481119938668296,
          -2.4914371152903896,
          -2.533323935523702,
          -2.5738067532563647,
          -2.612941156349185,
          -2.650783360514813,
          -2.6873892616332475,
          -2.7228265705355246,
          -2.7571586486095407,
          -2.7904552843673938,
          -2.822782642093222,
          -2.8542059295581628,
          -2.88479233612577,
          -2.9146032526756755,
          -2.9437018875172027,
          -2.972147500902135,
          -3,
          null,
          1.8624237153968322,
          1.8576723292520994,
          1.857566507197296,
          1.8616596208881653,
          1.869359125615695,
          1.8800384029410084,
          1.8931112571163862,
          1.9080665015963794,
          1.9244689725976185,
          1.9419574102581798,
          1.960242628750378,
          1.9790845803114765,
          1.9982731136278025,
          2.017645747005175,
          2.0370658298315627,
          2.056407061099442,
          2.075566608506251,
          2.0944559532799305,
          2.1129889016462986,
          2.1310904057012605,
          2.148694689553354,
          2.1657361115180755,
          2.1821505193642023,
          2.197881774801777,
          2.212875209766228,
          2.2270740046989186,
          2.2404227219717017,
          2.252868461789408,
          2.264357778626602,
          2.274836357780832,
          2.2842476053090177,
          2.2925350873627632,
          2.29964197011458,
          2.3055100738144034,
          2.3100798686027098,
          2.3132905238996413,
          2.3150800180615754,
          2.3153853157759805,
          2.3141426207656837,
          2.3112877105820075,
          2.3067563583637307,
          2.3004848432397305,
          2.2924105464561872,
          2.2824726243570668,
          2.270612863298445,
          2.2567794049667684,
          2.2409252386532454,
          2.2230074736339107,
          2.2029902608251435,
          2.180854021299556,
          2.1565811972073696,
          2.130168907647783,
          2.1016318112615995,
          2.0709880004268504,
          2.038280201547053,
          2.003552419854733,
          1.9668697706133198,
          1.9283035512307949,
          1.8879313695481468,
          1.8458512047585582,
          1.8021561668837585,
          1.7569437036821194,
          1.710317886651314,
          1.6623840073925331,
          1.6132413176393054,
          1.5629892201780597,
          1.5117220298578404,
          1.459530403596502,
          1.40650387394055,
          1.3527218866033612,
          1.2982583908082947,
          1.24318248401599,
          1.1875575434735959,
          1.1314423116476773,
          1.0748891654556232,
          1.017945948042155,
          0.9606563342168104,
          0.9030591509762127,
          0.8451897343298409,
          0.7870800933099913,
          0.728758745561223,
          0.6702514767653476,
          0.611581349512131,
          0.552769070010446,
          null,
          0.40878407379780457,
          0.3772498119655747,
          0.34510978138025683,
          0.31227112354402564,
          0.27863868884609655,
          0.24414143399657062,
          0.20873314776547858,
          0.17238251203847987,
          0.1350747726090784,
          0.09679169117190911,
          0.057526061542264806,
          0.017281244120344486,
          -0.023938900963879295,
          -0.06611823930718241,
          -0.10925165377223678,
          -0.15332698439399062,
          -0.19832334298004195,
          -0.24422674827385782,
          -0.29101988659688915,
          -0.3386835155811121,
          -0.3872029710214977,
          -0.43655625218262006,
          -0.48672442859004095,
          -0.537689449367917,
          -0.5894310782830945,
          -0.641930685004402,
          -0.6951648621387334,
          -0.7491141105243102,
          -0.8037543452748612,
          -0.8590622350672512,
          -0.9150130468409263,
          -0.9715780360279389,
          -1.0287299997569899,
          -1.0864353132958238,
          -1.1446582125356082,
          -1.2033609657187274,
          -1.2625009515680832,
          -1.3220309805368107,
          -1.3818992060379593,
          -1.4420485063739545,
          -1.502415724811808,
          -1.5629313206407258,
          -1.6235194107204276,
          -1.6840975466979777,
          -1.7445768004832256,
          -1.8048620618818838,
          -1.86485164558691,
          -1.924439420150815,
          -1.9835165408977764,
          -2.041972780116807,
          -2.099698073563452,
          -2.156581377757643,
          -2.212519659971596,
          -2.2674147494915977,
          -2.321174850213286,
          -2.3737233730626635,
          -2.424993233391685,
          -2.4749288040461916,
          -2.5234856539953654,
          -2.570638575194871,
          -2.6163738157399496,
          -2.660692390227971,
          -2.7035980284001737,
          -2.7451115779409156,
          -2.78526601791511,
          -2.8240945329858813,
          -2.8616393384663037,
          -2.8979507890436556,
          -2.9330766646000686,
          -2.967074971014603,
          -3,
          null,
          -0.9854212152050632,
          -1.0427993270912173,
          -1.1006525003989287,
          -1.1589533919869115,
          -1.2176722494943801,
          -1.2767771165247364,
          -1.336232980244002,
          -1.3960007959611838,
          -1.4560377534480948,
          -1.5162968855349552,
          -1.5767266764996275,
          -1.6372707217907059,
          -1.6978674647068461,
          -1.7584500401108478,
          -1.8189462578184397,
          -1.8792787579009695,
          -1.939365365813405,
          -1.9991192824867317,
          -2.058450003477458,
          -2.117264725325661,
          -2.175467444866061,
          -2.232962182264809,
          -2.2896562834417984,
          -2.345458474495481,
          -2.400281725211513,
          -2.454047663684422,
          -2.5066809724034194,
          -2.558118682305181,
          -2.6083073177993503,
          -2.6572032077766385,
          -2.7047695611271307,
          -2.750986623834003,
          -2.7958436845799914,
          -2.839342574753465,
          -2.8814854831832095,
          -2.922291333000482,
          -2.96178710736808,
          -3,
          null,
          2.2068347790660265,
          2.1863001292708875,
          2.1686760874618987,
          2.1542234945200187,
          2.143143733471649,
          2.13553797561251,
          2.1313828738564053,
          2.1305414443319437,
          2.1327820455754996,
          2.1378086437426926,
          2.145293206560554,
          2.1549027677237023,
          2.1663153398927344,
          2.1792357081882523,
          2.193400203572118,
          2.208576380819217,
          2.224558442965698,
          2.2411638146600366,
          2.2582373850121646,
          2.275643810927388,
          2.2932598337784222,
          2.310978555481208,
          2.3287078779233354,
          2.346362881748176,
          2.36386361872436,
          2.3811419061035233,
          2.39813480241886,
          2.4147795344874696,
          2.431019672202517,
          2.446803437528385,
          2.462080370443976,
          2.476797157441494,
          2.490907118008078,
          2.5043647303644194,
          2.5171247991184647,
          2.5291406384914676,
          2.54036662287748,
          2.550758035885343,
          2.560269707156146,
          2.5688558825563277,
          2.5764701048007,
          2.583064709586089,
          2.588591608702047,
          2.593002284133302,
          2.5962473410086107,
          2.5982765466207036,
          2.5990389057686523,
          2.5984827760869766,
          2.596556026988991,
          2.593206245447065,
          2.5883809909789006,
          2.5820281008359354,
          2.5740960922705396,
          2.5645356190825925,
          2.5532991472410966,
          2.5403409831791794,
          2.5256181932057826,
          2.5090914978612826,
          2.490730419833773,
          2.4705071154382585,
          2.448397906208074,
          2.4243926608438064,
          2.3984846201049814,
          2.3706766268661656,
          2.340984270565867,
          2.309426335273568,
          2.276036562289068,
          2.2408542400123217,
          2.2039293263364943,
          2.165321279048717,
          2.1250911216124395,
          2.083312086562085,
          2.0400595865197824,
          1.9954107957253138,
          1.9494459025868904,
          1.9022511654171712,
          1.8539071274929046,
          1.8044943112739835,
          1.7540915948291929,
          1.7027752599017552,
          1.6506221031564472,
          1.5977011494252835,
          null,
          0.8918867542384943,
          0.8699093325325449,
          0.8463686452800752,
          0.8212849446919517,
          0.7946972143535715,
          0.7666505473711576,
          0.7372210268417048,
          0.7064526855667745,
          0.6744288613731344,
          0.6412001501936277,
          0.6068170889744597,
          0.5713342485269397,
          0.5348010985306586,
          0.4972714655596433,
          0.45877750462887734,
          0.4193563769441684,
          0.37904666490854444,
          0.3378766034308569,
          0.2958825760492756,
          0.2530872994229001,
          0.20951206651776877,
          0.1651853752652923,
          0.1201278161728645,
          0.07435826964095238,
          0.0278958438830621,
          -0.019243122775142396,
          -0.0670411677318068,
          -0.11547952661424565,
          -0.16455124433633284,
          -0.21423807735107703,
          -0.26452791845384116,
          -0.31540748055379986,
          -0.3668639986842228,
          -0.4188857868083793,
          -0.47146224535409464,
          -0.5245817438771843,
          -0.5782316736252211,
          -0.6324005170980396,
          -0.6870766367070944,
          -0.7422468671156226,
          -0.7978995393528874,
          -0.8540200007573708,
          -0.9105950833825949,
          -0.9676097129450953,
          -1.0250469690901214,
          -1.0828902025158142,
          -1.1411203717523275,
          -1.1997165546413389,
          -1.2586564113240588,
          -1.3179158540888467,
          -1.377467874012099,
          -1.4372829467389698,
          -1.4973287816227125,
          -1.557570021963801,
          -1.6179679379451748,
          -1.6784800387323071,
          -1.739060058238882,
          -1.799657755877368,
          -1.860218781485066,
          -1.92068462858218,
          -1.9809924050888599,
          -2.04107488067947,
          -2.1008613967119283,
          -2.160278086800938,
          -2.219248481105854,
          -2.277694131371595,
          -2.3355335902646743,
          -2.3926861587931483,
          -2.4490724971483444,
          -2.5046132798706866,
          -2.5592343613737905,
          -2.612866405596087,
          -2.665444649058091,
          -2.7169083724978442,
          -2.767204971599603,
          -2.816293109267897,
          -2.864138168322551,
          -2.910715124099778,
          -2.956005971765397,
          -3,
          null,
          1.4708803395037853,
          1.4358519064067092,
          1.4012945652808728,
          1.3677583619149338,
          1.3352615784478772,
          1.3024589320123914,
          1.2702469329104646,
          1.222879271251772,
          1.1796487143781054,
          1.1399154965936669,
          1.1012107850582256,
          1.062651508831995,
          1.0239305116759576,
          0.9848921591291742,
          0.9454373602049788,
          0.905516930853802,
          0.8651019875377797,
          0.8241710027174189,
          0.782723369211745,
          0.7407490336900451,
          0.6982415285879204,
          0.655208218815198,
          0.6116541170980785,
          0.5675728508628404,
          0.5229729838385899,
          0.47786189659195255,
          0.4322426770985488,
          0.3861162812541723,
          0.3394908894079598,
          0.2923699866293057,
          0.24476235371561117,
          0.196669026219773,
          0.1480947830881214,
          0.0990472852869666,
          0.04952867992568555,
          -0.0004529408414284397,
          -0.05089507110862135,
          -0.10179338909712632,
          -0.15314219815762176,
          -0.20493666566116753,
          -0.2571715697044694,
          -0.30984197995161233,
          -0.36294187440995174,
          -0.41646726057552463,
          -0.47041275803709626,
          -0.524772148524467,
          -0.5795396223980385,
          -0.6347078065325107,
          -0.6902712084510134,
          -0.7462215950199087,
          -0.8025516047411267,
          -0.8592529461967735,
          -0.9163158796138307,
          -0.973731270925863,
          -1.0314882980163038,
          -1.089574852282354,
          -1.147978263657045,
          -1.2066846167892877,
          -1.2656781746883492,
          -1.3249418219977358,
          -1.3844569974491956,
          -1.444203378705985,
          -1.5041584012705733,
          -1.5642973672748322,
          -1.6245932632879083,
          -1.6850165634879513,
          -1.7455350386615616,
          -1.8061135772593284,
          -1.8667140263013613,
          -1.9272950614275401,
          -1.987812096663455,
          -2.048217245329942,
          -2.1084593437469015,
          -2.168484048759871,
          -2.2282340184765737,
          -2.2876491828413084,
          -2.3466666809125956,
          -2.4052205629676644,
          -2.4632446755902624,
          -2.520672281023346,
          -2.577434979366281,
          -2.6334648839877484,
          -2.688696581638637,
          -2.743065030386757,
          -2.796510999209513,
          -2.8489779945636133,
          -2.9004128200759234,
          -2.9507664774283597,
          -3,
          null,
          2.7128194143512863,
          2.6811368187340827,
          2.6504930892490695,
          2.6210005031413113,
          2.592819924736455,
          2.5660948984662006,
          2.541010000441836,
          2.5177388603903523,
          2.496469585255964,
          2.477392560384713,
          2.4606726792876508,
          2.446455310477776,
          2.4348546414266306,
          2.4259293229017267,
          2.4196846463611106,
          2.416070852515494,
          2.414986578958432,
          2.4162872601898187,
          2.4197964812351165,
          2.425318087050778,
          2.432647273374581,
          2.441579600500325,
          2.4519175649399143,
          2.463473734674168,
          2.476072518081006,
          2.489554878046011,
          2.503776458289005,
          2.5186065079687117,
          2.5339236482502363,
          2.549619798011964,
          2.5655988372187153,
          2.581773347192116,
          2.598059992436985,
          2.614385528035248,
          2.630683687315723,
          2.646892175389797,
          2.662949047514539,
          2.678801005841313,
          2.694398257808646,
          2.70969205708787,
          2.7246349845050712,
          2.739183936156799,
          2.7532973052163454,
          2.7669338343103673,
          2.7800518985899263,
          2.7926126626830596,
          2.8045778428867045,
          2.815909367047653,
          2.8265686565205472,
          2.836516724916767,
          2.8457155839740773,
          2.8541269990388667,
          2.8617123404332796,
          2.8684325149909142,
          2.8742479134672267,
          2.879118370939085,
          2.883003033453938,
          2.8858606181221056,
          2.8876494093226084,
          2.888327143602047,
          2.8878510713705614,
          2.8861780438031444,
          2.8832646267506714,
          2.879067243174682,
          2.8735425602196356,
          2.8666477749376904,
          2.858340539224505,
          2.84857937222037,
          2.83732396662515,
          2.8245355006468706,
          2.8101772586501417,
          2.794217735595982,
          2.776626403744914,
          2.75737558442235,
          2.7364449193667486,
          2.713819110792133,
          2.68948432161896,
          2.6634390559225674,
          2.63568241243484,
          2.606222969880452,
          2.5750762201279933,
          2.5422651238434177,
          2.5078183344048064,
          2.4717737834730107,
          2.4341702304919846,
          2.3950600127911317,
          2.3544944790930415,
          2.3125292811720604,
          2.2692307106312217,
          2.224660397074185,
          null,
          1.4378478348835264,
          1.3788669588061442,
          1.3217569986091178,
          1.2665027948454428,
          1.212830504623419,
          1.160410332617987,
          1.108952402279007,
          1.0582075401791426,
          1.0079860708354094,
          0.9581319357369242,
          0.9085249738749774,
          0.8590665635217345,
          0.8096744109694134,
          0.7602889379288023,
          0.7108542954129402,
          0.6613304665607407,
          0.6116821765653842,
          0.5618754478323016,
          0.5118875813480601,
          0.4616967008261512,
          0.41128710743706254,
          0.3606419576187827,
          0.3097505431295904,
          0.25859825718959684,
          0.20717781998369134,
          0.15548119350165734,
          0.10350201176282292,
          0.05123461543686991,
          -0.0013249846034990576,
          -0.054181244020126584,
          -0.10733819627456898,
          -0.16079809601145056,
          -0.21456195892549879,
          -0.2686316094227821,
          -0.32300708738157846,
          -0.37768950103195476,
          -0.4326774338170898,
          -0.48797075326943773,
          -0.5435677143372981,
          -0.5994670436600944,
          -0.655666834724939,
          -0.7121634852747567,
          -0.7689539272284049,
          -0.8260341323970803,
          -0.8833990073254259,
          -0.9410436562611042,
          -0.9989620879369978,
          -1.0571472085765186,
          -1.115591440537134,
          -1.1742865251250119,
          -1.2332227705086192,
          -1.2923894793999056,
          -1.3517749224279116,
          -1.4113663560657521,
          -1.4711494061357473,
          -1.5311082589802703,
          -1.5912255691904038,
          -1.6514823328645036,
          -1.711857757868823,
          -1.7723291329567537,
          -1.8328716828301488,
          -1.893458432798209,
          -1.9540601726547941,
          -2.014645336783734,
          -2.075179911474324,
          -2.135627227004895,
          -2.195948070967762,
          -2.256100718641324,
          -2.3160409591637943,
          -2.3757222048244473,
          -2.435095655335975,
          -2.49411045646114,
          -2.5527129608859145,
          -2.6108485282239906,
          -2.668462062516128,
          -2.725497326233898,
          -2.781894655060121,
          -2.837598404950004,
          -2.892552719665805,
          -2.9467035679180293,
          -3,
          null,
          2.098276038341255,
          2.0476760163152106,
          1.995629559998255,
          1.9419956492988444,
          1.8866846644202369,
          1.8297147365294615,
          1.7712356817463517,
          1.7115723125918372,
          1.6512081843739645,
          1.5906819672708625,
          1.530469521445716,
          1.4709088574731126,
          1.4121863999321507,
          1.3543646915921839,
          1.297421166063753,
          1.2412835716909543,
          1.1858611652948579,
          1.1310533060630865,
          1.0767632909876665,
          1.0229017991171299,
          0.9693867630195658,
          0.9161465376249085,
          0.8631146191551657,
          0.8102368143864909,
          0.7574627414447397,
          0.7047507867627338,
          0.6520614057442868,
          0.5993636225836543,
          0.5466273075786345,
          0.49382713101806397,
          0.4409386290697217,
          0.3879439097878321,
          0.3348243244168332,
          0.2815654438894013,
          0.22815235997382688,
          0.17457419443245437,
          0.12081972299632904,
          0.06687942825444093,
          0.012743885737833693,
          -0.04159387649463264,
          -0.09613993943294563,
          -0.15090016377622106,
          -0.20587889228490752,
          -0.2610812255174233,
          -0.3165098463635272,
          -0.37216782952910377,
          -0.4280573833230745,
          -0.4841797065364921,
          -0.5405369463376619,
          -0.5971293184647228,
          -0.6539566913081907,
          -0.7110187905514129,
          -0.7683140883789448,
          -0.825840881491561,
          -0.8835971679616312,
          -0.9415797930790681,
          -0.9997850670306412,
          -1.0582091761318588,
          -1.116847084594509,
          -1.175692968422209,
          -1.2347402992637861,
          -1.2939820190533153,
          -1.3534098418957206,
          -1.4130145162023167,
          -1.472785791567849,
          -1.5327123431794583,
          -1.5927817299561537,
          -1.6529802011547203,
          -1.7132926219414548,
          -1.7737024385204647,
          -1.834191585266798,
          -1.894740391561479,
          -1.9553274901084579,
          -2.0159297289390112,
          -2.076522089751358,
          -2.137077615669659,
          -2.197567351907704,
          -2.257960303152555,
          -2.3182234117008984,
          -2.378321560442109,
          -2.438217589060068,
          -2.4978719093097035,
          -2.557243056097765,
          -2.6162881014628416,
          -2.674962576558408,
          -2.7332205170236206,
          -2.7910135841170325,
          -2.848293883430964,
          -2.9050121412486054,
          -2.9611173955251693,
          null,
          2.513779781195744,
          2.464462539523878,
          2.414363967511229,
          2.3633913813590643,
          2.3114799135275907,
          2.258550621768281,
          2.2045481403820055,
          2.1494140386016385,
          2.093145290401914,
          2.0357745490149854,
          1.9773839495819674,
          1.9181254173399802,
          1.8581969460223764,
          1.7978301361058584,
          1.7372693437237894,
          1.6767441926705349,
          1.6164481855957584,
          1.5565272540171957,
          1.4970780570217155,
          1.4381526258896988,
          1.3797668263417284,
          1.3219111698260058,
          1.2645586162319624,
          1.2076695191530273,
          1.1511994876933116,
          1.0951021651695418,
          1.0393285935137193,
          0.9838336885175041,
          0.9285738111344819,
          0.8735079884974724,
          0.818599556853552,
          0.7638125702237071,
          0.7091160839036319,
          0.6544808053475326,
          0.5998808475346578,
          0.5452925372737711,
          0.490693257873144,
          0.436063315609887,
          0.38138421705020153,
          0.32664062204143285,
          0.27181746370451565,
          0.21690157538963684,
          0.16188070729171056,
          0.10674375469676756,
          0.051481498576967155,
          -0.003915595381940307,
          -0.05945497936936528,
          -0.11514464808300229,
          -0.17099128549583664,
          -0.22700009176406866,
          -0.28317659352142366,
          -0.33952482170111464,
          -0.39604849373118434,
          -0.4527511922321823,
          -0.5096353594036449,
          -0.5667032592619496,
          -0.6239566538877179,
          -0.6813963324098458,
          null,
          2.687598109445518,
          2.6738517523925136,
          2.6623338056397676,
          2.6530822779781147,
          2.646102339770372,
          2.6413648527837665,
          2.6388076261276803,
          2.638339084009899,
          2.6398436643485015,
          2.643188101181236,
          2.648227782314165,
          2.6548125558793254,
          2.6627916005713903,
          2.6720172023523068,
          2.682347454016327,
          2.693648001741959,
          2.705792178903348,
          2.7186607063284587,
          2.7321450381786754,
          2.746145358991857,
          2.760568935784966,
          2.775328426460148,
          2.790344907691292,
          2.8055468898589897,
          2.820868220307444,
          2.836245222701809,
          2.8516196447230877,
          2.866938430373522,
          2.8821516430548693,
          2.8972100013158,
          2.912068038910605,
          2.92668354745523,
          null,
          2.309499916230825,
          2.252603161246614,
          2.194878310324607,
          2.136387411699025,
          2.0772185760793036,
          2.0174872497127554,
          1.957330791886073,
          1.8968945174356335,
          1.836323111347693,
          1.7757521326657528,
          1.7153001028414376,
          1.6550636252599613,
          1.5951155379521413,
          1.5355053607299842,
          1.476262057686439,
          1.4173975256522011,
          1.358910159212801,
          1.3007875486877172,
          1.2430099043276694,
          1.185553262863622,
          1.1283903129416295,
          1.071491463798682,
          1.0148277857158217,
          0.958370213291742,
          0.9020900383898081,
          0.8459606991547757,
          0.7899561488569677,
          0.7340512915397768,
          0.678223756610064,
          0.6224515979837881,
          0.5667155224864144,
          0.5109970882651766,
          0.455279080544424,
          0.3995460029181275,
          0.34378265412747844,
          0.2879759729634319,
          0.23211365473633672,
          0.1761841018538548,
          0.12017725251782085,
          0.06408299884711788,
          0.007892157272566092,
          null,
          2.9877651571248167,
          2.9621447404452494,
          2.937883565424065,
          2.9150948512327384,
          2.893890751204027,
          2.8743749801329033,
          2.856654212656652,
          2.840819843969837,
          2.826946205503832,
          2.8150900929266776,
          2.8052882457167314,
          2.7975497920679944,
          2.7918571316744725,
          2.7881674794284628,
          2.7864147498183742,
          2.786512722592996,
          2.78835904099644,
          2.7918395590281273,
          2.7968326072633003,
          2.8032128122163407,
          2.8108543420263326,
          2.819633519366276,
          2.8294297217948525,
          2.8401278527191973,
          2.8516196447230877,
          2.8638034847515605,
          null,
          2.9304460793224774,
          2.879397375068084,
          2.827758924630017,
          2.775499483063755,
          2.7225822021650012,
          2.66897910013501,
          2.6146700476011224,
          2.5596393228381347,
          2.5038777920362296,
          2.4473843267578292,
          2.390179851304824,
          2.33229299503353,
          2.2737704574886983,
          2.214680360735729,
          2.1551014583527737,
          2.0951234484800487,
          2.034844497174735,
          1.9743660024040164,
          1.913787281822426,
          1.8532008288992552,
          1.792688625226977,
          1.7323197590407018,
          1.6721493573389337,
          1.6122186521606636,
          1.5525558981401142,
          1.4931778343240092,
          1.4340911240032579,
          1.3752942744520285,
          1.3167798222850227,
          1.2585355827699196,
          1.2005454889538347,
          1.1427910391693983,
          1.085252753748092,
          1.0279101309535417,
          0.9707419017763805,
          0.913727297600206,
          0.8568459333113805,
          0.8000776571490933,
          0.7434037967345972,
          0.6868062246779219,
          0.6302674910138801,
          null,
          2.087222543003195,
          2.080686672953375,
          2.072115665451899,
          2.061438807820542,
          2.04858958605287,
          2.0335068799669056,
          2.016139853151251,
          1.9964515389244273,
          1.9744097889628396,
          1.9499986675353957,
          1.923223276962287,
          1.8940935388359161,
          1.8626566822643777,
          1.8289551192140117,
          1.7930681181878203,
          1.755075185555774,
          1.7150739734475007,
          1.673177434190591,
          1.6294991703252792,
          1.584159134995522,
          1.5372893637195242,
          1.489011638042185,
          1.4394476544140904,
          1.3887147335423151,
          1.3369246488747528,
          null,
          -1.2725105044443803,
          -1.3278208732451182,
          -1.3819920222460405,
          -1.4350154230308372,
          -1.486904538705562,
          -1.5376903987688826,
          -1.587415638545098,
          -1.6361388916260058,
          -1.6839119098202344,
          -1.7307996543593536,
          -1.7768656804510454,
          -1.8221726101209323,
          -1.8667862337177097,
          -1.910758071679631,
          -1.9541444491998026,
          -1.997004013418515,
          -2.039380613288884,
          -2.0813185700899806,
          -2.1228634935484965,
          -2.1640543364681304,
          -2.2049239174566253,
          -2.2455069465510302,
          null,
          -1.2662110293052393,
          -1.3241884134459905,
          -1.3810379727302906,
          -1.4366323473084932,
          -1.4908873990722034,
          -1.543761524453643,
          -1.5952426235805135,
          -1.6453546214734758,
          -1.6941406185784866,
          -1.741658816300453,
          -1.787978461714763,
          -1.8331792069943769,
          -1.8773474044482958,
          -1.9205593078190832,
          -1.9628928808495925,
          -2.0044337855761665,
          -2.0452545173789276,
          -2.0854195039903933,
          -2.124998227358282,
          -2.1640543364681304,
          -2.202639780604128,
          -2.240810188456429,
          -2.2786100704974714,
          -2.3160870125766726,
          -2.353283603656442,
          -2.390231121687794,
          null,
          0.7868549054268197,
          0.7319731448396598,
          0.6755879784720986,
          0.6180579171820852,
          0.5596757792663274,
          0.5006671823589328,
          0.4412048158360711,
          0.3814190532212698,
          0.32140575165915264,
          0.26123472887657373,
          0.20095650018684186,
          0.140607567727288,
          0.08021458256990766,
          0.019797998865250133,
          -0.040624608373631244,
          -0.10103896571209514,
          -0.16143109709564119,
          -0.22178588431401103,
          -0.28208609402012597,
          -0.342311714557463,
          -0.4024395849070559,
          -0.4624433009801656,
          -0.522293373867067,
          -0.5819574537500176,
          -0.6414016946080001,
          -0.7005913703742528,
          -0.7594913523623119,
          -0.8180670704897093,
          -0.876286458300505,
          -0.9341191343058939,
          -0.9915373886101784,
          -1.0485187046486133,
          -1.1050449961242947,
          -1.1611001419859226,
          -1.2166751473467676,
          -1.2717636568889643,
          -1.3263598629932452,
          -1.3804653149683277,
          -1.4340822189861155,
          -1.4872205670698662,
          -1.5398867566441505,
          -1.5920934651970118,
          -1.643851447165279,
          -1.6951775755023435,
          -1.7460815047021954,
          -1.796579846184559,
          -1.8466876430527435,
          null,
          0.8570163590880773,
          0.8026289842416516,
          0.7471928779389354,
          0.6908915625780052,
          0.6338786065523943,
          0.5762870385979819,
          0.5182266801529067,
          0.45978738101825556,
          0.401044671642,
          0.3420607552060808,
          0.282886529381142,
          0.2235641117534457,
          0.16412926793961935,
          0.10461216393233652,
          0.045038634313014914,
          -0.014568823772551198,
          -0.07419017763845615,
          -0.1338068351181061,
          -0.19340128551838243,
          -0.2529566395443599,
          -0.3124562858033957,
          -0.3718839607099542,
          -0.43122312566530363,
          -0.490456852336703,
          -0.5495679311586836,
          -0.60853898685945,
          -0.6673533428576546,
          -0.725993572287388,
          -0.7844417394027721,
          -0.8426808410212585,
          -0.9006956390766185,
          -0.9584704399463795,
          -1.0159902998491823,
          -1.0732425654154767,
          -1.130215315974677,
          -1.186897163664111,
          null,
          -1.0563374292842425,
          -1.1155540813481715,
          -1.1753225910016531,
          -1.2355134313835887,
          -1.2959793834240314,
          -1.356555837154203,
          -1.4170628270825223,
          -1.4773086656621082,
          -1.537095088819228,
          -1.5962222348249453,
          -1.65449351236715,
          -1.711730577391191,
          -1.767775475754621,
          -1.8224919024689878,
          -1.8757760411187703,
          -1.927542482122187,
          -1.9777462281751166,
          -2.0263726737267667,
          -2.073427742620674,
          -2.1189449827874816,
          null,
          1.460091694784598,
          1.4016251157556319,
          1.3421605149433082,
          1.2858312741018967,
          1.2329832767899047,
          1.1826570908690863,
          1.1340146256479668,
          1.0864501430210467,
          1.0395739112739335,
          0.9931054986559245,
          0.946851861601905,
          0.9006810196534021,
          0.8544919546487844,
          0.8082009015225262,
          0.7617554858934135,
          0.7151087875770816,
          0.6682282656606686,
          0.62108589685959,
          0.573654794041452,
          0.5259211867858458,
          0.47787131232630964,
          null,
          -0.22285580840676023,
          -0.28173105626765915,
          -0.340849255181896,
          -0.4002477816548926,
          -0.45994371057716643,
          -0.5199239469244876,
          -0.5801574715802214,
          -0.6405921324303723,
          -0.7011494252873582,
          -0.7617266427171212,
          -0.8222011536921197,
          -0.8824366342836227,
          -0.9422906720753006,
          -1.0016219235617958,
          -1.0602990943886608,
          -1.1182092355890918,
          -1.1752597225852386,
          -1.2313840937552027,
          -1.286539815000468,
          -1.3407049508275664,
          -1.3938834246902048,
          null,
          0.8285809002760005,
          0.7950456911426707,
          0.7652188047430326,
          0.7373928115654724,
          0.7104970841335585,
          0.6839095715953003,
          0.6571499830334089,
          0.6299345797066138,
          0.6020182142295263,
          0.5732693822581174,
          0.5435869966870288,
          0.5129105421724236,
          0.4811969080205718,
          0.44843117461881077,
          0.4146056390845607,
          0.3797224149469871,
          0.34378265412747844,
          0.3068150086063022,
          0.2688340810149308,
          0.22986588087761195,
          0.18993059895550646,
          0.14904659519019914,
          0.10724304616950198,
          null,
          null,
          1.000918273645543,
          null,
          null,
          1.068135095972063,
          1.0083996399874575,
          1.105709758870761,
          null,
          -0.29776263968088146,
          -0.3903994200814429,
          -0.2952268565278539,
          null,
          -0.5588822442045971,
          -0.6518308712377245,
          -0.5569184396440189,
          null,
          0.7894981949310689,
          0.7124180320348446,
          0.8124152689299522,
          null,
          -0.8886615696808129,
          -0.9817966981098087,
          -0.8870457435439528,
          null,
          1.5399204170362366,
          1.6064756374846088,
          1.603465917515017,
          null,
          -1.2159965032759232,
          -1.304061674448648,
          -1.2061468605902435,
          null,
          -1.2061194088310148,
          -1.300216107955501,
          -1.20637560104549,
          null,
          0.6831208000759268,
          0.6015015267394377,
          0.7011644829991646,
          null,
          -1.1967324261476053,
          -1.294124586965147,
          -1.2049339911475545,
          null,
          -0.13254135140341977,
          -0.22362324885766105,
          -0.18038512579849367,
          null,
          2.2129611984398116,
          2.264357778626602,
          2.2801247213276024,
          null,
          -0.491394422977376,
          -0.5894310782830945,
          -0.5270053688297895,
          null,
          -1.6653157761826984,
          -1.7584500401108478,
          -1.6636983264955292,
          null,
          2.356085002647473,
          2.4147795344874696,
          2.4218587077080644,
          null,
          -0.01981900266166642,
          -0.11547952661424565,
          -0.06092931266011989,
          null,
          0.33974406080963954,
          0.24476235371561117,
          0.29741578688784553,
          null,
          2.5078314863446565,
          2.5655988372187153,
          2.573815169607078,
          null,
          0.14958870887325543,
          0.05123461543686991,
          0.11496398557174024,
          null,
          0.5396442300931241,
          0.4409386290697217,
          0.506242741423824,
          null,
          1.537504835750487,
          1.4381526258896988,
          1.5215654131634266,
          null,
          2.610602657144245,
          2.6548125558793254,
          2.678601688940602,
          null,
          1.5753224736569247,
          1.476262057686439,
          1.5609375260005294,
          null,
          2.799935805061452,
          2.8150900929266776,
          2.8670176202042184,
          null,
          2.2412886348646097,
          2.1551014583527737,
          2.2537221147069384,
          null,
          1.9767337461810994,
          1.9744097889628396,
          2.0404514443371387,
          null,
          -1.580922792892766,
          -1.6361388916260058,
          -1.540249291577642,
          null,
          -1.6891949775103525,
          -1.741658816300453,
          -1.6467470563848834,
          null,
          -0.07064750762801664,
          -0.16143109709564119,
          -0.06493310058440827,
          null,
          0.24959481644909065,
          0.16412926793961935,
          0.2629729220343276,
          null,
          -1.387425463183647,
          -1.4773086656621082,
          -1.3802811894863332,
          null,
          1.1814057116934251,
          1.0864501430210467,
          1.1390326079164441,
          null,
          -0.5444525045061385,
          -0.6405921324303723,
          -0.549257473924193,
          null,
          0.675661582172014,
          0.6020182142295263,
          0.614947098787993,
          null
         ],
         "y": [
          0.0018922002393049198,
          0.0018922002393049198,
          0.0018922002393049198,
          0.0018922002393049198,
          0.0018922002393049198,
          0.0018922002393049198,
          0.0018922002393049198,
          0.0018922002393049198,
          0.0018922002393049198,
          0.0018922002393049198,
          0.0018922002393049198,
          0.0018922002393049198,
          0.0018922002393049198,
          0.0018922002393049198,
          0.0018922002393049198,
          0.0018922002393049198,
          0.0018922002393049198,
          0.0018922002393049198,
          0.0018922002393049198,
          0.0018922002393049198,
          0.0018922002393049198,
          0.0018922002393049198,
          0.0018922002393049198,
          0.0018922002393049198,
          0.0018922002393049198,
          0.0018922002393049198,
          0.0018922002393049198,
          0.0018922002393049198,
          0.0018922002393049198,
          0.0018922002393049198,
          0.0018922002393049198,
          0.0018922002393049198,
          0.0018922002393049198,
          0.0018922002393049198,
          0.0018922002393049198,
          0.0018922002393049198,
          0.0018922002393049198,
          0.0018922002393049198,
          0.0018922002393049198,
          0.0018922002393049198,
          0.0018922002393049198,
          0.0018922002393049198,
          0.0018922002393049198,
          0.0018922002393049198,
          0.0018922002393049198,
          0.0018922002393049198,
          0.0018922002393049198,
          0.0018922002393049198,
          0.0018922002393049198,
          0.0018922002393049198,
          0.0018922002393049198,
          0.0018922002393049198,
          0.0018922002393049198,
          0.0018922002393049198,
          0.0018922002393049198,
          0.0018922002393049198,
          0.0018922002393049198,
          0.0018922002393049198,
          0.0018922002393049198,
          0.0018922002393049198,
          0.0018922002393049198,
          0.0018922002393049198,
          0.0018922002393049198,
          0.0018922002393049198,
          0.0018922002393049198,
          0.0018922002393049198,
          0.0018922002393049198,
          0.0018922002393049198,
          0.0018922002393044757,
          0.0018922002393040316,
          0.0018922002393022552,
          0.0018922002392969262,
          0.001892200239281383,
          0.0018922002392334214,
          0.0018922002390828752,
          0.001892200238609476,
          0.0018922002371390967,
          0.0018922002325685305,
          0.001892200218438056,
          0.0018922001749084316,
          0.0018922000414152151,
          0.0018921996341290104,
          0.0018921983989277358,
          0.0018921946791010669,
          0.0018921835702832013,
          0.0018921507305122987,
          0.0018920548629908218,
          0.0018917794342634409,
          0.0018910045248765606,
          0.0018888860033485777,
          0.001883330861293775,
          0.00186969877142662,
          0.0018400887882492611,
          0.001792611800322419,
          0.0017993604930395257,
          0.0023459865813966196,
          0.005768713743637743,
          0.02122353426458945,
          0.049323537523347394,
          0.07755934266944609,
          0.10664961105540405,
          0.131433097124523,
          0.11005804618994919,
          0.06056056121872366,
          0.006749510813900628,
          -0.048831815142399204,
          -0.10559288350978724,
          -0.16326659167480972,
          -0.22169372593181924,
          -0.28076235905539404,
          -0.340366374683585,
          -0.4004006278742045,
          -0.4607500238925981,
          -0.5212796410406395,
          -0.5818268604823569,
          -0.6421954761634461,
          -0.7021523568910597,
          -0.7614273848283006,
          -0.8197135906239712,
          -0.8766236014935087,
          -0.9317834339475883,
          -0.984827027044104,
          -1.0353586684638434,
          -1.0830843162977137,
          -1.1277283409982446,
          -1.1691382808099726,
          -1.2072606889578228,
          -1.2421103185446498,
          -1.2737921915168753,
          -1.3024696677210394,
          -1.328346194714075,
          -1.3516453812536922,
          -1.3726153433619273,
          -1.3914899843760147,
          -1.4085118822495457,
          -1.4239145847570296,
          -1.4379150628644566,
          -1.450718899791836,
          -1.4625239963317247,
          -1.4735157474608545,
          -1.483867785093167,
          -1.4937411355918642,
          -1.5032863146677797,
          -1.5126463476834406,
          -1.521954986925967,
          -1.5313370684447452,
          -1.540908810262857,
          -1.5507776273448026,
          -1.5610402021858913,
          -1.5717871560845316,
          -1.5831009654047092,
          -1.595055699056482,
          -1.6077169144194519,
          -1.6211389866686565,
          -1.63536854000162,
          -1.6504458498373382,
          -1.666404914799152,
          -1.6832674797713374,
          -1.7010472851624092,
          -1.719754670787287,
          -1.7393923911341151,
          -1.7599525247802772,
          -1.7814279259203647,
          -1.8038052838261038,
          -1.8270632724688498,
          -1.8511843612406405,
          -1.876142995751494,
          -1.9019128759103276,
          -1.9284677292202093,
          -1.9557756264180932,
          -1.983811624805782,
          -2.012542857453815,
          -2.0419431466609606,
          -2.071978903179939,
          -2.1026245724464574,
          -2.1338486481342094,
          -2.165626621160251,
          -2.1979276775575056,
          -2.230731199509777,
          -2.2640088370241935,
          -2.297739045896413,
          -2.331897603755044,
          -2.3664634632448407,
          -2.40141563306876,
          -2.4367349712513495,
          -2.4724047417376944,
          -2.508403880414413,
          -2.544717786830942,
          -2.5813295529419387,
          -2.6182246917363283,
          -2.655390645326486,
          -2.6928111119127704,
          -2.7304749271872577,
          -2.7683697727185717,
          -2.8064841783459706,
          -2.8448084883857527,
          -2.8833313268010183,
          -2.922042965275532,
          -2.960935992124385,
          -3,
          null,
          0.10530367955570918,
          0.05054041107842222,
          -0.004957074961924324,
          -0.06110943934598767,
          -0.11788000754681871,
          -0.17522728787153286,
          -0.23311333892955366,
          -0.2915080102017469,
          -0.35037356323593816,
          -0.4096693860972547,
          -0.46935051358367375,
          -0.5293632104257391,
          -0.5896426774730603,
          -0.650113271354563,
          -0.7106853821923189,
          -0.7712530233245483,
          -0.8316917629071852,
          -0.8918572759554015,
          -0.9515840727053688,
          -1.010673574361375,
          -1.0689121322294743,
          -1.1260788901827186,
          -1.1819373149605243,
          -1.236224720811981,
          -1.2887170780412183,
          -1.339179937448815,
          -1.387436391218051,
          -1.433307626816136,
          -1.4766924314169672,
          -1.517532956590022,
          -1.555811402732811,
          -1.5915533626479696,
          -1.6248345241212665,
          -1.6557420710887498,
          -1.6844049412593547,
          -1.710950843793692,
          -1.7355364573267518,
          -1.758310202630804,
          -1.7794290516480802,
          -1.7990485138426815,
          -1.8173129077335892,
          -1.8343700908136098,
          -1.8503620088160335,
          -1.8654203365437936,
          -1.8796722012692015,
          -1.8932409584593637,
          -1.906243612659715,
          -1.91878998746679,
          -1.930982819752949,
          -1.942921578778094,
          -1.9547003989131513,
          -1.9664081325791347,
          -1.9781276679084987,
          -1.989935589297584,
          -2.001905632959194,
          -2.01410680859353,
          -2.0266033027821604,
          -2.0394536266226573,
          -2.0527099439464185,
          -2.0664218227871602,
          -2.0806342700770997,
          -2.0953874080797563,
          -2.110713952394934,
          -2.126643815781896,
          -2.1432035353020744,
          -2.160414905859933,
          -2.1782919501537994,
          -2.1968497193847347,
          -2.2160983495486257,
          -2.2360408739068403,
          -2.256678836762684,
          -2.2780126100040414,
          -2.3000356764443985,
          -2.3227415983493933,
          -2.346123220175013,
          -2.3701667448528774,
          -2.394862106734614,
          -2.4201940536779634,
          -2.4461467630031026,
          -2.472705473503808,
          -2.499851436589491,
          -2.5275710769848603,
          -2.5558432215405236,
          -2.584652188955526,
          -2.613977715484495,
          -2.6438038309510388,
          -2.674110920701317,
          -2.704882624483205,
          -2.736100164332312,
          -2.767749275906659,
          -2.799811112437104,
          -2.832271538616929,
          -2.865112472285015,
          -2.8983210598764413,
          -2.9318800744735536,
          -2.965777924347698,
          -3,
          null,
          -0.5306748985810246,
          -0.5873482080149728,
          -0.6413508933154932,
          -0.6920201694669319,
          -0.7384953143500574,
          -0.7802523424372394,
          -0.8168993073179038,
          -0.8483518881850243,
          -0.8747856899053259,
          -0.8965519315647046,
          -0.9140831257250035,
          -0.9278795454688726,
          -0.9384360427181235,
          -0.9462176597115608,
          -0.9516579078935457,
          -0.9551584903104442,
          -0.9570856677040007,
          -0.9577740899270366,
          -0.9575311160952755,
          -0.9566409143254289,
          -0.9553680530673048,
          -0.9539604428790116,
          -0.9526515642222031,
          -0.9516619588089852,
          -0.9511999897879453,
          -0.9514619014867645,
          -0.9526312389421108,
          -0.9548777233136443,
          -0.9583557200071726,
          -0.9632024769010155,
          -0.9695363426494215,
          -0.9774551905972135,
          -0.9870352646271869,
          -0.9983306255790358,
          -1.0113704218955124,
          -1.026159872016158,
          -1.0426881909819443,
          -1.0609276333493154,
          -1.0808291486815307,
          -1.1023313663278689,
          -1.1253700288925477,
          -1.1498650703148494,
          -1.1757405305147908,
          -1.2029162460635916,
          -1.2313051014315874,
          -1.2608300015355574,
          -1.2914068097756013,
          -1.3229654493836667,
          -1.3554286017345978,
          -1.388731662644637,
          -1.4228117524402846,
          -1.457609856503249,
          -1.4930708141862896,
          -1.529141961997393,
          -1.5657791668377392,
          -1.6029359627276538,
          -1.6405749959818052,
          -1.6786593566620387,
          -1.7171530096027603,
          -1.7560267176144413,
          -1.7952522757428562,
          -1.8348022624489573,
          -1.874654160097371,
          -1.9147833487984507,
          -1.9551708889673716,
          -1.9957990441196058,
          -2.036648377459806,
          -2.0777027306759646,
          -2.1189497799013393,
          -2.1603741632779676,
          -2.201962812558527,
          -2.243705294176853,
          -2.2855908160971037,
          -2.3276082236697895,
          -2.3697490609725245,
          -2.412005752059245,
          -2.4543685050456165,
          -2.4968306315399205,
          -2.53938605584684,
          -2.582027168234065,
          null,
          -0.6986122795506948,
          -0.7272996304695858,
          -0.7497258822034154,
          -0.7664045802211099,
          -0.7779563046842051,
          -0.7850650409300752,
          -0.7883842809901984,
          -0.7885109208589389,
          -0.7859794987942981,
          -0.7812651684798566,
          -0.7747906544458689,
          -0.7669345954043267,
          -0.7580399175446288,
          -0.7484267680871479,
          -0.7383954674034512,
          -0.728224019949602,
          -0.7181779302796731,
          -0.70851387871337,
          -0.6994820826830073,
          -0.6913289164195371,
          -0.6842962532457935,
          -0.6786132548954069,
          -0.6744986649810709,
          -0.6721573041650153,
          -0.6717752851490415,
          -0.6735147554544794,
          -0.6775087705473224,
          -0.6838569764869358,
          -0.6926227420200792,
          -0.7038310453190952,
          -0.7174645551992915,
          -0.7334763173003687,
          -0.7517919717543524,
          -0.7723107121164725,
          -0.7949071917899753,
          -0.8194574092188698,
          -0.8458216855828993,
          -0.8738606489377556,
          -0.9034399007790879,
          -0.9344253647538601,
          -0.9666993403179567,
          -1.0001425394133252,
          -1.0346473034293404,
          -1.0701156566910957,
          -1.1064540818692716,
          -1.1435851631033402,
          -1.181431406683697,
          -1.2199262548610323,
          -1.2590099307948455,
          -1.2986228606189714,
          -1.3387200291880523,
          -1.379256298118696,
          -1.420188000718529,
          -1.4614799222843213,
          -1.5031015806198194,
          -1.5450193456701848,
          -1.5872072260547483,
          -1.6296422439650156,
          -1.6722997589853639,
          -1.7151600250198369,
          -1.7582052688913048,
          -1.8014192264948923,
          -1.8447851977840244,
          -1.8882898754326407,
          -1.9319221860060358,
          -1.9756678115443929,
          -2.0195168202069533,
          -2.0634604269466417,
          -2.1074899781482967,
          -2.1515957812296196,
          -2.1957710201769767,
          -2.2400099619177105,
          -2.2843049562302586,
          -2.3286499287533644,
          -2.3730407523510975,
          null,
          -1.0441698852939272,
          -1.1039754725048943,
          -1.1632764584928335,
          -1.221914903455446,
          -1.2797216890791756,
          -1.33652673749052,
          -1.3921482597058312,
          -1.44638931821564,
          -1.4990794565265353,
          -1.550040408501319,
          -1.5991305957297552,
          -1.6462175011219111,
          -1.6912074042389365,
          -1.7340234179550185,
          -1.774628868987496,
          -1.8130232259975376,
          -1.8492233123757675,
          -1.883277460653734,
          -1.9152546937840143,
          -1.9452392257170499,
          -1.9733315514039045,
          -1.9996353550134045,
          -2.024263965987151,
          -2.0473356018984052,
          -2.0689631667757706,
          -2.0892663727752874,
          -2.1083585628824175,
          -2.126349429103792,
          -2.1433497118113918,
          -2.1594654203823356,
          -2.1747944052520696,
          -2.1894348131976527,
          -2.2034810599362284,
          -2.217024048713776,
          -2.2301470089506292,
          -2.242931493860893,
          -2.2554559285423563,
          -2.267795007359245,
          -2.280019358904645,
          -2.2921944763966424,
          -2.3043844179449833,
          -2.3166500194937227,
          -2.329048757275562,
          -2.341634203537232,
          -2.354455219538371,
          -2.367559166500068,
          -2.3809902660516746,
          -2.3947894308781326,
          -2.408992658689612,
          -2.4236328891263637,
          -2.438741198271461,
          -2.454345483164833,
          -2.470468798546298,
          -2.487131147424539,
          -2.504351278564859,
          -2.522144600059143,
          -2.540520703931802,
          -2.559488955672042,
          -2.5790568620643386,
          -2.5992266913729867,
          -2.619999666053822,
          -2.6413765890125007,
          -2.663353072417742,
          -2.6859263268403772,
          -2.70909167505794,
          -2.7328387622585466,
          -2.757160538831248,
          -2.782046341976802,
          -2.8074846238068165,
          -2.833465678475473,
          -2.8599748728303043,
          -2.8870013786105932,
          -2.914529910129011,
          -2.9425481077741003,
          -2.971042671604137,
          -3,
          null,
          -0.5904076193214971,
          -0.5733164640467239,
          -0.5538784798591081,
          -0.5325369469371806,
          -0.5096459593102511,
          -0.48556334540359014,
          -0.4605784354424718,
          -0.43495285989877974,
          -0.4089629997109001,
          -0.3828279822850478,
          -0.3568249558043153,
          -0.33116354367329404,
          -0.30608490407941025,
          -0.28182558181717887,
          -0.2586129689384542,
          -0.23671927737655096,
          -0.21638783401207418,
          -0.197881340771203,
          -0.18148026519310756,
          -0.16744913398384353,
          -0.15605278700435177,
          -0.14754840603238106,
          -0.14217383997642852,
          -0.1401264422920212,
          -0.14155733962382433,
          -0.14656096685680575,
          -0.15516754983317638,
          -0.16733544691013114,
          -0.18296105337464885,
          -0.2018899225064641,
          -0.22392663322663964,
          -0.24883252994174887,
          -0.27637418161666805,
          -0.3062985358883825,
          -0.3383656812802798,
          -0.37234358495972053,
          -0.4080240935117425,
          -0.445205460612375,
          -0.48371955289521695,
          -0.5234068931505753,
          -0.5641266599861554,
          -0.6057575724889848,
          -0.6481900444053519,
          -0.6913268257169496,
          -0.7350841897557503,
          -0.7793891394442687,
          -0.8241722268272014,
          -0.8693764169245974,
          -0.9149510400616281,
          -0.9608523742638293,
          -1.0070360281436765,
          -1.053467674365231,
          -1.1001164141625217,
          -1.1469542576840634,
          -1.1939537380713299,
          -1.2410929637263333,
          -1.2883514857133038,
          -1.3357124475664595,
          -1.3831591322401713,
          -1.4306752700679322,
          -1.4782490747030144,
          -1.5258685557809282,
          -1.5735242241919243,
          -1.6212051405961785,
          -1.6689023406364996,
          -1.7166092498506782,
          -1.764318780810975,
          -1.812025763029407,
          -1.85972245456969,
          -1.9074044578252887,
          -1.955067920585163,
          null,
          2.601391835147723,
          2.5566911901824376,
          2.5119540196202417,
          2.4671729549984125,
          2.4223454118532777,
          2.3774714265758456,
          2.332550929250538,
          2.287580769941636,
          2.2425575201785533,
          2.197477973184953,
          2.152345140946178,
          2.107156194224385,
          2.061898513239325,
          2.016577856014579,
          1.9711973244538834,
          1.9257424569666082,
          1.8802078644238494,
          1.8346018898018448,
          1.7889129258472467,
          1.7431399644100862,
          1.6972732195061875,
          1.6512989630287445,
          1.605235360105091,
          1.5590669175235998,
          1.5127522419764485,
          1.4663163686710368,
          1.4197573537939698,
          1.3730244907048519,
          1.3261404782598651,
          1.2790056681243662,
          1.2316648278110076,
          1.1840856332755862,
          1.136096383283972,
          1.0877000369212269,
          1.0386602729425505,
          0.9888266883444885,
          0.9379081869144463,
          0.8851727902356314,
          0.8302512769367589,
          0.7726277109475341,
          0.7128026509728644,
          0.6524687383729573,
          0.5928807870195811,
          0.534363722156245,
          0.4767671123059798,
          0.41982655007216696,
          0.36329823425762786,
          0.3069979508265783,
          0.25078037517247687,
          0.19454041934377786,
          0.13820472590589894,
          0.08171179966321773,
          0.025019637976704256,
          -0.031902444680732334,
          -0.08908254450288533,
          -0.14653682725102612,
          -0.2042760996459907,
          -0.2623098627316036,
          -0.3206402207267467,
          -0.37926534773358167,
          -0.4381807470899157,
          -0.49737855301563805,
          -0.5568457673050378,
          -0.6165654615620078,
          -0.6765164448512424,
          -0.7366727331156548,
          -0.7970025202832014,
          -0.8574678818787214,
          -0.9180244415074887,
          -0.978620549850588,
          -1.0391965859563512,
          -1.0996843169820183,
          -1.16000637628323,
          -1.2200751975071034,
          -1.2797902245726382,
          -1.3390434277052976,
          -1.3977183767001762,
          -1.4556912635518473,
          -1.512824584508062,
          -1.568972969616276,
          -1.623999575317754,
          -1.677757284546786,
          -1.7301141756610867,
          -1.780938537846107,
          -1.8301168126134766,
          -1.8775473864030328,
          -1.9231469933122984,
          -1.966852099715077,
          -2.008625099037403,
          -2.0484506361111197,
          -2.0863231249127216,
          -2.1222689885284027,
          -2.156325439534252,
          -2.1885432406461214,
          -2.218988985851383,
          -2.2477328105763466,
          -2.274857193429421,
          -2.3004454797651137,
          -2.324587970556442,
          -2.3473780465522696,
          -2.36890249999547,
          -2.3892544538555125,
          -2.408523399783541,
          -2.426794621706127,
          -2.4441554453307583,
          -2.460690261753458,
          -2.476477695907027,
          -2.4915966571540853,
          -2.5061237690918707,
          -2.5201323528870088,
          -2.533690855278035,
          -2.5468668816863227,
          -2.559725954695493,
          -2.572330944930416,
          -2.584741517413987,
          -2.597013947712185,
          -2.609203609136289,
          -2.6213635563143027,
          -2.633544458911998,
          -2.645793980726496,
          -2.6581567263449766,
          -2.6706762826075936,
          -2.6833939900891695,
          -2.696348868048049,
          -2.7095765649165644,
          -2.723110201664799,
          -2.736981745511633,
          -2.751220859022171,
          -2.765855324356656,
          -2.780908082083555,
          -2.7964015979863186,
          -2.812356276114546,
          -2.8287896832242594,
          -2.8457154852858944,
          -2.863147279848507,
          -2.8810967373177085,
          -2.899571526497724,
          -2.918578022803462,
          -2.93812222007514,
          -2.958206695306548,
          -2.978832182144298,
          -3,
          null,
          -0.17222206828242514,
          -0.13650962149663526,
          -0.1009911687279712,
          -0.06581750384534857,
          -0.03119769959768215,
          0.0027002204159316534,
          0.03570057665352877,
          0.06761550039028696,
          0.0982677765594171,
          0.1274577421991081,
          0.154987482936515,
          0.18063304836540572,
          0.20418041475822912,
          0.22541435059555548,
          0.24409390784335194,
          0.25999489718839275,
          0.2728924183092243,
          0.2825640655175756,
          0.2888084498589132,
          0.29145650500636355,
          0.29037756316296326,
          0.28548979367134963,
          0.27676765307259243,
          0.26424693960411316,
          0.248029791380858,
          0.22826662579287094,
          0.20514930988560742,
          0.1789175529340845,
          0.14981789506292387,
          0.1181127531773134,
          0.08405585292263584,
          0.047898593513483245,
          0.009868062477639494,
          -0.029813027651257595,
          -0.07095269380158076,
          -0.11337978305205132,
          -0.1569315115266785,
          -0.20147084572617047,
          -0.2468769841538525,
          -0.2930421842240154,
          -0.3398672486198504,
          -0.3872705794036584,
          -0.43517830410025216,
          -0.4835257531622812,
          -0.5322544110124068,
          -0.581312143231743,
          -0.6306550182207817,
          -0.6802428340973385,
          -0.7300403844407066,
          -0.7800162433823918,
          -0.8301396836520456,
          -0.8803870553868145,
          -0.9307351660089274,
          -0.9811641298974259,
          -1.0316560475284346,
          -1.0821942526875863,
          -1.132762880745514,
          -1.1833492768767788,
          -1.2339418856785287,
          -1.2845295710244369,
          -1.3351037699262251,
          -1.385655121642493,
          -1.4361750791555319,
          -1.4866570643035038,
          -1.537095088819228,
          null,
          0.055980077879000056,
          0.09668668639282174,
          0.13690161962054148,
          0.1765017315012507,
          0.21534648468747175,
          0.25331222438523326,
          0.29026430366498523,
          0.32605279480205507,
          0.36055737381558917,
          0.3936341969871342,
          0.42514606546827505,
          0.4549496034037408,
          0.48287777517953545,
          0.5087738630361098,
          0.5324831191499233,
          0.5538311175073476,
          0.5726551228153829,
          0.5887817057498421,
          0.6020334523476558,
          0.6122456669239189,
          0.6192628273661924,
          0.6229440933093957,
          0.6231709697159902,
          0.6198550208620222,
          0.6129446217602275,
          0.6024297766470736,
          0.5883442022015979,
          0.5707650428812001,
          0.5498211981689076,
          0.525672167711301,
          0.4985021308869153,
          0.46853194476166493,
          0.4359728497324675,
          0.40106139380729866,
          0.3640150411258323,
          0.32505094103150434,
          0.2843730843976373,
          0.24216507002426058,
          0.1986007173984281,
          0.15383748461433377,
          0.10801392159411316,
          0.06125427963364993,
          0.013672447344447836,
          -0.03463174598747898,
          -0.08357087615607739,
          -0.13306646486796403,
          -0.1830501619412006,
          -0.23345905022550717,
          -0.2842375555643888,
          -0.335337233646944,
          -0.3867149726674479,
          -0.4383315638111296,
          -0.4901527443446936,
          -0.5421477215898536,
          -0.5942867872344331,
          -0.6465449577439424,
          -0.6988999285021587,
          -0.7513311796726736,
          -0.8038199589430897,
          -0.8563497339549389,
          -0.9089055810986193,
          -0.9614729851778603,
          -1.014038770150498,
          -1.0665919100903831,
          -1.1191222570532933,
          null,
          -2.4890101122411656,
          -2.515473967279682,
          -2.5405547265390984,
          -2.564325579544836,
          -2.5868653085326305,
          -2.608246115037671,
          -2.6285456178741535,
          -2.647839582037747,
          -2.66619894838933,
          -2.68369723168689,
          -2.7004060467150994,
          -2.71639253156503,
          -2.731723275211739,
          -2.746463973789686,
          -2.7606780434623097,
          -2.7744258989983135,
          -2.7877660573446343,
          -2.800755835497994,
          -2.813450503100059,
          -2.825902966687082,
          -2.8381631131604474,
          -2.8502803975786843,
          -2.8623025262694988,
          -2.8742753617530896,
          -2.886242624262224,
          -2.898245257201629,
          -2.910323645210846,
          -2.9225164952500835,
          -2.9348607309545365,
          -2.947391137419011,
          -2.960139709641606,
          -2.9731378640002486,
          -2.986415322229958,
          -3,
          null,
          0.44855329053167825,
          0.49021643051491015,
          0.5308996087177649,
          0.5705142965122456,
          0.6089885662233931,
          0.646224624172937,
          0.6821382136040994,
          0.7166536125998233,
          0.7496731999005659,
          0.7811196253132331,
          0.8108924008207121,
          0.8388952396896929,
          0.8650252446806248,
          0.8891901073265722,
          0.9112759080030988,
          0.9311774724915312,
          0.9487839449786826,
          0.9639741752892244,
          0.9766351080946274,
          0.986653444528371,
          0.9939176094892952,
          0.9983212488874296,
          0.9997671842673506,
          0.9981716620480143,
          0.9934686284536922,
          0.9856136682218759,
          0.9745871954825573,
          0.960396505980559,
          0.9430764028181042,
          0.9226939588298886,
          0.8993492614811331,
          0.8731569733820006,
          0.844264305262223,
          0.8128260700798533,
          0.7790170655752511,
          0.7430095740241627,
          0.7049885236542437,
          0.6651245394874663,
          0.6235875811302742,
          0.5805408705287749,
          0.5361331921282044,
          0.49050261755628055,
          0.44378176238567635,
          0.3960864282923615,
          0.34752224595622927,
          0.29818491492742627,
          0.24816019905104492,
          0.1975285024040856,
          0.1463588546754786,
          0.09471289535000871,
          0.042647267026601376,
          -0.009788197604397642,
          -0.06254832012378264,
          -0.11559261882450178,
          -0.16888293322795045,
          -0.22238705543262594,
          -0.27607503480638407,
          -0.32992026224788784,
          -0.383897742190523,
          -0.43798542269133645,
          -0.4921630094043907,
          null,
          -0.22277549045212153,
          -0.27456915102245505,
          -0.3175896813335548,
          -0.3449130106567466,
          -0.35272440895050705,
          -0.3431681601864778,
          -0.3208530395285778,
          -0.2899807424036611,
          -0.2531845845028964,
          -0.21238956355041472,
          -0.16873767577121956,
          -0.1230713334655511,
          -0.07598117763380152,
          -0.027894059001732252,
          0.02085795872962537,
          0.07003677160879374,
          0.11942906792838759,
          0.16886502390347546,
          0.2182018063675213,
          0.26731603330854803,
          0.31611410097561565,
          0.3644855702954528,
          0.41235350953414374,
          0.45963240067235134,
          0.5062488570581283,
          0.5521453232966409,
          0.5972540089535734,
          0.6415057729184932,
          0.6848531919293817,
          0.7272396340300098,
          0.7686076084962528,
          0.8089058484405305,
          0.8480919351983887,
          0.8861033475498821,
          0.9228893041463886,
          0.9584058936248758,
          0.9925909112030911,
          1.0254007881065101,
          1.0567697745198616,
          1.0866406722994224,
          1.114952141423938,
          1.1416459107933479,
          1.1666497484130165,
          1.1898995686588414,
          1.2113175915645176,
          1.230830780387838,
          1.2483634133779313,
          1.263829818223682,
          1.2771469645114806,
          1.2882309781311738,
          1.2969965425340622,
          1.3033585848330826,
          1.307234003349559,
          1.3085447650187483,
          1.3072197183624095,
          1.303196475119961,
          1.2964246001085522,
          1.286868684074025,
          1.2745094150659186,
          1.2593452339602056,
          1.2413920987389009,
          1.2206924455101946,
          1.197309316611789,
          1.1713184526957514,
          1.142826245913076,
          1.1119412170972645,
          1.0787953476849994,
          1.043517726437078,
          1.0062576050687548,
          0.9671526165767435,
          0.9263463893865285,
          0.8839810954081297,
          0.8401889745039259,
          0.7950959436228664,
          0.7488276293731864,
          0.701494378074655,
          0.6531995696376067,
          0.6040384849211855,
          0.5540990580802116,
          0.5034630463001482,
          0.4522021360561239,
          0.4003820110850471,
          0.3480626580332169,
          0.295297692974843,
          0.2421358027167,
          0.18862172963822088,
          0.13479623824451092,
          null,
          1.01722502678615,
          0.9568714782598446,
          0.8963139086847303,
          0.8358814767319047,
          0.7757910525834637,
          0.7161494165464961,
          0.6569801217076114,
          0.5982543107452627,
          0.539913603212641,
          0.48188766834419017,
          0.424106944996828,
          0.3665047750435324,
          0.30901716349699626,
          0.25159120412332614,
          0.19418094706317257,
          0.1367442275764743,
          0.07924672686303058,
          0.021659792124976374,
          -0.03604264782695399,
          -0.09388169921842948,
          -0.15187397706207229,
          -0.21003400592204136,
          -0.2683738451035982,
          -0.3269013835530288,
          -0.38562205255864335,
          -0.4445396626228053,
          -0.5036554212552717,
          -0.562967599000125,
          -0.6224721800747512,
          -0.6821627893978945,
          -0.742030673649356,
          -0.8020640955104184,
          -0.8622483230150517,
          -0.9225655399024149,
          -0.9829945807878184,
          -1.04351063701662,
          -1.1040849390495122,
          -1.1646844239333012,
          -1.2252713996300895,
          -1.2858032215542285,
          -1.3462320003322998,
          -1.4065043631634708,
          -1.466561293703195,
          -1.5263380765232084,
          -1.5857642536595027,
          -1.6447612635064734,
          -1.7032458570703557,
          -1.7611318491096493,
          -1.8183289362038906,
          -1.8747363439370897,
          -1.9302566467101914,
          -1.984791781095961,
          -2.038242430575508,
          -2.0905172522931728,
          -2.141522681653617,
          -2.191177256876375,
          -2.239406900908648,
          -2.2861423616835346,
          -2.3313307145487645,
          -2.3749299002862534,
          -2.4169131352291195,
          -2.4572584072211594,
          -2.495962679777421,
          -2.5330359747031803,
          -2.5684898613217477,
          -2.602355548298006,
          -2.6346660594183167,
          -2.665464613203335,
          -2.694800769384941,
          -2.722728367656366,
          -2.749303004854138,
          -2.774586634662327,
          -2.7986384885407607,
          -2.821524738698118,
          -2.8433072758877476,
          -2.8640497178573883,
          -2.8838172501409876,
          -2.902670787932369,
          -2.9206724053168593,
          -2.9378841465038508,
          -2.954365133754074,
          -2.9701733925558793,
          -2.985366403877792,
          -3,
          null,
          0.2755489322454463,
          0.3273035658022181,
          0.3786819539982753,
          0.4296179425782336,
          0.48003215669861854,
          0.5298587937147525,
          0.5790418794820757,
          0.6275318509560859,
          0.6752905208708042,
          0.7222700449317778,
          0.7684313237145584,
          0.813741669656344,
          0.8581655570631743,
          0.901680726080381,
          0.944250774901302,
          0.985843376517967,
          1.026437989237344,
          1.066004377868615,
          1.104514703516597,
          1.1419416603981833,
          1.178251286027871,
          1.2134191698203622,
          1.247415605418011,
          1.2802060378975755,
          1.3117549617276527,
          1.3420244469405072,
          1.3709827434317798,
          1.3985850999603047,
          1.424792313492527,
          1.4495593802251499,
          1.4728384878802494,
          1.4945844331317915,
          1.5147395425239694,
          1.5332475012555573,
          1.5500530318131727,
          1.5650934761042636,
          1.5783069079960557,
          1.5896304276992774,
          1.5989989882469038,
          1.6063462257805847,
          1.6116050797434278,
          1.614709854752446,
          1.615597236718135,
          1.6142070288377104,
          1.6104836164208143,
          1.604377544949286,
          1.5958481878455046,
          1.5848647877215614,
          1.5714072412939029,
          1.5554673524614993,
          1.537050174559453,
          1.5161818804860232,
          1.4928972846188318,
          1.4672456890721435,
          1.4392980074441617,
          1.409127149059839,
          1.3768314671048243,
          1.3425039646383379,
          1.3062570409709258,
          1.2682004255175086,
          1.228448752494736,
          1.1871209427868257,
          1.1443289904790461,
          1.1001835673981146,
          1.054797318862744,
          1.0082715400410258,
          0.9607033985358719,
          0.9121837387062106,
          0.8628007427801565,
          0.8126337051900547,
          0.7617554858934135,
          null,
          1.7161488864153487,
          1.735647665427491,
          1.7536880712816192,
          1.770224605445125,
          1.7852097311435546,
          1.7985917765945398,
          1.8103162827783166,
          1.8203294289591447,
          1.8285758294821584,
          1.8349989671528153,
          1.8395418453408183,
          1.842147733600231,
          1.842761010818477,
          1.841328102925635,
          1.8377985031946773,
          1.8321258525252366,
          1.8242690456779247,
          1.8141930763376521,
          1.801870233964162,
          1.7872812911819098,
          1.7704194475897284,
          1.7512890505507137,
          1.729902222605813,
          1.7062861945302688,
          1.6804821594392862,
          1.6525357090863686,
          1.6225145713695799,
          1.5904836123270334,
          1.5565296878714108,
          1.5207346653176286,
          1.483194261963301,
          1.444004478946292,
          1.4032613973849966,
          1.361069563407324,
          1.3175253339892823,
          1.2727243361176654,
          1.2267616180422003,
          1.1797283176593476,
          null,
          1.4627653312095523,
          1.4057991400381162,
          1.3478715341178704,
          1.2890610071861737,
          1.229515749268419,
          1.169429069818042,
          1.109001079765779,
          1.0484297568428316,
          0.9878876305622621,
          0.9275073444514979,
          0.8673776952380279,
          0.8075473832842683,
          0.7480322082203257,
          0.68882414789462,
          0.6298998870694743,
          0.5712269683128599,
          0.5127676278699207,
          0.454481802167912,
          0.3963310716479298,
          0.3382787891328789,
          0.28028967245612835,
          0.22233185687223056,
          0.1643771665188023,
          0.10639971689300465,
          0.04837566917799174,
          -0.009714970170023207,
          -0.06788977970669752,
          -0.12616505017964252,
          -0.18455427762331134,
          -0.24306851759118997,
          -0.30171712814826224,
          -0.36050863357289975,
          -0.4194485732694466,
          -0.4785407243529778,
          -0.5377872444900138,
          -0.5971889820694867,
          -0.6567448421310136,
          -0.7164517631533132,
          -0.7763049112660263,
          -0.8362975955516356,
          -0.8964211626323504,
          -0.9566648512843261,
          -1.0170155673111654,
          -1.0774578013269671,
          -1.1379734807494353,
          -1.1985417778359757,
          -1.2591389065088514,
          -1.319737912623568,
          -1.3803084638137832,
          -1.4408166466585273,
          -1.5012247805672787,
          -1.5614912593282002,
          -1.6215703821684884,
          -1.6814112787519322,
          -1.7409590032611304,
          -1.8001550026718314,
          -1.8589368573441163,
          -1.9172383104393371,
          -1.974986609381201,
          -2.032108462586801,
          -2.0885289299114183,
          -2.144167039691984,
          -2.198944636431136,
          -2.252783684095199,
          -2.3056061860680477,
          -2.3573384839679186,
          -2.4079045610565912,
          -2.4572404761703672,
          -2.505286490778925,
          -2.5519898343374408,
          -2.597308091940182,
          -2.6411994639803673,
          -2.6836387747644928,
          -2.724609546672144,
          -2.764100063888319,
          -2.8021098146030017,
          -2.8386490999316827,
          -2.8737288643111376,
          -2.9073735303880137,
          -2.9396098960134784,
          -2.97047281758078,
          -3,
          null,
          0.23954115755660732,
          0.29601604015789107,
          0.3518553253222083,
          0.40701995785393974,
          0.4614761015355566,
          0.5151956137156324,
          0.568170465518135,
          0.6203789561697288,
          0.6718278437102532,
          0.7225090055392216,
          0.7724127157721168,
          0.8215402403601577,
          0.8698917915622699,
          0.9174746162425502,
          0.9642826865993426,
          1.0103112957883784,
          1.055563533965545,
          1.1000348142374028,
          1.1437307625106525,
          1.1866410246284955,
          1.2287586625862783,
          1.2700857139941473,
          1.310614524358444,
          1.350337154764448,
          1.3892480352861103,
          1.4273359352431294,
          1.4645932504511663,
          1.5010160500620442,
          1.5365791340952146,
          1.5712782017616123,
          1.6050969988537211,
          1.6380219093394652,
          1.6700381325167113,
          1.701127906993042,
          1.7312695745070013,
          1.7604427394343931,
          1.788628627236478,
          1.8158037097376862,
          1.841942609096166,
          1.8670217871520602,
          1.8910110498300492,
          1.9138853726186191,
          1.9356116334788922,
          1.956157674191017,
          1.9754892010367184,
          1.9935679953016772,
          2.0103571513354037,
          2.0258189528702353,
          2.0399124683918863,
          2.052593512854516,
          2.0638186854344855,
          2.0735429994546166,
          2.081719972157236,
          2.0883019564300733,
          2.093240486020145,
          2.0964866331501977,
          2.097992040575157,
          2.097708976696815,
          2.0955908969744517,
          2.0915931091232807,
          2.0856737485695813,
          2.0777948514462476,
          2.0679226222904994,
          2.056028334493818,
          2.0420890323836494,
          2.026088363845285,
          2.008020885167138,
          1.9878877750254897,
          1.9656965140243523,
          1.941469096130084,
          1.9152342335953492,
          1.8870290128098617,
          1.8569037321556339,
          1.8249105116858821,
          1.7911154446393516,
          1.7555868746854673,
          1.7184001776624056,
          1.6796362816525905,
          1.6393745470741568,
          1.5977011494252835,
          null,
          0.8419508524534751,
          0.7941926449562056,
          0.7465160366319195,
          0.6996426834963496,
          0.654192574906661,
          0.6102741162174468,
          0.5782995727425266,
          0.5872562375257324,
          0.6284988621351051,
          0.6741503375959459,
          0.7207621854278599,
          0.7674866592836933,
          0.8140897706798453,
          0.8604337905144166,
          0.9064273650497126,
          0.9520190683988972,
          0.9971731853372834,
          1.0418609762690094,
          1.0860736551024015,
          1.1297855845973324,
          1.1729786756881717,
          1.2156494415150707,
          1.257790033160541,
          1.2993774922296693,
          1.3404090136200457,
          1.3808796508832657,
          1.4207750303121882,
          1.4600835159421095,
          1.4987999429550305,
          1.536910416252117,
          1.574412166601448,
          1.6112889599989932,
          1.64752949623837,
          1.683128539076085,
          1.718067703157418,
          1.7523423255737036,
          1.7859351331429023,
          1.818832700667925,
          1.8510226236492908,
          1.8824901906322928,
          1.9132213574589967,
          1.943199738017488,
          1.9724113584734138,
          2.0008355426692033,
          2.0284536845128995,
          2.0552477832504623,
          2.0811970861278555,
          2.1062837647722654,
          2.1304816099044643,
          2.1537706889546513,
          2.176125592966402,
          2.1975209544351797,
          2.2179328331141335,
          2.2373313594587616,
          2.255688228920948,
          2.2729748679595687,
          2.2891573734094486,
          2.3042024677607262,
          2.318077393346341,
          2.3307477383857504,
          2.3421769382892537,
          2.3523267432556088,
          2.3611590405010325,
          2.36863463469457,
          2.374713363831809,
          2.3793543227204683,
          2.3825161203011325,
          2.3841571744566945,
          2.384236046989204,
          2.382711820021541,
          2.379544513166544,
          2.3746955383933877,
          2.3681281866647907,
          2.3598081372477395,
          2.349703977324017,
          2.3377877164303627,
          2.324035979378565,
          2.3084320923203787,
          2.290962868697904,
          2.27162031753672,
          2.2504059447069515,
          2.2273276090336553,
          2.20239669667745,
          2.175638681827521,
          2.147080045856816,
          2.1167590767251863,
          2.0847169247846766,
          2.0510044435638255,
          2.0156739811912185,
          null,
          2.0937330254521953,
          2.0420902305129873,
          1.989836514101845,
          1.9369102231712798,
          1.8832819269303407,
          1.8289100301356607,
          1.7737747279048017,
          1.7178474579580074,
          1.6611262859403633,
          1.6036359318130797,
          1.5454106785259514,
          1.486517963454971,
          1.4270582800571958,
          1.3671381798741358,
          1.306876984374516,
          1.2463977151846528,
          1.1858171859349564,
          1.1252381547874482,
          1.0647444241523898,
          1.004398950275256,
          0.9442444153494582,
          0.8843054406400648,
          0.8245916331656011,
          0.7651006142993704,
          0.7058208771012291,
          0.6467352334313428,
          0.5878226708969811,
          0.5290599227810828,
          0.4704219988942171,
          0.4118842331294541,
          0.35342289346283406,
          0.295015149805649,
          0.2366385944864393,
          0.17827292394007044,
          0.11989954657592827,
          0.061501147002620105,
          0.00306098104799446,
          -0.0554350587513488,
          -0.11399953938472507,
          -0.17264395913645814,
          -0.23137864491923876,
          -0.29021207797354887,
          -0.3491514539628029,
          -0.4082028899300991,
          -0.467371534960233,
          -0.5266608752278201,
          -0.5860731606677194,
          -0.6456094303397215,
          -0.7052695922611303,
          -0.765052326483433,
          -0.8249547757476199,
          -0.8849727103124656,
          -0.9451004752947734,
          -1.0053309144996545,
          -1.0656552825422996,
          -1.1260631446790264,
          -1.1865422267905525,
          -1.247078313004751,
          -1.307655173100535,
          -1.3682544139888175,
          -1.428855342770219,
          -1.4894348280148297,
          -1.5499671629321656,
          -1.6104239348910088,
          -1.6707736638621353,
          -1.7309817224134767,
          -1.7910106287951435,
          -1.8508198118164378,
          -1.9103656078170068,
          -1.969601299538851,
          -2.0284767054855917,
          -2.086936802734321,
          -2.144925813092688,
          -2.2023859356639313,
          -2.259255270752442,
          -2.315470407585173,
          -2.3709690283668037,
          -2.425684913772079,
          -2.4795539343550246,
          -2.5325093638507217,
          -2.5844895709782687,
          -2.635435402677272,
          -2.685290326303205,
          -2.73400165450609,
          -2.7815244866797797,
          -2.8278112790772245,
          -2.8728280241048574,
          -2.9165460564225123,
          -2.958943278336331,
          -3,
          null,
          1.2342312285311436,
          1.247523620354266,
          1.267561969253829,
          1.2923561705317619,
          1.3204610297128685,
          1.350847400647651,
          1.3828421156672341,
          1.4159603444868676,
          1.4498733022195243,
          1.484326111673476,
          1.5191368644216476,
          1.5541599182313197,
          1.5892750301277836,
          1.6244028358722682,
          1.6594596413576745,
          1.6943919008596495,
          1.729147214619923,
          1.763674874358924,
          1.7979408172210265,
          1.8319076479882073,
          1.8655512021058867,
          1.8988372797417457,
          1.9317469031666752,
          1.9642487065790935,
          1.9963252715771027,
          2.027954458143623,
          2.059117398299823,
          2.089794378157345,
          2.119968174607507,
          2.1496191764997965,
          2.1787277711602053,
          2.2072757910677137,
          2.235247552932096,
          2.2626229544601824,
          2.2893864533315407,
          2.3155161900101033,
          2.340997449356993,
          2.3658086969136063,
          2.389932344169604,
          2.4133466981865066,
          2.436029518168281,
          2.4579625161643355,
          2.479122657809426,
          2.499487782852569,
          2.5190367984884903,
          2.5377444896538597,
          2.5555862646486327,
          2.572537816047052,
          2.5885726580931996,
          2.603662704491728,
          2.617780913080895,
          2.630899178791644,
          2.6429880328612674,
          2.6540159492726243,
          2.6639519021848344,
          2.672764022062,
          2.6804195339647405,
          2.6868848542835133,
          2.69212570369261,
          2.6961072387768716,
          2.6987941828451767,
          2.7001510478858837,
          2.70014237257136,
          2.6987328253511196,
          2.695887451087412,
          2.6915720876789146,
          2.685753619456694,
          2.6784002617691973,
          2.6694819199211244,
          2.658970536724941,
          2.646840440355933,
          2.6330687915555355,
          2.61763781148757,
          2.6005328974501047,
          2.581742423304748,
          2.561260204132296,
          2.5390868929532475,
          2.5152251130365917,
          2.489686127604945,
          2.462486716614606,
          2.4336468129571527,
          null,
          1.8389840966520596,
          1.805769742281731,
          1.7748326590135592,
          1.746747229367986,
          1.7221405013345663,
          1.7017316549849157,
          1.6862042825465222,
          1.6760975989259181,
          1.6716823191235441,
          1.67287608115348,
          1.6792706777500301,
          1.6902473928470974,
          1.7051115076941379,
          1.7231928644935435,
          1.7438931776852709,
          1.7667013657133914,
          1.7912047677401501,
          1.8170573842423403,
          1.8439838754503226,
          1.8717613618707682,
          1.9002024088275542,
          1.9291566790328618,
          1.9584893283166487,
          1.9881008483088678,
          2.0178959933066167,
          2.0478029625972747,
          2.0777483974525106,
          2.1076809864879653,
          2.1375443341740548,
          2.167296325471048,
          2.1968895065368788,
          2.2262937304390062,
          2.2554703375628806,
          2.284393217842756,
          2.3130291832845282,
          2.341356017597377,
          2.369346107052796,
          2.3969769486661514,
          2.424222989493762,
          2.4510634339527684,
          2.4774782655670267,
          2.5034456568158854,
          2.528948036187253,
          2.5539617174110516,
          2.578470339495837,
          2.602453338056038,
          2.625891480336864,
          2.64876747881209,
          2.6710576986662042,
          2.6927439036177825,
          2.7138065375965947,
          2.7342240376978406,
          2.7539776455572023,
          2.773046503856321,
          2.79140809276931,
          2.8090418757032642,
          2.825926355173708,
          2.842036818550074,
          2.8573502967646363,
          2.8718436102719584,
          2.885492575660977,
          2.8982708573357545,
          2.9101530151798487,
          2.921112982233401,
          2.9311239052542017,
          2.94015816597315,
          2.948187059226134,
          2.955181489973377,
          2.961112101541871,
          2.965948971045581,
          2.9696616900621473,
          2.9722194588674116,
          2.9735911955702248,
          2.973745661342411,
          2.972651602700603,
          2.970277911453061,
          2.966593802463783,
          2.961569008802286,
          2.955173993142008,
          2.947380173455997,
          2.938160183278324,
          2.927488829261663,
          2.9153428101713317,
          2.901700502525091,
          2.8865425731776915,
          2.8698525675123543,
          2.8516196447230877,
          2.831834011300625,
          2.810488711963071,
          2.787584534692926,
          null,
          2.3605615620520712,
          2.325384016308192,
          2.2913381958029184,
          2.2585930909125436,
          2.2273760562766434,
          2.1979154485075245,
          2.170503085117428,
          2.145429990518905,
          2.123032270559568,
          2.103638897582668,
          2.0875570339557594,
          2.0750544623966647,
          2.0663106035278593,
          2.0613959665615846,
          2.0602641824981864,
          2.0627583315076743,
          2.068633336277207,
          2.0775867269721644,
          2.08928947313885,
          2.1034088802760307,
          2.1196260442019286,
          2.1376509471203438,
          2.1572239933998842,
          2.1781100387583656,
          2.2001072782014184,
          2.2230407382642188,
          2.246749602137326,
          2.2711043737986962,
          2.2959885819537353,
          2.3212993640169417,
          2.3469517471717554,
          2.3728616238104365,
          2.398963091069029,
          2.425192214564035,
          2.4514951665175193,
          2.477822811369334,
          2.504127154641841,
          2.5303688583823476,
          2.5565069403714418,
          2.5825105653374623,
          2.608345470636918,
          2.633982912192339,
          2.659394499698177,
          2.684552693634455,
          2.7094354435326515,
          2.734015563633516,
          2.758272945015908,
          2.782183220845438,
          2.8057241158788537,
          2.8288772262410546,
          2.8516196447230877,
          2.873933280982672,
          2.8957989247981306,
          2.9171954818640105,
          2.938105020924029,
          2.958507682350925,
          2.9783833872075958,
          2.9977142944992856,
          null,
          1.6834170143634708,
          1.6244101958104453,
          1.5649277196791873,
          1.505048586585155,
          1.4448597747363428,
          1.3844508450400053,
          1.3239086756024747,
          1.263312973471316,
          1.2027329964254383,
          1.142225645976894,
          1.0818348480517432,
          1.0215919738231936,
          0.961516983419493,
          0.9016199825551783,
          0.8419029361394057,
          0.7823613546035646,
          0.7229856701424522,
          0.6637624276838809,
          0.6046761097793989,
          0.5457097280994838,
          0.4868453119389886,
          0.4280641804392342,
          0.36934816175890894,
          0.3106798394546826,
          0.25204246792214313,
          0.1934196721043051,
          0.13479623824451092,
          0.07615822660258464,
          0.01749268439855456,
          -0.04121274228954075,
          -0.09996911697472033,
          -0.1587862609161812,
          null,
          2.470099982875074,
          2.4492855360203567,
          2.4309063919137133,
          2.4151427060608475,
          2.402144933807329,
          2.392025397186832,
          2.384847868861292,
          2.380617635784275,
          2.3792824220757876,
          2.3807380062330576,
          2.3848372162957627,
          2.3914015446046273,
          2.400232842030989,
          2.411123336794703,
          2.4238668067090208,
          2.4382645649816865,
          2.4541296832344415,
          2.4712866151820583,
          2.489574093643199,
          2.508848285819048,
          2.5289783156127914,
          2.549843579337683,
          2.571340499962446,
          2.593374255792037,
          2.6158573382946564,
          2.638715629015649,
          2.661878293877379,
          2.685280150440101,
          2.7088669254471407,
          2.732583451062429,
          2.756385193617893,
          2.780228442372554,
          2.8040722737017205,
          2.827881811768852,
          2.8516196447230877,
          2.8752556858516467,
          2.898760232039689,
          2.922103784017458,
          2.945261928178941,
          2.9682071391822147,
          2.9909146976238876,
          null,
          2.1799248696785094,
          2.1250158275369113,
          2.069492540897409,
          2.013351501200675,
          1.9565961971961014,
          1.8992344964463888,
          1.841294887828088,
          1.7828126399533604,
          1.7238321104486438,
          1.6644098234635853,
          1.6046143747630133,
          1.5445169955137175,
          1.484190477869375,
          1.4237071180234002,
          1.3631353574278666,
          1.3025370723816065,
          1.2419656880842904,
          1.181465150908969,
          1.1210696762189256,
          1.060804125219585,
          1.0006848014547627,
          0.9407204843537111,
          0.8809134358599167,
          0.8212607277442237,
          0.7617554858934135,
          0.7023877987786804,
          null,
          2.996162864510798,
          2.963523831746235,
          2.9318239300470514,
          2.901164302793915,
          2.871647230350712,
          2.8433931070385734,
          2.816523469578991,
          2.7911725184232177,
          2.7674789369700656,
          2.7455797971620965,
          2.725621467677154,
          2.707735093370175,
          2.692041553916055,
          2.6786484490661424,
          2.667635618691799,
          2.659053189859952,
          2.6529190209042985,
          2.6492168948442645,
          2.6478972434235537,
          2.648880215632194,
          2.652060546507796,
          2.657313481130049,
          2.66450098988091,
          2.6734776379463403,
          2.6840956761850903,
          2.6962091342094165,
          2.7096754956056355,
          2.724358480978178,
          2.7401314724196153,
          2.756876818967303,
          2.774483744557698,
          2.7928498429345314,
          2.811883595392028,
          2.8315002461439143,
          2.8516196447230877,
          2.8721705505329336,
          2.8930879077481464,
          2.9143097280590204,
          2.9357828569954947,
          2.9574567080427254,
          2.9792831856639284,
          null,
          -1.2278488791976514,
          -1.2880918930704364,
          -1.348077543475651,
          -1.4077228202164844,
          -1.466937361008294,
          -1.5256239955169015,
          -1.583676441460934,
          -1.6409800555023504,
          -1.6974220785668037,
          -1.7528820424134395,
          -1.807234258643064,
          -1.8603662560384935,
          -1.912160209771241,
          -1.9625154907064102,
          -2.011332858333759,
          -2.0585340574063276,
          -2.104046563513481,
          -2.1478172210598006,
          -2.189813157957092,
          -2.2300171802247113,
          -2.2684206930568127,
          -2.30504035570794,
          -2.3399016360362883,
          -2.3730407523510975,
          -2.404508531009627,
          null,
          -0.40407268591874024,
          -0.42881782140789504,
          -0.4559646949312133,
          -0.48529068590270485,
          -0.5165826083517273,
          -0.5496377846872851,
          -0.584270026181569,
          -0.6203030845108821,
          -0.6575877887143937,
          -0.6959786896685403,
          -0.7353525586378984,
          -0.7755994244707325,
          -0.8166156601357137,
          -0.8583175728450123,
          -0.9006287452042638,
          -0.9434751574419762,
          -0.9867986693574671,
          -1.0305464624441476,
          -1.0746688210452546,
          -1.1191222570532933,
          -1.1638702866795663,
          -1.2088793710326442,
          null,
          -0.009165383264631455,
          -0.026731825560525113,
          -0.047667171522145946,
          -0.07173723606606774,
          -0.09869885516789179,
          -0.12828200303322346,
          -0.1602329242703351,
          -0.19429485223139809,
          -0.2302393199206989,
          -0.2678425312418846,
          -0.30691325282713233,
          -0.34727501740475386,
          -0.38876744546622266,
          -0.43125524798897974,
          -0.4746176388226404,
          -0.5187417143865658,
          -0.563534702195505,
          -0.6089151859978275,
          -0.6548090295611724,
          -0.7011494252873582,
          -0.7478812788321383,
          -0.7949540185652979,
          -0.8423248569094546,
          -0.8899510407960212,
          -0.937798223447547,
          -0.9858365792171102,
          null,
          -1.0292751028713507,
          -1.054918148803362,
          -1.0770611837621251,
          -1.09604381008963,
          -1.1122348192686224,
          -1.1259920513172883,
          -1.137648379286219,
          -1.1475246146216012,
          -1.1559208606398355,
          -1.1631149629379736,
          -1.1693643167112069,
          -1.1749078357554816,
          -1.1799678239766853,
          -1.1847513667551914,
          -1.1894511774164938,
          -1.1942481230457034,
          -1.199310920848053,
          -1.2047963850125103,
          -1.2108494696378014,
          -1.2176030757490572,
          -1.2251776910036698,
          -1.2336809394947026,
          -1.24320707077431,
          -1.253834225437443,
          -1.2656263456820722,
          -1.278634988808957,
          -1.292897973907231,
          -1.308439486244459,
          -1.3252660495215183,
          -1.3433762684189936,
          -1.3627598234165341,
          -1.383392335545612,
          -1.4052408209863443,
          -1.4282719041919243,
          -1.452439836753122,
          -1.4776989348196516,
          -1.50400479563802,
          -1.531304157358048,
          -1.5595507102002697,
          -1.5886873278084088,
          -1.6186696582990256,
          -1.6494445750980078,
          -1.6809695879855029,
          -1.7131941042187584,
          -1.7460815047021954,
          -1.7795867761395212,
          -1.8136738170024347,
          null,
          -1.489141697855181,
          -1.5158485073147878,
          -1.5403091343375201,
          -1.562713524283781,
          -1.5832465802198308,
          -1.6021024457357373,
          -1.6194660692016571,
          -1.6355118781298827,
          -1.6504122107074963,
          -1.6643305051990924,
          -1.677419110957469,
          -1.6898208047672434,
          -1.7016736566307287,
          -1.7131078035234433,
          -1.7242457212183009,
          -1.7352016466665772,
          -1.7460815047021954,
          -1.7569868254359104,
          -1.768012699616138,
          -1.7792477637916104,
          -1.7907741563558741,
          -1.8026654686296222,
          -1.8149902283464951,
          -1.8278117089738368,
          -1.8411869399477852,
          -1.855166394528159,
          -1.8697909435632039,
          -1.8850986680011805,
          -1.9011234023302397,
          -1.9178913287416164,
          -1.9354188151986509,
          -1.9537211408608726,
          -1.972809019306418,
          -1.992684546397553,
          -2.01334717876275,
          -2.0347949724043826,
          null,
          0.7470612833699017,
          0.7598621246472113,
          0.7697615949193626,
          0.7766239838851066,
          0.7803263373549645,
          0.780761617942137,
          0.7778446858604786,
          0.7715178705737022,
          0.7617554858934135,
          0.7485685453652073,
          0.7320114175910963,
          0.7121704046306401,
          0.6891633373780826,
          0.6631511287203531,
          0.6343058201770955,
          0.6028220073884918,
          0.5689019542921718,
          0.532755559070897,
          0.4945801678137727,
          0.4545798544556807,
          null,
          0.9615786622068003,
          0.949998634415,
          0.9574873396848886,
          0.9790277592733787,
          1.0084369362050012,
          1.0421040478665766,
          1.0782116939406219,
          1.1157438224695477,
          1.1541448441476296,
          1.193038430430719,
          1.2321883800873161,
          1.271440481299341,
          1.3106734105944904,
          1.3497844144628228,
          1.3887147335423151,
          1.4274032209173981,
          1.4658083177324537,
          1.50389427024892,
          1.5416178125852769,
          1.578958644701058,
          1.6158923663411429,
          null,
          -0.5632023993916206,
          -0.5489025976818809,
          -0.5356519679211669,
          -0.5237035668285577,
          -0.5133111994208184,
          -0.5047297591343267,
          -0.4981998984249083,
          -0.493944216706681,
          -0.4921630094043907,
          -0.4930257653809824,
          -0.4966631969390156,
          -0.5031610128145103,
          -0.5125564722488081,
          -0.5248355331142545,
          -0.5399332452311283,
          -0.5577503120682499,
          -0.5781572765118526,
          -0.6009908799636206,
          -0.6260771783619101,
          -0.6532418409087888,
          -0.6822968204919033,
          null,
          -0.07593250450649736,
          -0.02558350317619329,
          0.027136570676911553,
          0.08096342341556095,
          0.13526668557238564,
          0.18972764094526617,
          0.24410223122003138,
          0.2982520008785583,
          0.3520426262872518,
          0.4053933848115938,
          0.4582297303294993,
          0.5104951858020179,
          0.5621372592139107,
          0.6131186310069254,
          0.6634034132514706,
          0.7129603896281815,
          0.7617554858934135,
          0.8097767072508226,
          0.8570006490886986,
          0.9034142586871332,
          0.948998095283041,
          0.9937322353962648,
          1.0376083822145716,
          null,
          null,
          0.0018922002393049198,
          null,
          null,
          -1.544636797854799,
          -1.6248345241212665,
          -1.6017967125299422,
          null,
          -0.917215714378669,
          -0.9548777233136443,
          -0.9855727252950428,
          null,
          -0.6366290843523216,
          -0.6735147554544794,
          -0.7050049178702268,
          null,
          -2.0255588497666857,
          -2.0892663727752874,
          -2.0900097524519867,
          null,
          -0.1051451458899329,
          -0.14155733962382433,
          -0.17353008753292826,
          null,
          0.3816330808329539,
          0.3069979508265783,
          0.4069526484935947,
          null,
          0.3241440778671958,
          0.27676765307259243,
          0.25645289914659086,
          null,
          0.6570208030076906,
          0.6231709697159902,
          0.5886172540999791,
          null,
          -2.658614558080116,
          -2.71639253156503,
          -2.72459589365455,
          null,
          1.016606086989782,
          0.9939176094892952,
          0.9486955173472583,
          null,
          0.6859590337904896,
          0.7272396340300098,
          0.6370705444575832,
          null,
          -0.5366911125533985,
          -0.6224721800747512,
          -0.5237229850508759,
          null,
          1.2920365891663141,
          1.3117549617276527,
          1.2336330646740636,
          null,
          1.8777425078028511,
          1.841328102925635,
          1.8093576045410207,
          null,
          -0.04520239253994021,
          -0.12616505017964252,
          -0.026415938371502523,
          null,
          1.4718773445808802,
          1.5010160500620442,
          1.4172051071156777,
          null,
          1.5431315764934561,
          1.574412166601448,
          1.4893967799048207,
          null,
          0.4350496854676248,
          0.35342289346283406,
          0.45308478127399254,
          null,
          2.07172583354781,
          2.089794378157345,
          2.0127322773411027,
          null,
          2.1808519154893147,
          2.1968895065368788,
          2.1211572616893717,
          null,
          2.11477278786884,
          2.1034088802760307,
          2.048251769046128,
          null,
          1.1112886005927323,
          1.0215919738231936,
          1.118721151458922,
          null,
          2.437542843699112,
          2.4238668067090208,
          2.3706684508529468,
          null,
          1.7632548919257898,
          1.6644098234635853,
          1.7498705273621622,
          null,
          2.718348246359054,
          2.667635618691799,
          2.6510836961365865,
          null,
          -1.5974490860995993,
          -1.6974220785668037,
          -1.6223321341306653,
          null,
          -0.5369293330019023,
          -0.6203030845108821,
          -0.5919273095864006,
          null,
          -0.18271001325136382,
          -0.2678425312418846,
          -0.23635034443738834,
          null,
          -1.1573783573278744,
          -1.199310920848053,
          -1.2255432800503452,
          null,
          -1.6497541033008394,
          -1.7016736566307287,
          -1.7168371669500997,
          null,
          0.8153471976529075,
          0.7715178705737022,
          0.7473172741562704,
          null,
          1.0843839758802352,
          1.1157438224695477,
          1.030684523239397,
          null,
          -0.46642745921983514,
          -0.493944216706681,
          -0.5346625191708017,
          null,
          0.28439165173338915,
          0.3520426262872518,
          0.2528819287096639,
          null
         ]
        }
       ],
       "layout": {
        "hovermode": "closest",
        "template": {
         "data": {
          "bar": [
           {
            "error_x": {
             "color": "#2a3f5f"
            },
            "error_y": {
             "color": "#2a3f5f"
            },
            "marker": {
             "line": {
              "color": "#E5ECF6",
              "width": 0.5
             },
             "pattern": {
              "fillmode": "overlay",
              "size": 10,
              "solidity": 0.2
             }
            },
            "type": "bar"
           }
          ],
          "barpolar": [
           {
            "marker": {
             "line": {
              "color": "#E5ECF6",
              "width": 0.5
             },
             "pattern": {
              "fillmode": "overlay",
              "size": 10,
              "solidity": 0.2
             }
            },
            "type": "barpolar"
           }
          ],
          "carpet": [
           {
            "aaxis": {
             "endlinecolor": "#2a3f5f",
             "gridcolor": "white",
             "linecolor": "white",
             "minorgridcolor": "white",
             "startlinecolor": "#2a3f5f"
            },
            "baxis": {
             "endlinecolor": "#2a3f5f",
             "gridcolor": "white",
             "linecolor": "white",
             "minorgridcolor": "white",
             "startlinecolor": "#2a3f5f"
            },
            "type": "carpet"
           }
          ],
          "choropleth": [
           {
            "colorbar": {
             "outlinewidth": 0,
             "ticks": ""
            },
            "type": "choropleth"
           }
          ],
          "contour": [
           {
            "colorbar": {
             "outlinewidth": 0,
             "ticks": ""
            },
            "colorscale": [
             [
              0,
              "#0d0887"
             ],
             [
              0.1111111111111111,
              "#46039f"
             ],
             [
              0.2222222222222222,
              "#7201a8"
             ],
             [
              0.3333333333333333,
              "#9c179e"
             ],
             [
              0.4444444444444444,
              "#bd3786"
             ],
             [
              0.5555555555555556,
              "#d8576b"
             ],
             [
              0.6666666666666666,
              "#ed7953"
             ],
             [
              0.7777777777777778,
              "#fb9f3a"
             ],
             [
              0.8888888888888888,
              "#fdca26"
             ],
             [
              1,
              "#f0f921"
             ]
            ],
            "type": "contour"
           }
          ],
          "contourcarpet": [
           {
            "colorbar": {
             "outlinewidth": 0,
             "ticks": ""
            },
            "type": "contourcarpet"
           }
          ],
          "heatmap": [
           {
            "colorbar": {
             "outlinewidth": 0,
             "ticks": ""
            },
            "colorscale": [
             [
              0,
              "#0d0887"
             ],
             [
              0.1111111111111111,
              "#46039f"
             ],
             [
              0.2222222222222222,
              "#7201a8"
             ],
             [
              0.3333333333333333,
              "#9c179e"
             ],
             [
              0.4444444444444444,
              "#bd3786"
             ],
             [
              0.5555555555555556,
              "#d8576b"
             ],
             [
              0.6666666666666666,
              "#ed7953"
             ],
             [
              0.7777777777777778,
              "#fb9f3a"
             ],
             [
              0.8888888888888888,
              "#fdca26"
             ],
             [
              1,
              "#f0f921"
             ]
            ],
            "type": "heatmap"
           }
          ],
          "heatmapgl": [
           {
            "colorbar": {
             "outlinewidth": 0,
             "ticks": ""
            },
            "colorscale": [
             [
              0,
              "#0d0887"
             ],
             [
              0.1111111111111111,
              "#46039f"
             ],
             [
              0.2222222222222222,
              "#7201a8"
             ],
             [
              0.3333333333333333,
              "#9c179e"
             ],
             [
              0.4444444444444444,
              "#bd3786"
             ],
             [
              0.5555555555555556,
              "#d8576b"
             ],
             [
              0.6666666666666666,
              "#ed7953"
             ],
             [
              0.7777777777777778,
              "#fb9f3a"
             ],
             [
              0.8888888888888888,
              "#fdca26"
             ],
             [
              1,
              "#f0f921"
             ]
            ],
            "type": "heatmapgl"
           }
          ],
          "histogram": [
           {
            "marker": {
             "pattern": {
              "fillmode": "overlay",
              "size": 10,
              "solidity": 0.2
             }
            },
            "type": "histogram"
           }
          ],
          "histogram2d": [
           {
            "colorbar": {
             "outlinewidth": 0,
             "ticks": ""
            },
            "colorscale": [
             [
              0,
              "#0d0887"
             ],
             [
              0.1111111111111111,
              "#46039f"
             ],
             [
              0.2222222222222222,
              "#7201a8"
             ],
             [
              0.3333333333333333,
              "#9c179e"
             ],
             [
              0.4444444444444444,
              "#bd3786"
             ],
             [
              0.5555555555555556,
              "#d8576b"
             ],
             [
              0.6666666666666666,
              "#ed7953"
             ],
             [
              0.7777777777777778,
              "#fb9f3a"
             ],
             [
              0.8888888888888888,
              "#fdca26"
             ],
             [
              1,
              "#f0f921"
             ]
            ],
            "type": "histogram2d"
           }
          ],
          "histogram2dcontour": [
           {
            "colorbar": {
             "outlinewidth": 0,
             "ticks": ""
            },
            "colorscale": [
             [
              0,
              "#0d0887"
             ],
             [
              0.1111111111111111,
              "#46039f"
             ],
             [
              0.2222222222222222,
              "#7201a8"
             ],
             [
              0.3333333333333333,
              "#9c179e"
             ],
             [
              0.4444444444444444,
              "#bd3786"
             ],
             [
              0.5555555555555556,
              "#d8576b"
             ],
             [
              0.6666666666666666,
              "#ed7953"
             ],
             [
              0.7777777777777778,
              "#fb9f3a"
             ],
             [
              0.8888888888888888,
              "#fdca26"
             ],
             [
              1,
              "#f0f921"
             ]
            ],
            "type": "histogram2dcontour"
           }
          ],
          "mesh3d": [
           {
            "colorbar": {
             "outlinewidth": 0,
             "ticks": ""
            },
            "type": "mesh3d"
           }
          ],
          "parcoords": [
           {
            "line": {
             "colorbar": {
              "outlinewidth": 0,
              "ticks": ""
             }
            },
            "type": "parcoords"
           }
          ],
          "pie": [
           {
            "automargin": true,
            "type": "pie"
           }
          ],
          "scatter": [
           {
            "fillpattern": {
             "fillmode": "overlay",
             "size": 10,
             "solidity": 0.2
            },
            "type": "scatter"
           }
          ],
          "scatter3d": [
           {
            "line": {
             "colorbar": {
              "outlinewidth": 0,
              "ticks": ""
             }
            },
            "marker": {
             "colorbar": {
              "outlinewidth": 0,
              "ticks": ""
             }
            },
            "type": "scatter3d"
           }
          ],
          "scattercarpet": [
           {
            "marker": {
             "colorbar": {
              "outlinewidth": 0,
              "ticks": ""
             }
            },
            "type": "scattercarpet"
           }
          ],
          "scattergeo": [
           {
            "marker": {
             "colorbar": {
              "outlinewidth": 0,
              "ticks": ""
             }
            },
            "type": "scattergeo"
           }
          ],
          "scattergl": [
           {
            "marker": {
             "colorbar": {
              "outlinewidth": 0,
              "ticks": ""
             }
            },
            "type": "scattergl"
           }
          ],
          "scattermapbox": [
           {
            "marker": {
             "colorbar": {
              "outlinewidth": 0,
              "ticks": ""
             }
            },
            "type": "scattermapbox"
           }
          ],
          "scatterpolar": [
           {
            "marker": {
             "colorbar": {
              "outlinewidth": 0,
              "ticks": ""
             }
            },
            "type": "scatterpolar"
           }
          ],
          "scatterpolargl": [
           {
            "marker": {
             "colorbar": {
              "outlinewidth": 0,
              "ticks": ""
             }
            },
            "type": "scatterpolargl"
           }
          ],
          "scatterternary": [
           {
            "marker": {
             "colorbar": {
              "outlinewidth": 0,
              "ticks": ""
             }
            },
            "type": "scatterternary"
           }
          ],
          "surface": [
           {
            "colorbar": {
             "outlinewidth": 0,
             "ticks": ""
            },
            "colorscale": [
             [
              0,
              "#0d0887"
             ],
             [
              0.1111111111111111,
              "#46039f"
             ],
             [
              0.2222222222222222,
              "#7201a8"
             ],
             [
              0.3333333333333333,
              "#9c179e"
             ],
             [
              0.4444444444444444,
              "#bd3786"
             ],
             [
              0.5555555555555556,
              "#d8576b"
             ],
             [
              0.6666666666666666,
              "#ed7953"
             ],
             [
              0.7777777777777778,
              "#fb9f3a"
             ],
             [
              0.8888888888888888,
              "#fdca26"
             ],
             [
              1,
              "#f0f921"
             ]
            ],
            "type": "surface"
           }
          ],
          "table": [
           {
            "cells": {
             "fill": {
              "color": "#EBF0F8"
             },
             "line": {
              "color": "white"
             }
            },
            "header": {
             "fill": {
              "color": "#C8D4E3"
             },
             "line": {
              "color": "white"
             }
            },
            "type": "table"
           }
          ]
         },
         "layout": {
          "annotationdefaults": {
           "arrowcolor": "#2a3f5f",
           "arrowhead": 0,
           "arrowwidth": 1
          },
          "autotypenumbers": "strict",
          "coloraxis": {
           "colorbar": {
            "outlinewidth": 0,
            "ticks": ""
           }
          },
          "colorscale": {
           "diverging": [
            [
             0,
             "#8e0152"
            ],
            [
             0.1,
             "#c51b7d"
            ],
            [
             0.2,
             "#de77ae"
            ],
            [
             0.3,
             "#f1b6da"
            ],
            [
             0.4,
             "#fde0ef"
            ],
            [
             0.5,
             "#f7f7f7"
            ],
            [
             0.6,
             "#e6f5d0"
            ],
            [
             0.7,
             "#b8e186"
            ],
            [
             0.8,
             "#7fbc41"
            ],
            [
             0.9,
             "#4d9221"
            ],
            [
             1,
             "#276419"
            ]
           ],
           "sequential": [
            [
             0,
             "#0d0887"
            ],
            [
             0.1111111111111111,
             "#46039f"
            ],
            [
             0.2222222222222222,
             "#7201a8"
            ],
            [
             0.3333333333333333,
             "#9c179e"
            ],
            [
             0.4444444444444444,
             "#bd3786"
            ],
            [
             0.5555555555555556,
             "#d8576b"
            ],
            [
             0.6666666666666666,
             "#ed7953"
            ],
            [
             0.7777777777777778,
             "#fb9f3a"
            ],
            [
             0.8888888888888888,
             "#fdca26"
            ],
            [
             1,
             "#f0f921"
            ]
           ],
           "sequentialminus": [
            [
             0,
             "#0d0887"
            ],
            [
             0.1111111111111111,
             "#46039f"
            ],
            [
             0.2222222222222222,
             "#7201a8"
            ],
            [
             0.3333333333333333,
             "#9c179e"
            ],
            [
             0.4444444444444444,
             "#bd3786"
            ],
            [
             0.5555555555555556,
             "#d8576b"
            ],
            [
             0.6666666666666666,
             "#ed7953"
            ],
            [
             0.7777777777777778,
             "#fb9f3a"
            ],
            [
             0.8888888888888888,
             "#fdca26"
            ],
            [
             1,
             "#f0f921"
            ]
           ]
          },
          "colorway": [
           "#636efa",
           "#EF553B",
           "#00cc96",
           "#ab63fa",
           "#FFA15A",
           "#19d3f3",
           "#FF6692",
           "#B6E880",
           "#FF97FF",
           "#FECB52"
          ],
          "font": {
           "color": "#2a3f5f"
          },
          "geo": {
           "bgcolor": "white",
           "lakecolor": "white",
           "landcolor": "#E5ECF6",
           "showlakes": true,
           "showland": true,
           "subunitcolor": "white"
          },
          "hoverlabel": {
           "align": "left"
          },
          "hovermode": "closest",
          "mapbox": {
           "style": "light"
          },
          "paper_bgcolor": "white",
          "plot_bgcolor": "#E5ECF6",
          "polar": {
           "angularaxis": {
            "gridcolor": "white",
            "linecolor": "white",
            "ticks": ""
           },
           "bgcolor": "#E5ECF6",
           "radialaxis": {
            "gridcolor": "white",
            "linecolor": "white",
            "ticks": ""
           }
          },
          "scene": {
           "xaxis": {
            "backgroundcolor": "#E5ECF6",
            "gridcolor": "white",
            "gridwidth": 2,
            "linecolor": "white",
            "showbackground": true,
            "ticks": "",
            "zerolinecolor": "white"
           },
           "yaxis": {
            "backgroundcolor": "#E5ECF6",
            "gridcolor": "white",
            "gridwidth": 2,
            "linecolor": "white",
            "showbackground": true,
            "ticks": "",
            "zerolinecolor": "white"
           },
           "zaxis": {
            "backgroundcolor": "#E5ECF6",
            "gridcolor": "white",
            "gridwidth": 2,
            "linecolor": "white",
            "showbackground": true,
            "ticks": "",
            "zerolinecolor": "white"
           }
          },
          "shapedefaults": {
           "line": {
            "color": "#2a3f5f"
           }
          },
          "ternary": {
           "aaxis": {
            "gridcolor": "white",
            "linecolor": "white",
            "ticks": ""
           },
           "baxis": {
            "gridcolor": "white",
            "linecolor": "white",
            "ticks": ""
           },
           "bgcolor": "#E5ECF6",
           "caxis": {
            "gridcolor": "white",
            "linecolor": "white",
            "ticks": ""
           }
          },
          "title": {
           "x": 0.05
          },
          "xaxis": {
           "automargin": true,
           "gridcolor": "white",
           "linecolor": "white",
           "ticks": "",
           "title": {
            "standoff": 15
           },
           "zerolinecolor": "white",
           "zerolinewidth": 2
          },
          "yaxis": {
           "automargin": true,
           "gridcolor": "white",
           "linecolor": "white",
           "ticks": "",
           "title": {
            "standoff": 15
           },
           "zerolinecolor": "white",
           "zerolinewidth": 2
          }
         }
        }
       }
      }
     },
     "metadata": {},
     "output_type": "display_data"
    }
   ],
   "source": [
    "# Plotly Streamline plot\n",
    "import plotly.figure_factory as ff\n",
    "import numpy as np\n",
    "x = np.linspace(-3, 3, 100)\n",
    "y = np.linspace(-3, 3, 100)\n",
    "Y, X = np.meshgrid(x, y)\n",
    "U = -1 - X**2 + Y\n",
    "V = 1 + X - Y**2\n",
    "fig = ff.create_streamline(x, y, U, V, arrow_scale=.1)\n",
    "fig.show()"
   ]
  },
  {
   "cell_type": "code",
   "execution_count": 26,
   "metadata": {},
   "outputs": [
    {
     "data": {
      "application/vnd.plotly.v1+json": {
       "config": {
        "plotlyServerURL": "https://plot.ly"
       },
       "data": [
        {
         "alignmentgroup": "True",
         "hovertemplate": "continent=%{x}<br>year=1952<br>pop=%{y}<extra></extra>",
         "ids": [
          "Afghanistan",
          "Bahrain",
          "Bangladesh",
          "Cambodia",
          "China",
          "Hong Kong, China",
          "India",
          "Indonesia",
          "Iran",
          "Iraq",
          "Israel",
          "Japan",
          "Jordan",
          "Korea, Dem. Rep.",
          "Korea, Rep.",
          "Kuwait",
          "Lebanon",
          "Malaysia",
          "Mongolia",
          "Myanmar",
          "Nepal",
          "Oman",
          "Pakistan",
          "Philippines",
          "Saudi Arabia",
          "Singapore",
          "Sri Lanka",
          "Syria",
          "Taiwan",
          "Thailand",
          "Vietnam",
          "West Bank and Gaza",
          "Yemen, Rep."
         ],
         "legendgroup": "Asia",
         "marker": {
          "color": "#636efa",
          "pattern": {
           "shape": ""
          }
         },
         "name": "Asia",
         "offsetgroup": "Asia",
         "orientation": "v",
         "showlegend": true,
         "textposition": "auto",
         "type": "bar",
         "x": [
          "Asia",
          "Asia",
          "Asia",
          "Asia",
          "Asia",
          "Asia",
          "Asia",
          "Asia",
          "Asia",
          "Asia",
          "Asia",
          "Asia",
          "Asia",
          "Asia",
          "Asia",
          "Asia",
          "Asia",
          "Asia",
          "Asia",
          "Asia",
          "Asia",
          "Asia",
          "Asia",
          "Asia",
          "Asia",
          "Asia",
          "Asia",
          "Asia",
          "Asia",
          "Asia",
          "Asia",
          "Asia",
          "Asia"
         ],
         "xaxis": "x",
         "y": [
          8425333,
          120447,
          46886859,
          4693836,
          556263527,
          2125900,
          372000000,
          82052000,
          17272000,
          5441766,
          1620914,
          86459025,
          607914,
          8865488,
          20947571,
          160000,
          1439529,
          6748378,
          800663,
          20092996,
          9182536,
          507833,
          41346560,
          22438691,
          4005677,
          1127000,
          7982342,
          3661549,
          8550362,
          21289402,
          26246839,
          1030585,
          4963829
         ],
         "yaxis": "y"
        },
        {
         "alignmentgroup": "True",
         "hovertemplate": "continent=%{x}<br>year=1952<br>pop=%{y}<extra></extra>",
         "ids": [
          "Albania",
          "Austria",
          "Belgium",
          "Bosnia and Herzegovina",
          "Bulgaria",
          "Croatia",
          "Czech Republic",
          "Denmark",
          "Finland",
          "France",
          "Germany",
          "Greece",
          "Hungary",
          "Iceland",
          "Ireland",
          "Italy",
          "Montenegro",
          "Netherlands",
          "Norway",
          "Poland",
          "Portugal",
          "Romania",
          "Serbia",
          "Slovak Republic",
          "Slovenia",
          "Spain",
          "Sweden",
          "Switzerland",
          "Turkey",
          "United Kingdom"
         ],
         "legendgroup": "Europe",
         "marker": {
          "color": "#EF553B",
          "pattern": {
           "shape": ""
          }
         },
         "name": "Europe",
         "offsetgroup": "Europe",
         "orientation": "v",
         "showlegend": true,
         "textposition": "auto",
         "type": "bar",
         "x": [
          "Europe",
          "Europe",
          "Europe",
          "Europe",
          "Europe",
          "Europe",
          "Europe",
          "Europe",
          "Europe",
          "Europe",
          "Europe",
          "Europe",
          "Europe",
          "Europe",
          "Europe",
          "Europe",
          "Europe",
          "Europe",
          "Europe",
          "Europe",
          "Europe",
          "Europe",
          "Europe",
          "Europe",
          "Europe",
          "Europe",
          "Europe",
          "Europe",
          "Europe",
          "Europe"
         ],
         "xaxis": "x",
         "y": [
          1282697,
          6927772,
          8730405,
          2791000,
          7274900,
          3882229,
          9125183,
          4334000,
          4090500,
          42459667,
          69145952,
          7733250,
          9504000,
          147962,
          2952156,
          47666000,
          413834,
          10381988,
          3327728,
          25730551,
          8526050,
          16630000,
          6860147,
          3558137,
          1489518,
          28549870,
          7124673,
          4815000,
          22235677,
          50430000
         ],
         "yaxis": "y"
        },
        {
         "alignmentgroup": "True",
         "hovertemplate": "continent=%{x}<br>year=1952<br>pop=%{y}<extra></extra>",
         "ids": [
          "Algeria",
          "Angola",
          "Benin",
          "Botswana",
          "Burkina Faso",
          "Burundi",
          "Cameroon",
          "Central African Republic",
          "Chad",
          "Comoros",
          "Congo, Dem. Rep.",
          "Congo, Rep.",
          "Cote d'Ivoire",
          "Djibouti",
          "Egypt",
          "Equatorial Guinea",
          "Eritrea",
          "Ethiopia",
          "Gabon",
          "Gambia",
          "Ghana",
          "Guinea",
          "Guinea-Bissau",
          "Kenya",
          "Lesotho",
          "Liberia",
          "Libya",
          "Madagascar",
          "Malawi",
          "Mali",
          "Mauritania",
          "Mauritius",
          "Morocco",
          "Mozambique",
          "Namibia",
          "Niger",
          "Nigeria",
          "Reunion",
          "Rwanda",
          "Sao Tome and Principe",
          "Senegal",
          "Sierra Leone",
          "Somalia",
          "South Africa",
          "Sudan",
          "Swaziland",
          "Tanzania",
          "Togo",
          "Tunisia",
          "Uganda",
          "Zambia",
          "Zimbabwe"
         ],
         "legendgroup": "Africa",
         "marker": {
          "color": "#00cc96",
          "pattern": {
           "shape": ""
          }
         },
         "name": "Africa",
         "offsetgroup": "Africa",
         "orientation": "v",
         "showlegend": true,
         "textposition": "auto",
         "type": "bar",
         "x": [
          "Africa",
          "Africa",
          "Africa",
          "Africa",
          "Africa",
          "Africa",
          "Africa",
          "Africa",
          "Africa",
          "Africa",
          "Africa",
          "Africa",
          "Africa",
          "Africa",
          "Africa",
          "Africa",
          "Africa",
          "Africa",
          "Africa",
          "Africa",
          "Africa",
          "Africa",
          "Africa",
          "Africa",
          "Africa",
          "Africa",
          "Africa",
          "Africa",
          "Africa",
          "Africa",
          "Africa",
          "Africa",
          "Africa",
          "Africa",
          "Africa",
          "Africa",
          "Africa",
          "Africa",
          "Africa",
          "Africa",
          "Africa",
          "Africa",
          "Africa",
          "Africa",
          "Africa",
          "Africa",
          "Africa",
          "Africa",
          "Africa",
          "Africa",
          "Africa",
          "Africa"
         ],
         "xaxis": "x",
         "y": [
          9279525,
          4232095,
          1738315,
          442308,
          4469979,
          2445618,
          5009067,
          1291695,
          2682462,
          153936,
          14100005,
          854885,
          2977019,
          63149,
          22223309,
          216964,
          1438760,
          20860941,
          420702,
          284320,
          5581001,
          2664249,
          580653,
          6464046,
          748747,
          863308,
          1019729,
          4762912,
          2917802,
          3838168,
          1022556,
          516556,
          9939217,
          6446316,
          485831,
          3379468,
          33119096,
          257700,
          2534927,
          60011,
          2755589,
          2143249,
          2526994,
          14264935,
          8504667,
          290243,
          8322925,
          1219113,
          3647735,
          5824797,
          2672000,
          3080907
         ],
         "yaxis": "y"
        },
        {
         "alignmentgroup": "True",
         "hovertemplate": "continent=%{x}<br>year=1952<br>pop=%{y}<extra></extra>",
         "ids": [
          "Argentina",
          "Bolivia",
          "Brazil",
          "Canada",
          "Chile",
          "Colombia",
          "Costa Rica",
          "Cuba",
          "Dominican Republic",
          "Ecuador",
          "El Salvador",
          "Guatemala",
          "Haiti",
          "Honduras",
          "Jamaica",
          "Mexico",
          "Nicaragua",
          "Panama",
          "Paraguay",
          "Peru",
          "Puerto Rico",
          "Trinidad and Tobago",
          "United States",
          "Uruguay",
          "Venezuela"
         ],
         "legendgroup": "Americas",
         "marker": {
          "color": "#ab63fa",
          "pattern": {
           "shape": ""
          }
         },
         "name": "Americas",
         "offsetgroup": "Americas",
         "orientation": "v",
         "showlegend": true,
         "textposition": "auto",
         "type": "bar",
         "x": [
          "Americas",
          "Americas",
          "Americas",
          "Americas",
          "Americas",
          "Americas",
          "Americas",
          "Americas",
          "Americas",
          "Americas",
          "Americas",
          "Americas",
          "Americas",
          "Americas",
          "Americas",
          "Americas",
          "Americas",
          "Americas",
          "Americas",
          "Americas",
          "Americas",
          "Americas",
          "Americas",
          "Americas",
          "Americas"
         ],
         "xaxis": "x",
         "y": [
          17876956,
          2883315,
          56602560,
          14785584,
          6377619,
          12350771,
          926317,
          6007797,
          2491346,
          3548753,
          2042865,
          3146381,
          3201488,
          1517453,
          1426095,
          30144317,
          1165790,
          940080,
          1555876,
          8025700,
          2227000,
          662850,
          157553000,
          2252965,
          5439568
         ],
         "yaxis": "y"
        },
        {
         "alignmentgroup": "True",
         "hovertemplate": "continent=%{x}<br>year=1952<br>pop=%{y}<extra></extra>",
         "ids": [
          "Australia",
          "New Zealand"
         ],
         "legendgroup": "Oceania",
         "marker": {
          "color": "#FFA15A",
          "pattern": {
           "shape": ""
          }
         },
         "name": "Oceania",
         "offsetgroup": "Oceania",
         "orientation": "v",
         "showlegend": true,
         "textposition": "auto",
         "type": "bar",
         "x": [
          "Oceania",
          "Oceania"
         ],
         "xaxis": "x",
         "y": [
          8691212,
          1994794
         ],
         "yaxis": "y"
        }
       ],
       "frames": [
        {
         "data": [
          {
           "alignmentgroup": "True",
           "hovertemplate": "continent=%{x}<br>year=1952<br>pop=%{y}<extra></extra>",
           "ids": [
            "Afghanistan",
            "Bahrain",
            "Bangladesh",
            "Cambodia",
            "China",
            "Hong Kong, China",
            "India",
            "Indonesia",
            "Iran",
            "Iraq",
            "Israel",
            "Japan",
            "Jordan",
            "Korea, Dem. Rep.",
            "Korea, Rep.",
            "Kuwait",
            "Lebanon",
            "Malaysia",
            "Mongolia",
            "Myanmar",
            "Nepal",
            "Oman",
            "Pakistan",
            "Philippines",
            "Saudi Arabia",
            "Singapore",
            "Sri Lanka",
            "Syria",
            "Taiwan",
            "Thailand",
            "Vietnam",
            "West Bank and Gaza",
            "Yemen, Rep."
           ],
           "legendgroup": "Asia",
           "marker": {
            "color": "#636efa",
            "pattern": {
             "shape": ""
            }
           },
           "name": "Asia",
           "offsetgroup": "Asia",
           "orientation": "v",
           "showlegend": true,
           "textposition": "auto",
           "type": "bar",
           "x": [
            "Asia",
            "Asia",
            "Asia",
            "Asia",
            "Asia",
            "Asia",
            "Asia",
            "Asia",
            "Asia",
            "Asia",
            "Asia",
            "Asia",
            "Asia",
            "Asia",
            "Asia",
            "Asia",
            "Asia",
            "Asia",
            "Asia",
            "Asia",
            "Asia",
            "Asia",
            "Asia",
            "Asia",
            "Asia",
            "Asia",
            "Asia",
            "Asia",
            "Asia",
            "Asia",
            "Asia",
            "Asia",
            "Asia"
           ],
           "xaxis": "x",
           "y": [
            8425333,
            120447,
            46886859,
            4693836,
            556263527,
            2125900,
            372000000,
            82052000,
            17272000,
            5441766,
            1620914,
            86459025,
            607914,
            8865488,
            20947571,
            160000,
            1439529,
            6748378,
            800663,
            20092996,
            9182536,
            507833,
            41346560,
            22438691,
            4005677,
            1127000,
            7982342,
            3661549,
            8550362,
            21289402,
            26246839,
            1030585,
            4963829
           ],
           "yaxis": "y"
          },
          {
           "alignmentgroup": "True",
           "hovertemplate": "continent=%{x}<br>year=1952<br>pop=%{y}<extra></extra>",
           "ids": [
            "Albania",
            "Austria",
            "Belgium",
            "Bosnia and Herzegovina",
            "Bulgaria",
            "Croatia",
            "Czech Republic",
            "Denmark",
            "Finland",
            "France",
            "Germany",
            "Greece",
            "Hungary",
            "Iceland",
            "Ireland",
            "Italy",
            "Montenegro",
            "Netherlands",
            "Norway",
            "Poland",
            "Portugal",
            "Romania",
            "Serbia",
            "Slovak Republic",
            "Slovenia",
            "Spain",
            "Sweden",
            "Switzerland",
            "Turkey",
            "United Kingdom"
           ],
           "legendgroup": "Europe",
           "marker": {
            "color": "#EF553B",
            "pattern": {
             "shape": ""
            }
           },
           "name": "Europe",
           "offsetgroup": "Europe",
           "orientation": "v",
           "showlegend": true,
           "textposition": "auto",
           "type": "bar",
           "x": [
            "Europe",
            "Europe",
            "Europe",
            "Europe",
            "Europe",
            "Europe",
            "Europe",
            "Europe",
            "Europe",
            "Europe",
            "Europe",
            "Europe",
            "Europe",
            "Europe",
            "Europe",
            "Europe",
            "Europe",
            "Europe",
            "Europe",
            "Europe",
            "Europe",
            "Europe",
            "Europe",
            "Europe",
            "Europe",
            "Europe",
            "Europe",
            "Europe",
            "Europe",
            "Europe"
           ],
           "xaxis": "x",
           "y": [
            1282697,
            6927772,
            8730405,
            2791000,
            7274900,
            3882229,
            9125183,
            4334000,
            4090500,
            42459667,
            69145952,
            7733250,
            9504000,
            147962,
            2952156,
            47666000,
            413834,
            10381988,
            3327728,
            25730551,
            8526050,
            16630000,
            6860147,
            3558137,
            1489518,
            28549870,
            7124673,
            4815000,
            22235677,
            50430000
           ],
           "yaxis": "y"
          },
          {
           "alignmentgroup": "True",
           "hovertemplate": "continent=%{x}<br>year=1952<br>pop=%{y}<extra></extra>",
           "ids": [
            "Algeria",
            "Angola",
            "Benin",
            "Botswana",
            "Burkina Faso",
            "Burundi",
            "Cameroon",
            "Central African Republic",
            "Chad",
            "Comoros",
            "Congo, Dem. Rep.",
            "Congo, Rep.",
            "Cote d'Ivoire",
            "Djibouti",
            "Egypt",
            "Equatorial Guinea",
            "Eritrea",
            "Ethiopia",
            "Gabon",
            "Gambia",
            "Ghana",
            "Guinea",
            "Guinea-Bissau",
            "Kenya",
            "Lesotho",
            "Liberia",
            "Libya",
            "Madagascar",
            "Malawi",
            "Mali",
            "Mauritania",
            "Mauritius",
            "Morocco",
            "Mozambique",
            "Namibia",
            "Niger",
            "Nigeria",
            "Reunion",
            "Rwanda",
            "Sao Tome and Principe",
            "Senegal",
            "Sierra Leone",
            "Somalia",
            "South Africa",
            "Sudan",
            "Swaziland",
            "Tanzania",
            "Togo",
            "Tunisia",
            "Uganda",
            "Zambia",
            "Zimbabwe"
           ],
           "legendgroup": "Africa",
           "marker": {
            "color": "#00cc96",
            "pattern": {
             "shape": ""
            }
           },
           "name": "Africa",
           "offsetgroup": "Africa",
           "orientation": "v",
           "showlegend": true,
           "textposition": "auto",
           "type": "bar",
           "x": [
            "Africa",
            "Africa",
            "Africa",
            "Africa",
            "Africa",
            "Africa",
            "Africa",
            "Africa",
            "Africa",
            "Africa",
            "Africa",
            "Africa",
            "Africa",
            "Africa",
            "Africa",
            "Africa",
            "Africa",
            "Africa",
            "Africa",
            "Africa",
            "Africa",
            "Africa",
            "Africa",
            "Africa",
            "Africa",
            "Africa",
            "Africa",
            "Africa",
            "Africa",
            "Africa",
            "Africa",
            "Africa",
            "Africa",
            "Africa",
            "Africa",
            "Africa",
            "Africa",
            "Africa",
            "Africa",
            "Africa",
            "Africa",
            "Africa",
            "Africa",
            "Africa",
            "Africa",
            "Africa",
            "Africa",
            "Africa",
            "Africa",
            "Africa",
            "Africa",
            "Africa"
           ],
           "xaxis": "x",
           "y": [
            9279525,
            4232095,
            1738315,
            442308,
            4469979,
            2445618,
            5009067,
            1291695,
            2682462,
            153936,
            14100005,
            854885,
            2977019,
            63149,
            22223309,
            216964,
            1438760,
            20860941,
            420702,
            284320,
            5581001,
            2664249,
            580653,
            6464046,
            748747,
            863308,
            1019729,
            4762912,
            2917802,
            3838168,
            1022556,
            516556,
            9939217,
            6446316,
            485831,
            3379468,
            33119096,
            257700,
            2534927,
            60011,
            2755589,
            2143249,
            2526994,
            14264935,
            8504667,
            290243,
            8322925,
            1219113,
            3647735,
            5824797,
            2672000,
            3080907
           ],
           "yaxis": "y"
          },
          {
           "alignmentgroup": "True",
           "hovertemplate": "continent=%{x}<br>year=1952<br>pop=%{y}<extra></extra>",
           "ids": [
            "Argentina",
            "Bolivia",
            "Brazil",
            "Canada",
            "Chile",
            "Colombia",
            "Costa Rica",
            "Cuba",
            "Dominican Republic",
            "Ecuador",
            "El Salvador",
            "Guatemala",
            "Haiti",
            "Honduras",
            "Jamaica",
            "Mexico",
            "Nicaragua",
            "Panama",
            "Paraguay",
            "Peru",
            "Puerto Rico",
            "Trinidad and Tobago",
            "United States",
            "Uruguay",
            "Venezuela"
           ],
           "legendgroup": "Americas",
           "marker": {
            "color": "#ab63fa",
            "pattern": {
             "shape": ""
            }
           },
           "name": "Americas",
           "offsetgroup": "Americas",
           "orientation": "v",
           "showlegend": true,
           "textposition": "auto",
           "type": "bar",
           "x": [
            "Americas",
            "Americas",
            "Americas",
            "Americas",
            "Americas",
            "Americas",
            "Americas",
            "Americas",
            "Americas",
            "Americas",
            "Americas",
            "Americas",
            "Americas",
            "Americas",
            "Americas",
            "Americas",
            "Americas",
            "Americas",
            "Americas",
            "Americas",
            "Americas",
            "Americas",
            "Americas",
            "Americas",
            "Americas"
           ],
           "xaxis": "x",
           "y": [
            17876956,
            2883315,
            56602560,
            14785584,
            6377619,
            12350771,
            926317,
            6007797,
            2491346,
            3548753,
            2042865,
            3146381,
            3201488,
            1517453,
            1426095,
            30144317,
            1165790,
            940080,
            1555876,
            8025700,
            2227000,
            662850,
            157553000,
            2252965,
            5439568
           ],
           "yaxis": "y"
          },
          {
           "alignmentgroup": "True",
           "hovertemplate": "continent=%{x}<br>year=1952<br>pop=%{y}<extra></extra>",
           "ids": [
            "Australia",
            "New Zealand"
           ],
           "legendgroup": "Oceania",
           "marker": {
            "color": "#FFA15A",
            "pattern": {
             "shape": ""
            }
           },
           "name": "Oceania",
           "offsetgroup": "Oceania",
           "orientation": "v",
           "showlegend": true,
           "textposition": "auto",
           "type": "bar",
           "x": [
            "Oceania",
            "Oceania"
           ],
           "xaxis": "x",
           "y": [
            8691212,
            1994794
           ],
           "yaxis": "y"
          }
         ],
         "name": "1952"
        },
        {
         "data": [
          {
           "alignmentgroup": "True",
           "hovertemplate": "continent=%{x}<br>year=1957<br>pop=%{y}<extra></extra>",
           "ids": [
            "Afghanistan",
            "Bahrain",
            "Bangladesh",
            "Cambodia",
            "China",
            "Hong Kong, China",
            "India",
            "Indonesia",
            "Iran",
            "Iraq",
            "Israel",
            "Japan",
            "Jordan",
            "Korea, Dem. Rep.",
            "Korea, Rep.",
            "Kuwait",
            "Lebanon",
            "Malaysia",
            "Mongolia",
            "Myanmar",
            "Nepal",
            "Oman",
            "Pakistan",
            "Philippines",
            "Saudi Arabia",
            "Singapore",
            "Sri Lanka",
            "Syria",
            "Taiwan",
            "Thailand",
            "Vietnam",
            "West Bank and Gaza",
            "Yemen, Rep."
           ],
           "legendgroup": "Asia",
           "marker": {
            "color": "#636efa",
            "pattern": {
             "shape": ""
            }
           },
           "name": "Asia",
           "offsetgroup": "Asia",
           "orientation": "v",
           "showlegend": true,
           "textposition": "auto",
           "type": "bar",
           "x": [
            "Asia",
            "Asia",
            "Asia",
            "Asia",
            "Asia",
            "Asia",
            "Asia",
            "Asia",
            "Asia",
            "Asia",
            "Asia",
            "Asia",
            "Asia",
            "Asia",
            "Asia",
            "Asia",
            "Asia",
            "Asia",
            "Asia",
            "Asia",
            "Asia",
            "Asia",
            "Asia",
            "Asia",
            "Asia",
            "Asia",
            "Asia",
            "Asia",
            "Asia",
            "Asia",
            "Asia",
            "Asia",
            "Asia"
           ],
           "xaxis": "x",
           "y": [
            9240934,
            138655,
            51365468,
            5322536,
            637408000,
            2736300,
            409000000,
            90124000,
            19792000,
            6248643,
            1944401,
            91563009,
            746559,
            9411381,
            22611552,
            212846,
            1647412,
            7739235,
            882134,
            21731844,
            9682338,
            561977,
            46679944,
            26072194,
            4419650,
            1445929,
            9128546,
            4149908,
            10164215,
            25041917,
            28998543,
            1070439,
            5498090
           ],
           "yaxis": "y"
          },
          {
           "alignmentgroup": "True",
           "hovertemplate": "continent=%{x}<br>year=1957<br>pop=%{y}<extra></extra>",
           "ids": [
            "Albania",
            "Austria",
            "Belgium",
            "Bosnia and Herzegovina",
            "Bulgaria",
            "Croatia",
            "Czech Republic",
            "Denmark",
            "Finland",
            "France",
            "Germany",
            "Greece",
            "Hungary",
            "Iceland",
            "Ireland",
            "Italy",
            "Montenegro",
            "Netherlands",
            "Norway",
            "Poland",
            "Portugal",
            "Romania",
            "Serbia",
            "Slovak Republic",
            "Slovenia",
            "Spain",
            "Sweden",
            "Switzerland",
            "Turkey",
            "United Kingdom"
           ],
           "legendgroup": "Europe",
           "marker": {
            "color": "#EF553B",
            "pattern": {
             "shape": ""
            }
           },
           "name": "Europe",
           "offsetgroup": "Europe",
           "orientation": "v",
           "showlegend": true,
           "textposition": "auto",
           "type": "bar",
           "x": [
            "Europe",
            "Europe",
            "Europe",
            "Europe",
            "Europe",
            "Europe",
            "Europe",
            "Europe",
            "Europe",
            "Europe",
            "Europe",
            "Europe",
            "Europe",
            "Europe",
            "Europe",
            "Europe",
            "Europe",
            "Europe",
            "Europe",
            "Europe",
            "Europe",
            "Europe",
            "Europe",
            "Europe",
            "Europe",
            "Europe",
            "Europe",
            "Europe",
            "Europe",
            "Europe"
           ],
           "xaxis": "x",
           "y": [
            1476505,
            6965860,
            8989111,
            3076000,
            7651254,
            3991242,
            9513758,
            4487831,
            4324000,
            44310863,
            71019069,
            8096218,
            9839000,
            165110,
            2878220,
            49182000,
            442829,
            11026383,
            3491938,
            28235346,
            8817650,
            17829327,
            7271135,
            3844277,
            1533070,
            29841614,
            7363802,
            5126000,
            25670939,
            51430000
           ],
           "yaxis": "y"
          },
          {
           "alignmentgroup": "True",
           "hovertemplate": "continent=%{x}<br>year=1957<br>pop=%{y}<extra></extra>",
           "ids": [
            "Algeria",
            "Angola",
            "Benin",
            "Botswana",
            "Burkina Faso",
            "Burundi",
            "Cameroon",
            "Central African Republic",
            "Chad",
            "Comoros",
            "Congo, Dem. Rep.",
            "Congo, Rep.",
            "Cote d'Ivoire",
            "Djibouti",
            "Egypt",
            "Equatorial Guinea",
            "Eritrea",
            "Ethiopia",
            "Gabon",
            "Gambia",
            "Ghana",
            "Guinea",
            "Guinea-Bissau",
            "Kenya",
            "Lesotho",
            "Liberia",
            "Libya",
            "Madagascar",
            "Malawi",
            "Mali",
            "Mauritania",
            "Mauritius",
            "Morocco",
            "Mozambique",
            "Namibia",
            "Niger",
            "Nigeria",
            "Reunion",
            "Rwanda",
            "Sao Tome and Principe",
            "Senegal",
            "Sierra Leone",
            "Somalia",
            "South Africa",
            "Sudan",
            "Swaziland",
            "Tanzania",
            "Togo",
            "Tunisia",
            "Uganda",
            "Zambia",
            "Zimbabwe"
           ],
           "legendgroup": "Africa",
           "marker": {
            "color": "#00cc96",
            "pattern": {
             "shape": ""
            }
           },
           "name": "Africa",
           "offsetgroup": "Africa",
           "orientation": "v",
           "showlegend": true,
           "textposition": "auto",
           "type": "bar",
           "x": [
            "Africa",
            "Africa",
            "Africa",
            "Africa",
            "Africa",
            "Africa",
            "Africa",
            "Africa",
            "Africa",
            "Africa",
            "Africa",
            "Africa",
            "Africa",
            "Africa",
            "Africa",
            "Africa",
            "Africa",
            "Africa",
            "Africa",
            "Africa",
            "Africa",
            "Africa",
            "Africa",
            "Africa",
            "Africa",
            "Africa",
            "Africa",
            "Africa",
            "Africa",
            "Africa",
            "Africa",
            "Africa",
            "Africa",
            "Africa",
            "Africa",
            "Africa",
            "Africa",
            "Africa",
            "Africa",
            "Africa",
            "Africa",
            "Africa",
            "Africa",
            "Africa",
            "Africa",
            "Africa",
            "Africa",
            "Africa",
            "Africa",
            "Africa",
            "Africa",
            "Africa"
           ],
           "xaxis": "x",
           "y": [
            10270856,
            4561361,
            1925173,
            474639,
            4713416,
            2667518,
            5359923,
            1392284,
            2894855,
            170928,
            15577932,
            940458,
            3300000,
            71851,
            25009741,
            232922,
            1542611,
            22815614,
            434904,
            323150,
            6391288,
            2876726,
            601095,
            7454779,
            813338,
            975950,
            1201578,
            5181679,
            3221238,
            4241884,
            1076852,
            609816,
            11406350,
            7038035,
            548080,
            3692184,
            37173340,
            308700,
            2822082,
            61325,
            3054547,
            2295678,
            2780415,
            16151549,
            9753392,
            326741,
            9452826,
            1357445,
            3950849,
            6675501,
            3016000,
            3646340
           ],
           "yaxis": "y"
          },
          {
           "alignmentgroup": "True",
           "hovertemplate": "continent=%{x}<br>year=1957<br>pop=%{y}<extra></extra>",
           "ids": [
            "Argentina",
            "Bolivia",
            "Brazil",
            "Canada",
            "Chile",
            "Colombia",
            "Costa Rica",
            "Cuba",
            "Dominican Republic",
            "Ecuador",
            "El Salvador",
            "Guatemala",
            "Haiti",
            "Honduras",
            "Jamaica",
            "Mexico",
            "Nicaragua",
            "Panama",
            "Paraguay",
            "Peru",
            "Puerto Rico",
            "Trinidad and Tobago",
            "United States",
            "Uruguay",
            "Venezuela"
           ],
           "legendgroup": "Americas",
           "marker": {
            "color": "#ab63fa",
            "pattern": {
             "shape": ""
            }
           },
           "name": "Americas",
           "offsetgroup": "Americas",
           "orientation": "v",
           "showlegend": true,
           "textposition": "auto",
           "type": "bar",
           "x": [
            "Americas",
            "Americas",
            "Americas",
            "Americas",
            "Americas",
            "Americas",
            "Americas",
            "Americas",
            "Americas",
            "Americas",
            "Americas",
            "Americas",
            "Americas",
            "Americas",
            "Americas",
            "Americas",
            "Americas",
            "Americas",
            "Americas",
            "Americas",
            "Americas",
            "Americas",
            "Americas",
            "Americas",
            "Americas"
           ],
           "xaxis": "x",
           "y": [
            19610538,
            3211738,
            65551171,
            17010154,
            7048426,
            14485993,
            1112300,
            6640752,
            2923186,
            4058385,
            2355805,
            3640876,
            3507701,
            1770390,
            1535090,
            35015548,
            1358828,
            1063506,
            1770902,
            9146100,
            2260000,
            764900,
            171984000,
            2424959,
            6702668
           ],
           "yaxis": "y"
          },
          {
           "alignmentgroup": "True",
           "hovertemplate": "continent=%{x}<br>year=1957<br>pop=%{y}<extra></extra>",
           "ids": [
            "Australia",
            "New Zealand"
           ],
           "legendgroup": "Oceania",
           "marker": {
            "color": "#FFA15A",
            "pattern": {
             "shape": ""
            }
           },
           "name": "Oceania",
           "offsetgroup": "Oceania",
           "orientation": "v",
           "showlegend": true,
           "textposition": "auto",
           "type": "bar",
           "x": [
            "Oceania",
            "Oceania"
           ],
           "xaxis": "x",
           "y": [
            9712569,
            2229407
           ],
           "yaxis": "y"
          }
         ],
         "name": "1957"
        },
        {
         "data": [
          {
           "alignmentgroup": "True",
           "hovertemplate": "continent=%{x}<br>year=1962<br>pop=%{y}<extra></extra>",
           "ids": [
            "Afghanistan",
            "Bahrain",
            "Bangladesh",
            "Cambodia",
            "China",
            "Hong Kong, China",
            "India",
            "Indonesia",
            "Iran",
            "Iraq",
            "Israel",
            "Japan",
            "Jordan",
            "Korea, Dem. Rep.",
            "Korea, Rep.",
            "Kuwait",
            "Lebanon",
            "Malaysia",
            "Mongolia",
            "Myanmar",
            "Nepal",
            "Oman",
            "Pakistan",
            "Philippines",
            "Saudi Arabia",
            "Singapore",
            "Sri Lanka",
            "Syria",
            "Taiwan",
            "Thailand",
            "Vietnam",
            "West Bank and Gaza",
            "Yemen, Rep."
           ],
           "legendgroup": "Asia",
           "marker": {
            "color": "#636efa",
            "pattern": {
             "shape": ""
            }
           },
           "name": "Asia",
           "offsetgroup": "Asia",
           "orientation": "v",
           "showlegend": true,
           "textposition": "auto",
           "type": "bar",
           "x": [
            "Asia",
            "Asia",
            "Asia",
            "Asia",
            "Asia",
            "Asia",
            "Asia",
            "Asia",
            "Asia",
            "Asia",
            "Asia",
            "Asia",
            "Asia",
            "Asia",
            "Asia",
            "Asia",
            "Asia",
            "Asia",
            "Asia",
            "Asia",
            "Asia",
            "Asia",
            "Asia",
            "Asia",
            "Asia",
            "Asia",
            "Asia",
            "Asia",
            "Asia",
            "Asia",
            "Asia",
            "Asia",
            "Asia"
           ],
           "xaxis": "x",
           "y": [
            10267083,
            171863,
            56839289,
            6083619,
            665770000,
            3305200,
            454000000,
            99028000,
            22874000,
            7240260,
            2310904,
            95831757,
            933559,
            10917494,
            26420307,
            358266,
            1886848,
            8906385,
            1010280,
            23634436,
            10332057,
            628164,
            53100671,
            30325264,
            4943029,
            1750200,
            10421936,
            4834621,
            11918938,
            29263397,
            33796140,
            1133134,
            6120081
           ],
           "yaxis": "y"
          },
          {
           "alignmentgroup": "True",
           "hovertemplate": "continent=%{x}<br>year=1962<br>pop=%{y}<extra></extra>",
           "ids": [
            "Albania",
            "Austria",
            "Belgium",
            "Bosnia and Herzegovina",
            "Bulgaria",
            "Croatia",
            "Czech Republic",
            "Denmark",
            "Finland",
            "France",
            "Germany",
            "Greece",
            "Hungary",
            "Iceland",
            "Ireland",
            "Italy",
            "Montenegro",
            "Netherlands",
            "Norway",
            "Poland",
            "Portugal",
            "Romania",
            "Serbia",
            "Slovak Republic",
            "Slovenia",
            "Spain",
            "Sweden",
            "Switzerland",
            "Turkey",
            "United Kingdom"
           ],
           "legendgroup": "Europe",
           "marker": {
            "color": "#EF553B",
            "pattern": {
             "shape": ""
            }
           },
           "name": "Europe",
           "offsetgroup": "Europe",
           "orientation": "v",
           "showlegend": true,
           "textposition": "auto",
           "type": "bar",
           "x": [
            "Europe",
            "Europe",
            "Europe",
            "Europe",
            "Europe",
            "Europe",
            "Europe",
            "Europe",
            "Europe",
            "Europe",
            "Europe",
            "Europe",
            "Europe",
            "Europe",
            "Europe",
            "Europe",
            "Europe",
            "Europe",
            "Europe",
            "Europe",
            "Europe",
            "Europe",
            "Europe",
            "Europe",
            "Europe",
            "Europe",
            "Europe",
            "Europe",
            "Europe",
            "Europe"
           ],
           "xaxis": "x",
           "y": [
            1728137,
            7129864,
            9218400,
            3349000,
            8012946,
            4076557,
            9620282,
            4646899,
            4491443,
            47124000,
            73739117,
            8448233,
            10063000,
            182053,
            2830000,
            50843200,
            474528,
            11805689,
            3638919,
            30329617,
            9019800,
            18680721,
            7616060,
            4237384,
            1582962,
            31158061,
            7561588,
            5666000,
            29788695,
            53292000
           ],
           "yaxis": "y"
          },
          {
           "alignmentgroup": "True",
           "hovertemplate": "continent=%{x}<br>year=1962<br>pop=%{y}<extra></extra>",
           "ids": [
            "Algeria",
            "Angola",
            "Benin",
            "Botswana",
            "Burkina Faso",
            "Burundi",
            "Cameroon",
            "Central African Republic",
            "Chad",
            "Comoros",
            "Congo, Dem. Rep.",
            "Congo, Rep.",
            "Cote d'Ivoire",
            "Djibouti",
            "Egypt",
            "Equatorial Guinea",
            "Eritrea",
            "Ethiopia",
            "Gabon",
            "Gambia",
            "Ghana",
            "Guinea",
            "Guinea-Bissau",
            "Kenya",
            "Lesotho",
            "Liberia",
            "Libya",
            "Madagascar",
            "Malawi",
            "Mali",
            "Mauritania",
            "Mauritius",
            "Morocco",
            "Mozambique",
            "Namibia",
            "Niger",
            "Nigeria",
            "Reunion",
            "Rwanda",
            "Sao Tome and Principe",
            "Senegal",
            "Sierra Leone",
            "Somalia",
            "South Africa",
            "Sudan",
            "Swaziland",
            "Tanzania",
            "Togo",
            "Tunisia",
            "Uganda",
            "Zambia",
            "Zimbabwe"
           ],
           "legendgroup": "Africa",
           "marker": {
            "color": "#00cc96",
            "pattern": {
             "shape": ""
            }
           },
           "name": "Africa",
           "offsetgroup": "Africa",
           "orientation": "v",
           "showlegend": true,
           "textposition": "auto",
           "type": "bar",
           "x": [
            "Africa",
            "Africa",
            "Africa",
            "Africa",
            "Africa",
            "Africa",
            "Africa",
            "Africa",
            "Africa",
            "Africa",
            "Africa",
            "Africa",
            "Africa",
            "Africa",
            "Africa",
            "Africa",
            "Africa",
            "Africa",
            "Africa",
            "Africa",
            "Africa",
            "Africa",
            "Africa",
            "Africa",
            "Africa",
            "Africa",
            "Africa",
            "Africa",
            "Africa",
            "Africa",
            "Africa",
            "Africa",
            "Africa",
            "Africa",
            "Africa",
            "Africa",
            "Africa",
            "Africa",
            "Africa",
            "Africa",
            "Africa",
            "Africa",
            "Africa",
            "Africa",
            "Africa",
            "Africa",
            "Africa",
            "Africa",
            "Africa",
            "Africa",
            "Africa",
            "Africa"
           ],
           "xaxis": "x",
           "y": [
            11000948,
            4826015,
            2151895,
            512764,
            4919632,
            2961915,
            5793633,
            1523478,
            3150417,
            191689,
            17486434,
            1047924,
            3832408,
            89898,
            28173309,
            249220,
            1666618,
            25145372,
            455661,
            374020,
            7355248,
            3140003,
            627820,
            8678557,
            893143,
            1112796,
            1441863,
            5703324,
            3628608,
            4690372,
            1146757,
            701016,
            13056604,
            7788944,
            621392,
            4076008,
            41871351,
            358900,
            3051242,
            65345,
            3430243,
            2467895,
            3080153,
            18356657,
            11183227,
            370006,
            10863958,
            1528098,
            4286552,
            7688797,
            3421000,
            4277736
           ],
           "yaxis": "y"
          },
          {
           "alignmentgroup": "True",
           "hovertemplate": "continent=%{x}<br>year=1962<br>pop=%{y}<extra></extra>",
           "ids": [
            "Argentina",
            "Bolivia",
            "Brazil",
            "Canada",
            "Chile",
            "Colombia",
            "Costa Rica",
            "Cuba",
            "Dominican Republic",
            "Ecuador",
            "El Salvador",
            "Guatemala",
            "Haiti",
            "Honduras",
            "Jamaica",
            "Mexico",
            "Nicaragua",
            "Panama",
            "Paraguay",
            "Peru",
            "Puerto Rico",
            "Trinidad and Tobago",
            "United States",
            "Uruguay",
            "Venezuela"
           ],
           "legendgroup": "Americas",
           "marker": {
            "color": "#ab63fa",
            "pattern": {
             "shape": ""
            }
           },
           "name": "Americas",
           "offsetgroup": "Americas",
           "orientation": "v",
           "showlegend": true,
           "textposition": "auto",
           "type": "bar",
           "x": [
            "Americas",
            "Americas",
            "Americas",
            "Americas",
            "Americas",
            "Americas",
            "Americas",
            "Americas",
            "Americas",
            "Americas",
            "Americas",
            "Americas",
            "Americas",
            "Americas",
            "Americas",
            "Americas",
            "Americas",
            "Americas",
            "Americas",
            "Americas",
            "Americas",
            "Americas",
            "Americas",
            "Americas",
            "Americas"
           ],
           "xaxis": "x",
           "y": [
            21283783,
            3593918,
            76039390,
            18985849,
            7961258,
            17009885,
            1345187,
            7254373,
            3453434,
            4681707,
            2747687,
            4208858,
            3880130,
            2090162,
            1665128,
            41121485,
            1590597,
            1215725,
            2009813,
            10516500,
            2448046,
            887498,
            186538000,
            2598466,
            8143375
           ],
           "yaxis": "y"
          },
          {
           "alignmentgroup": "True",
           "hovertemplate": "continent=%{x}<br>year=1962<br>pop=%{y}<extra></extra>",
           "ids": [
            "Australia",
            "New Zealand"
           ],
           "legendgroup": "Oceania",
           "marker": {
            "color": "#FFA15A",
            "pattern": {
             "shape": ""
            }
           },
           "name": "Oceania",
           "offsetgroup": "Oceania",
           "orientation": "v",
           "showlegend": true,
           "textposition": "auto",
           "type": "bar",
           "x": [
            "Oceania",
            "Oceania"
           ],
           "xaxis": "x",
           "y": [
            10794968,
            2488550
           ],
           "yaxis": "y"
          }
         ],
         "name": "1962"
        },
        {
         "data": [
          {
           "alignmentgroup": "True",
           "hovertemplate": "continent=%{x}<br>year=1967<br>pop=%{y}<extra></extra>",
           "ids": [
            "Afghanistan",
            "Bahrain",
            "Bangladesh",
            "Cambodia",
            "China",
            "Hong Kong, China",
            "India",
            "Indonesia",
            "Iran",
            "Iraq",
            "Israel",
            "Japan",
            "Jordan",
            "Korea, Dem. Rep.",
            "Korea, Rep.",
            "Kuwait",
            "Lebanon",
            "Malaysia",
            "Mongolia",
            "Myanmar",
            "Nepal",
            "Oman",
            "Pakistan",
            "Philippines",
            "Saudi Arabia",
            "Singapore",
            "Sri Lanka",
            "Syria",
            "Taiwan",
            "Thailand",
            "Vietnam",
            "West Bank and Gaza",
            "Yemen, Rep."
           ],
           "legendgroup": "Asia",
           "marker": {
            "color": "#636efa",
            "pattern": {
             "shape": ""
            }
           },
           "name": "Asia",
           "offsetgroup": "Asia",
           "orientation": "v",
           "showlegend": true,
           "textposition": "auto",
           "type": "bar",
           "x": [
            "Asia",
            "Asia",
            "Asia",
            "Asia",
            "Asia",
            "Asia",
            "Asia",
            "Asia",
            "Asia",
            "Asia",
            "Asia",
            "Asia",
            "Asia",
            "Asia",
            "Asia",
            "Asia",
            "Asia",
            "Asia",
            "Asia",
            "Asia",
            "Asia",
            "Asia",
            "Asia",
            "Asia",
            "Asia",
            "Asia",
            "Asia",
            "Asia",
            "Asia",
            "Asia",
            "Asia",
            "Asia",
            "Asia"
           ],
           "xaxis": "x",
           "y": [
            11537966,
            202182,
            62821884,
            6960067,
            754550000,
            3722800,
            506000000,
            109343000,
            26538000,
            8519282,
            2693585,
            100825279,
            1255058,
            12617009,
            30131000,
            575003,
            2186894,
            10154878,
            1149500,
            25870271,
            11261690,
            714775,
            60641899,
            35356600,
            5618198,
            1977600,
            11737396,
            5680812,
            13648692,
            34024249,
            39463910,
            1142636,
            6740785
           ],
           "yaxis": "y"
          },
          {
           "alignmentgroup": "True",
           "hovertemplate": "continent=%{x}<br>year=1967<br>pop=%{y}<extra></extra>",
           "ids": [
            "Albania",
            "Austria",
            "Belgium",
            "Bosnia and Herzegovina",
            "Bulgaria",
            "Croatia",
            "Czech Republic",
            "Denmark",
            "Finland",
            "France",
            "Germany",
            "Greece",
            "Hungary",
            "Iceland",
            "Ireland",
            "Italy",
            "Montenegro",
            "Netherlands",
            "Norway",
            "Poland",
            "Portugal",
            "Romania",
            "Serbia",
            "Slovak Republic",
            "Slovenia",
            "Spain",
            "Sweden",
            "Switzerland",
            "Turkey",
            "United Kingdom"
           ],
           "legendgroup": "Europe",
           "marker": {
            "color": "#EF553B",
            "pattern": {
             "shape": ""
            }
           },
           "name": "Europe",
           "offsetgroup": "Europe",
           "orientation": "v",
           "showlegend": true,
           "textposition": "auto",
           "type": "bar",
           "x": [
            "Europe",
            "Europe",
            "Europe",
            "Europe",
            "Europe",
            "Europe",
            "Europe",
            "Europe",
            "Europe",
            "Europe",
            "Europe",
            "Europe",
            "Europe",
            "Europe",
            "Europe",
            "Europe",
            "Europe",
            "Europe",
            "Europe",
            "Europe",
            "Europe",
            "Europe",
            "Europe",
            "Europe",
            "Europe",
            "Europe",
            "Europe",
            "Europe",
            "Europe",
            "Europe"
           ],
           "xaxis": "x",
           "y": [
            1984060,
            7376998,
            9556500,
            3585000,
            8310226,
            4174366,
            9835109,
            4838800,
            4605744,
            49569000,
            76368453,
            8716441,
            10223422,
            198676,
            2900100,
            52667100,
            501035,
            12596822,
            3786019,
            31785378,
            9103000,
            19284814,
            7971222,
            4442238,
            1646912,
            32850275,
            7867931,
            6063000,
            33411317,
            54959000
           ],
           "yaxis": "y"
          },
          {
           "alignmentgroup": "True",
           "hovertemplate": "continent=%{x}<br>year=1967<br>pop=%{y}<extra></extra>",
           "ids": [
            "Algeria",
            "Angola",
            "Benin",
            "Botswana",
            "Burkina Faso",
            "Burundi",
            "Cameroon",
            "Central African Republic",
            "Chad",
            "Comoros",
            "Congo, Dem. Rep.",
            "Congo, Rep.",
            "Cote d'Ivoire",
            "Djibouti",
            "Egypt",
            "Equatorial Guinea",
            "Eritrea",
            "Ethiopia",
            "Gabon",
            "Gambia",
            "Ghana",
            "Guinea",
            "Guinea-Bissau",
            "Kenya",
            "Lesotho",
            "Liberia",
            "Libya",
            "Madagascar",
            "Malawi",
            "Mali",
            "Mauritania",
            "Mauritius",
            "Morocco",
            "Mozambique",
            "Namibia",
            "Niger",
            "Nigeria",
            "Reunion",
            "Rwanda",
            "Sao Tome and Principe",
            "Senegal",
            "Sierra Leone",
            "Somalia",
            "South Africa",
            "Sudan",
            "Swaziland",
            "Tanzania",
            "Togo",
            "Tunisia",
            "Uganda",
            "Zambia",
            "Zimbabwe"
           ],
           "legendgroup": "Africa",
           "marker": {
            "color": "#00cc96",
            "pattern": {
             "shape": ""
            }
           },
           "name": "Africa",
           "offsetgroup": "Africa",
           "orientation": "v",
           "showlegend": true,
           "textposition": "auto",
           "type": "bar",
           "x": [
            "Africa",
            "Africa",
            "Africa",
            "Africa",
            "Africa",
            "Africa",
            "Africa",
            "Africa",
            "Africa",
            "Africa",
            "Africa",
            "Africa",
            "Africa",
            "Africa",
            "Africa",
            "Africa",
            "Africa",
            "Africa",
            "Africa",
            "Africa",
            "Africa",
            "Africa",
            "Africa",
            "Africa",
            "Africa",
            "Africa",
            "Africa",
            "Africa",
            "Africa",
            "Africa",
            "Africa",
            "Africa",
            "Africa",
            "Africa",
            "Africa",
            "Africa",
            "Africa",
            "Africa",
            "Africa",
            "Africa",
            "Africa",
            "Africa",
            "Africa",
            "Africa",
            "Africa",
            "Africa",
            "Africa",
            "Africa",
            "Africa",
            "Africa",
            "Africa",
            "Africa"
           ],
           "xaxis": "x",
           "y": [
            12760499,
            5247469,
            2427334,
            553541,
            5127935,
            3330989,
            6335506,
            1733638,
            3495967,
            217378,
            19941073,
            1179760,
            4744870,
            127617,
            31681188,
            259864,
            1820319,
            27860297,
            489004,
            439593,
            8490213,
            3451418,
            601287,
            10191512,
            996380,
            1279406,
            1759224,
            6334556,
            4147252,
            5212416,
            1230542,
            789309,
            14770296,
            8680909,
            706640,
            4534062,
            47287752,
            414024,
            3451079,
            70787,
            3965841,
            2662190,
            3428839,
            20997321,
            12716129,
            420690,
            12607312,
            1735550,
            4786986,
            8900294,
            3900000,
            4995432
           ],
           "yaxis": "y"
          },
          {
           "alignmentgroup": "True",
           "hovertemplate": "continent=%{x}<br>year=1967<br>pop=%{y}<extra></extra>",
           "ids": [
            "Argentina",
            "Bolivia",
            "Brazil",
            "Canada",
            "Chile",
            "Colombia",
            "Costa Rica",
            "Cuba",
            "Dominican Republic",
            "Ecuador",
            "El Salvador",
            "Guatemala",
            "Haiti",
            "Honduras",
            "Jamaica",
            "Mexico",
            "Nicaragua",
            "Panama",
            "Paraguay",
            "Peru",
            "Puerto Rico",
            "Trinidad and Tobago",
            "United States",
            "Uruguay",
            "Venezuela"
           ],
           "legendgroup": "Americas",
           "marker": {
            "color": "#ab63fa",
            "pattern": {
             "shape": ""
            }
           },
           "name": "Americas",
           "offsetgroup": "Americas",
           "orientation": "v",
           "showlegend": true,
           "textposition": "auto",
           "type": "bar",
           "x": [
            "Americas",
            "Americas",
            "Americas",
            "Americas",
            "Americas",
            "Americas",
            "Americas",
            "Americas",
            "Americas",
            "Americas",
            "Americas",
            "Americas",
            "Americas",
            "Americas",
            "Americas",
            "Americas",
            "Americas",
            "Americas",
            "Americas",
            "Americas",
            "Americas",
            "Americas",
            "Americas",
            "Americas",
            "Americas"
           ],
           "xaxis": "x",
           "y": [
            22934225,
            4040665,
            88049823,
            20819767,
            8858908,
            19764027,
            1588717,
            8139332,
            4049146,
            5432424,
            3232927,
            4690773,
            4318137,
            2500689,
            1861096,
            47995559,
            1865490,
            1405486,
            2287985,
            12132200,
            2648961,
            960155,
            198712000,
            2748579,
            9709552
           ],
           "yaxis": "y"
          },
          {
           "alignmentgroup": "True",
           "hovertemplate": "continent=%{x}<br>year=1967<br>pop=%{y}<extra></extra>",
           "ids": [
            "Australia",
            "New Zealand"
           ],
           "legendgroup": "Oceania",
           "marker": {
            "color": "#FFA15A",
            "pattern": {
             "shape": ""
            }
           },
           "name": "Oceania",
           "offsetgroup": "Oceania",
           "orientation": "v",
           "showlegend": true,
           "textposition": "auto",
           "type": "bar",
           "x": [
            "Oceania",
            "Oceania"
           ],
           "xaxis": "x",
           "y": [
            11872264,
            2728150
           ],
           "yaxis": "y"
          }
         ],
         "name": "1967"
        },
        {
         "data": [
          {
           "alignmentgroup": "True",
           "hovertemplate": "continent=%{x}<br>year=1972<br>pop=%{y}<extra></extra>",
           "ids": [
            "Afghanistan",
            "Bahrain",
            "Bangladesh",
            "Cambodia",
            "China",
            "Hong Kong, China",
            "India",
            "Indonesia",
            "Iran",
            "Iraq",
            "Israel",
            "Japan",
            "Jordan",
            "Korea, Dem. Rep.",
            "Korea, Rep.",
            "Kuwait",
            "Lebanon",
            "Malaysia",
            "Mongolia",
            "Myanmar",
            "Nepal",
            "Oman",
            "Pakistan",
            "Philippines",
            "Saudi Arabia",
            "Singapore",
            "Sri Lanka",
            "Syria",
            "Taiwan",
            "Thailand",
            "Vietnam",
            "West Bank and Gaza",
            "Yemen, Rep."
           ],
           "legendgroup": "Asia",
           "marker": {
            "color": "#636efa",
            "pattern": {
             "shape": ""
            }
           },
           "name": "Asia",
           "offsetgroup": "Asia",
           "orientation": "v",
           "showlegend": true,
           "textposition": "auto",
           "type": "bar",
           "x": [
            "Asia",
            "Asia",
            "Asia",
            "Asia",
            "Asia",
            "Asia",
            "Asia",
            "Asia",
            "Asia",
            "Asia",
            "Asia",
            "Asia",
            "Asia",
            "Asia",
            "Asia",
            "Asia",
            "Asia",
            "Asia",
            "Asia",
            "Asia",
            "Asia",
            "Asia",
            "Asia",
            "Asia",
            "Asia",
            "Asia",
            "Asia",
            "Asia",
            "Asia",
            "Asia",
            "Asia",
            "Asia",
            "Asia"
           ],
           "xaxis": "x",
           "y": [
            13079460,
            230800,
            70759295,
            7450606,
            862030000,
            4115700,
            567000000,
            121282000,
            30614000,
            10061506,
            3095893,
            107188273,
            1613551,
            14781241,
            33505000,
            841934,
            2680018,
            11441462,
            1320500,
            28466390,
            12412593,
            829050,
            69325921,
            40850141,
            6472756,
            2152400,
            13016733,
            6701172,
            15226039,
            39276153,
            44655014,
            1089572,
            7407075
           ],
           "yaxis": "y"
          },
          {
           "alignmentgroup": "True",
           "hovertemplate": "continent=%{x}<br>year=1972<br>pop=%{y}<extra></extra>",
           "ids": [
            "Albania",
            "Austria",
            "Belgium",
            "Bosnia and Herzegovina",
            "Bulgaria",
            "Croatia",
            "Czech Republic",
            "Denmark",
            "Finland",
            "France",
            "Germany",
            "Greece",
            "Hungary",
            "Iceland",
            "Ireland",
            "Italy",
            "Montenegro",
            "Netherlands",
            "Norway",
            "Poland",
            "Portugal",
            "Romania",
            "Serbia",
            "Slovak Republic",
            "Slovenia",
            "Spain",
            "Sweden",
            "Switzerland",
            "Turkey",
            "United Kingdom"
           ],
           "legendgroup": "Europe",
           "marker": {
            "color": "#EF553B",
            "pattern": {
             "shape": ""
            }
           },
           "name": "Europe",
           "offsetgroup": "Europe",
           "orientation": "v",
           "showlegend": true,
           "textposition": "auto",
           "type": "bar",
           "x": [
            "Europe",
            "Europe",
            "Europe",
            "Europe",
            "Europe",
            "Europe",
            "Europe",
            "Europe",
            "Europe",
            "Europe",
            "Europe",
            "Europe",
            "Europe",
            "Europe",
            "Europe",
            "Europe",
            "Europe",
            "Europe",
            "Europe",
            "Europe",
            "Europe",
            "Europe",
            "Europe",
            "Europe",
            "Europe",
            "Europe",
            "Europe",
            "Europe",
            "Europe",
            "Europe"
           ],
           "xaxis": "x",
           "y": [
            2263554,
            7544201,
            9709100,
            3819000,
            8576200,
            4225310,
            9862158,
            4991596,
            4639657,
            51732000,
            78717088,
            8888628,
            10394091,
            209275,
            3024400,
            54365564,
            527678,
            13329874,
            3933004,
            33039545,
            8970450,
            20662648,
            8313288,
            4593433,
            1694510,
            34513161,
            8122293,
            6401400,
            37492953,
            56079000
           ],
           "yaxis": "y"
          },
          {
           "alignmentgroup": "True",
           "hovertemplate": "continent=%{x}<br>year=1972<br>pop=%{y}<extra></extra>",
           "ids": [
            "Algeria",
            "Angola",
            "Benin",
            "Botswana",
            "Burkina Faso",
            "Burundi",
            "Cameroon",
            "Central African Republic",
            "Chad",
            "Comoros",
            "Congo, Dem. Rep.",
            "Congo, Rep.",
            "Cote d'Ivoire",
            "Djibouti",
            "Egypt",
            "Equatorial Guinea",
            "Eritrea",
            "Ethiopia",
            "Gabon",
            "Gambia",
            "Ghana",
            "Guinea",
            "Guinea-Bissau",
            "Kenya",
            "Lesotho",
            "Liberia",
            "Libya",
            "Madagascar",
            "Malawi",
            "Mali",
            "Mauritania",
            "Mauritius",
            "Morocco",
            "Mozambique",
            "Namibia",
            "Niger",
            "Nigeria",
            "Reunion",
            "Rwanda",
            "Sao Tome and Principe",
            "Senegal",
            "Sierra Leone",
            "Somalia",
            "South Africa",
            "Sudan",
            "Swaziland",
            "Tanzania",
            "Togo",
            "Tunisia",
            "Uganda",
            "Zambia",
            "Zimbabwe"
           ],
           "legendgroup": "Africa",
           "marker": {
            "color": "#00cc96",
            "pattern": {
             "shape": ""
            }
           },
           "name": "Africa",
           "offsetgroup": "Africa",
           "orientation": "v",
           "showlegend": true,
           "textposition": "auto",
           "type": "bar",
           "x": [
            "Africa",
            "Africa",
            "Africa",
            "Africa",
            "Africa",
            "Africa",
            "Africa",
            "Africa",
            "Africa",
            "Africa",
            "Africa",
            "Africa",
            "Africa",
            "Africa",
            "Africa",
            "Africa",
            "Africa",
            "Africa",
            "Africa",
            "Africa",
            "Africa",
            "Africa",
            "Africa",
            "Africa",
            "Africa",
            "Africa",
            "Africa",
            "Africa",
            "Africa",
            "Africa",
            "Africa",
            "Africa",
            "Africa",
            "Africa",
            "Africa",
            "Africa",
            "Africa",
            "Africa",
            "Africa",
            "Africa",
            "Africa",
            "Africa",
            "Africa",
            "Africa",
            "Africa",
            "Africa",
            "Africa",
            "Africa",
            "Africa",
            "Africa",
            "Africa",
            "Africa"
           ],
           "xaxis": "x",
           "y": [
            14760787,
            5894858,
            2761407,
            619351,
            5433886,
            3529983,
            7021028,
            1927260,
            3899068,
            250027,
            23007669,
            1340458,
            6071696,
            178848,
            34807417,
            277603,
            2260187,
            30770372,
            537977,
            517101,
            9354120,
            3811387,
            625361,
            12044785,
            1116779,
            1482628,
            2183877,
            7082430,
            4730997,
            5828158,
            1332786,
            851334,
            16660670,
            9809596,
            821782,
            5060262,
            53740085,
            461633,
            3992121,
            76595,
            4588696,
            2879013,
            3840161,
            23935810,
            14597019,
            480105,
            14706593,
            2056351,
            5303507,
            10190285,
            4506497,
            5861135
           ],
           "yaxis": "y"
          },
          {
           "alignmentgroup": "True",
           "hovertemplate": "continent=%{x}<br>year=1972<br>pop=%{y}<extra></extra>",
           "ids": [
            "Argentina",
            "Bolivia",
            "Brazil",
            "Canada",
            "Chile",
            "Colombia",
            "Costa Rica",
            "Cuba",
            "Dominican Republic",
            "Ecuador",
            "El Salvador",
            "Guatemala",
            "Haiti",
            "Honduras",
            "Jamaica",
            "Mexico",
            "Nicaragua",
            "Panama",
            "Paraguay",
            "Peru",
            "Puerto Rico",
            "Trinidad and Tobago",
            "United States",
            "Uruguay",
            "Venezuela"
           ],
           "legendgroup": "Americas",
           "marker": {
            "color": "#ab63fa",
            "pattern": {
             "shape": ""
            }
           },
           "name": "Americas",
           "offsetgroup": "Americas",
           "orientation": "v",
           "showlegend": true,
           "textposition": "auto",
           "type": "bar",
           "x": [
            "Americas",
            "Americas",
            "Americas",
            "Americas",
            "Americas",
            "Americas",
            "Americas",
            "Americas",
            "Americas",
            "Americas",
            "Americas",
            "Americas",
            "Americas",
            "Americas",
            "Americas",
            "Americas",
            "Americas",
            "Americas",
            "Americas",
            "Americas",
            "Americas",
            "Americas",
            "Americas",
            "Americas",
            "Americas"
           ],
           "xaxis": "x",
           "y": [
            24779799,
            4565872,
            100840058,
            22284500,
            9717524,
            22542890,
            1834796,
            8831348,
            4671329,
            6298651,
            3790903,
            5149581,
            4698301,
            2965146,
            1997616,
            55984294,
            2182908,
            1616384,
            2614104,
            13954700,
            2847132,
            975199,
            209896000,
            2829526,
            11515649
           ],
           "yaxis": "y"
          },
          {
           "alignmentgroup": "True",
           "hovertemplate": "continent=%{x}<br>year=1972<br>pop=%{y}<extra></extra>",
           "ids": [
            "Australia",
            "New Zealand"
           ],
           "legendgroup": "Oceania",
           "marker": {
            "color": "#FFA15A",
            "pattern": {
             "shape": ""
            }
           },
           "name": "Oceania",
           "offsetgroup": "Oceania",
           "orientation": "v",
           "showlegend": true,
           "textposition": "auto",
           "type": "bar",
           "x": [
            "Oceania",
            "Oceania"
           ],
           "xaxis": "x",
           "y": [
            13177000,
            2929100
           ],
           "yaxis": "y"
          }
         ],
         "name": "1972"
        },
        {
         "data": [
          {
           "alignmentgroup": "True",
           "hovertemplate": "continent=%{x}<br>year=1977<br>pop=%{y}<extra></extra>",
           "ids": [
            "Afghanistan",
            "Bahrain",
            "Bangladesh",
            "Cambodia",
            "China",
            "Hong Kong, China",
            "India",
            "Indonesia",
            "Iran",
            "Iraq",
            "Israel",
            "Japan",
            "Jordan",
            "Korea, Dem. Rep.",
            "Korea, Rep.",
            "Kuwait",
            "Lebanon",
            "Malaysia",
            "Mongolia",
            "Myanmar",
            "Nepal",
            "Oman",
            "Pakistan",
            "Philippines",
            "Saudi Arabia",
            "Singapore",
            "Sri Lanka",
            "Syria",
            "Taiwan",
            "Thailand",
            "Vietnam",
            "West Bank and Gaza",
            "Yemen, Rep."
           ],
           "legendgroup": "Asia",
           "marker": {
            "color": "#636efa",
            "pattern": {
             "shape": ""
            }
           },
           "name": "Asia",
           "offsetgroup": "Asia",
           "orientation": "v",
           "showlegend": true,
           "textposition": "auto",
           "type": "bar",
           "x": [
            "Asia",
            "Asia",
            "Asia",
            "Asia",
            "Asia",
            "Asia",
            "Asia",
            "Asia",
            "Asia",
            "Asia",
            "Asia",
            "Asia",
            "Asia",
            "Asia",
            "Asia",
            "Asia",
            "Asia",
            "Asia",
            "Asia",
            "Asia",
            "Asia",
            "Asia",
            "Asia",
            "Asia",
            "Asia",
            "Asia",
            "Asia",
            "Asia",
            "Asia",
            "Asia",
            "Asia",
            "Asia",
            "Asia"
           ],
           "xaxis": "x",
           "y": [
            14880372,
            297410,
            80428306,
            6978607,
            943455000,
            4583700,
            634000000,
            136725000,
            35480679,
            11882916,
            3495918,
            113872473,
            1937652,
            16325320,
            36436000,
            1140357,
            3115787,
            12845381,
            1528000,
            31528087,
            13933198,
            1004533,
            78152686,
            46850962,
            8128505,
            2325300,
            14116836,
            7932503,
            16785196,
            44148285,
            50533506,
            1261091,
            8403990
           ],
           "yaxis": "y"
          },
          {
           "alignmentgroup": "True",
           "hovertemplate": "continent=%{x}<br>year=1977<br>pop=%{y}<extra></extra>",
           "ids": [
            "Albania",
            "Austria",
            "Belgium",
            "Bosnia and Herzegovina",
            "Bulgaria",
            "Croatia",
            "Czech Republic",
            "Denmark",
            "Finland",
            "France",
            "Germany",
            "Greece",
            "Hungary",
            "Iceland",
            "Ireland",
            "Italy",
            "Montenegro",
            "Netherlands",
            "Norway",
            "Poland",
            "Portugal",
            "Romania",
            "Serbia",
            "Slovak Republic",
            "Slovenia",
            "Spain",
            "Sweden",
            "Switzerland",
            "Turkey",
            "United Kingdom"
           ],
           "legendgroup": "Europe",
           "marker": {
            "color": "#EF553B",
            "pattern": {
             "shape": ""
            }
           },
           "name": "Europe",
           "offsetgroup": "Europe",
           "orientation": "v",
           "showlegend": true,
           "textposition": "auto",
           "type": "bar",
           "x": [
            "Europe",
            "Europe",
            "Europe",
            "Europe",
            "Europe",
            "Europe",
            "Europe",
            "Europe",
            "Europe",
            "Europe",
            "Europe",
            "Europe",
            "Europe",
            "Europe",
            "Europe",
            "Europe",
            "Europe",
            "Europe",
            "Europe",
            "Europe",
            "Europe",
            "Europe",
            "Europe",
            "Europe",
            "Europe",
            "Europe",
            "Europe",
            "Europe",
            "Europe",
            "Europe"
           ],
           "xaxis": "x",
           "y": [
            2509048,
            7568430,
            9821800,
            4086000,
            8797022,
            4318673,
            10161915,
            5088419,
            4738902,
            53165019,
            78160773,
            9308479,
            10637171,
            221823,
            3271900,
            56059245,
            560073,
            13852989,
            4043205,
            34621254,
            9662600,
            21658597,
            8686367,
            4827803,
            1746919,
            36439000,
            8251648,
            6316424,
            42404033,
            56179000
           ],
           "yaxis": "y"
          },
          {
           "alignmentgroup": "True",
           "hovertemplate": "continent=%{x}<br>year=1977<br>pop=%{y}<extra></extra>",
           "ids": [
            "Algeria",
            "Angola",
            "Benin",
            "Botswana",
            "Burkina Faso",
            "Burundi",
            "Cameroon",
            "Central African Republic",
            "Chad",
            "Comoros",
            "Congo, Dem. Rep.",
            "Congo, Rep.",
            "Cote d'Ivoire",
            "Djibouti",
            "Egypt",
            "Equatorial Guinea",
            "Eritrea",
            "Ethiopia",
            "Gabon",
            "Gambia",
            "Ghana",
            "Guinea",
            "Guinea-Bissau",
            "Kenya",
            "Lesotho",
            "Liberia",
            "Libya",
            "Madagascar",
            "Malawi",
            "Mali",
            "Mauritania",
            "Mauritius",
            "Morocco",
            "Mozambique",
            "Namibia",
            "Niger",
            "Nigeria",
            "Reunion",
            "Rwanda",
            "Sao Tome and Principe",
            "Senegal",
            "Sierra Leone",
            "Somalia",
            "South Africa",
            "Sudan",
            "Swaziland",
            "Tanzania",
            "Togo",
            "Tunisia",
            "Uganda",
            "Zambia",
            "Zimbabwe"
           ],
           "legendgroup": "Africa",
           "marker": {
            "color": "#00cc96",
            "pattern": {
             "shape": ""
            }
           },
           "name": "Africa",
           "offsetgroup": "Africa",
           "orientation": "v",
           "showlegend": true,
           "textposition": "auto",
           "type": "bar",
           "x": [
            "Africa",
            "Africa",
            "Africa",
            "Africa",
            "Africa",
            "Africa",
            "Africa",
            "Africa",
            "Africa",
            "Africa",
            "Africa",
            "Africa",
            "Africa",
            "Africa",
            "Africa",
            "Africa",
            "Africa",
            "Africa",
            "Africa",
            "Africa",
            "Africa",
            "Africa",
            "Africa",
            "Africa",
            "Africa",
            "Africa",
            "Africa",
            "Africa",
            "Africa",
            "Africa",
            "Africa",
            "Africa",
            "Africa",
            "Africa",
            "Africa",
            "Africa",
            "Africa",
            "Africa",
            "Africa",
            "Africa",
            "Africa",
            "Africa",
            "Africa",
            "Africa",
            "Africa",
            "Africa",
            "Africa",
            "Africa",
            "Africa",
            "Africa",
            "Africa",
            "Africa"
           ],
           "xaxis": "x",
           "y": [
            17152804,
            6162675,
            3168267,
            781472,
            5889574,
            3834415,
            7959865,
            2167533,
            4388260,
            304739,
            26480870,
            1536769,
            7459574,
            228694,
            38783863,
            192675,
            2512642,
            34617799,
            706367,
            608274,
            10538093,
            4227026,
            745228,
            14500404,
            1251524,
            1703617,
            2721783,
            8007166,
            5637246,
            6491649,
            1456688,
            913025,
            18396941,
            11127868,
            977026,
            5682086,
            62209173,
            492095,
            4657072,
            86796,
            5260855,
            3140897,
            4353666,
            27129932,
            17104986,
            551425,
            17129565,
            2308582,
            6005061,
            11457758,
            5216550,
            6642107
           ],
           "yaxis": "y"
          },
          {
           "alignmentgroup": "True",
           "hovertemplate": "continent=%{x}<br>year=1977<br>pop=%{y}<extra></extra>",
           "ids": [
            "Argentina",
            "Bolivia",
            "Brazil",
            "Canada",
            "Chile",
            "Colombia",
            "Costa Rica",
            "Cuba",
            "Dominican Republic",
            "Ecuador",
            "El Salvador",
            "Guatemala",
            "Haiti",
            "Honduras",
            "Jamaica",
            "Mexico",
            "Nicaragua",
            "Panama",
            "Paraguay",
            "Peru",
            "Puerto Rico",
            "Trinidad and Tobago",
            "United States",
            "Uruguay",
            "Venezuela"
           ],
           "legendgroup": "Americas",
           "marker": {
            "color": "#ab63fa",
            "pattern": {
             "shape": ""
            }
           },
           "name": "Americas",
           "offsetgroup": "Americas",
           "orientation": "v",
           "showlegend": true,
           "textposition": "auto",
           "type": "bar",
           "x": [
            "Americas",
            "Americas",
            "Americas",
            "Americas",
            "Americas",
            "Americas",
            "Americas",
            "Americas",
            "Americas",
            "Americas",
            "Americas",
            "Americas",
            "Americas",
            "Americas",
            "Americas",
            "Americas",
            "Americas",
            "Americas",
            "Americas",
            "Americas",
            "Americas",
            "Americas",
            "Americas",
            "Americas",
            "Americas"
           ],
           "xaxis": "x",
           "y": [
            26983828,
            5079716,
            114313951,
            23796400,
            10599793,
            25094412,
            2108457,
            9537988,
            5302800,
            7278866,
            4282586,
            5703430,
            4908554,
            3055235,
            2156814,
            63759976,
            2554598,
            1839782,
            2984494,
            15990099,
            3080828,
            1039009,
            220239000,
            2873520,
            13503563
           ],
           "yaxis": "y"
          },
          {
           "alignmentgroup": "True",
           "hovertemplate": "continent=%{x}<br>year=1977<br>pop=%{y}<extra></extra>",
           "ids": [
            "Australia",
            "New Zealand"
           ],
           "legendgroup": "Oceania",
           "marker": {
            "color": "#FFA15A",
            "pattern": {
             "shape": ""
            }
           },
           "name": "Oceania",
           "offsetgroup": "Oceania",
           "orientation": "v",
           "showlegend": true,
           "textposition": "auto",
           "type": "bar",
           "x": [
            "Oceania",
            "Oceania"
           ],
           "xaxis": "x",
           "y": [
            14074100,
            3164900
           ],
           "yaxis": "y"
          }
         ],
         "name": "1977"
        },
        {
         "data": [
          {
           "alignmentgroup": "True",
           "hovertemplate": "continent=%{x}<br>year=1982<br>pop=%{y}<extra></extra>",
           "ids": [
            "Afghanistan",
            "Bahrain",
            "Bangladesh",
            "Cambodia",
            "China",
            "Hong Kong, China",
            "India",
            "Indonesia",
            "Iran",
            "Iraq",
            "Israel",
            "Japan",
            "Jordan",
            "Korea, Dem. Rep.",
            "Korea, Rep.",
            "Kuwait",
            "Lebanon",
            "Malaysia",
            "Mongolia",
            "Myanmar",
            "Nepal",
            "Oman",
            "Pakistan",
            "Philippines",
            "Saudi Arabia",
            "Singapore",
            "Sri Lanka",
            "Syria",
            "Taiwan",
            "Thailand",
            "Vietnam",
            "West Bank and Gaza",
            "Yemen, Rep."
           ],
           "legendgroup": "Asia",
           "marker": {
            "color": "#636efa",
            "pattern": {
             "shape": ""
            }
           },
           "name": "Asia",
           "offsetgroup": "Asia",
           "orientation": "v",
           "showlegend": true,
           "textposition": "auto",
           "type": "bar",
           "x": [
            "Asia",
            "Asia",
            "Asia",
            "Asia",
            "Asia",
            "Asia",
            "Asia",
            "Asia",
            "Asia",
            "Asia",
            "Asia",
            "Asia",
            "Asia",
            "Asia",
            "Asia",
            "Asia",
            "Asia",
            "Asia",
            "Asia",
            "Asia",
            "Asia",
            "Asia",
            "Asia",
            "Asia",
            "Asia",
            "Asia",
            "Asia",
            "Asia",
            "Asia",
            "Asia",
            "Asia",
            "Asia",
            "Asia"
           ],
           "xaxis": "x",
           "y": [
            12881816,
            377967,
            93074406,
            7272485,
            1000281000,
            5264500,
            708000000,
            153343000,
            43072751,
            14173318,
            3858421,
            118454974,
            2347031,
            17647518,
            39326000,
            1497494,
            3086876,
            14441916,
            1756032,
            34680442,
            15796314,
            1301048,
            91462088,
            53456774,
            11254672,
            2651869,
            15410151,
            9410494,
            18501390,
            48827160,
            56142181,
            1425876,
            9657618
           ],
           "yaxis": "y"
          },
          {
           "alignmentgroup": "True",
           "hovertemplate": "continent=%{x}<br>year=1982<br>pop=%{y}<extra></extra>",
           "ids": [
            "Albania",
            "Austria",
            "Belgium",
            "Bosnia and Herzegovina",
            "Bulgaria",
            "Croatia",
            "Czech Republic",
            "Denmark",
            "Finland",
            "France",
            "Germany",
            "Greece",
            "Hungary",
            "Iceland",
            "Ireland",
            "Italy",
            "Montenegro",
            "Netherlands",
            "Norway",
            "Poland",
            "Portugal",
            "Romania",
            "Serbia",
            "Slovak Republic",
            "Slovenia",
            "Spain",
            "Sweden",
            "Switzerland",
            "Turkey",
            "United Kingdom"
           ],
           "legendgroup": "Europe",
           "marker": {
            "color": "#EF553B",
            "pattern": {
             "shape": ""
            }
           },
           "name": "Europe",
           "offsetgroup": "Europe",
           "orientation": "v",
           "showlegend": true,
           "textposition": "auto",
           "type": "bar",
           "x": [
            "Europe",
            "Europe",
            "Europe",
            "Europe",
            "Europe",
            "Europe",
            "Europe",
            "Europe",
            "Europe",
            "Europe",
            "Europe",
            "Europe",
            "Europe",
            "Europe",
            "Europe",
            "Europe",
            "Europe",
            "Europe",
            "Europe",
            "Europe",
            "Europe",
            "Europe",
            "Europe",
            "Europe",
            "Europe",
            "Europe",
            "Europe",
            "Europe",
            "Europe",
            "Europe"
           ],
           "xaxis": "x",
           "y": [
            2780097,
            7574613,
            9856303,
            4172693,
            8892098,
            4413368,
            10303704,
            5117810,
            4826933,
            54433565,
            78335266,
            9786480,
            10705535,
            233997,
            3480000,
            56535636,
            562548,
            14310401,
            4114787,
            36227381,
            9859650,
            22356726,
            9032824,
            5048043,
            1861252,
            37983310,
            8325260,
            6468126,
            47328791,
            56339704
           ],
           "yaxis": "y"
          },
          {
           "alignmentgroup": "True",
           "hovertemplate": "continent=%{x}<br>year=1982<br>pop=%{y}<extra></extra>",
           "ids": [
            "Algeria",
            "Angola",
            "Benin",
            "Botswana",
            "Burkina Faso",
            "Burundi",
            "Cameroon",
            "Central African Republic",
            "Chad",
            "Comoros",
            "Congo, Dem. Rep.",
            "Congo, Rep.",
            "Cote d'Ivoire",
            "Djibouti",
            "Egypt",
            "Equatorial Guinea",
            "Eritrea",
            "Ethiopia",
            "Gabon",
            "Gambia",
            "Ghana",
            "Guinea",
            "Guinea-Bissau",
            "Kenya",
            "Lesotho",
            "Liberia",
            "Libya",
            "Madagascar",
            "Malawi",
            "Mali",
            "Mauritania",
            "Mauritius",
            "Morocco",
            "Mozambique",
            "Namibia",
            "Niger",
            "Nigeria",
            "Reunion",
            "Rwanda",
            "Sao Tome and Principe",
            "Senegal",
            "Sierra Leone",
            "Somalia",
            "South Africa",
            "Sudan",
            "Swaziland",
            "Tanzania",
            "Togo",
            "Tunisia",
            "Uganda",
            "Zambia",
            "Zimbabwe"
           ],
           "legendgroup": "Africa",
           "marker": {
            "color": "#00cc96",
            "pattern": {
             "shape": ""
            }
           },
           "name": "Africa",
           "offsetgroup": "Africa",
           "orientation": "v",
           "showlegend": true,
           "textposition": "auto",
           "type": "bar",
           "x": [
            "Africa",
            "Africa",
            "Africa",
            "Africa",
            "Africa",
            "Africa",
            "Africa",
            "Africa",
            "Africa",
            "Africa",
            "Africa",
            "Africa",
            "Africa",
            "Africa",
            "Africa",
            "Africa",
            "Africa",
            "Africa",
            "Africa",
            "Africa",
            "Africa",
            "Africa",
            "Africa",
            "Africa",
            "Africa",
            "Africa",
            "Africa",
            "Africa",
            "Africa",
            "Africa",
            "Africa",
            "Africa",
            "Africa",
            "Africa",
            "Africa",
            "Africa",
            "Africa",
            "Africa",
            "Africa",
            "Africa",
            "Africa",
            "Africa",
            "Africa",
            "Africa",
            "Africa",
            "Africa",
            "Africa",
            "Africa",
            "Africa",
            "Africa",
            "Africa",
            "Africa"
           ],
           "xaxis": "x",
           "y": [
            20033753,
            7016384,
            3641603,
            970347,
            6634596,
            4580410,
            9250831,
            2476971,
            4875118,
            348643,
            30646495,
            1774735,
            9025951,
            305991,
            45681811,
            285483,
            2637297,
            38111756,
            753874,
            715523,
            11400338,
            4710497,
            825987,
            17661452,
            1411807,
            1956875,
            3344074,
            9171477,
            6502825,
            6998256,
            1622136,
            992040,
            20198730,
            12587223,
            1099010,
            6437188,
            73039376,
            517810,
            5507565,
            98593,
            6147783,
            3464522,
            5828892,
            31140029,
            20367053,
            649901,
            19844382,
            2644765,
            6734098,
            12939400,
            6100407,
            7636524
           ],
           "yaxis": "y"
          },
          {
           "alignmentgroup": "True",
           "hovertemplate": "continent=%{x}<br>year=1982<br>pop=%{y}<extra></extra>",
           "ids": [
            "Argentina",
            "Bolivia",
            "Brazil",
            "Canada",
            "Chile",
            "Colombia",
            "Costa Rica",
            "Cuba",
            "Dominican Republic",
            "Ecuador",
            "El Salvador",
            "Guatemala",
            "Haiti",
            "Honduras",
            "Jamaica",
            "Mexico",
            "Nicaragua",
            "Panama",
            "Paraguay",
            "Peru",
            "Puerto Rico",
            "Trinidad and Tobago",
            "United States",
            "Uruguay",
            "Venezuela"
           ],
           "legendgroup": "Americas",
           "marker": {
            "color": "#ab63fa",
            "pattern": {
             "shape": ""
            }
           },
           "name": "Americas",
           "offsetgroup": "Americas",
           "orientation": "v",
           "showlegend": true,
           "textposition": "auto",
           "type": "bar",
           "x": [
            "Americas",
            "Americas",
            "Americas",
            "Americas",
            "Americas",
            "Americas",
            "Americas",
            "Americas",
            "Americas",
            "Americas",
            "Americas",
            "Americas",
            "Americas",
            "Americas",
            "Americas",
            "Americas",
            "Americas",
            "Americas",
            "Americas",
            "Americas",
            "Americas",
            "Americas",
            "Americas",
            "Americas",
            "Americas"
           ],
           "xaxis": "x",
           "y": [
            29341374,
            5642224,
            128962939,
            25201900,
            11487112,
            27764644,
            2424367,
            9789224,
            5968349,
            8365850,
            4474873,
            6395630,
            5198399,
            3669448,
            2298309,
            71640904,
            2979423,
            2036305,
            3366439,
            18125129,
            3279001,
            1116479,
            232187835,
            2953997,
            15620766
           ],
           "yaxis": "y"
          },
          {
           "alignmentgroup": "True",
           "hovertemplate": "continent=%{x}<br>year=1982<br>pop=%{y}<extra></extra>",
           "ids": [
            "Australia",
            "New Zealand"
           ],
           "legendgroup": "Oceania",
           "marker": {
            "color": "#FFA15A",
            "pattern": {
             "shape": ""
            }
           },
           "name": "Oceania",
           "offsetgroup": "Oceania",
           "orientation": "v",
           "showlegend": true,
           "textposition": "auto",
           "type": "bar",
           "x": [
            "Oceania",
            "Oceania"
           ],
           "xaxis": "x",
           "y": [
            15184200,
            3210650
           ],
           "yaxis": "y"
          }
         ],
         "name": "1982"
        },
        {
         "data": [
          {
           "alignmentgroup": "True",
           "hovertemplate": "continent=%{x}<br>year=1987<br>pop=%{y}<extra></extra>",
           "ids": [
            "Afghanistan",
            "Bahrain",
            "Bangladesh",
            "Cambodia",
            "China",
            "Hong Kong, China",
            "India",
            "Indonesia",
            "Iran",
            "Iraq",
            "Israel",
            "Japan",
            "Jordan",
            "Korea, Dem. Rep.",
            "Korea, Rep.",
            "Kuwait",
            "Lebanon",
            "Malaysia",
            "Mongolia",
            "Myanmar",
            "Nepal",
            "Oman",
            "Pakistan",
            "Philippines",
            "Saudi Arabia",
            "Singapore",
            "Sri Lanka",
            "Syria",
            "Taiwan",
            "Thailand",
            "Vietnam",
            "West Bank and Gaza",
            "Yemen, Rep."
           ],
           "legendgroup": "Asia",
           "marker": {
            "color": "#636efa",
            "pattern": {
             "shape": ""
            }
           },
           "name": "Asia",
           "offsetgroup": "Asia",
           "orientation": "v",
           "showlegend": true,
           "textposition": "auto",
           "type": "bar",
           "x": [
            "Asia",
            "Asia",
            "Asia",
            "Asia",
            "Asia",
            "Asia",
            "Asia",
            "Asia",
            "Asia",
            "Asia",
            "Asia",
            "Asia",
            "Asia",
            "Asia",
            "Asia",
            "Asia",
            "Asia",
            "Asia",
            "Asia",
            "Asia",
            "Asia",
            "Asia",
            "Asia",
            "Asia",
            "Asia",
            "Asia",
            "Asia",
            "Asia",
            "Asia",
            "Asia",
            "Asia",
            "Asia",
            "Asia"
           ],
           "xaxis": "x",
           "y": [
            13867957,
            454612,
            103764241,
            8371791,
            1084035000,
            5584510,
            788000000,
            169276000,
            51889696,
            16543189,
            4203148,
            122091325,
            2820042,
            19067554,
            41622000,
            1891487,
            3089353,
            16331785,
            2015133,
            38028578,
            17917180,
            1593882,
            105186881,
            60017788,
            14619745,
            2794552,
            16495304,
            11242847,
            19757799,
            52910342,
            62826491,
            1691210,
            11219340
           ],
           "yaxis": "y"
          },
          {
           "alignmentgroup": "True",
           "hovertemplate": "continent=%{x}<br>year=1987<br>pop=%{y}<extra></extra>",
           "ids": [
            "Albania",
            "Austria",
            "Belgium",
            "Bosnia and Herzegovina",
            "Bulgaria",
            "Croatia",
            "Czech Republic",
            "Denmark",
            "Finland",
            "France",
            "Germany",
            "Greece",
            "Hungary",
            "Iceland",
            "Ireland",
            "Italy",
            "Montenegro",
            "Netherlands",
            "Norway",
            "Poland",
            "Portugal",
            "Romania",
            "Serbia",
            "Slovak Republic",
            "Slovenia",
            "Spain",
            "Sweden",
            "Switzerland",
            "Turkey",
            "United Kingdom"
           ],
           "legendgroup": "Europe",
           "marker": {
            "color": "#EF553B",
            "pattern": {
             "shape": ""
            }
           },
           "name": "Europe",
           "offsetgroup": "Europe",
           "orientation": "v",
           "showlegend": true,
           "textposition": "auto",
           "type": "bar",
           "x": [
            "Europe",
            "Europe",
            "Europe",
            "Europe",
            "Europe",
            "Europe",
            "Europe",
            "Europe",
            "Europe",
            "Europe",
            "Europe",
            "Europe",
            "Europe",
            "Europe",
            "Europe",
            "Europe",
            "Europe",
            "Europe",
            "Europe",
            "Europe",
            "Europe",
            "Europe",
            "Europe",
            "Europe",
            "Europe",
            "Europe",
            "Europe",
            "Europe",
            "Europe",
            "Europe"
           ],
           "xaxis": "x",
           "y": [
            3075321,
            7578903,
            9870200,
            4338977,
            8971958,
            4484310,
            10311597,
            5127024,
            4931729,
            55630100,
            77718298,
            9974490,
            10612740,
            244676,
            3539900,
            56729703,
            569473,
            14665278,
            4186147,
            37740710,
            9915289,
            22686371,
            9230783,
            5199318,
            1945870,
            38880702,
            8421403,
            6649942,
            52881328,
            56981620
           ],
           "yaxis": "y"
          },
          {
           "alignmentgroup": "True",
           "hovertemplate": "continent=%{x}<br>year=1987<br>pop=%{y}<extra></extra>",
           "ids": [
            "Algeria",
            "Angola",
            "Benin",
            "Botswana",
            "Burkina Faso",
            "Burundi",
            "Cameroon",
            "Central African Republic",
            "Chad",
            "Comoros",
            "Congo, Dem. Rep.",
            "Congo, Rep.",
            "Cote d'Ivoire",
            "Djibouti",
            "Egypt",
            "Equatorial Guinea",
            "Eritrea",
            "Ethiopia",
            "Gabon",
            "Gambia",
            "Ghana",
            "Guinea",
            "Guinea-Bissau",
            "Kenya",
            "Lesotho",
            "Liberia",
            "Libya",
            "Madagascar",
            "Malawi",
            "Mali",
            "Mauritania",
            "Mauritius",
            "Morocco",
            "Mozambique",
            "Namibia",
            "Niger",
            "Nigeria",
            "Reunion",
            "Rwanda",
            "Sao Tome and Principe",
            "Senegal",
            "Sierra Leone",
            "Somalia",
            "South Africa",
            "Sudan",
            "Swaziland",
            "Tanzania",
            "Togo",
            "Tunisia",
            "Uganda",
            "Zambia",
            "Zimbabwe"
           ],
           "legendgroup": "Africa",
           "marker": {
            "color": "#00cc96",
            "pattern": {
             "shape": ""
            }
           },
           "name": "Africa",
           "offsetgroup": "Africa",
           "orientation": "v",
           "showlegend": true,
           "textposition": "auto",
           "type": "bar",
           "x": [
            "Africa",
            "Africa",
            "Africa",
            "Africa",
            "Africa",
            "Africa",
            "Africa",
            "Africa",
            "Africa",
            "Africa",
            "Africa",
            "Africa",
            "Africa",
            "Africa",
            "Africa",
            "Africa",
            "Africa",
            "Africa",
            "Africa",
            "Africa",
            "Africa",
            "Africa",
            "Africa",
            "Africa",
            "Africa",
            "Africa",
            "Africa",
            "Africa",
            "Africa",
            "Africa",
            "Africa",
            "Africa",
            "Africa",
            "Africa",
            "Africa",
            "Africa",
            "Africa",
            "Africa",
            "Africa",
            "Africa",
            "Africa",
            "Africa",
            "Africa",
            "Africa",
            "Africa",
            "Africa",
            "Africa",
            "Africa",
            "Africa",
            "Africa",
            "Africa",
            "Africa"
           ],
           "xaxis": "x",
           "y": [
            23254956,
            7874230,
            4243788,
            1151184,
            7586551,
            5126023,
            10780667,
            2840009,
            5498955,
            395114,
            35481645,
            2064095,
            10761098,
            311025,
            52799062,
            341244,
            2915959,
            42999530,
            880397,
            848406,
            14168101,
            5650262,
            927524,
            21198082,
            1599200,
            2269414,
            3799845,
            10568642,
            7824747,
            7634008,
            1841240,
            1042663,
            22987397,
            12891952,
            1278184,
            7332638,
            81551520,
            562035,
            6349365,
            110812,
            7171347,
            3868905,
            6921858,
            35933379,
            24725960,
            779348,
            23040630,
            3154264,
            7724976,
            15283050,
            7272406,
            9216418
           ],
           "yaxis": "y"
          },
          {
           "alignmentgroup": "True",
           "hovertemplate": "continent=%{x}<br>year=1987<br>pop=%{y}<extra></extra>",
           "ids": [
            "Argentina",
            "Bolivia",
            "Brazil",
            "Canada",
            "Chile",
            "Colombia",
            "Costa Rica",
            "Cuba",
            "Dominican Republic",
            "Ecuador",
            "El Salvador",
            "Guatemala",
            "Haiti",
            "Honduras",
            "Jamaica",
            "Mexico",
            "Nicaragua",
            "Panama",
            "Paraguay",
            "Peru",
            "Puerto Rico",
            "Trinidad and Tobago",
            "United States",
            "Uruguay",
            "Venezuela"
           ],
           "legendgroup": "Americas",
           "marker": {
            "color": "#ab63fa",
            "pattern": {
             "shape": ""
            }
           },
           "name": "Americas",
           "offsetgroup": "Americas",
           "orientation": "v",
           "showlegend": true,
           "textposition": "auto",
           "type": "bar",
           "x": [
            "Americas",
            "Americas",
            "Americas",
            "Americas",
            "Americas",
            "Americas",
            "Americas",
            "Americas",
            "Americas",
            "Americas",
            "Americas",
            "Americas",
            "Americas",
            "Americas",
            "Americas",
            "Americas",
            "Americas",
            "Americas",
            "Americas",
            "Americas",
            "Americas",
            "Americas",
            "Americas",
            "Americas",
            "Americas"
           ],
           "xaxis": "x",
           "y": [
            31620918,
            6156369,
            142938076,
            26549700,
            12463354,
            30964245,
            2799811,
            10239839,
            6655297,
            9545158,
            4842194,
            7326406,
            5756203,
            4372203,
            2326606,
            80122492,
            3344353,
            2253639,
            3886512,
            20195924,
            3444468,
            1191336,
            242803533,
            3045153,
            17910182
           ],
           "yaxis": "y"
          },
          {
           "alignmentgroup": "True",
           "hovertemplate": "continent=%{x}<br>year=1987<br>pop=%{y}<extra></extra>",
           "ids": [
            "Australia",
            "New Zealand"
           ],
           "legendgroup": "Oceania",
           "marker": {
            "color": "#FFA15A",
            "pattern": {
             "shape": ""
            }
           },
           "name": "Oceania",
           "offsetgroup": "Oceania",
           "orientation": "v",
           "showlegend": true,
           "textposition": "auto",
           "type": "bar",
           "x": [
            "Oceania",
            "Oceania"
           ],
           "xaxis": "x",
           "y": [
            16257249,
            3317166
           ],
           "yaxis": "y"
          }
         ],
         "name": "1987"
        },
        {
         "data": [
          {
           "alignmentgroup": "True",
           "hovertemplate": "continent=%{x}<br>year=1992<br>pop=%{y}<extra></extra>",
           "ids": [
            "Afghanistan",
            "Bahrain",
            "Bangladesh",
            "Cambodia",
            "China",
            "Hong Kong, China",
            "India",
            "Indonesia",
            "Iran",
            "Iraq",
            "Israel",
            "Japan",
            "Jordan",
            "Korea, Dem. Rep.",
            "Korea, Rep.",
            "Kuwait",
            "Lebanon",
            "Malaysia",
            "Mongolia",
            "Myanmar",
            "Nepal",
            "Oman",
            "Pakistan",
            "Philippines",
            "Saudi Arabia",
            "Singapore",
            "Sri Lanka",
            "Syria",
            "Taiwan",
            "Thailand",
            "Vietnam",
            "West Bank and Gaza",
            "Yemen, Rep."
           ],
           "legendgroup": "Asia",
           "marker": {
            "color": "#636efa",
            "pattern": {
             "shape": ""
            }
           },
           "name": "Asia",
           "offsetgroup": "Asia",
           "orientation": "v",
           "showlegend": true,
           "textposition": "auto",
           "type": "bar",
           "x": [
            "Asia",
            "Asia",
            "Asia",
            "Asia",
            "Asia",
            "Asia",
            "Asia",
            "Asia",
            "Asia",
            "Asia",
            "Asia",
            "Asia",
            "Asia",
            "Asia",
            "Asia",
            "Asia",
            "Asia",
            "Asia",
            "Asia",
            "Asia",
            "Asia",
            "Asia",
            "Asia",
            "Asia",
            "Asia",
            "Asia",
            "Asia",
            "Asia",
            "Asia",
            "Asia",
            "Asia",
            "Asia",
            "Asia"
           ],
           "xaxis": "x",
           "y": [
            16317921,
            529491,
            113704579,
            10150094,
            1164970000,
            5829696,
            872000000,
            184816000,
            60397973,
            17861905,
            4936550,
            124329269,
            3867409,
            20711375,
            43805450,
            1418095,
            3219994,
            18319502,
            2312802,
            40546538,
            20326209,
            1915208,
            120065004,
            67185766,
            16945857,
            3235865,
            17587060,
            13219062,
            20686918,
            56667095,
            69940728,
            2104779,
            13367997
           ],
           "yaxis": "y"
          },
          {
           "alignmentgroup": "True",
           "hovertemplate": "continent=%{x}<br>year=1992<br>pop=%{y}<extra></extra>",
           "ids": [
            "Albania",
            "Austria",
            "Belgium",
            "Bosnia and Herzegovina",
            "Bulgaria",
            "Croatia",
            "Czech Republic",
            "Denmark",
            "Finland",
            "France",
            "Germany",
            "Greece",
            "Hungary",
            "Iceland",
            "Ireland",
            "Italy",
            "Montenegro",
            "Netherlands",
            "Norway",
            "Poland",
            "Portugal",
            "Romania",
            "Serbia",
            "Slovak Republic",
            "Slovenia",
            "Spain",
            "Sweden",
            "Switzerland",
            "Turkey",
            "United Kingdom"
           ],
           "legendgroup": "Europe",
           "marker": {
            "color": "#EF553B",
            "pattern": {
             "shape": ""
            }
           },
           "name": "Europe",
           "offsetgroup": "Europe",
           "orientation": "v",
           "showlegend": true,
           "textposition": "auto",
           "type": "bar",
           "x": [
            "Europe",
            "Europe",
            "Europe",
            "Europe",
            "Europe",
            "Europe",
            "Europe",
            "Europe",
            "Europe",
            "Europe",
            "Europe",
            "Europe",
            "Europe",
            "Europe",
            "Europe",
            "Europe",
            "Europe",
            "Europe",
            "Europe",
            "Europe",
            "Europe",
            "Europe",
            "Europe",
            "Europe",
            "Europe",
            "Europe",
            "Europe",
            "Europe",
            "Europe",
            "Europe"
           ],
           "xaxis": "x",
           "y": [
            3326498,
            7914969,
            10045622,
            4256013,
            8658506,
            4494013,
            10315702,
            5171393,
            5041039,
            57374179,
            80597764,
            10325429,
            10348684,
            259012,
            3557761,
            56840847,
            621621,
            15174244,
            4286357,
            38370697,
            9927680,
            22797027,
            9826397,
            5302888,
            1999210,
            39549438,
            8718867,
            6995447,
            58179144,
            57866349
           ],
           "yaxis": "y"
          },
          {
           "alignmentgroup": "True",
           "hovertemplate": "continent=%{x}<br>year=1992<br>pop=%{y}<extra></extra>",
           "ids": [
            "Algeria",
            "Angola",
            "Benin",
            "Botswana",
            "Burkina Faso",
            "Burundi",
            "Cameroon",
            "Central African Republic",
            "Chad",
            "Comoros",
            "Congo, Dem. Rep.",
            "Congo, Rep.",
            "Cote d'Ivoire",
            "Djibouti",
            "Egypt",
            "Equatorial Guinea",
            "Eritrea",
            "Ethiopia",
            "Gabon",
            "Gambia",
            "Ghana",
            "Guinea",
            "Guinea-Bissau",
            "Kenya",
            "Lesotho",
            "Liberia",
            "Libya",
            "Madagascar",
            "Malawi",
            "Mali",
            "Mauritania",
            "Mauritius",
            "Morocco",
            "Mozambique",
            "Namibia",
            "Niger",
            "Nigeria",
            "Reunion",
            "Rwanda",
            "Sao Tome and Principe",
            "Senegal",
            "Sierra Leone",
            "Somalia",
            "South Africa",
            "Sudan",
            "Swaziland",
            "Tanzania",
            "Togo",
            "Tunisia",
            "Uganda",
            "Zambia",
            "Zimbabwe"
           ],
           "legendgroup": "Africa",
           "marker": {
            "color": "#00cc96",
            "pattern": {
             "shape": ""
            }
           },
           "name": "Africa",
           "offsetgroup": "Africa",
           "orientation": "v",
           "showlegend": true,
           "textposition": "auto",
           "type": "bar",
           "x": [
            "Africa",
            "Africa",
            "Africa",
            "Africa",
            "Africa",
            "Africa",
            "Africa",
            "Africa",
            "Africa",
            "Africa",
            "Africa",
            "Africa",
            "Africa",
            "Africa",
            "Africa",
            "Africa",
            "Africa",
            "Africa",
            "Africa",
            "Africa",
            "Africa",
            "Africa",
            "Africa",
            "Africa",
            "Africa",
            "Africa",
            "Africa",
            "Africa",
            "Africa",
            "Africa",
            "Africa",
            "Africa",
            "Africa",
            "Africa",
            "Africa",
            "Africa",
            "Africa",
            "Africa",
            "Africa",
            "Africa",
            "Africa",
            "Africa",
            "Africa",
            "Africa",
            "Africa",
            "Africa",
            "Africa",
            "Africa",
            "Africa",
            "Africa",
            "Africa",
            "Africa"
           ],
           "xaxis": "x",
           "y": [
            26298373,
            8735988,
            4981671,
            1342614,
            8878303,
            5809236,
            12467171,
            3265124,
            6429417,
            454429,
            41672143,
            2409073,
            12772596,
            384156,
            59402198,
            387838,
            3668440,
            52088559,
            985739,
            1025384,
            16278738,
            6990574,
            1050938,
            25020539,
            1803195,
            1912974,
            4364501,
            12210395,
            10014249,
            8416215,
            2119465,
            1096202,
            25798239,
            13160731,
            1554253,
            8392818,
            93364244,
            622191,
            7290203,
            125911,
            8307920,
            4260884,
            6099799,
            39964159,
            28227588,
            962344,
            26605473,
            3747553,
            8523077,
            18252190,
            8381163,
            10704340
           ],
           "yaxis": "y"
          },
          {
           "alignmentgroup": "True",
           "hovertemplate": "continent=%{x}<br>year=1992<br>pop=%{y}<extra></extra>",
           "ids": [
            "Argentina",
            "Bolivia",
            "Brazil",
            "Canada",
            "Chile",
            "Colombia",
            "Costa Rica",
            "Cuba",
            "Dominican Republic",
            "Ecuador",
            "El Salvador",
            "Guatemala",
            "Haiti",
            "Honduras",
            "Jamaica",
            "Mexico",
            "Nicaragua",
            "Panama",
            "Paraguay",
            "Peru",
            "Puerto Rico",
            "Trinidad and Tobago",
            "United States",
            "Uruguay",
            "Venezuela"
           ],
           "legendgroup": "Americas",
           "marker": {
            "color": "#ab63fa",
            "pattern": {
             "shape": ""
            }
           },
           "name": "Americas",
           "offsetgroup": "Americas",
           "orientation": "v",
           "showlegend": true,
           "textposition": "auto",
           "type": "bar",
           "x": [
            "Americas",
            "Americas",
            "Americas",
            "Americas",
            "Americas",
            "Americas",
            "Americas",
            "Americas",
            "Americas",
            "Americas",
            "Americas",
            "Americas",
            "Americas",
            "Americas",
            "Americas",
            "Americas",
            "Americas",
            "Americas",
            "Americas",
            "Americas",
            "Americas",
            "Americas",
            "Americas",
            "Americas",
            "Americas"
           ],
           "xaxis": "x",
           "y": [
            33958947,
            6893451,
            155975974,
            28523502,
            13572994,
            34202721,
            3173216,
            10723260,
            7351181,
            10748394,
            5274649,
            8486949,
            6326682,
            5077347,
            2378618,
            88111030,
            4017939,
            2484997,
            4483945,
            22430449,
            3585176,
            1183669,
            256894189,
            3149262,
            20265563
           ],
           "yaxis": "y"
          },
          {
           "alignmentgroup": "True",
           "hovertemplate": "continent=%{x}<br>year=1992<br>pop=%{y}<extra></extra>",
           "ids": [
            "Australia",
            "New Zealand"
           ],
           "legendgroup": "Oceania",
           "marker": {
            "color": "#FFA15A",
            "pattern": {
             "shape": ""
            }
           },
           "name": "Oceania",
           "offsetgroup": "Oceania",
           "orientation": "v",
           "showlegend": true,
           "textposition": "auto",
           "type": "bar",
           "x": [
            "Oceania",
            "Oceania"
           ],
           "xaxis": "x",
           "y": [
            17481977,
            3437674
           ],
           "yaxis": "y"
          }
         ],
         "name": "1992"
        },
        {
         "data": [
          {
           "alignmentgroup": "True",
           "hovertemplate": "continent=%{x}<br>year=1997<br>pop=%{y}<extra></extra>",
           "ids": [
            "Afghanistan",
            "Bahrain",
            "Bangladesh",
            "Cambodia",
            "China",
            "Hong Kong, China",
            "India",
            "Indonesia",
            "Iran",
            "Iraq",
            "Israel",
            "Japan",
            "Jordan",
            "Korea, Dem. Rep.",
            "Korea, Rep.",
            "Kuwait",
            "Lebanon",
            "Malaysia",
            "Mongolia",
            "Myanmar",
            "Nepal",
            "Oman",
            "Pakistan",
            "Philippines",
            "Saudi Arabia",
            "Singapore",
            "Sri Lanka",
            "Syria",
            "Taiwan",
            "Thailand",
            "Vietnam",
            "West Bank and Gaza",
            "Yemen, Rep."
           ],
           "legendgroup": "Asia",
           "marker": {
            "color": "#636efa",
            "pattern": {
             "shape": ""
            }
           },
           "name": "Asia",
           "offsetgroup": "Asia",
           "orientation": "v",
           "showlegend": true,
           "textposition": "auto",
           "type": "bar",
           "x": [
            "Asia",
            "Asia",
            "Asia",
            "Asia",
            "Asia",
            "Asia",
            "Asia",
            "Asia",
            "Asia",
            "Asia",
            "Asia",
            "Asia",
            "Asia",
            "Asia",
            "Asia",
            "Asia",
            "Asia",
            "Asia",
            "Asia",
            "Asia",
            "Asia",
            "Asia",
            "Asia",
            "Asia",
            "Asia",
            "Asia",
            "Asia",
            "Asia",
            "Asia",
            "Asia",
            "Asia",
            "Asia",
            "Asia"
           ],
           "xaxis": "x",
           "y": [
            22227415,
            598561,
            123315288,
            11782962,
            1230075000,
            6495918,
            959000000,
            199278000,
            63327987,
            20775703,
            5531387,
            125956499,
            4526235,
            21585105,
            46173816,
            1765345,
            3430388,
            20476091,
            2494803,
            43247867,
            23001113,
            2283635,
            135564834,
            75012988,
            21229759,
            3802309,
            18698655,
            15081016,
            21628605,
            60216677,
            76048996,
            2826046,
            15826497
           ],
           "yaxis": "y"
          },
          {
           "alignmentgroup": "True",
           "hovertemplate": "continent=%{x}<br>year=1997<br>pop=%{y}<extra></extra>",
           "ids": [
            "Albania",
            "Austria",
            "Belgium",
            "Bosnia and Herzegovina",
            "Bulgaria",
            "Croatia",
            "Czech Republic",
            "Denmark",
            "Finland",
            "France",
            "Germany",
            "Greece",
            "Hungary",
            "Iceland",
            "Ireland",
            "Italy",
            "Montenegro",
            "Netherlands",
            "Norway",
            "Poland",
            "Portugal",
            "Romania",
            "Serbia",
            "Slovak Republic",
            "Slovenia",
            "Spain",
            "Sweden",
            "Switzerland",
            "Turkey",
            "United Kingdom"
           ],
           "legendgroup": "Europe",
           "marker": {
            "color": "#EF553B",
            "pattern": {
             "shape": ""
            }
           },
           "name": "Europe",
           "offsetgroup": "Europe",
           "orientation": "v",
           "showlegend": true,
           "textposition": "auto",
           "type": "bar",
           "x": [
            "Europe",
            "Europe",
            "Europe",
            "Europe",
            "Europe",
            "Europe",
            "Europe",
            "Europe",
            "Europe",
            "Europe",
            "Europe",
            "Europe",
            "Europe",
            "Europe",
            "Europe",
            "Europe",
            "Europe",
            "Europe",
            "Europe",
            "Europe",
            "Europe",
            "Europe",
            "Europe",
            "Europe",
            "Europe",
            "Europe",
            "Europe",
            "Europe",
            "Europe",
            "Europe"
           ],
           "xaxis": "x",
           "y": [
            3428038,
            8069876,
            10199787,
            3607000,
            8066057,
            4444595,
            10300707,
            5283663,
            5134406,
            58623428,
            82011073,
            10502372,
            10244684,
            271192,
            3667233,
            57479469,
            692651,
            15604464,
            4405672,
            38654957,
            10156415,
            22562458,
            10336594,
            5383010,
            2011612,
            39855442,
            8897619,
            7193761,
            63047647,
            58808266
           ],
           "yaxis": "y"
          },
          {
           "alignmentgroup": "True",
           "hovertemplate": "continent=%{x}<br>year=1997<br>pop=%{y}<extra></extra>",
           "ids": [
            "Algeria",
            "Angola",
            "Benin",
            "Botswana",
            "Burkina Faso",
            "Burundi",
            "Cameroon",
            "Central African Republic",
            "Chad",
            "Comoros",
            "Congo, Dem. Rep.",
            "Congo, Rep.",
            "Cote d'Ivoire",
            "Djibouti",
            "Egypt",
            "Equatorial Guinea",
            "Eritrea",
            "Ethiopia",
            "Gabon",
            "Gambia",
            "Ghana",
            "Guinea",
            "Guinea-Bissau",
            "Kenya",
            "Lesotho",
            "Liberia",
            "Libya",
            "Madagascar",
            "Malawi",
            "Mali",
            "Mauritania",
            "Mauritius",
            "Morocco",
            "Mozambique",
            "Namibia",
            "Niger",
            "Nigeria",
            "Reunion",
            "Rwanda",
            "Sao Tome and Principe",
            "Senegal",
            "Sierra Leone",
            "Somalia",
            "South Africa",
            "Sudan",
            "Swaziland",
            "Tanzania",
            "Togo",
            "Tunisia",
            "Uganda",
            "Zambia",
            "Zimbabwe"
           ],
           "legendgroup": "Africa",
           "marker": {
            "color": "#00cc96",
            "pattern": {
             "shape": ""
            }
           },
           "name": "Africa",
           "offsetgroup": "Africa",
           "orientation": "v",
           "showlegend": true,
           "textposition": "auto",
           "type": "bar",
           "x": [
            "Africa",
            "Africa",
            "Africa",
            "Africa",
            "Africa",
            "Africa",
            "Africa",
            "Africa",
            "Africa",
            "Africa",
            "Africa",
            "Africa",
            "Africa",
            "Africa",
            "Africa",
            "Africa",
            "Africa",
            "Africa",
            "Africa",
            "Africa",
            "Africa",
            "Africa",
            "Africa",
            "Africa",
            "Africa",
            "Africa",
            "Africa",
            "Africa",
            "Africa",
            "Africa",
            "Africa",
            "Africa",
            "Africa",
            "Africa",
            "Africa",
            "Africa",
            "Africa",
            "Africa",
            "Africa",
            "Africa",
            "Africa",
            "Africa",
            "Africa",
            "Africa",
            "Africa",
            "Africa",
            "Africa",
            "Africa",
            "Africa",
            "Africa",
            "Africa",
            "Africa"
           ],
           "xaxis": "x",
           "y": [
            29072015,
            9875024,
            6066080,
            1536536,
            10352843,
            6121610,
            14195809,
            3696513,
            7562011,
            527982,
            47798986,
            2800947,
            14625967,
            417908,
            66134291,
            439971,
            4058319,
            59861301,
            1126189,
            1235767,
            18418288,
            8048834,
            1193708,
            28263827,
            1982823,
            2200725,
            4759670,
            14165114,
            10419991,
            9384984,
            2444741,
            1149818,
            28529501,
            16603334,
            1774766,
            9666252,
            106207839,
            684810,
            7212583,
            145608,
            9535314,
            4578212,
            6633514,
            42835005,
            32160729,
            1054486,
            30686889,
            4320890,
            9231669,
            21210254,
            9417789,
            11404948
           ],
           "yaxis": "y"
          },
          {
           "alignmentgroup": "True",
           "hovertemplate": "continent=%{x}<br>year=1997<br>pop=%{y}<extra></extra>",
           "ids": [
            "Argentina",
            "Bolivia",
            "Brazil",
            "Canada",
            "Chile",
            "Colombia",
            "Costa Rica",
            "Cuba",
            "Dominican Republic",
            "Ecuador",
            "El Salvador",
            "Guatemala",
            "Haiti",
            "Honduras",
            "Jamaica",
            "Mexico",
            "Nicaragua",
            "Panama",
            "Paraguay",
            "Peru",
            "Puerto Rico",
            "Trinidad and Tobago",
            "United States",
            "Uruguay",
            "Venezuela"
           ],
           "legendgroup": "Americas",
           "marker": {
            "color": "#ab63fa",
            "pattern": {
             "shape": ""
            }
           },
           "name": "Americas",
           "offsetgroup": "Americas",
           "orientation": "v",
           "showlegend": true,
           "textposition": "auto",
           "type": "bar",
           "x": [
            "Americas",
            "Americas",
            "Americas",
            "Americas",
            "Americas",
            "Americas",
            "Americas",
            "Americas",
            "Americas",
            "Americas",
            "Americas",
            "Americas",
            "Americas",
            "Americas",
            "Americas",
            "Americas",
            "Americas",
            "Americas",
            "Americas",
            "Americas",
            "Americas",
            "Americas",
            "Americas",
            "Americas",
            "Americas"
           ],
           "xaxis": "x",
           "y": [
            36203463,
            7693188,
            168546719,
            30305843,
            14599929,
            37657830,
            3518107,
            10983007,
            7992357,
            11911819,
            5783439,
            9803875,
            6913545,
            5867957,
            2531311,
            95895146,
            4609572,
            2734531,
            5154123,
            24748122,
            3759430,
            1138101,
            272911760,
            3262838,
            22374398
           ],
           "yaxis": "y"
          },
          {
           "alignmentgroup": "True",
           "hovertemplate": "continent=%{x}<br>year=1997<br>pop=%{y}<extra></extra>",
           "ids": [
            "Australia",
            "New Zealand"
           ],
           "legendgroup": "Oceania",
           "marker": {
            "color": "#FFA15A",
            "pattern": {
             "shape": ""
            }
           },
           "name": "Oceania",
           "offsetgroup": "Oceania",
           "orientation": "v",
           "showlegend": true,
           "textposition": "auto",
           "type": "bar",
           "x": [
            "Oceania",
            "Oceania"
           ],
           "xaxis": "x",
           "y": [
            18565243,
            3676187
           ],
           "yaxis": "y"
          }
         ],
         "name": "1997"
        },
        {
         "data": [
          {
           "alignmentgroup": "True",
           "hovertemplate": "continent=%{x}<br>year=2002<br>pop=%{y}<extra></extra>",
           "ids": [
            "Afghanistan",
            "Bahrain",
            "Bangladesh",
            "Cambodia",
            "China",
            "Hong Kong, China",
            "India",
            "Indonesia",
            "Iran",
            "Iraq",
            "Israel",
            "Japan",
            "Jordan",
            "Korea, Dem. Rep.",
            "Korea, Rep.",
            "Kuwait",
            "Lebanon",
            "Malaysia",
            "Mongolia",
            "Myanmar",
            "Nepal",
            "Oman",
            "Pakistan",
            "Philippines",
            "Saudi Arabia",
            "Singapore",
            "Sri Lanka",
            "Syria",
            "Taiwan",
            "Thailand",
            "Vietnam",
            "West Bank and Gaza",
            "Yemen, Rep."
           ],
           "legendgroup": "Asia",
           "marker": {
            "color": "#636efa",
            "pattern": {
             "shape": ""
            }
           },
           "name": "Asia",
           "offsetgroup": "Asia",
           "orientation": "v",
           "showlegend": true,
           "textposition": "auto",
           "type": "bar",
           "x": [
            "Asia",
            "Asia",
            "Asia",
            "Asia",
            "Asia",
            "Asia",
            "Asia",
            "Asia",
            "Asia",
            "Asia",
            "Asia",
            "Asia",
            "Asia",
            "Asia",
            "Asia",
            "Asia",
            "Asia",
            "Asia",
            "Asia",
            "Asia",
            "Asia",
            "Asia",
            "Asia",
            "Asia",
            "Asia",
            "Asia",
            "Asia",
            "Asia",
            "Asia",
            "Asia",
            "Asia",
            "Asia",
            "Asia"
           ],
           "xaxis": "x",
           "y": [
            25268405,
            656397,
            135656790,
            12926707,
            1280400000,
            6762476,
            1034172547,
            211060000,
            66907826,
            24001816,
            6029529,
            127065841,
            5307470,
            22215365,
            47969150,
            2111561,
            3677780,
            22662365,
            2674234,
            45598081,
            25873917,
            2713462,
            153403524,
            82995088,
            24501530,
            4197776,
            19576783,
            17155814,
            22454239,
            62806748,
            80908147,
            3389578,
            18701257
           ],
           "yaxis": "y"
          },
          {
           "alignmentgroup": "True",
           "hovertemplate": "continent=%{x}<br>year=2002<br>pop=%{y}<extra></extra>",
           "ids": [
            "Albania",
            "Austria",
            "Belgium",
            "Bosnia and Herzegovina",
            "Bulgaria",
            "Croatia",
            "Czech Republic",
            "Denmark",
            "Finland",
            "France",
            "Germany",
            "Greece",
            "Hungary",
            "Iceland",
            "Ireland",
            "Italy",
            "Montenegro",
            "Netherlands",
            "Norway",
            "Poland",
            "Portugal",
            "Romania",
            "Serbia",
            "Slovak Republic",
            "Slovenia",
            "Spain",
            "Sweden",
            "Switzerland",
            "Turkey",
            "United Kingdom"
           ],
           "legendgroup": "Europe",
           "marker": {
            "color": "#EF553B",
            "pattern": {
             "shape": ""
            }
           },
           "name": "Europe",
           "offsetgroup": "Europe",
           "orientation": "v",
           "showlegend": true,
           "textposition": "auto",
           "type": "bar",
           "x": [
            "Europe",
            "Europe",
            "Europe",
            "Europe",
            "Europe",
            "Europe",
            "Europe",
            "Europe",
            "Europe",
            "Europe",
            "Europe",
            "Europe",
            "Europe",
            "Europe",
            "Europe",
            "Europe",
            "Europe",
            "Europe",
            "Europe",
            "Europe",
            "Europe",
            "Europe",
            "Europe",
            "Europe",
            "Europe",
            "Europe",
            "Europe",
            "Europe",
            "Europe",
            "Europe"
           ],
           "xaxis": "x",
           "y": [
            3508512,
            8148312,
            10311970,
            4165416,
            7661799,
            4481020,
            10256295,
            5374693,
            5193039,
            59925035,
            82350671,
            10603863,
            10083313,
            288030,
            3879155,
            57926999,
            720230,
            16122830,
            4535591,
            38625976,
            10433867,
            22404337,
            10111559,
            5410052,
            2011497,
            40152517,
            8954175,
            7361757,
            67308928,
            59912431
           ],
           "yaxis": "y"
          },
          {
           "alignmentgroup": "True",
           "hovertemplate": "continent=%{x}<br>year=2002<br>pop=%{y}<extra></extra>",
           "ids": [
            "Algeria",
            "Angola",
            "Benin",
            "Botswana",
            "Burkina Faso",
            "Burundi",
            "Cameroon",
            "Central African Republic",
            "Chad",
            "Comoros",
            "Congo, Dem. Rep.",
            "Congo, Rep.",
            "Cote d'Ivoire",
            "Djibouti",
            "Egypt",
            "Equatorial Guinea",
            "Eritrea",
            "Ethiopia",
            "Gabon",
            "Gambia",
            "Ghana",
            "Guinea",
            "Guinea-Bissau",
            "Kenya",
            "Lesotho",
            "Liberia",
            "Libya",
            "Madagascar",
            "Malawi",
            "Mali",
            "Mauritania",
            "Mauritius",
            "Morocco",
            "Mozambique",
            "Namibia",
            "Niger",
            "Nigeria",
            "Reunion",
            "Rwanda",
            "Sao Tome and Principe",
            "Senegal",
            "Sierra Leone",
            "Somalia",
            "South Africa",
            "Sudan",
            "Swaziland",
            "Tanzania",
            "Togo",
            "Tunisia",
            "Uganda",
            "Zambia",
            "Zimbabwe"
           ],
           "legendgroup": "Africa",
           "marker": {
            "color": "#00cc96",
            "pattern": {
             "shape": ""
            }
           },
           "name": "Africa",
           "offsetgroup": "Africa",
           "orientation": "v",
           "showlegend": true,
           "textposition": "auto",
           "type": "bar",
           "x": [
            "Africa",
            "Africa",
            "Africa",
            "Africa",
            "Africa",
            "Africa",
            "Africa",
            "Africa",
            "Africa",
            "Africa",
            "Africa",
            "Africa",
            "Africa",
            "Africa",
            "Africa",
            "Africa",
            "Africa",
            "Africa",
            "Africa",
            "Africa",
            "Africa",
            "Africa",
            "Africa",
            "Africa",
            "Africa",
            "Africa",
            "Africa",
            "Africa",
            "Africa",
            "Africa",
            "Africa",
            "Africa",
            "Africa",
            "Africa",
            "Africa",
            "Africa",
            "Africa",
            "Africa",
            "Africa",
            "Africa",
            "Africa",
            "Africa",
            "Africa",
            "Africa",
            "Africa",
            "Africa",
            "Africa",
            "Africa",
            "Africa",
            "Africa",
            "Africa",
            "Africa"
           ],
           "xaxis": "x",
           "y": [
            31287142,
            10866106,
            7026113,
            1630347,
            12251209,
            7021078,
            15929988,
            4048013,
            8835739,
            614382,
            55379852,
            3328795,
            16252726,
            447416,
            73312559,
            495627,
            4414865,
            67946797,
            1299304,
            1457766,
            20550751,
            8807818,
            1332459,
            31386842,
            2046772,
            2814651,
            5368585,
            16473477,
            11824495,
            10580176,
            2828858,
            1200206,
            31167783,
            18473780,
            1972153,
            11140655,
            119901274,
            743981,
            7852401,
            170372,
            10870037,
            5359092,
            7753310,
            44433622,
            37090298,
            1130269,
            34593779,
            4977378,
            9770575,
            24739869,
            10595811,
            11926563
           ],
           "yaxis": "y"
          },
          {
           "alignmentgroup": "True",
           "hovertemplate": "continent=%{x}<br>year=2002<br>pop=%{y}<extra></extra>",
           "ids": [
            "Argentina",
            "Bolivia",
            "Brazil",
            "Canada",
            "Chile",
            "Colombia",
            "Costa Rica",
            "Cuba",
            "Dominican Republic",
            "Ecuador",
            "El Salvador",
            "Guatemala",
            "Haiti",
            "Honduras",
            "Jamaica",
            "Mexico",
            "Nicaragua",
            "Panama",
            "Paraguay",
            "Peru",
            "Puerto Rico",
            "Trinidad and Tobago",
            "United States",
            "Uruguay",
            "Venezuela"
           ],
           "legendgroup": "Americas",
           "marker": {
            "color": "#ab63fa",
            "pattern": {
             "shape": ""
            }
           },
           "name": "Americas",
           "offsetgroup": "Americas",
           "orientation": "v",
           "showlegend": true,
           "textposition": "auto",
           "type": "bar",
           "x": [
            "Americas",
            "Americas",
            "Americas",
            "Americas",
            "Americas",
            "Americas",
            "Americas",
            "Americas",
            "Americas",
            "Americas",
            "Americas",
            "Americas",
            "Americas",
            "Americas",
            "Americas",
            "Americas",
            "Americas",
            "Americas",
            "Americas",
            "Americas",
            "Americas",
            "Americas",
            "Americas",
            "Americas",
            "Americas"
           ],
           "xaxis": "x",
           "y": [
            38331121,
            8445134,
            179914212,
            31902268,
            15497046,
            41008227,
            3834934,
            11226999,
            8650322,
            12921234,
            6353681,
            11178650,
            7607651,
            6677328,
            2664659,
            102479927,
            5146848,
            2990875,
            5884491,
            26769436,
            3859606,
            1101832,
            287675526,
            3363085,
            24287670
           ],
           "yaxis": "y"
          },
          {
           "alignmentgroup": "True",
           "hovertemplate": "continent=%{x}<br>year=2002<br>pop=%{y}<extra></extra>",
           "ids": [
            "Australia",
            "New Zealand"
           ],
           "legendgroup": "Oceania",
           "marker": {
            "color": "#FFA15A",
            "pattern": {
             "shape": ""
            }
           },
           "name": "Oceania",
           "offsetgroup": "Oceania",
           "orientation": "v",
           "showlegend": true,
           "textposition": "auto",
           "type": "bar",
           "x": [
            "Oceania",
            "Oceania"
           ],
           "xaxis": "x",
           "y": [
            19546792,
            3908037
           ],
           "yaxis": "y"
          }
         ],
         "name": "2002"
        },
        {
         "data": [
          {
           "alignmentgroup": "True",
           "hovertemplate": "continent=%{x}<br>year=2007<br>pop=%{y}<extra></extra>",
           "ids": [
            "Afghanistan",
            "Bahrain",
            "Bangladesh",
            "Cambodia",
            "China",
            "Hong Kong, China",
            "India",
            "Indonesia",
            "Iran",
            "Iraq",
            "Israel",
            "Japan",
            "Jordan",
            "Korea, Dem. Rep.",
            "Korea, Rep.",
            "Kuwait",
            "Lebanon",
            "Malaysia",
            "Mongolia",
            "Myanmar",
            "Nepal",
            "Oman",
            "Pakistan",
            "Philippines",
            "Saudi Arabia",
            "Singapore",
            "Sri Lanka",
            "Syria",
            "Taiwan",
            "Thailand",
            "Vietnam",
            "West Bank and Gaza",
            "Yemen, Rep."
           ],
           "legendgroup": "Asia",
           "marker": {
            "color": "#636efa",
            "pattern": {
             "shape": ""
            }
           },
           "name": "Asia",
           "offsetgroup": "Asia",
           "orientation": "v",
           "showlegend": true,
           "textposition": "auto",
           "type": "bar",
           "x": [
            "Asia",
            "Asia",
            "Asia",
            "Asia",
            "Asia",
            "Asia",
            "Asia",
            "Asia",
            "Asia",
            "Asia",
            "Asia",
            "Asia",
            "Asia",
            "Asia",
            "Asia",
            "Asia",
            "Asia",
            "Asia",
            "Asia",
            "Asia",
            "Asia",
            "Asia",
            "Asia",
            "Asia",
            "Asia",
            "Asia",
            "Asia",
            "Asia",
            "Asia",
            "Asia",
            "Asia",
            "Asia",
            "Asia"
           ],
           "xaxis": "x",
           "y": [
            31889923,
            708573,
            150448339,
            14131858,
            1318683096,
            6980412,
            1110396331,
            223547000,
            69453570,
            27499638,
            6426679,
            127467972,
            6053193,
            23301725,
            49044790,
            2505559,
            3921278,
            24821286,
            2874127,
            47761980,
            28901790,
            3204897,
            169270617,
            91077287,
            27601038,
            4553009,
            20378239,
            19314747,
            23174294,
            65068149,
            85262356,
            4018332,
            22211743
           ],
           "yaxis": "y"
          },
          {
           "alignmentgroup": "True",
           "hovertemplate": "continent=%{x}<br>year=2007<br>pop=%{y}<extra></extra>",
           "ids": [
            "Albania",
            "Austria",
            "Belgium",
            "Bosnia and Herzegovina",
            "Bulgaria",
            "Croatia",
            "Czech Republic",
            "Denmark",
            "Finland",
            "France",
            "Germany",
            "Greece",
            "Hungary",
            "Iceland",
            "Ireland",
            "Italy",
            "Montenegro",
            "Netherlands",
            "Norway",
            "Poland",
            "Portugal",
            "Romania",
            "Serbia",
            "Slovak Republic",
            "Slovenia",
            "Spain",
            "Sweden",
            "Switzerland",
            "Turkey",
            "United Kingdom"
           ],
           "legendgroup": "Europe",
           "marker": {
            "color": "#EF553B",
            "pattern": {
             "shape": ""
            }
           },
           "name": "Europe",
           "offsetgroup": "Europe",
           "orientation": "v",
           "showlegend": true,
           "textposition": "auto",
           "type": "bar",
           "x": [
            "Europe",
            "Europe",
            "Europe",
            "Europe",
            "Europe",
            "Europe",
            "Europe",
            "Europe",
            "Europe",
            "Europe",
            "Europe",
            "Europe",
            "Europe",
            "Europe",
            "Europe",
            "Europe",
            "Europe",
            "Europe",
            "Europe",
            "Europe",
            "Europe",
            "Europe",
            "Europe",
            "Europe",
            "Europe",
            "Europe",
            "Europe",
            "Europe",
            "Europe",
            "Europe"
           ],
           "xaxis": "x",
           "y": [
            3600523,
            8199783,
            10392226,
            4552198,
            7322858,
            4493312,
            10228744,
            5468120,
            5238460,
            61083916,
            82400996,
            10706290,
            9956108,
            301931,
            4109086,
            58147733,
            684736,
            16570613,
            4627926,
            38518241,
            10642836,
            22276056,
            10150265,
            5447502,
            2009245,
            40448191,
            9031088,
            7554661,
            71158647,
            60776238
           ],
           "yaxis": "y"
          },
          {
           "alignmentgroup": "True",
           "hovertemplate": "continent=%{x}<br>year=2007<br>pop=%{y}<extra></extra>",
           "ids": [
            "Algeria",
            "Angola",
            "Benin",
            "Botswana",
            "Burkina Faso",
            "Burundi",
            "Cameroon",
            "Central African Republic",
            "Chad",
            "Comoros",
            "Congo, Dem. Rep.",
            "Congo, Rep.",
            "Cote d'Ivoire",
            "Djibouti",
            "Egypt",
            "Equatorial Guinea",
            "Eritrea",
            "Ethiopia",
            "Gabon",
            "Gambia",
            "Ghana",
            "Guinea",
            "Guinea-Bissau",
            "Kenya",
            "Lesotho",
            "Liberia",
            "Libya",
            "Madagascar",
            "Malawi",
            "Mali",
            "Mauritania",
            "Mauritius",
            "Morocco",
            "Mozambique",
            "Namibia",
            "Niger",
            "Nigeria",
            "Reunion",
            "Rwanda",
            "Sao Tome and Principe",
            "Senegal",
            "Sierra Leone",
            "Somalia",
            "South Africa",
            "Sudan",
            "Swaziland",
            "Tanzania",
            "Togo",
            "Tunisia",
            "Uganda",
            "Zambia",
            "Zimbabwe"
           ],
           "legendgroup": "Africa",
           "marker": {
            "color": "#00cc96",
            "pattern": {
             "shape": ""
            }
           },
           "name": "Africa",
           "offsetgroup": "Africa",
           "orientation": "v",
           "showlegend": true,
           "textposition": "auto",
           "type": "bar",
           "x": [
            "Africa",
            "Africa",
            "Africa",
            "Africa",
            "Africa",
            "Africa",
            "Africa",
            "Africa",
            "Africa",
            "Africa",
            "Africa",
            "Africa",
            "Africa",
            "Africa",
            "Africa",
            "Africa",
            "Africa",
            "Africa",
            "Africa",
            "Africa",
            "Africa",
            "Africa",
            "Africa",
            "Africa",
            "Africa",
            "Africa",
            "Africa",
            "Africa",
            "Africa",
            "Africa",
            "Africa",
            "Africa",
            "Africa",
            "Africa",
            "Africa",
            "Africa",
            "Africa",
            "Africa",
            "Africa",
            "Africa",
            "Africa",
            "Africa",
            "Africa",
            "Africa",
            "Africa",
            "Africa",
            "Africa",
            "Africa",
            "Africa",
            "Africa",
            "Africa",
            "Africa"
           ],
           "xaxis": "x",
           "y": [
            33333216,
            12420476,
            8078314,
            1639131,
            14326203,
            8390505,
            17696293,
            4369038,
            10238807,
            710960,
            64606759,
            3800610,
            18013409,
            496374,
            80264543,
            551201,
            4906585,
            76511887,
            1454867,
            1688359,
            22873338,
            9947814,
            1472041,
            35610177,
            2012649,
            3193942,
            6036914,
            19167654,
            13327079,
            12031795,
            3270065,
            1250882,
            33757175,
            19951656,
            2055080,
            12894865,
            135031164,
            798094,
            8860588,
            199579,
            12267493,
            6144562,
            9118773,
            43997828,
            42292929,
            1133066,
            38139640,
            5701579,
            10276158,
            29170398,
            11746035,
            12311143
           ],
           "yaxis": "y"
          },
          {
           "alignmentgroup": "True",
           "hovertemplate": "continent=%{x}<br>year=2007<br>pop=%{y}<extra></extra>",
           "ids": [
            "Argentina",
            "Bolivia",
            "Brazil",
            "Canada",
            "Chile",
            "Colombia",
            "Costa Rica",
            "Cuba",
            "Dominican Republic",
            "Ecuador",
            "El Salvador",
            "Guatemala",
            "Haiti",
            "Honduras",
            "Jamaica",
            "Mexico",
            "Nicaragua",
            "Panama",
            "Paraguay",
            "Peru",
            "Puerto Rico",
            "Trinidad and Tobago",
            "United States",
            "Uruguay",
            "Venezuela"
           ],
           "legendgroup": "Americas",
           "marker": {
            "color": "#ab63fa",
            "pattern": {
             "shape": ""
            }
           },
           "name": "Americas",
           "offsetgroup": "Americas",
           "orientation": "v",
           "showlegend": true,
           "textposition": "auto",
           "type": "bar",
           "x": [
            "Americas",
            "Americas",
            "Americas",
            "Americas",
            "Americas",
            "Americas",
            "Americas",
            "Americas",
            "Americas",
            "Americas",
            "Americas",
            "Americas",
            "Americas",
            "Americas",
            "Americas",
            "Americas",
            "Americas",
            "Americas",
            "Americas",
            "Americas",
            "Americas",
            "Americas",
            "Americas",
            "Americas",
            "Americas"
           ],
           "xaxis": "x",
           "y": [
            40301927,
            9119152,
            190010647,
            33390141,
            16284741,
            44227550,
            4133884,
            11416987,
            9319622,
            13755680,
            6939688,
            12572928,
            8502814,
            7483763,
            2780132,
            108700891,
            5675356,
            3242173,
            6667147,
            28674757,
            3942491,
            1056608,
            301139947,
            3447496,
            26084662
           ],
           "yaxis": "y"
          },
          {
           "alignmentgroup": "True",
           "hovertemplate": "continent=%{x}<br>year=2007<br>pop=%{y}<extra></extra>",
           "ids": [
            "Australia",
            "New Zealand"
           ],
           "legendgroup": "Oceania",
           "marker": {
            "color": "#FFA15A",
            "pattern": {
             "shape": ""
            }
           },
           "name": "Oceania",
           "offsetgroup": "Oceania",
           "orientation": "v",
           "showlegend": true,
           "textposition": "auto",
           "type": "bar",
           "x": [
            "Oceania",
            "Oceania"
           ],
           "xaxis": "x",
           "y": [
            20434176,
            4115771
           ],
           "yaxis": "y"
          }
         ],
         "name": "2007"
        }
       ],
       "layout": {
        "barmode": "relative",
        "legend": {
         "title": {
          "text": "continent"
         },
         "tracegroupgap": 0
        },
        "margin": {
         "t": 60
        },
        "sliders": [
         {
          "active": 0,
          "currentvalue": {
           "prefix": "year="
          },
          "len": 0.9,
          "pad": {
           "b": 10,
           "t": 60
          },
          "steps": [
           {
            "args": [
             [
              "1952"
             ],
             {
              "frame": {
               "duration": 0,
               "redraw": true
              },
              "fromcurrent": true,
              "mode": "immediate",
              "transition": {
               "duration": 0,
               "easing": "linear"
              }
             }
            ],
            "label": "1952",
            "method": "animate"
           },
           {
            "args": [
             [
              "1957"
             ],
             {
              "frame": {
               "duration": 0,
               "redraw": true
              },
              "fromcurrent": true,
              "mode": "immediate",
              "transition": {
               "duration": 0,
               "easing": "linear"
              }
             }
            ],
            "label": "1957",
            "method": "animate"
           },
           {
            "args": [
             [
              "1962"
             ],
             {
              "frame": {
               "duration": 0,
               "redraw": true
              },
              "fromcurrent": true,
              "mode": "immediate",
              "transition": {
               "duration": 0,
               "easing": "linear"
              }
             }
            ],
            "label": "1962",
            "method": "animate"
           },
           {
            "args": [
             [
              "1967"
             ],
             {
              "frame": {
               "duration": 0,
               "redraw": true
              },
              "fromcurrent": true,
              "mode": "immediate",
              "transition": {
               "duration": 0,
               "easing": "linear"
              }
             }
            ],
            "label": "1967",
            "method": "animate"
           },
           {
            "args": [
             [
              "1972"
             ],
             {
              "frame": {
               "duration": 0,
               "redraw": true
              },
              "fromcurrent": true,
              "mode": "immediate",
              "transition": {
               "duration": 0,
               "easing": "linear"
              }
             }
            ],
            "label": "1972",
            "method": "animate"
           },
           {
            "args": [
             [
              "1977"
             ],
             {
              "frame": {
               "duration": 0,
               "redraw": true
              },
              "fromcurrent": true,
              "mode": "immediate",
              "transition": {
               "duration": 0,
               "easing": "linear"
              }
             }
            ],
            "label": "1977",
            "method": "animate"
           },
           {
            "args": [
             [
              "1982"
             ],
             {
              "frame": {
               "duration": 0,
               "redraw": true
              },
              "fromcurrent": true,
              "mode": "immediate",
              "transition": {
               "duration": 0,
               "easing": "linear"
              }
             }
            ],
            "label": "1982",
            "method": "animate"
           },
           {
            "args": [
             [
              "1987"
             ],
             {
              "frame": {
               "duration": 0,
               "redraw": true
              },
              "fromcurrent": true,
              "mode": "immediate",
              "transition": {
               "duration": 0,
               "easing": "linear"
              }
             }
            ],
            "label": "1987",
            "method": "animate"
           },
           {
            "args": [
             [
              "1992"
             ],
             {
              "frame": {
               "duration": 0,
               "redraw": true
              },
              "fromcurrent": true,
              "mode": "immediate",
              "transition": {
               "duration": 0,
               "easing": "linear"
              }
             }
            ],
            "label": "1992",
            "method": "animate"
           },
           {
            "args": [
             [
              "1997"
             ],
             {
              "frame": {
               "duration": 0,
               "redraw": true
              },
              "fromcurrent": true,
              "mode": "immediate",
              "transition": {
               "duration": 0,
               "easing": "linear"
              }
             }
            ],
            "label": "1997",
            "method": "animate"
           },
           {
            "args": [
             [
              "2002"
             ],
             {
              "frame": {
               "duration": 0,
               "redraw": true
              },
              "fromcurrent": true,
              "mode": "immediate",
              "transition": {
               "duration": 0,
               "easing": "linear"
              }
             }
            ],
            "label": "2002",
            "method": "animate"
           },
           {
            "args": [
             [
              "2007"
             ],
             {
              "frame": {
               "duration": 0,
               "redraw": true
              },
              "fromcurrent": true,
              "mode": "immediate",
              "transition": {
               "duration": 0,
               "easing": "linear"
              }
             }
            ],
            "label": "2007",
            "method": "animate"
           }
          ],
          "x": 0.1,
          "xanchor": "left",
          "y": 0,
          "yanchor": "top"
         }
        ],
        "template": {
         "data": {
          "bar": [
           {
            "error_x": {
             "color": "#2a3f5f"
            },
            "error_y": {
             "color": "#2a3f5f"
            },
            "marker": {
             "line": {
              "color": "#E5ECF6",
              "width": 0.5
             },
             "pattern": {
              "fillmode": "overlay",
              "size": 10,
              "solidity": 0.2
             }
            },
            "type": "bar"
           }
          ],
          "barpolar": [
           {
            "marker": {
             "line": {
              "color": "#E5ECF6",
              "width": 0.5
             },
             "pattern": {
              "fillmode": "overlay",
              "size": 10,
              "solidity": 0.2
             }
            },
            "type": "barpolar"
           }
          ],
          "carpet": [
           {
            "aaxis": {
             "endlinecolor": "#2a3f5f",
             "gridcolor": "white",
             "linecolor": "white",
             "minorgridcolor": "white",
             "startlinecolor": "#2a3f5f"
            },
            "baxis": {
             "endlinecolor": "#2a3f5f",
             "gridcolor": "white",
             "linecolor": "white",
             "minorgridcolor": "white",
             "startlinecolor": "#2a3f5f"
            },
            "type": "carpet"
           }
          ],
          "choropleth": [
           {
            "colorbar": {
             "outlinewidth": 0,
             "ticks": ""
            },
            "type": "choropleth"
           }
          ],
          "contour": [
           {
            "colorbar": {
             "outlinewidth": 0,
             "ticks": ""
            },
            "colorscale": [
             [
              0,
              "#0d0887"
             ],
             [
              0.1111111111111111,
              "#46039f"
             ],
             [
              0.2222222222222222,
              "#7201a8"
             ],
             [
              0.3333333333333333,
              "#9c179e"
             ],
             [
              0.4444444444444444,
              "#bd3786"
             ],
             [
              0.5555555555555556,
              "#d8576b"
             ],
             [
              0.6666666666666666,
              "#ed7953"
             ],
             [
              0.7777777777777778,
              "#fb9f3a"
             ],
             [
              0.8888888888888888,
              "#fdca26"
             ],
             [
              1,
              "#f0f921"
             ]
            ],
            "type": "contour"
           }
          ],
          "contourcarpet": [
           {
            "colorbar": {
             "outlinewidth": 0,
             "ticks": ""
            },
            "type": "contourcarpet"
           }
          ],
          "heatmap": [
           {
            "colorbar": {
             "outlinewidth": 0,
             "ticks": ""
            },
            "colorscale": [
             [
              0,
              "#0d0887"
             ],
             [
              0.1111111111111111,
              "#46039f"
             ],
             [
              0.2222222222222222,
              "#7201a8"
             ],
             [
              0.3333333333333333,
              "#9c179e"
             ],
             [
              0.4444444444444444,
              "#bd3786"
             ],
             [
              0.5555555555555556,
              "#d8576b"
             ],
             [
              0.6666666666666666,
              "#ed7953"
             ],
             [
              0.7777777777777778,
              "#fb9f3a"
             ],
             [
              0.8888888888888888,
              "#fdca26"
             ],
             [
              1,
              "#f0f921"
             ]
            ],
            "type": "heatmap"
           }
          ],
          "heatmapgl": [
           {
            "colorbar": {
             "outlinewidth": 0,
             "ticks": ""
            },
            "colorscale": [
             [
              0,
              "#0d0887"
             ],
             [
              0.1111111111111111,
              "#46039f"
             ],
             [
              0.2222222222222222,
              "#7201a8"
             ],
             [
              0.3333333333333333,
              "#9c179e"
             ],
             [
              0.4444444444444444,
              "#bd3786"
             ],
             [
              0.5555555555555556,
              "#d8576b"
             ],
             [
              0.6666666666666666,
              "#ed7953"
             ],
             [
              0.7777777777777778,
              "#fb9f3a"
             ],
             [
              0.8888888888888888,
              "#fdca26"
             ],
             [
              1,
              "#f0f921"
             ]
            ],
            "type": "heatmapgl"
           }
          ],
          "histogram": [
           {
            "marker": {
             "pattern": {
              "fillmode": "overlay",
              "size": 10,
              "solidity": 0.2
             }
            },
            "type": "histogram"
           }
          ],
          "histogram2d": [
           {
            "colorbar": {
             "outlinewidth": 0,
             "ticks": ""
            },
            "colorscale": [
             [
              0,
              "#0d0887"
             ],
             [
              0.1111111111111111,
              "#46039f"
             ],
             [
              0.2222222222222222,
              "#7201a8"
             ],
             [
              0.3333333333333333,
              "#9c179e"
             ],
             [
              0.4444444444444444,
              "#bd3786"
             ],
             [
              0.5555555555555556,
              "#d8576b"
             ],
             [
              0.6666666666666666,
              "#ed7953"
             ],
             [
              0.7777777777777778,
              "#fb9f3a"
             ],
             [
              0.8888888888888888,
              "#fdca26"
             ],
             [
              1,
              "#f0f921"
             ]
            ],
            "type": "histogram2d"
           }
          ],
          "histogram2dcontour": [
           {
            "colorbar": {
             "outlinewidth": 0,
             "ticks": ""
            },
            "colorscale": [
             [
              0,
              "#0d0887"
             ],
             [
              0.1111111111111111,
              "#46039f"
             ],
             [
              0.2222222222222222,
              "#7201a8"
             ],
             [
              0.3333333333333333,
              "#9c179e"
             ],
             [
              0.4444444444444444,
              "#bd3786"
             ],
             [
              0.5555555555555556,
              "#d8576b"
             ],
             [
              0.6666666666666666,
              "#ed7953"
             ],
             [
              0.7777777777777778,
              "#fb9f3a"
             ],
             [
              0.8888888888888888,
              "#fdca26"
             ],
             [
              1,
              "#f0f921"
             ]
            ],
            "type": "histogram2dcontour"
           }
          ],
          "mesh3d": [
           {
            "colorbar": {
             "outlinewidth": 0,
             "ticks": ""
            },
            "type": "mesh3d"
           }
          ],
          "parcoords": [
           {
            "line": {
             "colorbar": {
              "outlinewidth": 0,
              "ticks": ""
             }
            },
            "type": "parcoords"
           }
          ],
          "pie": [
           {
            "automargin": true,
            "type": "pie"
           }
          ],
          "scatter": [
           {
            "fillpattern": {
             "fillmode": "overlay",
             "size": 10,
             "solidity": 0.2
            },
            "type": "scatter"
           }
          ],
          "scatter3d": [
           {
            "line": {
             "colorbar": {
              "outlinewidth": 0,
              "ticks": ""
             }
            },
            "marker": {
             "colorbar": {
              "outlinewidth": 0,
              "ticks": ""
             }
            },
            "type": "scatter3d"
           }
          ],
          "scattercarpet": [
           {
            "marker": {
             "colorbar": {
              "outlinewidth": 0,
              "ticks": ""
             }
            },
            "type": "scattercarpet"
           }
          ],
          "scattergeo": [
           {
            "marker": {
             "colorbar": {
              "outlinewidth": 0,
              "ticks": ""
             }
            },
            "type": "scattergeo"
           }
          ],
          "scattergl": [
           {
            "marker": {
             "colorbar": {
              "outlinewidth": 0,
              "ticks": ""
             }
            },
            "type": "scattergl"
           }
          ],
          "scattermapbox": [
           {
            "marker": {
             "colorbar": {
              "outlinewidth": 0,
              "ticks": ""
             }
            },
            "type": "scattermapbox"
           }
          ],
          "scatterpolar": [
           {
            "marker": {
             "colorbar": {
              "outlinewidth": 0,
              "ticks": ""
             }
            },
            "type": "scatterpolar"
           }
          ],
          "scatterpolargl": [
           {
            "marker": {
             "colorbar": {
              "outlinewidth": 0,
              "ticks": ""
             }
            },
            "type": "scatterpolargl"
           }
          ],
          "scatterternary": [
           {
            "marker": {
             "colorbar": {
              "outlinewidth": 0,
              "ticks": ""
             }
            },
            "type": "scatterternary"
           }
          ],
          "surface": [
           {
            "colorbar": {
             "outlinewidth": 0,
             "ticks": ""
            },
            "colorscale": [
             [
              0,
              "#0d0887"
             ],
             [
              0.1111111111111111,
              "#46039f"
             ],
             [
              0.2222222222222222,
              "#7201a8"
             ],
             [
              0.3333333333333333,
              "#9c179e"
             ],
             [
              0.4444444444444444,
              "#bd3786"
             ],
             [
              0.5555555555555556,
              "#d8576b"
             ],
             [
              0.6666666666666666,
              "#ed7953"
             ],
             [
              0.7777777777777778,
              "#fb9f3a"
             ],
             [
              0.8888888888888888,
              "#fdca26"
             ],
             [
              1,
              "#f0f921"
             ]
            ],
            "type": "surface"
           }
          ],
          "table": [
           {
            "cells": {
             "fill": {
              "color": "#EBF0F8"
             },
             "line": {
              "color": "white"
             }
            },
            "header": {
             "fill": {
              "color": "#C8D4E3"
             },
             "line": {
              "color": "white"
             }
            },
            "type": "table"
           }
          ]
         },
         "layout": {
          "annotationdefaults": {
           "arrowcolor": "#2a3f5f",
           "arrowhead": 0,
           "arrowwidth": 1
          },
          "autotypenumbers": "strict",
          "coloraxis": {
           "colorbar": {
            "outlinewidth": 0,
            "ticks": ""
           }
          },
          "colorscale": {
           "diverging": [
            [
             0,
             "#8e0152"
            ],
            [
             0.1,
             "#c51b7d"
            ],
            [
             0.2,
             "#de77ae"
            ],
            [
             0.3,
             "#f1b6da"
            ],
            [
             0.4,
             "#fde0ef"
            ],
            [
             0.5,
             "#f7f7f7"
            ],
            [
             0.6,
             "#e6f5d0"
            ],
            [
             0.7,
             "#b8e186"
            ],
            [
             0.8,
             "#7fbc41"
            ],
            [
             0.9,
             "#4d9221"
            ],
            [
             1,
             "#276419"
            ]
           ],
           "sequential": [
            [
             0,
             "#0d0887"
            ],
            [
             0.1111111111111111,
             "#46039f"
            ],
            [
             0.2222222222222222,
             "#7201a8"
            ],
            [
             0.3333333333333333,
             "#9c179e"
            ],
            [
             0.4444444444444444,
             "#bd3786"
            ],
            [
             0.5555555555555556,
             "#d8576b"
            ],
            [
             0.6666666666666666,
             "#ed7953"
            ],
            [
             0.7777777777777778,
             "#fb9f3a"
            ],
            [
             0.8888888888888888,
             "#fdca26"
            ],
            [
             1,
             "#f0f921"
            ]
           ],
           "sequentialminus": [
            [
             0,
             "#0d0887"
            ],
            [
             0.1111111111111111,
             "#46039f"
            ],
            [
             0.2222222222222222,
             "#7201a8"
            ],
            [
             0.3333333333333333,
             "#9c179e"
            ],
            [
             0.4444444444444444,
             "#bd3786"
            ],
            [
             0.5555555555555556,
             "#d8576b"
            ],
            [
             0.6666666666666666,
             "#ed7953"
            ],
            [
             0.7777777777777778,
             "#fb9f3a"
            ],
            [
             0.8888888888888888,
             "#fdca26"
            ],
            [
             1,
             "#f0f921"
            ]
           ]
          },
          "colorway": [
           "#636efa",
           "#EF553B",
           "#00cc96",
           "#ab63fa",
           "#FFA15A",
           "#19d3f3",
           "#FF6692",
           "#B6E880",
           "#FF97FF",
           "#FECB52"
          ],
          "font": {
           "color": "#2a3f5f"
          },
          "geo": {
           "bgcolor": "white",
           "lakecolor": "white",
           "landcolor": "#E5ECF6",
           "showlakes": true,
           "showland": true,
           "subunitcolor": "white"
          },
          "hoverlabel": {
           "align": "left"
          },
          "hovermode": "closest",
          "mapbox": {
           "style": "light"
          },
          "paper_bgcolor": "white",
          "plot_bgcolor": "#E5ECF6",
          "polar": {
           "angularaxis": {
            "gridcolor": "white",
            "linecolor": "white",
            "ticks": ""
           },
           "bgcolor": "#E5ECF6",
           "radialaxis": {
            "gridcolor": "white",
            "linecolor": "white",
            "ticks": ""
           }
          },
          "scene": {
           "xaxis": {
            "backgroundcolor": "#E5ECF6",
            "gridcolor": "white",
            "gridwidth": 2,
            "linecolor": "white",
            "showbackground": true,
            "ticks": "",
            "zerolinecolor": "white"
           },
           "yaxis": {
            "backgroundcolor": "#E5ECF6",
            "gridcolor": "white",
            "gridwidth": 2,
            "linecolor": "white",
            "showbackground": true,
            "ticks": "",
            "zerolinecolor": "white"
           },
           "zaxis": {
            "backgroundcolor": "#E5ECF6",
            "gridcolor": "white",
            "gridwidth": 2,
            "linecolor": "white",
            "showbackground": true,
            "ticks": "",
            "zerolinecolor": "white"
           }
          },
          "shapedefaults": {
           "line": {
            "color": "#2a3f5f"
           }
          },
          "ternary": {
           "aaxis": {
            "gridcolor": "white",
            "linecolor": "white",
            "ticks": ""
           },
           "baxis": {
            "gridcolor": "white",
            "linecolor": "white",
            "ticks": ""
           },
           "bgcolor": "#E5ECF6",
           "caxis": {
            "gridcolor": "white",
            "linecolor": "white",
            "ticks": ""
           }
          },
          "title": {
           "x": 0.05
          },
          "xaxis": {
           "automargin": true,
           "gridcolor": "white",
           "linecolor": "white",
           "ticks": "",
           "title": {
            "standoff": 15
           },
           "zerolinecolor": "white",
           "zerolinewidth": 2
          },
          "yaxis": {
           "automargin": true,
           "gridcolor": "white",
           "linecolor": "white",
           "ticks": "",
           "title": {
            "standoff": 15
           },
           "zerolinecolor": "white",
           "zerolinewidth": 2
          }
         }
        },
        "updatemenus": [
         {
          "buttons": [
           {
            "args": [
             null,
             {
              "frame": {
               "duration": 500,
               "redraw": true
              },
              "fromcurrent": true,
              "mode": "immediate",
              "transition": {
               "duration": 500,
               "easing": "linear"
              }
             }
            ],
            "label": "&#9654;",
            "method": "animate"
           },
           {
            "args": [
             [
              null
             ],
             {
              "frame": {
               "duration": 0,
               "redraw": true
              },
              "fromcurrent": true,
              "mode": "immediate",
              "transition": {
               "duration": 0,
               "easing": "linear"
              }
             }
            ],
            "label": "&#9724;",
            "method": "animate"
           }
          ],
          "direction": "left",
          "pad": {
           "r": 10,
           "t": 70
          },
          "showactive": false,
          "type": "buttons",
          "x": 0.1,
          "xanchor": "right",
          "y": 0,
          "yanchor": "top"
         }
        ],
        "xaxis": {
         "anchor": "y",
         "categoryarray": [
          "Asia",
          "Europe",
          "Africa",
          "Americas",
          "Oceania"
         ],
         "categoryorder": "array",
         "domain": [
          0,
          1
         ],
         "title": {
          "text": "continent"
         }
        },
        "yaxis": {
         "anchor": "x",
         "domain": [
          0,
          1
         ],
         "range": [
          0,
          4000000000
         ],
         "title": {
          "text": "pop"
         }
        }
       }
      }
     },
     "metadata": {},
     "output_type": "display_data"
    }
   ],
   "source": [
    "# Plotly animated plot\n",
    "# Create an animated plot that you can use to cycle through continent\n",
    "# GDP & life expectancy changes\n",
    "df_cnt = px.data.gapminder()\n",
    "px.scatter(df_cnt, x=\"gdpPercap\", y=\"lifeExp\", animation_frame=\"year\", \n",
    "           animation_group=\"country\",\n",
    "           size=\"pop\", color=\"continent\", hover_name=\"country\",\n",
    "           log_x=True, size_max=55, range_x=[100,100000], range_y=[25,90])\n",
    "\n",
    "# Watch as bars chart population changes\n",
    "px.bar(df_cnt, x=\"continent\", y=\"pop\", color=\"continent\",\n",
    "  animation_frame=\"year\", animation_group=\"country\", range_y=[0,4000000000])"
   ]
  },
  {
   "cell_type": "code",
   "execution_count": null,
   "metadata": {},
   "outputs": [],
   "source": []
  }
 ],
 "metadata": {
  "kernelspec": {
   "display_name": "Python 3",
   "language": "python",
   "name": "python3"
  },
  "language_info": {
   "codemirror_mode": {
    "name": "ipython",
    "version": 3
   },
   "file_extension": ".py",
   "mimetype": "text/x-python",
   "name": "python",
   "nbconvert_exporter": "python",
   "pygments_lexer": "ipython3",
   "version": "3.8.18"
  }
 },
 "nbformat": 4,
 "nbformat_minor": 2
}
