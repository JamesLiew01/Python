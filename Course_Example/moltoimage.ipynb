{
 "cells": [
  {
   "cell_type": "code",
   "execution_count": 3,
   "metadata": {},
   "outputs": [
    {
     "name": "stdout",
     "output_type": "stream",
     "text": [
      "estradiol Did not work\n",
      "Paclitaxel Did not work\n",
      "(3R,4R,5S,6R)-5-{[(2R,3R,4R,5S,6R)-5-{[(2R,3R,4R,5S,6R)-3,4-dihydroxy-6-(hydroxymethyl)-5-{[(2R,3R,4S,5S,6R)-3,4,5-trihydroxy-6-(hydroxymethyl)oxan-2-yl]oxy}oxan-2-yl]oxy}-3,4-dihydroxy-6-(hydroxymethyl)oxan-2-yl]oxy}-6-(hydroxymethyl)oxane-2,3,4-triol Did not work\n",
      "2-ethylbutyl (2S)-2-[[[(2R,3S,4R,5R)-5-(4-aminopyrrolo[2,1-f][1,2,4]triazin-7-yl)-5-cyano-3,4-dihydroxyoxolan-2-yl]methoxy-phenoxyphosphoryl]amino]propanoate Did not work\n"
     ]
    }
   ],
   "source": [
    "from urllib.request import urlopen\n",
    "from urllib.parse import quote\n",
    "import time\n",
    "\n",
    "def CIRconvert(ids):\n",
    "    try:\n",
    "        url = 'http://cactus.nci.nih.gov/chemical/structure/' + quote(ids) + '/smiles'\n",
    "        ans = urlopen(url).read().decode('utf8')\n",
    "        return ans\n",
    "    except:\n",
    "        return 'Did not work'\n",
    "\n",
    "identifiers  = [\n",
    "    'estradiol',\n",
    "    # estrogen\n",
    "    'Paclitaxel',\n",
    "    # Taxol, an anticancer drug\n",
    "    '(3R,4R,5S,6R)-5-{[(2R,3R,4R,5S,6R)-5-{[(2R,3R,4R,5S,6R)-3,4-dihydroxy-6-(hydroxymethyl)-5-{[(2R,3R,4S,5S,6R)-3,4,5-trihydroxy-6-(hydroxymethyl)oxan-2-yl]oxy}oxan-2-yl]oxy}-3,4-dihydroxy-6-(hydroxymethyl)oxan-2-yl]oxy}-6-(hydroxymethyl)oxane-2,3,4-triol',\n",
    "    # Maltotetraose\n",
    "    '2-ethylbutyl (2S)-2-[[[(2R,3S,4R,5R)-5-(4-aminopyrrolo[2,1-f][1,2,4]triazin-7-yl)-5-cyano-3,4-dihydroxyoxolan-2-yl]methoxy-phenoxyphosphoryl]amino]propanoate',\n",
    "    # Remdesivir\n",
    "]\n",
    "\n",
    "smis = []\n",
    "for ids in identifiers :\n",
    "    smi = CIRconvert(ids)\n",
    "    print(ids, smi)\n",
    "    smis.append(smi)\n",
    "    time.sleep(5)"
   ]
  },
  {
   "cell_type": "code",
   "execution_count": 2,
   "metadata": {},
   "outputs": [
    {
     "name": "stdout",
     "output_type": "stream",
     "text": [
      "Could not draw Did not work\n",
      "Could not draw Did not work\n",
      "Could not draw Did not work\n",
      "Could not draw Did not work\n"
     ]
    },
    {
     "name": "stderr",
     "output_type": "stream",
     "text": [
      "[16:47:32] SMILES Parse Error: syntax error while parsing: Did\n",
      "[16:47:32] SMILES Parse Error: Failed parsing SMILES 'Did' for input: 'Did'\n",
      "[16:47:32] SMILES Parse Error: syntax error while parsing: Did\n",
      "[16:47:32] SMILES Parse Error: Failed parsing SMILES 'Did' for input: 'Did'\n",
      "[16:47:32] SMILES Parse Error: syntax error while parsing: Did\n",
      "[16:47:32] SMILES Parse Error: Failed parsing SMILES 'Did' for input: 'Did'\n",
      "[16:47:32] SMILES Parse Error: syntax error while parsing: Did\n",
      "[16:47:32] SMILES Parse Error: Failed parsing SMILES 'Did' for input: 'Did'\n"
     ]
    }
   ],
   "source": [
    "import rdkit.Chem.Draw as Draw\n",
    "from rdkit import Chem\n",
    "\n",
    "for smi in smis:\n",
    "    try:\n",
    "        mol = Chem.MolFromSmiles(smi)\n",
    "        img = Draw.MolToImage(mol)\n",
    "        display(img)\n",
    "    except:\n",
    "        print('Could not draw', smi)\n",
    "        continue"
   ]
  },
  {
   "cell_type": "code",
   "execution_count": null,
   "metadata": {},
   "outputs": [],
   "source": []
  }
 ],
 "metadata": {
  "kernelspec": {
   "display_name": "chem",
   "language": "python",
   "name": "python3"
  },
  "language_info": {
   "codemirror_mode": {
    "name": "ipython",
    "version": 3
   },
   "file_extension": ".py",
   "mimetype": "text/x-python",
   "name": "python",
   "nbconvert_exporter": "python",
   "pygments_lexer": "ipython3",
   "version": "3.8.18"
  }
 },
 "nbformat": 4,
 "nbformat_minor": 2
}
